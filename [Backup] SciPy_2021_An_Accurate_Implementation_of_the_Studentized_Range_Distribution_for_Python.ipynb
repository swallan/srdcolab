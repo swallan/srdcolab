{
  "nbformat": 4,
  "nbformat_minor": 0,
  "metadata": {
    "colab": {
      "name": "SciPy 2021: An Accurate Implementation of the Studentized Range Distribution for Python",
      "provenance": [],
      "collapsed_sections": [],
      "toc_visible": true
    },
    "kernelspec": {
      "display_name": "Python 3",
      "name": "python3"
    },
    "language_info": {
      "name": "python"
    }
  },
  "cells": [
    {
      "cell_type": "markdown",
      "metadata": {
        "id": "e2rxE8toArM-"
      },
      "source": [
        "# An Accurate Implementation of the Studentized Range Distribution for Python\n",
        "\n",
        "By Samuel Wallan, Dominic Chmiel, and Matt Haberland\n"
      ]
    },
    {
      "cell_type": "markdown",
      "metadata": {
        "id": "SB3o7ap1y4wz"
      },
      "source": [
        "## Introduction\n",
        "\n",
        "As data becomes more and more accessible in a world awash with computers, it can be tempting follow a practice called \"p-hacking\", or misusing data analysis in order to show an artificially  significant statistical corellation. For example, there appears to be a correllation between the number of letters in the Scripps National Spelling Bee and the number of people killed by venomous spiders in the United States every year. Several carefully designed statistical tests that gaurd against this practice rely on the studentized range distrbution by accounting for the number of comparisons in their statistic and p-value. One such test is Tukey's HSD (Honest Significant Difference) test, which utilizes the studentized range distribution's Percent Point Function (PPF), to measure the range of data from a normally distributed sample.\n",
        "\n",
        "Precomputed tables exist for the studentized range distrbution, but can only approximate results should input data not fall within the tables' bounds. However, the probability distribution function (PDF) and cumulative distribution function (CDF) for the studentized range are computationally challenging to evaluate due to their complicated double integrals. The PPF is the inverse of the CDF. Therefore, in this paper we present a pythonic, fast, accurate, and direct implementation of the studentized range distribution for SciPy in addition to tests that demonstrate its accuracy and performance. "
      ]
    },
    {
      "cell_type": "markdown",
      "metadata": {
        "id": "7HEZgXy-4KtV"
      },
      "source": [
        "## The Distribution\n",
        "\n",
        "The studentized range's PDF and CDF take the following forms, respectively [1]:\n",
        "\n",
        "$$     f_\\text{R}(q;k,\\nu) = \\frac{\\sqrt{2\\pi\\,}\\,k\\,(k-1)\\,\\nu^{\\nu/2}}{\\Gamma(\\nu /2)\\,2^{\\left(\\nu/2-1\\right)}}\\int_0^\\infty s^\\nu \\, \\phi(\\sqrt{\\nu\\,} \\,s)\\,\\left[\\int_{-\\infty}^\\infty \\phi(z+q\\,s)\\,\\phi(z)\\, \\left[\\Phi(z+q\\,s)-\\Phi(z)\\right]^{k-2} \\, \\mathrm{d}z\\right] \\, \\mathrm{d}s \\tag{1}\n",
        "$$\n",
        "\n",
        "$$ F_\\text{R}(q;k,\\nu) = \\frac{\\sqrt{2\\pi\\,}\\,k\\,\\nu^{\\nu/2}}{\\,\\Gamma(\\nu/2)\\,2^{(\\nu/2-1)}\\,} \\int_0^\\infty s^{\\nu-1} \\phi(\\sqrt{\\nu\\,}\\,s) \\left[\\int_{-\\infty}^\\infty \\phi(z) \\left[\\Phi(z+q\\,s)-\\Phi(z)\\right]^{k-1} \\, \\mathrm{d}z \\right] \\, \\mathrm{d}s, \\tag{2}$$\n",
        "\n",
        "where $\\phi(z)$ and $\\Phi(z)$ represent the normal PDF and normal CDF, respectively."
      ]
    },
    {
      "cell_type": "markdown",
      "metadata": {
        "id": "gq8EMKWq5EQ3"
      },
      "source": [
        "## Implementations"
      ]
    },
    {
      "cell_type": "markdown",
      "metadata": {
        "id": "j8C0BD5A_j1N"
      },
      "source": [
        "### A Very Direct Implementation\n",
        "\n",
        "To establish a baseline, we evaluate the CDF exactly as written in equation (2), using nested calls to SciPy's `integrate.quad` to evaluate the double integral."
      ]
    },
    {
      "cell_type": "code",
      "metadata": {
        "id": "8YDWi_I50o68"
      },
      "source": [
        "import numpy as np\n",
        "from scipy.integrate import quad\n",
        "from scipy.special import gamma\n",
        "from scipy.stats import norm\n",
        "\n",
        "phi = norm.pdf\n",
        "Phi = norm.cdf\n",
        "\n",
        "def cdf_singleQuad(q, k, nu):\n",
        "    def inner(z, s):\n",
        "      return phi(z) * (Phi(z + q * s) - Phi(z))**(k - 1)\n",
        "\n",
        "    def outer(s):\n",
        "      inner_int = quad(inner, -np.inf, np.inf, args=(s,), \n",
        "                       epsabs=1e-12, limit=1000)[0]\n",
        "      return s**(nu - 1) * phi(np.sqrt(nu) * s) * inner_int\n",
        "\n",
        "    outer_int = quad(outer, 0, np.inf, epsabs=1e-12, limit=1000)[0]\n",
        "    return (np.sqrt(2 * np.pi) * k * nu**(nu/2) /\n",
        "            (gamma(nu/2) * 2**(nu/2 - 1)) * outer_int)"
      ],
      "execution_count": null,
      "outputs": []
    },
    {
      "cell_type": "markdown",
      "metadata": {
        "id": "MTC-0WMqop0N"
      },
      "source": [
        "A well known tabulatation the studentized range CDF as a function of $q$, $k$, and $\\nu$, reports $q$ and $p=F(q; k, \\nu)$ with two significant figures [1]. It states that $F(3.77; 3, 12)=0.95$, and `cdf_singleQuad` agrees."
      ]
    },
    {
      "cell_type": "code",
      "metadata": {
        "colab": {
          "base_uri": "https://localhost:8080/"
        },
        "id": "m0T-3t59p_Dl",
        "outputId": "11382ed3-3920-4f47-a067-15a4bfc26260"
      },
      "source": [
        "cdf_singleQuad(3.77, 3, 12)"
      ],
      "execution_count": null,
      "outputs": [
        {
          "output_type": "execute_result",
          "data": {
            "text/plain": [
              "0.9498176382397655"
            ]
          },
          "metadata": {
            "tags": []
          },
          "execution_count": 143
        }
      ]
    },
    {
      "cell_type": "markdown",
      "metadata": {
        "id": "2YSEP5cMkDcO"
      },
      "source": [
        "Unfortunately, `cdf_singleQuad` is very slow."
      ]
    },
    {
      "cell_type": "code",
      "metadata": {
        "colab": {
          "base_uri": "https://localhost:8080/"
        },
        "id": "739dBAURkNVZ",
        "outputId": "08db44e1-8a19-4d82-941f-4c73ddfa3dde"
      },
      "source": [
        "python_quad = %timeit -o -r1 -n1 cdf_singleQuad(3.77, 3, 12)"
      ],
      "execution_count": null,
      "outputs": [
        {
          "output_type": "stream",
          "text": [
            "1 loop, best of 1: 13.6 s per loop\n"
          ],
          "name": "stdout"
        }
      ]
    },
    {
      "cell_type": "markdown",
      "metadata": {
        "id": "zPZJtNFEpBD-"
      },
      "source": [
        "This implementation is easy to verify against the original formula and therefore serves as a valuable reference, but a faster implementation is needed for inclusion in SciPy.\n"
      ]
    },
    {
      "cell_type": "markdown",
      "metadata": {
        "id": "QERP91dr_xhD"
      },
      "source": [
        "###  Using `optimize.dblquad`."
      ]
    },
    {
      "cell_type": "markdown",
      "metadata": {
        "id": "vdVLj2_u_wqA"
      },
      "source": [
        "To remove the overhead of repeated calls to `quad`, we rearrange equation (2) to\n",
        "\n",
        "$$ F(q; k, \\nu) = \\int_{0}^ {\\infty} \\int_{-\\infty}^{\\infty} s^{\\nu-1} \\frac{k\\nu^{\\nu/2}}{\\Gamma(\\nu/2)2^{\\nu/2-1}}e^{-\\nu s^2/2} \\phi(z) [\\Phi(sq + z) - \\Phi(z)]^{k-1} \\,dz \\,ds \\tag{3} $$\n",
        "\n",
        "so that it can be computed with single call to SciPy's double integration function, `integrate.dblquad`. Besides moving the inner integral sign to the left, we have also moved the constant terms into the integral so that they can be included in the integrator's internal error estimate."
      ]
    },
    {
      "cell_type": "code",
      "metadata": {
        "id": "jPaDKUy0ql4E"
      },
      "source": [
        "from scipy.integrate import dblquad\n",
        "\n",
        "def integrand_python(q, k, nu):\n",
        "    def inner(s, z):\n",
        "        return phi(z) * (Phi(z + q * s) - Phi(z))**(k - 1)\n",
        "\n",
        "    def outer(s, z):\n",
        "        inner_int = inner(s, z)\n",
        "        return s**(nu - 1) * phi(np.sqrt(nu) * s) * inner_int\n",
        "\n",
        "    def whole(z, s):\n",
        "        return (np.sqrt(2 * np.pi) * k * nu**(nu / 2) /\n",
        "                (gamma(nu / 2) * 2**(nu / 2 - 1)) * outer(s, z))\n",
        "        \n",
        "    return whole\n",
        "\n",
        "def cdf_dblquad(q, k, nu):    \n",
        "    return dblquad(integrand_python(q, k ,nu), 0, np.inf, -np.inf, np.inf)[0]"
      ],
      "execution_count": null,
      "outputs": []
    },
    {
      "cell_type": "code",
      "metadata": {
        "id": "b-jJ7SosortZ",
        "colab": {
          "base_uri": "https://localhost:8080/"
        },
        "outputId": "82d50847-d6fd-4ff0-ff55-09d40c197bad"
      },
      "source": [
        "cdf_dblquad(3.77, 3, 12)"
      ],
      "execution_count": null,
      "outputs": [
        {
          "output_type": "execute_result",
          "data": {
            "text/plain": [
              "0.9498176382396498"
            ]
          },
          "metadata": {
            "tags": []
          },
          "execution_count": 146
        }
      ]
    },
    {
      "cell_type": "code",
      "metadata": {
        "id": "3sZsIkCVq47I",
        "colab": {
          "base_uri": "https://localhost:8080/"
        },
        "outputId": "368e3f50-4a60-4544-e784-5013a6f62c18"
      },
      "source": [
        "python_dblquad = %timeit -o -r1 -n1 cdf_dblquad(3.77, 3, 12)"
      ],
      "execution_count": null,
      "outputs": [
        {
          "output_type": "stream",
          "text": [
            "1 loop, best of 1: 13.2 s per loop\n",
            "<IPython.core.magics.execution.TimeitResult object at 0x7f7d10638650>\n"
          ],
          "name": "stdout"
        }
      ]
    },
    {
      "cell_type": "markdown",
      "metadata": {
        "id": "XI87ofJxrLx4"
      },
      "source": [
        "This simple change saves a small amount of computation time, but `cdf_dblquad` remains too slow for general use."
      ]
    },
    {
      "cell_type": "markdown",
      "metadata": {
        "id": "AEfXxw29hOpH"
      },
      "source": [
        "### Faster Normal PDF/CDF Evaluation\n",
        "\n",
        "A more significant source of overhead is the use of SciPy's `norm.pdf` and `norm.cdf` for evaluation of $\\phi$ and $\\Phi$. The statistical distributions in `scipy.stats` have many useful features, but their methods are often much slower than direct calls to the underlying special functions. We eliminate this overhead by redefining `phi` and `Phi`.\n"
      ]
    },
    {
      "cell_type": "code",
      "metadata": {
        "id": "4sfGRuj4rViL"
      },
      "source": [
        "from scipy.special import ndtr  # the normal CDF \n",
        "\n",
        "phi_norm = norm.pdf\n",
        "Phi_norm = norm.cdf\n",
        "\n",
        "def phi(z):\n",
        "  return (2 * np.pi)**(-.5) * np.exp(-0.5 * z * z)\n",
        "\n",
        "def Phi(z):\n",
        "  return ndtr(z)\n",
        " "
      ],
      "execution_count": null,
      "outputs": []
    },
    {
      "cell_type": "markdown",
      "metadata": {
        "id": "GlJxGauQKF3a"
      },
      "source": [
        "For timing calculations that are very fast, we average over more than one computation."
      ]
    },
    {
      "cell_type": "code",
      "metadata": {
        "id": "uhwO3lSQrmq1",
        "colab": {
          "base_uri": "https://localhost:8080/"
        },
        "outputId": "7f040f5b-ac45-4eeb-82d6-d6a58ccf5a3d"
      },
      "source": [
        "%timeit phi_norm(10)  # 0.00023118260003684554"
      ],
      "execution_count": null,
      "outputs": [
        {
          "output_type": "stream",
          "text": [
            "The slowest run took 4.39 times longer than the fastest. This could mean that an intermediate result is being cached.\n",
            "10000 loops, best of 5: 102 µs per loop\n"
          ],
          "name": "stdout"
        }
      ]
    },
    {
      "cell_type": "code",
      "metadata": {
        "id": "k42VkkT4r5v2",
        "colab": {
          "base_uri": "https://localhost:8080/"
        },
        "outputId": "0e99a76c-888c-43d3-ce5e-95e2003fafaa"
      },
      "source": [
        "%timeit phi(10)  # 2.008359952014871e-06"
      ],
      "execution_count": null,
      "outputs": [
        {
          "output_type": "stream",
          "text": [
            "The slowest run took 36.10 times longer than the fastest. This could mean that an intermediate result is being cached.\n",
            "1000000 loops, best of 5: 1.41 µs per loop\n"
          ],
          "name": "stdout"
        }
      ]
    },
    {
      "cell_type": "code",
      "metadata": {
        "id": "PGluLIGOr7ob",
        "colab": {
          "base_uri": "https://localhost:8080/"
        },
        "outputId": "4c79c8fc-70c8-43b5-b628-1b385717851c"
      },
      "source": [
        "%timeit Phi_norm(10)  #0.00018655471998499707"
      ],
      "execution_count": null,
      "outputs": [
        {
          "output_type": "stream",
          "text": [
            "10000 loops, best of 5: 96.8 µs per loop\n"
          ],
          "name": "stdout"
        }
      ]
    },
    {
      "cell_type": "code",
      "metadata": {
        "id": "ppFolCGWr-lP",
        "colab": {
          "base_uri": "https://localhost:8080/"
        },
        "outputId": "0e3b05e2-49b5-4d03-9657-7e49507e63d1"
      },
      "source": [
        "%timeit Phi(10)  # 3.4688199957599863e-06"
      ],
      "execution_count": null,
      "outputs": [
        {
          "output_type": "stream",
          "text": [
            "The slowest run took 28.42 times longer than the fastest. This could mean that an intermediate result is being cached.\n",
            "1000000 loops, best of 5: 1.27 µs per loop\n"
          ],
          "name": "stdout"
        }
      ]
    },
    {
      "cell_type": "markdown",
      "metadata": {
        "id": "I872G6MtQIWh"
      },
      "source": [
        "Our functions have much less overhead `norm`'s methods, so we expect that they will improve the speed of the `dblquad` integration significantly. Indeed, it does:"
      ]
    },
    {
      "cell_type": "code",
      "metadata": {
        "colab": {
          "base_uri": "https://localhost:8080/"
        },
        "id": "V6FKA1I3XDnc",
        "outputId": "6cbec5b4-3c7a-4f63-eecf-3351d5105647"
      },
      "source": [
        "improved_python = %timeit -o -r1 -n1 cdf_dblquad(3.77, 3, 12)"
      ],
      "execution_count": null,
      "outputs": [
        {
          "output_type": "stream",
          "text": [
            "1 loop, best of 1: 494 ms per loop\n"
          ],
          "name": "stdout"
        }
      ]
    },
    {
      "cell_type": "markdown",
      "metadata": {
        "id": "jEwe9QJVtWO5"
      },
      "source": [
        "This execution time may be acceptable for a single function evaluation, but `python_dblquad` remains too slow for vectorized and iterative computations."
      ]
    },
    {
      "cell_type": "markdown",
      "metadata": {
        "id": "hp9bo_5tASaZ"
      },
      "source": [
        "### Optimizing the Integrand with Cython\n",
        "\n",
        "To improve the integration speed further, we focus on computing the integrand\n",
        "\n",
        "$$ I = s^{\\nu-1} \\frac{k\\nu^{\\nu/2}}{\\Gamma(\\nu/2)2^{\\nu/2-1}}e^{-\\nu s^2/2} \\phi(z) [\\Phi(sq + z) - \\Phi(z)]^{k-1} \\tag{4}$$\n",
        "\n",
        "with Cython. For reference,"
      ]
    },
    {
      "cell_type": "code",
      "metadata": {
        "id": "mu7pXi7XwlMf",
        "colab": {
          "base_uri": "https://localhost:8080/"
        },
        "outputId": "636655e2-a3a0-4d1b-ed6c-d35b5225b5f5"
      },
      "source": [
        "%timeit integrand_python(1, 1, [3.77, 3, 12])"
      ],
      "execution_count": null,
      "outputs": [
        {
          "output_type": "stream",
          "text": [
            "The slowest run took 8.93 times longer than the fastest. This could mean that an intermediate result is being cached.\n",
            "1000000 loops, best of 5: 666 ns per loop\n"
          ],
          "name": "stdout"
        }
      ]
    },
    {
      "cell_type": "markdown",
      "metadata": {
        "id": "mUfXrQWVREvx"
      },
      "source": [
        "#### Cythonizing Python Directly"
      ]
    },
    {
      "cell_type": "markdown",
      "metadata": {
        "id": "aLgOILaa5-up"
      },
      "source": [
        "As a high level programming language, Python's dynamic typing promotes ease of use but also adds significant computational time. An extension to the Python language, Cython, is designed to make C-like performance accessible from Python. This Python-like code is compiled to C or C++ and creates a Python module as the interface for use.\n",
        "\n",
        "To begin, we process the unmodified Python code with Cython."
      ]
    },
    {
      "cell_type": "code",
      "metadata": {
        "colab": {
          "base_uri": "https://localhost:8080/"
        },
        "id": "YwzN1j_cQRs2",
        "outputId": "ece34131-ec81-4fe0-cf5f-c41949e22481"
      },
      "source": [
        "%load_ext cython"
      ],
      "execution_count": null,
      "outputs": [
        {
          "output_type": "stream",
          "text": [
            "The cython extension is already loaded. To reload it, use:\n",
            "  %reload_ext cython\n"
          ],
          "name": "stdout"
        }
      ]
    },
    {
      "cell_type": "code",
      "metadata": {
        "id": "JjqqfhwwwYYV",
        "colab": {
          "base_uri": "https://localhost:8080/",
          "height": 570
        },
        "outputId": "3ba2f4d4-706a-474f-cdda-28509ac69ac9"
      },
      "source": [
        "%%cython -a\n",
        "\n",
        "# ~~~~~~~~~~~~~~~~~~~~~~~~~~~~~~~~~~~~~~~~~~~~~~~~~~~~~~~~\n",
        "# The code in this cell is identical to that above; it\n",
        "# must be repeated here to be processed with Cython.\n",
        "\n",
        "import numpy as np\n",
        "from scipy.special import gamma, ndtr\n",
        "\n",
        "def phi(z):\n",
        "  return (2 * np.pi)**(-.5) * np.exp(-0.5 * z * z)\n",
        "\n",
        "def Phi(z):\n",
        "  return ndtr(z)\n",
        "\n",
        "def cdf_integrand_cython(s, z, args): \n",
        "  q, k, nu = args\n",
        "  def inner(s, z):\n",
        "    return phi(z) * (Phi(z + q * s) - Phi(z))**(k - 1)\n",
        "\n",
        "  def outer(s, z):\n",
        "    inner_int = inner(s, z)\n",
        "    return s**(nu) * phi((nu ** .5)*s) * inner_int\n",
        "\n",
        "  def whole(s, z):\n",
        "    return (((2 * np.pi)**.5) * k * nu**(nu / 2) /\n",
        "            (gamma(nu / 2) * 2**(nu /2 - 1)) * outer(s, z))\n",
        "\n",
        "  return whole(s, z)\n"
      ],
      "execution_count": null,
      "outputs": [
        {
          "output_type": "execute_result",
          "data": {
            "text/html": [
              "<!DOCTYPE html>\n",
              "<!-- Generated by Cython 0.29.23 -->\n",
              "<html>\n",
              "<head>\n",
              "    <meta http-equiv=\"Content-Type\" content=\"text/html; charset=utf-8\" />\n",
              "    <title>Cython: _cython_magic_a93589204fdd759fa363b86415b16dc5.pyx</title>\n",
              "    <style type=\"text/css\">\n",
              "    \n",
              "body.cython { font-family: courier; font-size: 12; }\n",
              "\n",
              ".cython.tag  {  }\n",
              ".cython.line { margin: 0em }\n",
              ".cython.code { font-size: 9; color: #444444; display: none; margin: 0px 0px 0px 8px; border-left: 8px none; }\n",
              "\n",
              ".cython.line .run { background-color: #B0FFB0; }\n",
              ".cython.line .mis { background-color: #FFB0B0; }\n",
              ".cython.code.run  { border-left: 8px solid #B0FFB0; }\n",
              ".cython.code.mis  { border-left: 8px solid #FFB0B0; }\n",
              "\n",
              ".cython.code .py_c_api  { color: red; }\n",
              ".cython.code .py_macro_api  { color: #FF7000; }\n",
              ".cython.code .pyx_c_api  { color: #FF3000; }\n",
              ".cython.code .pyx_macro_api  { color: #FF7000; }\n",
              ".cython.code .refnanny  { color: #FFA000; }\n",
              ".cython.code .trace  { color: #FFA000; }\n",
              ".cython.code .error_goto  { color: #FFA000; }\n",
              "\n",
              ".cython.code .coerce  { color: #008000; border: 1px dotted #008000 }\n",
              ".cython.code .py_attr { color: #FF0000; font-weight: bold; }\n",
              ".cython.code .c_attr  { color: #0000FF; }\n",
              ".cython.code .py_call { color: #FF0000; font-weight: bold; }\n",
              ".cython.code .c_call  { color: #0000FF; }\n",
              "\n",
              ".cython.score-0 {background-color: #FFFFff;}\n",
              ".cython.score-1 {background-color: #FFFFe7;}\n",
              ".cython.score-2 {background-color: #FFFFd4;}\n",
              ".cython.score-3 {background-color: #FFFFc4;}\n",
              ".cython.score-4 {background-color: #FFFFb6;}\n",
              ".cython.score-5 {background-color: #FFFFaa;}\n",
              ".cython.score-6 {background-color: #FFFF9f;}\n",
              ".cython.score-7 {background-color: #FFFF96;}\n",
              ".cython.score-8 {background-color: #FFFF8d;}\n",
              ".cython.score-9 {background-color: #FFFF86;}\n",
              ".cython.score-10 {background-color: #FFFF7f;}\n",
              ".cython.score-11 {background-color: #FFFF79;}\n",
              ".cython.score-12 {background-color: #FFFF73;}\n",
              ".cython.score-13 {background-color: #FFFF6e;}\n",
              ".cython.score-14 {background-color: #FFFF6a;}\n",
              ".cython.score-15 {background-color: #FFFF66;}\n",
              ".cython.score-16 {background-color: #FFFF62;}\n",
              ".cython.score-17 {background-color: #FFFF5e;}\n",
              ".cython.score-18 {background-color: #FFFF5b;}\n",
              ".cython.score-19 {background-color: #FFFF57;}\n",
              ".cython.score-20 {background-color: #FFFF55;}\n",
              ".cython.score-21 {background-color: #FFFF52;}\n",
              ".cython.score-22 {background-color: #FFFF4f;}\n",
              ".cython.score-23 {background-color: #FFFF4d;}\n",
              ".cython.score-24 {background-color: #FFFF4b;}\n",
              ".cython.score-25 {background-color: #FFFF48;}\n",
              ".cython.score-26 {background-color: #FFFF46;}\n",
              ".cython.score-27 {background-color: #FFFF44;}\n",
              ".cython.score-28 {background-color: #FFFF43;}\n",
              ".cython.score-29 {background-color: #FFFF41;}\n",
              ".cython.score-30 {background-color: #FFFF3f;}\n",
              ".cython.score-31 {background-color: #FFFF3e;}\n",
              ".cython.score-32 {background-color: #FFFF3c;}\n",
              ".cython.score-33 {background-color: #FFFF3b;}\n",
              ".cython.score-34 {background-color: #FFFF39;}\n",
              ".cython.score-35 {background-color: #FFFF38;}\n",
              ".cython.score-36 {background-color: #FFFF37;}\n",
              ".cython.score-37 {background-color: #FFFF36;}\n",
              ".cython.score-38 {background-color: #FFFF35;}\n",
              ".cython.score-39 {background-color: #FFFF34;}\n",
              ".cython.score-40 {background-color: #FFFF33;}\n",
              ".cython.score-41 {background-color: #FFFF32;}\n",
              ".cython.score-42 {background-color: #FFFF31;}\n",
              ".cython.score-43 {background-color: #FFFF30;}\n",
              ".cython.score-44 {background-color: #FFFF2f;}\n",
              ".cython.score-45 {background-color: #FFFF2e;}\n",
              ".cython.score-46 {background-color: #FFFF2d;}\n",
              ".cython.score-47 {background-color: #FFFF2c;}\n",
              ".cython.score-48 {background-color: #FFFF2b;}\n",
              ".cython.score-49 {background-color: #FFFF2b;}\n",
              ".cython.score-50 {background-color: #FFFF2a;}\n",
              ".cython.score-51 {background-color: #FFFF29;}\n",
              ".cython.score-52 {background-color: #FFFF29;}\n",
              ".cython.score-53 {background-color: #FFFF28;}\n",
              ".cython.score-54 {background-color: #FFFF27;}\n",
              ".cython.score-55 {background-color: #FFFF27;}\n",
              ".cython.score-56 {background-color: #FFFF26;}\n",
              ".cython.score-57 {background-color: #FFFF26;}\n",
              ".cython.score-58 {background-color: #FFFF25;}\n",
              ".cython.score-59 {background-color: #FFFF24;}\n",
              ".cython.score-60 {background-color: #FFFF24;}\n",
              ".cython.score-61 {background-color: #FFFF23;}\n",
              ".cython.score-62 {background-color: #FFFF23;}\n",
              ".cython.score-63 {background-color: #FFFF22;}\n",
              ".cython.score-64 {background-color: #FFFF22;}\n",
              ".cython.score-65 {background-color: #FFFF22;}\n",
              ".cython.score-66 {background-color: #FFFF21;}\n",
              ".cython.score-67 {background-color: #FFFF21;}\n",
              ".cython.score-68 {background-color: #FFFF20;}\n",
              ".cython.score-69 {background-color: #FFFF20;}\n",
              ".cython.score-70 {background-color: #FFFF1f;}\n",
              ".cython.score-71 {background-color: #FFFF1f;}\n",
              ".cython.score-72 {background-color: #FFFF1f;}\n",
              ".cython.score-73 {background-color: #FFFF1e;}\n",
              ".cython.score-74 {background-color: #FFFF1e;}\n",
              ".cython.score-75 {background-color: #FFFF1e;}\n",
              ".cython.score-76 {background-color: #FFFF1d;}\n",
              ".cython.score-77 {background-color: #FFFF1d;}\n",
              ".cython.score-78 {background-color: #FFFF1c;}\n",
              ".cython.score-79 {background-color: #FFFF1c;}\n",
              ".cython.score-80 {background-color: #FFFF1c;}\n",
              ".cython.score-81 {background-color: #FFFF1c;}\n",
              ".cython.score-82 {background-color: #FFFF1b;}\n",
              ".cython.score-83 {background-color: #FFFF1b;}\n",
              ".cython.score-84 {background-color: #FFFF1b;}\n",
              ".cython.score-85 {background-color: #FFFF1a;}\n",
              ".cython.score-86 {background-color: #FFFF1a;}\n",
              ".cython.score-87 {background-color: #FFFF1a;}\n",
              ".cython.score-88 {background-color: #FFFF1a;}\n",
              ".cython.score-89 {background-color: #FFFF19;}\n",
              ".cython.score-90 {background-color: #FFFF19;}\n",
              ".cython.score-91 {background-color: #FFFF19;}\n",
              ".cython.score-92 {background-color: #FFFF19;}\n",
              ".cython.score-93 {background-color: #FFFF18;}\n",
              ".cython.score-94 {background-color: #FFFF18;}\n",
              ".cython.score-95 {background-color: #FFFF18;}\n",
              ".cython.score-96 {background-color: #FFFF18;}\n",
              ".cython.score-97 {background-color: #FFFF17;}\n",
              ".cython.score-98 {background-color: #FFFF17;}\n",
              ".cython.score-99 {background-color: #FFFF17;}\n",
              ".cython.score-100 {background-color: #FFFF17;}\n",
              ".cython.score-101 {background-color: #FFFF16;}\n",
              ".cython.score-102 {background-color: #FFFF16;}\n",
              ".cython.score-103 {background-color: #FFFF16;}\n",
              ".cython.score-104 {background-color: #FFFF16;}\n",
              ".cython.score-105 {background-color: #FFFF16;}\n",
              ".cython.score-106 {background-color: #FFFF15;}\n",
              ".cython.score-107 {background-color: #FFFF15;}\n",
              ".cython.score-108 {background-color: #FFFF15;}\n",
              ".cython.score-109 {background-color: #FFFF15;}\n",
              ".cython.score-110 {background-color: #FFFF15;}\n",
              ".cython.score-111 {background-color: #FFFF15;}\n",
              ".cython.score-112 {background-color: #FFFF14;}\n",
              ".cython.score-113 {background-color: #FFFF14;}\n",
              ".cython.score-114 {background-color: #FFFF14;}\n",
              ".cython.score-115 {background-color: #FFFF14;}\n",
              ".cython.score-116 {background-color: #FFFF14;}\n",
              ".cython.score-117 {background-color: #FFFF14;}\n",
              ".cython.score-118 {background-color: #FFFF13;}\n",
              ".cython.score-119 {background-color: #FFFF13;}\n",
              ".cython.score-120 {background-color: #FFFF13;}\n",
              ".cython.score-121 {background-color: #FFFF13;}\n",
              ".cython.score-122 {background-color: #FFFF13;}\n",
              ".cython.score-123 {background-color: #FFFF13;}\n",
              ".cython.score-124 {background-color: #FFFF13;}\n",
              ".cython.score-125 {background-color: #FFFF12;}\n",
              ".cython.score-126 {background-color: #FFFF12;}\n",
              ".cython.score-127 {background-color: #FFFF12;}\n",
              ".cython.score-128 {background-color: #FFFF12;}\n",
              ".cython.score-129 {background-color: #FFFF12;}\n",
              ".cython.score-130 {background-color: #FFFF12;}\n",
              ".cython.score-131 {background-color: #FFFF12;}\n",
              ".cython.score-132 {background-color: #FFFF11;}\n",
              ".cython.score-133 {background-color: #FFFF11;}\n",
              ".cython.score-134 {background-color: #FFFF11;}\n",
              ".cython.score-135 {background-color: #FFFF11;}\n",
              ".cython.score-136 {background-color: #FFFF11;}\n",
              ".cython.score-137 {background-color: #FFFF11;}\n",
              ".cython.score-138 {background-color: #FFFF11;}\n",
              ".cython.score-139 {background-color: #FFFF11;}\n",
              ".cython.score-140 {background-color: #FFFF11;}\n",
              ".cython.score-141 {background-color: #FFFF10;}\n",
              ".cython.score-142 {background-color: #FFFF10;}\n",
              ".cython.score-143 {background-color: #FFFF10;}\n",
              ".cython.score-144 {background-color: #FFFF10;}\n",
              ".cython.score-145 {background-color: #FFFF10;}\n",
              ".cython.score-146 {background-color: #FFFF10;}\n",
              ".cython.score-147 {background-color: #FFFF10;}\n",
              ".cython.score-148 {background-color: #FFFF10;}\n",
              ".cython.score-149 {background-color: #FFFF10;}\n",
              ".cython.score-150 {background-color: #FFFF0f;}\n",
              ".cython.score-151 {background-color: #FFFF0f;}\n",
              ".cython.score-152 {background-color: #FFFF0f;}\n",
              ".cython.score-153 {background-color: #FFFF0f;}\n",
              ".cython.score-154 {background-color: #FFFF0f;}\n",
              ".cython.score-155 {background-color: #FFFF0f;}\n",
              ".cython.score-156 {background-color: #FFFF0f;}\n",
              ".cython.score-157 {background-color: #FFFF0f;}\n",
              ".cython.score-158 {background-color: #FFFF0f;}\n",
              ".cython.score-159 {background-color: #FFFF0f;}\n",
              ".cython.score-160 {background-color: #FFFF0f;}\n",
              ".cython.score-161 {background-color: #FFFF0e;}\n",
              ".cython.score-162 {background-color: #FFFF0e;}\n",
              ".cython.score-163 {background-color: #FFFF0e;}\n",
              ".cython.score-164 {background-color: #FFFF0e;}\n",
              ".cython.score-165 {background-color: #FFFF0e;}\n",
              ".cython.score-166 {background-color: #FFFF0e;}\n",
              ".cython.score-167 {background-color: #FFFF0e;}\n",
              ".cython.score-168 {background-color: #FFFF0e;}\n",
              ".cython.score-169 {background-color: #FFFF0e;}\n",
              ".cython.score-170 {background-color: #FFFF0e;}\n",
              ".cython.score-171 {background-color: #FFFF0e;}\n",
              ".cython.score-172 {background-color: #FFFF0e;}\n",
              ".cython.score-173 {background-color: #FFFF0d;}\n",
              ".cython.score-174 {background-color: #FFFF0d;}\n",
              ".cython.score-175 {background-color: #FFFF0d;}\n",
              ".cython.score-176 {background-color: #FFFF0d;}\n",
              ".cython.score-177 {background-color: #FFFF0d;}\n",
              ".cython.score-178 {background-color: #FFFF0d;}\n",
              ".cython.score-179 {background-color: #FFFF0d;}\n",
              ".cython.score-180 {background-color: #FFFF0d;}\n",
              ".cython.score-181 {background-color: #FFFF0d;}\n",
              ".cython.score-182 {background-color: #FFFF0d;}\n",
              ".cython.score-183 {background-color: #FFFF0d;}\n",
              ".cython.score-184 {background-color: #FFFF0d;}\n",
              ".cython.score-185 {background-color: #FFFF0d;}\n",
              ".cython.score-186 {background-color: #FFFF0d;}\n",
              ".cython.score-187 {background-color: #FFFF0c;}\n",
              ".cython.score-188 {background-color: #FFFF0c;}\n",
              ".cython.score-189 {background-color: #FFFF0c;}\n",
              ".cython.score-190 {background-color: #FFFF0c;}\n",
              ".cython.score-191 {background-color: #FFFF0c;}\n",
              ".cython.score-192 {background-color: #FFFF0c;}\n",
              ".cython.score-193 {background-color: #FFFF0c;}\n",
              ".cython.score-194 {background-color: #FFFF0c;}\n",
              ".cython.score-195 {background-color: #FFFF0c;}\n",
              ".cython.score-196 {background-color: #FFFF0c;}\n",
              ".cython.score-197 {background-color: #FFFF0c;}\n",
              ".cython.score-198 {background-color: #FFFF0c;}\n",
              ".cython.score-199 {background-color: #FFFF0c;}\n",
              ".cython.score-200 {background-color: #FFFF0c;}\n",
              ".cython.score-201 {background-color: #FFFF0c;}\n",
              ".cython.score-202 {background-color: #FFFF0c;}\n",
              ".cython.score-203 {background-color: #FFFF0b;}\n",
              ".cython.score-204 {background-color: #FFFF0b;}\n",
              ".cython.score-205 {background-color: #FFFF0b;}\n",
              ".cython.score-206 {background-color: #FFFF0b;}\n",
              ".cython.score-207 {background-color: #FFFF0b;}\n",
              ".cython.score-208 {background-color: #FFFF0b;}\n",
              ".cython.score-209 {background-color: #FFFF0b;}\n",
              ".cython.score-210 {background-color: #FFFF0b;}\n",
              ".cython.score-211 {background-color: #FFFF0b;}\n",
              ".cython.score-212 {background-color: #FFFF0b;}\n",
              ".cython.score-213 {background-color: #FFFF0b;}\n",
              ".cython.score-214 {background-color: #FFFF0b;}\n",
              ".cython.score-215 {background-color: #FFFF0b;}\n",
              ".cython.score-216 {background-color: #FFFF0b;}\n",
              ".cython.score-217 {background-color: #FFFF0b;}\n",
              ".cython.score-218 {background-color: #FFFF0b;}\n",
              ".cython.score-219 {background-color: #FFFF0b;}\n",
              ".cython.score-220 {background-color: #FFFF0b;}\n",
              ".cython.score-221 {background-color: #FFFF0b;}\n",
              ".cython.score-222 {background-color: #FFFF0a;}\n",
              ".cython.score-223 {background-color: #FFFF0a;}\n",
              ".cython.score-224 {background-color: #FFFF0a;}\n",
              ".cython.score-225 {background-color: #FFFF0a;}\n",
              ".cython.score-226 {background-color: #FFFF0a;}\n",
              ".cython.score-227 {background-color: #FFFF0a;}\n",
              ".cython.score-228 {background-color: #FFFF0a;}\n",
              ".cython.score-229 {background-color: #FFFF0a;}\n",
              ".cython.score-230 {background-color: #FFFF0a;}\n",
              ".cython.score-231 {background-color: #FFFF0a;}\n",
              ".cython.score-232 {background-color: #FFFF0a;}\n",
              ".cython.score-233 {background-color: #FFFF0a;}\n",
              ".cython.score-234 {background-color: #FFFF0a;}\n",
              ".cython.score-235 {background-color: #FFFF0a;}\n",
              ".cython.score-236 {background-color: #FFFF0a;}\n",
              ".cython.score-237 {background-color: #FFFF0a;}\n",
              ".cython.score-238 {background-color: #FFFF0a;}\n",
              ".cython.score-239 {background-color: #FFFF0a;}\n",
              ".cython.score-240 {background-color: #FFFF0a;}\n",
              ".cython.score-241 {background-color: #FFFF0a;}\n",
              ".cython.score-242 {background-color: #FFFF0a;}\n",
              ".cython.score-243 {background-color: #FFFF0a;}\n",
              ".cython.score-244 {background-color: #FFFF0a;}\n",
              ".cython.score-245 {background-color: #FFFF0a;}\n",
              ".cython.score-246 {background-color: #FFFF09;}\n",
              ".cython.score-247 {background-color: #FFFF09;}\n",
              ".cython.score-248 {background-color: #FFFF09;}\n",
              ".cython.score-249 {background-color: #FFFF09;}\n",
              ".cython.score-250 {background-color: #FFFF09;}\n",
              ".cython.score-251 {background-color: #FFFF09;}\n",
              ".cython.score-252 {background-color: #FFFF09;}\n",
              ".cython.score-253 {background-color: #FFFF09;}\n",
              ".cython.score-254 {background-color: #FFFF09;}\n",
              ".cython .hll { background-color: #ffffcc }\n",
              ".cython  { background: #f8f8f8; }\n",
              ".cython .c { color: #408080; font-style: italic } /* Comment */\n",
              ".cython .err { border: 1px solid #FF0000 } /* Error */\n",
              ".cython .k { color: #008000; font-weight: bold } /* Keyword */\n",
              ".cython .o { color: #666666 } /* Operator */\n",
              ".cython .ch { color: #408080; font-style: italic } /* Comment.Hashbang */\n",
              ".cython .cm { color: #408080; font-style: italic } /* Comment.Multiline */\n",
              ".cython .cp { color: #BC7A00 } /* Comment.Preproc */\n",
              ".cython .cpf { color: #408080; font-style: italic } /* Comment.PreprocFile */\n",
              ".cython .c1 { color: #408080; font-style: italic } /* Comment.Single */\n",
              ".cython .cs { color: #408080; font-style: italic } /* Comment.Special */\n",
              ".cython .gd { color: #A00000 } /* Generic.Deleted */\n",
              ".cython .ge { font-style: italic } /* Generic.Emph */\n",
              ".cython .gr { color: #FF0000 } /* Generic.Error */\n",
              ".cython .gh { color: #000080; font-weight: bold } /* Generic.Heading */\n",
              ".cython .gi { color: #00A000 } /* Generic.Inserted */\n",
              ".cython .go { color: #888888 } /* Generic.Output */\n",
              ".cython .gp { color: #000080; font-weight: bold } /* Generic.Prompt */\n",
              ".cython .gs { font-weight: bold } /* Generic.Strong */\n",
              ".cython .gu { color: #800080; font-weight: bold } /* Generic.Subheading */\n",
              ".cython .gt { color: #0044DD } /* Generic.Traceback */\n",
              ".cython .kc { color: #008000; font-weight: bold } /* Keyword.Constant */\n",
              ".cython .kd { color: #008000; font-weight: bold } /* Keyword.Declaration */\n",
              ".cython .kn { color: #008000; font-weight: bold } /* Keyword.Namespace */\n",
              ".cython .kp { color: #008000 } /* Keyword.Pseudo */\n",
              ".cython .kr { color: #008000; font-weight: bold } /* Keyword.Reserved */\n",
              ".cython .kt { color: #B00040 } /* Keyword.Type */\n",
              ".cython .m { color: #666666 } /* Literal.Number */\n",
              ".cython .s { color: #BA2121 } /* Literal.String */\n",
              ".cython .na { color: #7D9029 } /* Name.Attribute */\n",
              ".cython .nb { color: #008000 } /* Name.Builtin */\n",
              ".cython .nc { color: #0000FF; font-weight: bold } /* Name.Class */\n",
              ".cython .no { color: #880000 } /* Name.Constant */\n",
              ".cython .nd { color: #AA22FF } /* Name.Decorator */\n",
              ".cython .ni { color: #999999; font-weight: bold } /* Name.Entity */\n",
              ".cython .ne { color: #D2413A; font-weight: bold } /* Name.Exception */\n",
              ".cython .nf { color: #0000FF } /* Name.Function */\n",
              ".cython .nl { color: #A0A000 } /* Name.Label */\n",
              ".cython .nn { color: #0000FF; font-weight: bold } /* Name.Namespace */\n",
              ".cython .nt { color: #008000; font-weight: bold } /* Name.Tag */\n",
              ".cython .nv { color: #19177C } /* Name.Variable */\n",
              ".cython .ow { color: #AA22FF; font-weight: bold } /* Operator.Word */\n",
              ".cython .w { color: #bbbbbb } /* Text.Whitespace */\n",
              ".cython .mb { color: #666666 } /* Literal.Number.Bin */\n",
              ".cython .mf { color: #666666 } /* Literal.Number.Float */\n",
              ".cython .mh { color: #666666 } /* Literal.Number.Hex */\n",
              ".cython .mi { color: #666666 } /* Literal.Number.Integer */\n",
              ".cython .mo { color: #666666 } /* Literal.Number.Oct */\n",
              ".cython .sa { color: #BA2121 } /* Literal.String.Affix */\n",
              ".cython .sb { color: #BA2121 } /* Literal.String.Backtick */\n",
              ".cython .sc { color: #BA2121 } /* Literal.String.Char */\n",
              ".cython .dl { color: #BA2121 } /* Literal.String.Delimiter */\n",
              ".cython .sd { color: #BA2121; font-style: italic } /* Literal.String.Doc */\n",
              ".cython .s2 { color: #BA2121 } /* Literal.String.Double */\n",
              ".cython .se { color: #BB6622; font-weight: bold } /* Literal.String.Escape */\n",
              ".cython .sh { color: #BA2121 } /* Literal.String.Heredoc */\n",
              ".cython .si { color: #BB6688; font-weight: bold } /* Literal.String.Interpol */\n",
              ".cython .sx { color: #008000 } /* Literal.String.Other */\n",
              ".cython .sr { color: #BB6688 } /* Literal.String.Regex */\n",
              ".cython .s1 { color: #BA2121 } /* Literal.String.Single */\n",
              ".cython .ss { color: #19177C } /* Literal.String.Symbol */\n",
              ".cython .bp { color: #008000 } /* Name.Builtin.Pseudo */\n",
              ".cython .fm { color: #0000FF } /* Name.Function.Magic */\n",
              ".cython .vc { color: #19177C } /* Name.Variable.Class */\n",
              ".cython .vg { color: #19177C } /* Name.Variable.Global */\n",
              ".cython .vi { color: #19177C } /* Name.Variable.Instance */\n",
              ".cython .vm { color: #19177C } /* Name.Variable.Magic */\n",
              ".cython .il { color: #666666 } /* Literal.Number.Integer.Long */\n",
              "    </style>\n",
              "</head>\n",
              "<body class=\"cython\">\n",
              "<p><span style=\"border-bottom: solid 1px grey;\">Generated by Cython 0.29.23</span></p>\n",
              "<p>\n",
              "    <span style=\"background-color: #FFFF00\">Yellow lines</span> hint at Python interaction.<br />\n",
              "    Click on a line that starts with a \"<code>+</code>\" to see the C code that Cython generated for it.\n",
              "</p>\n",
              "<div class=\"cython\"><pre class=\"cython line score-0\">&#xA0;<span class=\"\">01</span>: </pre>\n",
              "<pre class=\"cython line score-0\">&#xA0;<span class=\"\">02</span>: <span class=\"c\"># ~~~~~~~~~~~~~~~~~~~~~~~~~~~~~~~~~~~~~~~~~~~~~~~~~~~~~~~~</span></pre>\n",
              "<pre class=\"cython line score-0\">&#xA0;<span class=\"\">03</span>: <span class=\"c\"># The code in this cell is identical to that above; it</span></pre>\n",
              "<pre class=\"cython line score-0\">&#xA0;<span class=\"\">04</span>: <span class=\"c\"># must be repeated here to be processed with Cython.</span></pre>\n",
              "<pre class=\"cython line score-0\">&#xA0;<span class=\"\">05</span>: </pre>\n",
              "<pre class=\"cython line score-8\" onclick=\"(function(s){s.display=s.display==='block'?'none':'block'})(this.nextElementSibling.style)\">+<span class=\"\">06</span>: <span class=\"k\">import</span> <span class=\"nn\">numpy</span> <span class=\"k\">as</span> <span class=\"nn\">np</span></pre>\n",
              "<pre class='cython code score-8 '>  __pyx_t_1 = <span class='pyx_c_api'>__Pyx_Import</span>(__pyx_n_s_numpy, 0, 0);<span class='error_goto'> if (unlikely(!__pyx_t_1)) __PYX_ERR(0, 6, __pyx_L1_error)</span>\n",
              "  <span class='refnanny'>__Pyx_GOTREF</span>(__pyx_t_1);\n",
              "  if (<span class='py_c_api'>PyDict_SetItem</span>(__pyx_d, __pyx_n_s_np, __pyx_t_1) &lt; 0) <span class='error_goto'>__PYX_ERR(0, 6, __pyx_L1_error)</span>\n",
              "  <span class='pyx_macro_api'>__Pyx_DECREF</span>(__pyx_t_1); __pyx_t_1 = 0;\n",
              "</pre><pre class=\"cython line score-29\" onclick=\"(function(s){s.display=s.display==='block'?'none':'block'})(this.nextElementSibling.style)\">+<span class=\"\">07</span>: <span class=\"k\">from</span> <span class=\"nn\">scipy.special</span> <span class=\"k\">import</span> <span class=\"n\">gamma</span><span class=\"p\">,</span> <span class=\"n\">ndtr</span></pre>\n",
              "<pre class='cython code score-29 '>  __pyx_t_1 = <span class='py_c_api'>PyList_New</span>(2);<span class='error_goto'> if (unlikely(!__pyx_t_1)) __PYX_ERR(0, 7, __pyx_L1_error)</span>\n",
              "  <span class='refnanny'>__Pyx_GOTREF</span>(__pyx_t_1);\n",
              "  <span class='pyx_macro_api'>__Pyx_INCREF</span>(__pyx_n_s_gamma);\n",
              "  <span class='refnanny'>__Pyx_GIVEREF</span>(__pyx_n_s_gamma);\n",
              "  <span class='py_macro_api'>PyList_SET_ITEM</span>(__pyx_t_1, 0, __pyx_n_s_gamma);\n",
              "  <span class='pyx_macro_api'>__Pyx_INCREF</span>(__pyx_n_s_ndtr);\n",
              "  <span class='refnanny'>__Pyx_GIVEREF</span>(__pyx_n_s_ndtr);\n",
              "  <span class='py_macro_api'>PyList_SET_ITEM</span>(__pyx_t_1, 1, __pyx_n_s_ndtr);\n",
              "  __pyx_t_2 = <span class='pyx_c_api'>__Pyx_Import</span>(__pyx_n_s_scipy_special, __pyx_t_1, 0);<span class='error_goto'> if (unlikely(!__pyx_t_2)) __PYX_ERR(0, 7, __pyx_L1_error)</span>\n",
              "  <span class='refnanny'>__Pyx_GOTREF</span>(__pyx_t_2);\n",
              "  <span class='pyx_macro_api'>__Pyx_DECREF</span>(__pyx_t_1); __pyx_t_1 = 0;\n",
              "  __pyx_t_1 = <span class='pyx_c_api'>__Pyx_ImportFrom</span>(__pyx_t_2, __pyx_n_s_gamma);<span class='error_goto'> if (unlikely(!__pyx_t_1)) __PYX_ERR(0, 7, __pyx_L1_error)</span>\n",
              "  <span class='refnanny'>__Pyx_GOTREF</span>(__pyx_t_1);\n",
              "  if (<span class='py_c_api'>PyDict_SetItem</span>(__pyx_d, __pyx_n_s_gamma, __pyx_t_1) &lt; 0) <span class='error_goto'>__PYX_ERR(0, 7, __pyx_L1_error)</span>\n",
              "  <span class='pyx_macro_api'>__Pyx_DECREF</span>(__pyx_t_1); __pyx_t_1 = 0;\n",
              "  __pyx_t_1 = <span class='pyx_c_api'>__Pyx_ImportFrom</span>(__pyx_t_2, __pyx_n_s_ndtr);<span class='error_goto'> if (unlikely(!__pyx_t_1)) __PYX_ERR(0, 7, __pyx_L1_error)</span>\n",
              "  <span class='refnanny'>__Pyx_GOTREF</span>(__pyx_t_1);\n",
              "  if (<span class='py_c_api'>PyDict_SetItem</span>(__pyx_d, __pyx_n_s_ndtr, __pyx_t_1) &lt; 0) <span class='error_goto'>__PYX_ERR(0, 7, __pyx_L1_error)</span>\n",
              "  <span class='pyx_macro_api'>__Pyx_DECREF</span>(__pyx_t_1); __pyx_t_1 = 0;\n",
              "  <span class='pyx_macro_api'>__Pyx_DECREF</span>(__pyx_t_2); __pyx_t_2 = 0;\n",
              "</pre><pre class=\"cython line score-0\">&#xA0;<span class=\"\">08</span>: </pre>\n",
              "<pre class=\"cython line score-20\" onclick=\"(function(s){s.display=s.display==='block'?'none':'block'})(this.nextElementSibling.style)\">+<span class=\"\">09</span>: <span class=\"k\">def</span> <span class=\"nf\">phi</span><span class=\"p\">(</span><span class=\"n\">z</span><span class=\"p\">):</span></pre>\n",
              "<pre class='cython code score-20 '>/* Python wrapper */\n",
              "static PyObject *__pyx_pw_46_cython_magic_a93589204fdd759fa363b86415b16dc5_1phi(PyObject *__pyx_self, PyObject *__pyx_v_z); /*proto*/\n",
              "static PyMethodDef __pyx_mdef_46_cython_magic_a93589204fdd759fa363b86415b16dc5_1phi = {\"phi\", (PyCFunction)__pyx_pw_46_cython_magic_a93589204fdd759fa363b86415b16dc5_1phi, METH_O, 0};\n",
              "static PyObject *__pyx_pw_46_cython_magic_a93589204fdd759fa363b86415b16dc5_1phi(PyObject *__pyx_self, PyObject *__pyx_v_z) {\n",
              "  PyObject *__pyx_r = 0;\n",
              "  <span class='refnanny'>__Pyx_RefNannyDeclarations</span>\n",
              "  <span class='refnanny'>__Pyx_RefNannySetupContext</span>(\"phi (wrapper)\", 0);\n",
              "  __pyx_r = __pyx_pf_46_cython_magic_a93589204fdd759fa363b86415b16dc5_phi(__pyx_self, ((PyObject *)__pyx_v_z));\n",
              "\n",
              "  /* function exit code */\n",
              "  <span class='refnanny'>__Pyx_RefNannyFinishContext</span>();\n",
              "  return __pyx_r;\n",
              "}\n",
              "\n",
              "static PyObject *__pyx_pf_46_cython_magic_a93589204fdd759fa363b86415b16dc5_phi(CYTHON_UNUSED PyObject *__pyx_self, PyObject *__pyx_v_z) {\n",
              "  PyObject *__pyx_r = NULL;\n",
              "  <span class='refnanny'>__Pyx_RefNannyDeclarations</span>\n",
              "  <span class='refnanny'>__Pyx_RefNannySetupContext</span>(\"phi\", 0);\n",
              "/* … */\n",
              "  /* function exit code */\n",
              "  __pyx_L1_error:;\n",
              "  <span class='pyx_macro_api'>__Pyx_XDECREF</span>(__pyx_t_1);\n",
              "  <span class='pyx_macro_api'>__Pyx_XDECREF</span>(__pyx_t_2);\n",
              "  <span class='pyx_macro_api'>__Pyx_XDECREF</span>(__pyx_t_3);\n",
              "  <span class='pyx_macro_api'>__Pyx_XDECREF</span>(__pyx_t_4);\n",
              "  <span class='pyx_macro_api'>__Pyx_XDECREF</span>(__pyx_t_5);\n",
              "  <span class='pyx_c_api'>__Pyx_AddTraceback</span>(\"_cython_magic_a93589204fdd759fa363b86415b16dc5.phi\", __pyx_clineno, __pyx_lineno, __pyx_filename);\n",
              "  __pyx_r = NULL;\n",
              "  __pyx_L0:;\n",
              "  <span class='refnanny'>__Pyx_XGIVEREF</span>(__pyx_r);\n",
              "  <span class='refnanny'>__Pyx_RefNannyFinishContext</span>();\n",
              "  return __pyx_r;\n",
              "}\n",
              "/* … */\n",
              "  __pyx_tuple__7 = <span class='py_c_api'>PyTuple_Pack</span>(1, __pyx_n_s_z);<span class='error_goto'> if (unlikely(!__pyx_tuple__7)) __PYX_ERR(0, 9, __pyx_L1_error)</span>\n",
              "  <span class='refnanny'>__Pyx_GOTREF</span>(__pyx_tuple__7);\n",
              "  <span class='refnanny'>__Pyx_GIVEREF</span>(__pyx_tuple__7);\n",
              "/* … */\n",
              "  __pyx_t_2 = PyCFunction_NewEx(&amp;__pyx_mdef_46_cython_magic_a93589204fdd759fa363b86415b16dc5_1phi, NULL, __pyx_n_s_cython_magic_a93589204fdd759fa3);<span class='error_goto'> if (unlikely(!__pyx_t_2)) __PYX_ERR(0, 9, __pyx_L1_error)</span>\n",
              "  <span class='refnanny'>__Pyx_GOTREF</span>(__pyx_t_2);\n",
              "  if (<span class='py_c_api'>PyDict_SetItem</span>(__pyx_d, __pyx_n_s_phi, __pyx_t_2) &lt; 0) <span class='error_goto'>__PYX_ERR(0, 9, __pyx_L1_error)</span>\n",
              "  <span class='pyx_macro_api'>__Pyx_DECREF</span>(__pyx_t_2); __pyx_t_2 = 0;\n",
              "  __pyx_codeobj__8 = (PyObject*)<span class='pyx_c_api'>__Pyx_PyCode_New</span>(1, 0, 1, 0, CO_OPTIMIZED|CO_NEWLOCALS, __pyx_empty_bytes, __pyx_empty_tuple, __pyx_empty_tuple, __pyx_tuple__7, __pyx_empty_tuple, __pyx_empty_tuple, __pyx_kp_s_root_cache_ipython_cython__cyth, __pyx_n_s_phi, 9, __pyx_empty_bytes);<span class='error_goto'> if (unlikely(!__pyx_codeobj__8)) __PYX_ERR(0, 9, __pyx_L1_error)</span>\n",
              "</pre><pre class=\"cython line score-56\" onclick=\"(function(s){s.display=s.display==='block'?'none':'block'})(this.nextElementSibling.style)\">+<span class=\"\">10</span>:   <span class=\"k\">return</span> <span class=\"p\">(</span><span class=\"mf\">2</span> <span class=\"o\">*</span> <span class=\"n\">np</span><span class=\"o\">.</span><span class=\"n\">pi</span><span class=\"p\">)</span><span class=\"o\">**</span><span class=\"p\">(</span><span class=\"o\">-.</span><span class=\"mf\">5</span><span class=\"p\">)</span> <span class=\"o\">*</span> <span class=\"n\">np</span><span class=\"o\">.</span><span class=\"n\">exp</span><span class=\"p\">(</span><span class=\"o\">-</span><span class=\"mf\">0.5</span> <span class=\"o\">*</span> <span class=\"n\">z</span> <span class=\"o\">*</span> <span class=\"n\">z</span><span class=\"p\">)</span></pre>\n",
              "<pre class='cython code score-56 '>  <span class='pyx_macro_api'>__Pyx_XDECREF</span>(__pyx_r);\n",
              "  <span class='pyx_c_api'>__Pyx_GetModuleGlobalName</span>(__pyx_t_1, __pyx_n_s_np);<span class='error_goto'> if (unlikely(!__pyx_t_1)) __PYX_ERR(0, 10, __pyx_L1_error)</span>\n",
              "  <span class='refnanny'>__Pyx_GOTREF</span>(__pyx_t_1);\n",
              "  __pyx_t_2 = <span class='pyx_c_api'>__Pyx_PyObject_GetAttrStr</span>(__pyx_t_1, __pyx_n_s_pi);<span class='error_goto'> if (unlikely(!__pyx_t_2)) __PYX_ERR(0, 10, __pyx_L1_error)</span>\n",
              "  <span class='refnanny'>__Pyx_GOTREF</span>(__pyx_t_2);\n",
              "  <span class='pyx_macro_api'>__Pyx_DECREF</span>(__pyx_t_1); __pyx_t_1 = 0;\n",
              "  __pyx_t_1 = <span class='py_c_api'>PyNumber_Multiply</span>(__pyx_int_2, __pyx_t_2);<span class='error_goto'> if (unlikely(!__pyx_t_1)) __PYX_ERR(0, 10, __pyx_L1_error)</span>\n",
              "  <span class='refnanny'>__Pyx_GOTREF</span>(__pyx_t_1);\n",
              "  <span class='pyx_macro_api'>__Pyx_DECREF</span>(__pyx_t_2); __pyx_t_2 = 0;\n",
              "  __pyx_t_2 = <span class='py_c_api'>PyNumber_Power</span>(__pyx_t_1, __pyx_float_neg__5, Py_None);<span class='error_goto'> if (unlikely(!__pyx_t_2)) __PYX_ERR(0, 10, __pyx_L1_error)</span>\n",
              "  <span class='refnanny'>__Pyx_GOTREF</span>(__pyx_t_2);\n",
              "  <span class='pyx_macro_api'>__Pyx_DECREF</span>(__pyx_t_1); __pyx_t_1 = 0;\n",
              "  <span class='pyx_c_api'>__Pyx_GetModuleGlobalName</span>(__pyx_t_3, __pyx_n_s_np);<span class='error_goto'> if (unlikely(!__pyx_t_3)) __PYX_ERR(0, 10, __pyx_L1_error)</span>\n",
              "  <span class='refnanny'>__Pyx_GOTREF</span>(__pyx_t_3);\n",
              "  __pyx_t_4 = <span class='pyx_c_api'>__Pyx_PyObject_GetAttrStr</span>(__pyx_t_3, __pyx_n_s_exp);<span class='error_goto'> if (unlikely(!__pyx_t_4)) __PYX_ERR(0, 10, __pyx_L1_error)</span>\n",
              "  <span class='refnanny'>__Pyx_GOTREF</span>(__pyx_t_4);\n",
              "  <span class='pyx_macro_api'>__Pyx_DECREF</span>(__pyx_t_3); __pyx_t_3 = 0;\n",
              "  __pyx_t_3 = <span class='py_c_api'>PyNumber_Multiply</span>(__pyx_float_neg_0_5, __pyx_v_z);<span class='error_goto'> if (unlikely(!__pyx_t_3)) __PYX_ERR(0, 10, __pyx_L1_error)</span>\n",
              "  <span class='refnanny'>__Pyx_GOTREF</span>(__pyx_t_3);\n",
              "  __pyx_t_5 = <span class='py_c_api'>PyNumber_Multiply</span>(__pyx_t_3, __pyx_v_z);<span class='error_goto'> if (unlikely(!__pyx_t_5)) __PYX_ERR(0, 10, __pyx_L1_error)</span>\n",
              "  <span class='refnanny'>__Pyx_GOTREF</span>(__pyx_t_5);\n",
              "  <span class='pyx_macro_api'>__Pyx_DECREF</span>(__pyx_t_3); __pyx_t_3 = 0;\n",
              "  __pyx_t_3 = NULL;\n",
              "  if (CYTHON_UNPACK_METHODS &amp;&amp; unlikely(<span class='py_c_api'>PyMethod_Check</span>(__pyx_t_4))) {\n",
              "    __pyx_t_3 = <span class='py_macro_api'>PyMethod_GET_SELF</span>(__pyx_t_4);\n",
              "    if (likely(__pyx_t_3)) {\n",
              "      PyObject* function = <span class='py_macro_api'>PyMethod_GET_FUNCTION</span>(__pyx_t_4);\n",
              "      <span class='pyx_macro_api'>__Pyx_INCREF</span>(__pyx_t_3);\n",
              "      <span class='pyx_macro_api'>__Pyx_INCREF</span>(function);\n",
              "      <span class='pyx_macro_api'>__Pyx_DECREF_SET</span>(__pyx_t_4, function);\n",
              "    }\n",
              "  }\n",
              "  __pyx_t_1 = (__pyx_t_3) ? __Pyx_PyObject_Call2Args(__pyx_t_4, __pyx_t_3, __pyx_t_5) : <span class='pyx_c_api'>__Pyx_PyObject_CallOneArg</span>(__pyx_t_4, __pyx_t_5);\n",
              "  <span class='pyx_macro_api'>__Pyx_XDECREF</span>(__pyx_t_3); __pyx_t_3 = 0;\n",
              "  <span class='pyx_macro_api'>__Pyx_DECREF</span>(__pyx_t_5); __pyx_t_5 = 0;\n",
              "  if (unlikely(!__pyx_t_1)) <span class='error_goto'>__PYX_ERR(0, 10, __pyx_L1_error)</span>\n",
              "  <span class='refnanny'>__Pyx_GOTREF</span>(__pyx_t_1);\n",
              "  <span class='pyx_macro_api'>__Pyx_DECREF</span>(__pyx_t_4); __pyx_t_4 = 0;\n",
              "  __pyx_t_4 = <span class='py_c_api'>PyNumber_Multiply</span>(__pyx_t_2, __pyx_t_1);<span class='error_goto'> if (unlikely(!__pyx_t_4)) __PYX_ERR(0, 10, __pyx_L1_error)</span>\n",
              "  <span class='refnanny'>__Pyx_GOTREF</span>(__pyx_t_4);\n",
              "  <span class='pyx_macro_api'>__Pyx_DECREF</span>(__pyx_t_2); __pyx_t_2 = 0;\n",
              "  <span class='pyx_macro_api'>__Pyx_DECREF</span>(__pyx_t_1); __pyx_t_1 = 0;\n",
              "  __pyx_r = __pyx_t_4;\n",
              "  __pyx_t_4 = 0;\n",
              "  goto __pyx_L0;\n",
              "</pre><pre class=\"cython line score-0\">&#xA0;<span class=\"\">11</span>: </pre>\n",
              "<pre class=\"cython line score-18\" onclick=\"(function(s){s.display=s.display==='block'?'none':'block'})(this.nextElementSibling.style)\">+<span class=\"\">12</span>: <span class=\"k\">def</span> <span class=\"nf\">Phi</span><span class=\"p\">(</span><span class=\"n\">z</span><span class=\"p\">):</span></pre>\n",
              "<pre class='cython code score-18 '>/* Python wrapper */\n",
              "static PyObject *__pyx_pw_46_cython_magic_a93589204fdd759fa363b86415b16dc5_3Phi(PyObject *__pyx_self, PyObject *__pyx_v_z); /*proto*/\n",
              "static PyMethodDef __pyx_mdef_46_cython_magic_a93589204fdd759fa363b86415b16dc5_3Phi = {\"Phi\", (PyCFunction)__pyx_pw_46_cython_magic_a93589204fdd759fa363b86415b16dc5_3Phi, METH_O, 0};\n",
              "static PyObject *__pyx_pw_46_cython_magic_a93589204fdd759fa363b86415b16dc5_3Phi(PyObject *__pyx_self, PyObject *__pyx_v_z) {\n",
              "  PyObject *__pyx_r = 0;\n",
              "  <span class='refnanny'>__Pyx_RefNannyDeclarations</span>\n",
              "  <span class='refnanny'>__Pyx_RefNannySetupContext</span>(\"Phi (wrapper)\", 0);\n",
              "  __pyx_r = __pyx_pf_46_cython_magic_a93589204fdd759fa363b86415b16dc5_2Phi(__pyx_self, ((PyObject *)__pyx_v_z));\n",
              "\n",
              "  /* function exit code */\n",
              "  <span class='refnanny'>__Pyx_RefNannyFinishContext</span>();\n",
              "  return __pyx_r;\n",
              "}\n",
              "\n",
              "static PyObject *__pyx_pf_46_cython_magic_a93589204fdd759fa363b86415b16dc5_2Phi(CYTHON_UNUSED PyObject *__pyx_self, PyObject *__pyx_v_z) {\n",
              "  PyObject *__pyx_r = NULL;\n",
              "  <span class='refnanny'>__Pyx_RefNannyDeclarations</span>\n",
              "  <span class='refnanny'>__Pyx_RefNannySetupContext</span>(\"Phi\", 0);\n",
              "/* … */\n",
              "  /* function exit code */\n",
              "  __pyx_L1_error:;\n",
              "  <span class='pyx_macro_api'>__Pyx_XDECREF</span>(__pyx_t_1);\n",
              "  <span class='pyx_macro_api'>__Pyx_XDECREF</span>(__pyx_t_2);\n",
              "  <span class='pyx_macro_api'>__Pyx_XDECREF</span>(__pyx_t_3);\n",
              "  <span class='pyx_c_api'>__Pyx_AddTraceback</span>(\"_cython_magic_a93589204fdd759fa363b86415b16dc5.Phi\", __pyx_clineno, __pyx_lineno, __pyx_filename);\n",
              "  __pyx_r = NULL;\n",
              "  __pyx_L0:;\n",
              "  <span class='refnanny'>__Pyx_XGIVEREF</span>(__pyx_r);\n",
              "  <span class='refnanny'>__Pyx_RefNannyFinishContext</span>();\n",
              "  return __pyx_r;\n",
              "}\n",
              "/* … */\n",
              "  __pyx_tuple__9 = <span class='py_c_api'>PyTuple_Pack</span>(1, __pyx_n_s_z);<span class='error_goto'> if (unlikely(!__pyx_tuple__9)) __PYX_ERR(0, 12, __pyx_L1_error)</span>\n",
              "  <span class='refnanny'>__Pyx_GOTREF</span>(__pyx_tuple__9);\n",
              "  <span class='refnanny'>__Pyx_GIVEREF</span>(__pyx_tuple__9);\n",
              "/* … */\n",
              "  __pyx_t_2 = PyCFunction_NewEx(&amp;__pyx_mdef_46_cython_magic_a93589204fdd759fa363b86415b16dc5_3Phi, NULL, __pyx_n_s_cython_magic_a93589204fdd759fa3);<span class='error_goto'> if (unlikely(!__pyx_t_2)) __PYX_ERR(0, 12, __pyx_L1_error)</span>\n",
              "  <span class='refnanny'>__Pyx_GOTREF</span>(__pyx_t_2);\n",
              "  if (<span class='py_c_api'>PyDict_SetItem</span>(__pyx_d, __pyx_n_s_Phi, __pyx_t_2) &lt; 0) <span class='error_goto'>__PYX_ERR(0, 12, __pyx_L1_error)</span>\n",
              "  <span class='pyx_macro_api'>__Pyx_DECREF</span>(__pyx_t_2); __pyx_t_2 = 0;\n",
              "  __pyx_codeobj__10 = (PyObject*)<span class='pyx_c_api'>__Pyx_PyCode_New</span>(1, 0, 1, 0, CO_OPTIMIZED|CO_NEWLOCALS, __pyx_empty_bytes, __pyx_empty_tuple, __pyx_empty_tuple, __pyx_tuple__9, __pyx_empty_tuple, __pyx_empty_tuple, __pyx_kp_s_root_cache_ipython_cython__cyth, __pyx_n_s_Phi, 12, __pyx_empty_bytes);<span class='error_goto'> if (unlikely(!__pyx_codeobj__10)) __PYX_ERR(0, 12, __pyx_L1_error)</span>\n",
              "</pre><pre class=\"cython line score-17\" onclick=\"(function(s){s.display=s.display==='block'?'none':'block'})(this.nextElementSibling.style)\">+<span class=\"\">13</span>:   <span class=\"k\">return</span> <span class=\"n\">ndtr</span><span class=\"p\">(</span><span class=\"n\">z</span><span class=\"p\">)</span></pre>\n",
              "<pre class='cython code score-17 '>  <span class='pyx_macro_api'>__Pyx_XDECREF</span>(__pyx_r);\n",
              "  <span class='pyx_c_api'>__Pyx_GetModuleGlobalName</span>(__pyx_t_2, __pyx_n_s_ndtr);<span class='error_goto'> if (unlikely(!__pyx_t_2)) __PYX_ERR(0, 13, __pyx_L1_error)</span>\n",
              "  <span class='refnanny'>__Pyx_GOTREF</span>(__pyx_t_2);\n",
              "  __pyx_t_3 = NULL;\n",
              "  if (CYTHON_UNPACK_METHODS &amp;&amp; unlikely(<span class='py_c_api'>PyMethod_Check</span>(__pyx_t_2))) {\n",
              "    __pyx_t_3 = <span class='py_macro_api'>PyMethod_GET_SELF</span>(__pyx_t_2);\n",
              "    if (likely(__pyx_t_3)) {\n",
              "      PyObject* function = <span class='py_macro_api'>PyMethod_GET_FUNCTION</span>(__pyx_t_2);\n",
              "      <span class='pyx_macro_api'>__Pyx_INCREF</span>(__pyx_t_3);\n",
              "      <span class='pyx_macro_api'>__Pyx_INCREF</span>(function);\n",
              "      <span class='pyx_macro_api'>__Pyx_DECREF_SET</span>(__pyx_t_2, function);\n",
              "    }\n",
              "  }\n",
              "  __pyx_t_1 = (__pyx_t_3) ? __Pyx_PyObject_Call2Args(__pyx_t_2, __pyx_t_3, __pyx_v_z) : <span class='pyx_c_api'>__Pyx_PyObject_CallOneArg</span>(__pyx_t_2, __pyx_v_z);\n",
              "  <span class='pyx_macro_api'>__Pyx_XDECREF</span>(__pyx_t_3); __pyx_t_3 = 0;\n",
              "  if (unlikely(!__pyx_t_1)) <span class='error_goto'>__PYX_ERR(0, 13, __pyx_L1_error)</span>\n",
              "  <span class='refnanny'>__Pyx_GOTREF</span>(__pyx_t_1);\n",
              "  <span class='pyx_macro_api'>__Pyx_DECREF</span>(__pyx_t_2); __pyx_t_2 = 0;\n",
              "  __pyx_r = __pyx_t_1;\n",
              "  __pyx_t_1 = 0;\n",
              "  goto __pyx_L0;\n",
              "</pre><pre class=\"cython line score-0\">&#xA0;<span class=\"\">14</span>: </pre>\n",
              "<pre class=\"cython line score-50\" onclick=\"(function(s){s.display=s.display==='block'?'none':'block'})(this.nextElementSibling.style)\">+<span class=\"\">15</span>: <span class=\"k\">def</span> <span class=\"nf\">cdf_integrand_cython</span><span class=\"p\">(</span><span class=\"n\">s</span><span class=\"p\">,</span> <span class=\"n\">z</span><span class=\"p\">,</span> <span class=\"n\">args</span><span class=\"p\">):</span></pre>\n",
              "<pre class='cython code score-50 '>/* Python wrapper */\n",
              "static PyObject *__pyx_pw_46_cython_magic_a93589204fdd759fa363b86415b16dc5_5cdf_integrand_cython(PyObject *__pyx_self, PyObject *__pyx_args, PyObject *__pyx_kwds); /*proto*/\n",
              "static PyMethodDef __pyx_mdef_46_cython_magic_a93589204fdd759fa363b86415b16dc5_5cdf_integrand_cython = {\"cdf_integrand_cython\", (PyCFunction)(void*)(PyCFunctionWithKeywords)__pyx_pw_46_cython_magic_a93589204fdd759fa363b86415b16dc5_5cdf_integrand_cython, METH_VARARGS|METH_KEYWORDS, 0};\n",
              "static PyObject *__pyx_pw_46_cython_magic_a93589204fdd759fa363b86415b16dc5_5cdf_integrand_cython(PyObject *__pyx_self, PyObject *__pyx_args, PyObject *__pyx_kwds) {\n",
              "  PyObject *__pyx_v_s = 0;\n",
              "  PyObject *__pyx_v_z = 0;\n",
              "  PyObject *__pyx_v_args = 0;\n",
              "  PyObject *__pyx_r = 0;\n",
              "  <span class='refnanny'>__Pyx_RefNannyDeclarations</span>\n",
              "  <span class='refnanny'>__Pyx_RefNannySetupContext</span>(\"cdf_integrand_cython (wrapper)\", 0);\n",
              "  {\n",
              "    static PyObject **__pyx_pyargnames[] = {&amp;__pyx_n_s_s,&amp;__pyx_n_s_z,&amp;__pyx_n_s_args,0};\n",
              "    PyObject* values[3] = {0,0,0};\n",
              "    if (unlikely(__pyx_kwds)) {\n",
              "      Py_ssize_t kw_args;\n",
              "      const Py_ssize_t pos_args = <span class='py_macro_api'>PyTuple_GET_SIZE</span>(__pyx_args);\n",
              "      switch (pos_args) {\n",
              "        case  3: values[2] = <span class='py_macro_api'>PyTuple_GET_ITEM</span>(__pyx_args, 2);\n",
              "        CYTHON_FALLTHROUGH;\n",
              "        case  2: values[1] = <span class='py_macro_api'>PyTuple_GET_ITEM</span>(__pyx_args, 1);\n",
              "        CYTHON_FALLTHROUGH;\n",
              "        case  1: values[0] = <span class='py_macro_api'>PyTuple_GET_ITEM</span>(__pyx_args, 0);\n",
              "        CYTHON_FALLTHROUGH;\n",
              "        case  0: break;\n",
              "        default: goto __pyx_L5_argtuple_error;\n",
              "      }\n",
              "      kw_args = <span class='py_c_api'>PyDict_Size</span>(__pyx_kwds);\n",
              "      switch (pos_args) {\n",
              "        case  0:\n",
              "        if (likely((values[0] = <span class='pyx_c_api'>__Pyx_PyDict_GetItemStr</span>(__pyx_kwds, __pyx_n_s_s)) != 0)) kw_args--;\n",
              "        else goto __pyx_L5_argtuple_error;\n",
              "        CYTHON_FALLTHROUGH;\n",
              "        case  1:\n",
              "        if (likely((values[1] = <span class='pyx_c_api'>__Pyx_PyDict_GetItemStr</span>(__pyx_kwds, __pyx_n_s_z)) != 0)) kw_args--;\n",
              "        else {\n",
              "          <span class='pyx_c_api'>__Pyx_RaiseArgtupleInvalid</span>(\"cdf_integrand_cython\", 1, 3, 3, 1); <span class='error_goto'>__PYX_ERR(0, 15, __pyx_L3_error)</span>\n",
              "        }\n",
              "        CYTHON_FALLTHROUGH;\n",
              "        case  2:\n",
              "        if (likely((values[2] = <span class='pyx_c_api'>__Pyx_PyDict_GetItemStr</span>(__pyx_kwds, __pyx_n_s_args)) != 0)) kw_args--;\n",
              "        else {\n",
              "          <span class='pyx_c_api'>__Pyx_RaiseArgtupleInvalid</span>(\"cdf_integrand_cython\", 1, 3, 3, 2); <span class='error_goto'>__PYX_ERR(0, 15, __pyx_L3_error)</span>\n",
              "        }\n",
              "      }\n",
              "      if (unlikely(kw_args &gt; 0)) {\n",
              "        if (unlikely(<span class='pyx_c_api'>__Pyx_ParseOptionalKeywords</span>(__pyx_kwds, __pyx_pyargnames, 0, values, pos_args, \"cdf_integrand_cython\") &lt; 0)) <span class='error_goto'>__PYX_ERR(0, 15, __pyx_L3_error)</span>\n",
              "      }\n",
              "    } else if (<span class='py_macro_api'>PyTuple_GET_SIZE</span>(__pyx_args) != 3) {\n",
              "      goto __pyx_L5_argtuple_error;\n",
              "    } else {\n",
              "      values[0] = <span class='py_macro_api'>PyTuple_GET_ITEM</span>(__pyx_args, 0);\n",
              "      values[1] = <span class='py_macro_api'>PyTuple_GET_ITEM</span>(__pyx_args, 1);\n",
              "      values[2] = <span class='py_macro_api'>PyTuple_GET_ITEM</span>(__pyx_args, 2);\n",
              "    }\n",
              "    __pyx_v_s = values[0];\n",
              "    __pyx_v_z = values[1];\n",
              "    __pyx_v_args = values[2];\n",
              "  }\n",
              "  goto __pyx_L4_argument_unpacking_done;\n",
              "  __pyx_L5_argtuple_error:;\n",
              "  <span class='pyx_c_api'>__Pyx_RaiseArgtupleInvalid</span>(\"cdf_integrand_cython\", 1, 3, 3, <span class='py_macro_api'>PyTuple_GET_SIZE</span>(__pyx_args)); <span class='error_goto'>__PYX_ERR(0, 15, __pyx_L3_error)</span>\n",
              "  __pyx_L3_error:;\n",
              "  <span class='pyx_c_api'>__Pyx_AddTraceback</span>(\"_cython_magic_a93589204fdd759fa363b86415b16dc5.cdf_integrand_cython\", __pyx_clineno, __pyx_lineno, __pyx_filename);\n",
              "  <span class='refnanny'>__Pyx_RefNannyFinishContext</span>();\n",
              "  return NULL;\n",
              "  __pyx_L4_argument_unpacking_done:;\n",
              "  __pyx_r = __pyx_pf_46_cython_magic_a93589204fdd759fa363b86415b16dc5_4cdf_integrand_cython(__pyx_self, __pyx_v_s, __pyx_v_z, __pyx_v_args);\n",
              "  int __pyx_lineno = 0;\n",
              "  const char *__pyx_filename = NULL;\n",
              "  int __pyx_clineno = 0;\n",
              "\n",
              "  /* function exit code */\n",
              "  <span class='refnanny'>__Pyx_RefNannyFinishContext</span>();\n",
              "  return __pyx_r;\n",
              "}\n",
              "/* … */\n",
              "static PyObject *__pyx_pf_46_cython_magic_a93589204fdd759fa363b86415b16dc5_4cdf_integrand_cython(CYTHON_UNUSED PyObject *__pyx_self, PyObject *__pyx_v_s, PyObject *__pyx_v_z, PyObject *__pyx_v_args) {\n",
              "  struct __pyx_obj_46_cython_magic_a93589204fdd759fa363b86415b16dc5___pyx_scope_struct__cdf_integrand_cython *__pyx_cur_scope;\n",
              "  PyObject *__pyx_v_whole = 0;\n",
              "  PyObject *__pyx_r = NULL;\n",
              "  <span class='refnanny'>__Pyx_RefNannyDeclarations</span>\n",
              "  <span class='refnanny'>__Pyx_RefNannySetupContext</span>(\"cdf_integrand_cython\", 0);\n",
              "  __pyx_cur_scope = (struct __pyx_obj_46_cython_magic_a93589204fdd759fa363b86415b16dc5___pyx_scope_struct__cdf_integrand_cython *)__pyx_tp_new_46_cython_magic_a93589204fdd759fa363b86415b16dc5___pyx_scope_struct__cdf_integrand_cython(__pyx_ptype_46_cython_magic_a93589204fdd759fa363b86415b16dc5___pyx_scope_struct__cdf_integrand_cython, __pyx_empty_tuple, NULL);\n",
              "  if (unlikely(!__pyx_cur_scope)) {\n",
              "    __pyx_cur_scope = ((struct __pyx_obj_46_cython_magic_a93589204fdd759fa363b86415b16dc5___pyx_scope_struct__cdf_integrand_cython *)Py_None);\n",
              "    <span class='pyx_macro_api'>__Pyx_INCREF</span>(Py_None);\n",
              "    <span class='error_goto'>__PYX_ERR(0, 15, __pyx_L1_error)</span>\n",
              "  } else {\n",
              "    <span class='refnanny'>__Pyx_GOTREF</span>(__pyx_cur_scope);\n",
              "  }\n",
              "/* … */\n",
              "  /* function exit code */\n",
              "  __pyx_L1_error:;\n",
              "  <span class='pyx_macro_api'>__Pyx_XDECREF</span>(__pyx_t_1);\n",
              "  <span class='pyx_macro_api'>__Pyx_XDECREF</span>(__pyx_t_2);\n",
              "  <span class='pyx_macro_api'>__Pyx_XDECREF</span>(__pyx_t_3);\n",
              "  <span class='pyx_macro_api'>__Pyx_XDECREF</span>(__pyx_t_4);\n",
              "  <span class='pyx_c_api'>__Pyx_AddTraceback</span>(\"_cython_magic_a93589204fdd759fa363b86415b16dc5.cdf_integrand_cython\", __pyx_clineno, __pyx_lineno, __pyx_filename);\n",
              "  __pyx_r = NULL;\n",
              "  __pyx_L0:;\n",
              "  <span class='pyx_macro_api'>__Pyx_XDECREF</span>(__pyx_v_whole);\n",
              "  <span class='pyx_macro_api'>__Pyx_DECREF</span>(((PyObject *)__pyx_cur_scope));\n",
              "  <span class='refnanny'>__Pyx_XGIVEREF</span>(__pyx_r);\n",
              "  <span class='refnanny'>__Pyx_RefNannyFinishContext</span>();\n",
              "  return __pyx_r;\n",
              "}\n",
              "/* … */\n",
              "  __pyx_tuple__11 = <span class='py_c_api'>PyTuple_Pack</span>(12, __pyx_n_s_s, __pyx_n_s_z, __pyx_n_s_args, __pyx_n_s_q, __pyx_n_s_k, __pyx_n_s_nu, __pyx_n_s_inner, __pyx_n_s_inner, __pyx_n_s_outer, __pyx_n_s_outer, __pyx_n_s_whole, __pyx_n_s_whole);<span class='error_goto'> if (unlikely(!__pyx_tuple__11)) __PYX_ERR(0, 15, __pyx_L1_error)</span>\n",
              "  <span class='refnanny'>__Pyx_GOTREF</span>(__pyx_tuple__11);\n",
              "  <span class='refnanny'>__Pyx_GIVEREF</span>(__pyx_tuple__11);\n",
              "/* … */\n",
              "  __pyx_t_2 = PyCFunction_NewEx(&amp;__pyx_mdef_46_cython_magic_a93589204fdd759fa363b86415b16dc5_5cdf_integrand_cython, NULL, __pyx_n_s_cython_magic_a93589204fdd759fa3);<span class='error_goto'> if (unlikely(!__pyx_t_2)) __PYX_ERR(0, 15, __pyx_L1_error)</span>\n",
              "  <span class='refnanny'>__Pyx_GOTREF</span>(__pyx_t_2);\n",
              "  if (<span class='py_c_api'>PyDict_SetItem</span>(__pyx_d, __pyx_n_s_cdf_integrand_cython, __pyx_t_2) &lt; 0) <span class='error_goto'>__PYX_ERR(0, 15, __pyx_L1_error)</span>\n",
              "  <span class='pyx_macro_api'>__Pyx_DECREF</span>(__pyx_t_2); __pyx_t_2 = 0;\n",
              "</pre><pre class=\"cython line score-46\" onclick=\"(function(s){s.display=s.display==='block'?'none':'block'})(this.nextElementSibling.style)\">+<span class=\"\">16</span>:   <span class=\"n\">q</span><span class=\"p\">,</span> <span class=\"n\">k</span><span class=\"p\">,</span> <span class=\"n\">nu</span> <span class=\"o\">=</span> <span class=\"n\">args</span></pre>\n",
              "<pre class='cython code score-46 '>  if ((likely(<span class='py_c_api'>PyTuple_CheckExact</span>(__pyx_v_args))) || (<span class='py_c_api'>PyList_CheckExact</span>(__pyx_v_args))) {\n",
              "    PyObject* sequence = __pyx_v_args;\n",
              "    Py_ssize_t size = <span class='pyx_c_api'>__Pyx_PySequence_SIZE</span>(sequence);\n",
              "    if (unlikely(size != 3)) {\n",
              "      if (size &gt; 3) <span class='pyx_c_api'>__Pyx_RaiseTooManyValuesError</span>(3);\n",
              "      else if (size &gt;= 0) <span class='pyx_c_api'>__Pyx_RaiseNeedMoreValuesError</span>(size);\n",
              "      <span class='error_goto'>__PYX_ERR(0, 16, __pyx_L1_error)</span>\n",
              "    }\n",
              "    #if CYTHON_ASSUME_SAFE_MACROS &amp;&amp; !CYTHON_AVOID_BORROWED_REFS\n",
              "    if (likely(<span class='py_c_api'>PyTuple_CheckExact</span>(sequence))) {\n",
              "      __pyx_t_1 = <span class='py_macro_api'>PyTuple_GET_ITEM</span>(sequence, 0); \n",
              "      __pyx_t_2 = <span class='py_macro_api'>PyTuple_GET_ITEM</span>(sequence, 1); \n",
              "      __pyx_t_3 = <span class='py_macro_api'>PyTuple_GET_ITEM</span>(sequence, 2); \n",
              "    } else {\n",
              "      __pyx_t_1 = <span class='py_macro_api'>PyList_GET_ITEM</span>(sequence, 0); \n",
              "      __pyx_t_2 = <span class='py_macro_api'>PyList_GET_ITEM</span>(sequence, 1); \n",
              "      __pyx_t_3 = <span class='py_macro_api'>PyList_GET_ITEM</span>(sequence, 2); \n",
              "    }\n",
              "    <span class='pyx_macro_api'>__Pyx_INCREF</span>(__pyx_t_1);\n",
              "    <span class='pyx_macro_api'>__Pyx_INCREF</span>(__pyx_t_2);\n",
              "    <span class='pyx_macro_api'>__Pyx_INCREF</span>(__pyx_t_3);\n",
              "    #else\n",
              "    __pyx_t_1 = <span class='py_macro_api'>PySequence_ITEM</span>(sequence, 0);<span class='error_goto'> if (unlikely(!__pyx_t_1)) __PYX_ERR(0, 16, __pyx_L1_error)</span>\n",
              "    <span class='refnanny'>__Pyx_GOTREF</span>(__pyx_t_1);\n",
              "    __pyx_t_2 = <span class='py_macro_api'>PySequence_ITEM</span>(sequence, 1);<span class='error_goto'> if (unlikely(!__pyx_t_2)) __PYX_ERR(0, 16, __pyx_L1_error)</span>\n",
              "    <span class='refnanny'>__Pyx_GOTREF</span>(__pyx_t_2);\n",
              "    __pyx_t_3 = <span class='py_macro_api'>PySequence_ITEM</span>(sequence, 2);<span class='error_goto'> if (unlikely(!__pyx_t_3)) __PYX_ERR(0, 16, __pyx_L1_error)</span>\n",
              "    <span class='refnanny'>__Pyx_GOTREF</span>(__pyx_t_3);\n",
              "    #endif\n",
              "  } else {\n",
              "    Py_ssize_t index = -1;\n",
              "    __pyx_t_4 = <span class='py_c_api'>PyObject_GetIter</span>(__pyx_v_args);<span class='error_goto'> if (unlikely(!__pyx_t_4)) __PYX_ERR(0, 16, __pyx_L1_error)</span>\n",
              "    <span class='refnanny'>__Pyx_GOTREF</span>(__pyx_t_4);\n",
              "    __pyx_t_5 = Py_TYPE(__pyx_t_4)-&gt;tp_iternext;\n",
              "    index = 0; __pyx_t_1 = __pyx_t_5(__pyx_t_4); if (unlikely(!__pyx_t_1)) goto __pyx_L3_unpacking_failed;\n",
              "    <span class='refnanny'>__Pyx_GOTREF</span>(__pyx_t_1);\n",
              "    index = 1; __pyx_t_2 = __pyx_t_5(__pyx_t_4); if (unlikely(!__pyx_t_2)) goto __pyx_L3_unpacking_failed;\n",
              "    <span class='refnanny'>__Pyx_GOTREF</span>(__pyx_t_2);\n",
              "    index = 2; __pyx_t_3 = __pyx_t_5(__pyx_t_4); if (unlikely(!__pyx_t_3)) goto __pyx_L3_unpacking_failed;\n",
              "    <span class='refnanny'>__Pyx_GOTREF</span>(__pyx_t_3);\n",
              "    if (<span class='pyx_c_api'>__Pyx_IternextUnpackEndCheck</span>(__pyx_t_5(__pyx_t_4), 3) &lt; 0) <span class='error_goto'>__PYX_ERR(0, 16, __pyx_L1_error)</span>\n",
              "    __pyx_t_5 = NULL;\n",
              "    <span class='pyx_macro_api'>__Pyx_DECREF</span>(__pyx_t_4); __pyx_t_4 = 0;\n",
              "    goto __pyx_L4_unpacking_done;\n",
              "    __pyx_L3_unpacking_failed:;\n",
              "    <span class='pyx_macro_api'>__Pyx_DECREF</span>(__pyx_t_4); __pyx_t_4 = 0;\n",
              "    __pyx_t_5 = NULL;\n",
              "    if (<span class='pyx_c_api'>__Pyx_IterFinish</span>() == 0) <span class='pyx_c_api'>__Pyx_RaiseNeedMoreValuesError</span>(index);\n",
              "    <span class='error_goto'>__PYX_ERR(0, 16, __pyx_L1_error)</span>\n",
              "    __pyx_L4_unpacking_done:;\n",
              "  }\n",
              "  <span class='refnanny'>__Pyx_GIVEREF</span>(__pyx_t_1);\n",
              "  __pyx_cur_scope-&gt;__pyx_v_q = __pyx_t_1;\n",
              "  __pyx_t_1 = 0;\n",
              "  <span class='refnanny'>__Pyx_GIVEREF</span>(__pyx_t_2);\n",
              "  __pyx_cur_scope-&gt;__pyx_v_k = __pyx_t_2;\n",
              "  __pyx_t_2 = 0;\n",
              "  <span class='refnanny'>__Pyx_GIVEREF</span>(__pyx_t_3);\n",
              "  __pyx_cur_scope-&gt;__pyx_v_nu = __pyx_t_3;\n",
              "  __pyx_t_3 = 0;\n",
              "</pre><pre class=\"cython line score-42\" onclick=\"(function(s){s.display=s.display==='block'?'none':'block'})(this.nextElementSibling.style)\">+<span class=\"\">17</span>:   <span class=\"k\">def</span> <span class=\"nf\">inner</span><span class=\"p\">(</span><span class=\"n\">s</span><span class=\"p\">,</span> <span class=\"n\">z</span><span class=\"p\">):</span></pre>\n",
              "<pre class='cython code score-42 '>/* Python wrapper */\n",
              "static PyObject *__pyx_pw_46_cython_magic_a93589204fdd759fa363b86415b16dc5_20cdf_integrand_cython_1inner(PyObject *__pyx_self, PyObject *__pyx_args, PyObject *__pyx_kwds); /*proto*/\n",
              "static PyMethodDef __pyx_mdef_46_cython_magic_a93589204fdd759fa363b86415b16dc5_20cdf_integrand_cython_1inner = {\"inner\", (PyCFunction)(void*)(PyCFunctionWithKeywords)__pyx_pw_46_cython_magic_a93589204fdd759fa363b86415b16dc5_20cdf_integrand_cython_1inner, METH_VARARGS|METH_KEYWORDS, 0};\n",
              "static PyObject *__pyx_pw_46_cython_magic_a93589204fdd759fa363b86415b16dc5_20cdf_integrand_cython_1inner(PyObject *__pyx_self, PyObject *__pyx_args, PyObject *__pyx_kwds) {\n",
              "  PyObject *__pyx_v_s = 0;\n",
              "  PyObject *__pyx_v_z = 0;\n",
              "  PyObject *__pyx_r = 0;\n",
              "  <span class='refnanny'>__Pyx_RefNannyDeclarations</span>\n",
              "  <span class='refnanny'>__Pyx_RefNannySetupContext</span>(\"inner (wrapper)\", 0);\n",
              "  {\n",
              "    static PyObject **__pyx_pyargnames[] = {&amp;__pyx_n_s_s,&amp;__pyx_n_s_z,0};\n",
              "    PyObject* values[2] = {0,0};\n",
              "    if (unlikely(__pyx_kwds)) {\n",
              "      Py_ssize_t kw_args;\n",
              "      const Py_ssize_t pos_args = <span class='py_macro_api'>PyTuple_GET_SIZE</span>(__pyx_args);\n",
              "      switch (pos_args) {\n",
              "        case  2: values[1] = <span class='py_macro_api'>PyTuple_GET_ITEM</span>(__pyx_args, 1);\n",
              "        CYTHON_FALLTHROUGH;\n",
              "        case  1: values[0] = <span class='py_macro_api'>PyTuple_GET_ITEM</span>(__pyx_args, 0);\n",
              "        CYTHON_FALLTHROUGH;\n",
              "        case  0: break;\n",
              "        default: goto __pyx_L5_argtuple_error;\n",
              "      }\n",
              "      kw_args = <span class='py_c_api'>PyDict_Size</span>(__pyx_kwds);\n",
              "      switch (pos_args) {\n",
              "        case  0:\n",
              "        if (likely((values[0] = <span class='pyx_c_api'>__Pyx_PyDict_GetItemStr</span>(__pyx_kwds, __pyx_n_s_s)) != 0)) kw_args--;\n",
              "        else goto __pyx_L5_argtuple_error;\n",
              "        CYTHON_FALLTHROUGH;\n",
              "        case  1:\n",
              "        if (likely((values[1] = <span class='pyx_c_api'>__Pyx_PyDict_GetItemStr</span>(__pyx_kwds, __pyx_n_s_z)) != 0)) kw_args--;\n",
              "        else {\n",
              "          <span class='pyx_c_api'>__Pyx_RaiseArgtupleInvalid</span>(\"inner\", 1, 2, 2, 1); <span class='error_goto'>__PYX_ERR(0, 17, __pyx_L3_error)</span>\n",
              "        }\n",
              "      }\n",
              "      if (unlikely(kw_args &gt; 0)) {\n",
              "        if (unlikely(<span class='pyx_c_api'>__Pyx_ParseOptionalKeywords</span>(__pyx_kwds, __pyx_pyargnames, 0, values, pos_args, \"inner\") &lt; 0)) <span class='error_goto'>__PYX_ERR(0, 17, __pyx_L3_error)</span>\n",
              "      }\n",
              "    } else if (<span class='py_macro_api'>PyTuple_GET_SIZE</span>(__pyx_args) != 2) {\n",
              "      goto __pyx_L5_argtuple_error;\n",
              "    } else {\n",
              "      values[0] = <span class='py_macro_api'>PyTuple_GET_ITEM</span>(__pyx_args, 0);\n",
              "      values[1] = <span class='py_macro_api'>PyTuple_GET_ITEM</span>(__pyx_args, 1);\n",
              "    }\n",
              "    __pyx_v_s = values[0];\n",
              "    __pyx_v_z = values[1];\n",
              "  }\n",
              "  goto __pyx_L4_argument_unpacking_done;\n",
              "  __pyx_L5_argtuple_error:;\n",
              "  <span class='pyx_c_api'>__Pyx_RaiseArgtupleInvalid</span>(\"inner\", 1, 2, 2, <span class='py_macro_api'>PyTuple_GET_SIZE</span>(__pyx_args)); <span class='error_goto'>__PYX_ERR(0, 17, __pyx_L3_error)</span>\n",
              "  __pyx_L3_error:;\n",
              "  <span class='pyx_c_api'>__Pyx_AddTraceback</span>(\"_cython_magic_a93589204fdd759fa363b86415b16dc5.cdf_integrand_cython.inner\", __pyx_clineno, __pyx_lineno, __pyx_filename);\n",
              "  <span class='refnanny'>__Pyx_RefNannyFinishContext</span>();\n",
              "  return NULL;\n",
              "  __pyx_L4_argument_unpacking_done:;\n",
              "  __pyx_r = __pyx_pf_46_cython_magic_a93589204fdd759fa363b86415b16dc5_20cdf_integrand_cython_inner(__pyx_self, __pyx_v_s, __pyx_v_z);\n",
              "  int __pyx_lineno = 0;\n",
              "  const char *__pyx_filename = NULL;\n",
              "  int __pyx_clineno = 0;\n",
              "\n",
              "  /* function exit code */\n",
              "  <span class='refnanny'>__Pyx_RefNannyFinishContext</span>();\n",
              "  return __pyx_r;\n",
              "}\n",
              "\n",
              "static PyObject *__pyx_pf_46_cython_magic_a93589204fdd759fa363b86415b16dc5_20cdf_integrand_cython_inner(PyObject *__pyx_self, PyObject *__pyx_v_s, PyObject *__pyx_v_z) {\n",
              "  struct __pyx_obj_46_cython_magic_a93589204fdd759fa363b86415b16dc5___pyx_scope_struct__cdf_integrand_cython *__pyx_cur_scope;\n",
              "  struct __pyx_obj_46_cython_magic_a93589204fdd759fa363b86415b16dc5___pyx_scope_struct__cdf_integrand_cython *__pyx_outer_scope;\n",
              "  PyObject *__pyx_r = NULL;\n",
              "  <span class='refnanny'>__Pyx_RefNannyDeclarations</span>\n",
              "  <span class='refnanny'>__Pyx_RefNannySetupContext</span>(\"inner\", 0);\n",
              "  __pyx_outer_scope = (struct __pyx_obj_46_cython_magic_a93589204fdd759fa363b86415b16dc5___pyx_scope_struct__cdf_integrand_cython *) <span class='pyx_c_api'>__Pyx_CyFunction_GetClosure</span>(__pyx_self);\n",
              "  __pyx_cur_scope = __pyx_outer_scope;\n",
              "/* … */\n",
              "  /* function exit code */\n",
              "  __pyx_L1_error:;\n",
              "  <span class='pyx_macro_api'>__Pyx_XDECREF</span>(__pyx_t_1);\n",
              "  <span class='pyx_macro_api'>__Pyx_XDECREF</span>(__pyx_t_2);\n",
              "  <span class='pyx_macro_api'>__Pyx_XDECREF</span>(__pyx_t_3);\n",
              "  <span class='pyx_macro_api'>__Pyx_XDECREF</span>(__pyx_t_4);\n",
              "  <span class='pyx_macro_api'>__Pyx_XDECREF</span>(__pyx_t_5);\n",
              "  <span class='pyx_c_api'>__Pyx_AddTraceback</span>(\"_cython_magic_a93589204fdd759fa363b86415b16dc5.cdf_integrand_cython.inner\", __pyx_clineno, __pyx_lineno, __pyx_filename);\n",
              "  __pyx_r = NULL;\n",
              "  __pyx_L0:;\n",
              "  <span class='refnanny'>__Pyx_XGIVEREF</span>(__pyx_r);\n",
              "  <span class='refnanny'>__Pyx_RefNannyFinishContext</span>();\n",
              "  return __pyx_r;\n",
              "}\n",
              "/* … */\n",
              "  __pyx_tuple_ = <span class='py_c_api'>PyTuple_Pack</span>(2, __pyx_n_s_s, __pyx_n_s_z);<span class='error_goto'> if (unlikely(!__pyx_tuple_)) __PYX_ERR(0, 17, __pyx_L1_error)</span>\n",
              "  <span class='refnanny'>__Pyx_GOTREF</span>(__pyx_tuple_);\n",
              "  <span class='refnanny'>__Pyx_GIVEREF</span>(__pyx_tuple_);\n",
              "/* … */\n",
              "  __pyx_t_3 = <span class='pyx_c_api'>__Pyx_CyFunction_New</span>(&amp;__pyx_mdef_46_cython_magic_a93589204fdd759fa363b86415b16dc5_20cdf_integrand_cython_1inner, 0, __pyx_n_s_cdf_integrand_cython_locals_inne, ((PyObject*)__pyx_cur_scope), __pyx_n_s_cython_magic_a93589204fdd759fa3, __pyx_d, ((PyObject *)__pyx_codeobj__2));<span class='error_goto'> if (unlikely(!__pyx_t_3)) __PYX_ERR(0, 17, __pyx_L1_error)</span>\n",
              "  <span class='refnanny'>__Pyx_GOTREF</span>(__pyx_t_3);\n",
              "  <span class='refnanny'>__Pyx_GIVEREF</span>(__pyx_t_3);\n",
              "  __pyx_cur_scope-&gt;__pyx_v_inner = __pyx_t_3;\n",
              "  __pyx_t_3 = 0;\n",
              "  __pyx_codeobj__2 = (PyObject*)<span class='pyx_c_api'>__Pyx_PyCode_New</span>(2, 0, 2, 0, CO_OPTIMIZED|CO_NEWLOCALS, __pyx_empty_bytes, __pyx_empty_tuple, __pyx_empty_tuple, __pyx_tuple_, __pyx_empty_tuple, __pyx_empty_tuple, __pyx_kp_s_root_cache_ipython_cython__cyth, __pyx_n_s_inner, 17, __pyx_empty_bytes);<span class='error_goto'> if (unlikely(!__pyx_codeobj__2)) __PYX_ERR(0, 17, __pyx_L1_error)</span>\n",
              "</pre><pre class=\"cython line score-88\" onclick=\"(function(s){s.display=s.display==='block'?'none':'block'})(this.nextElementSibling.style)\">+<span class=\"\">18</span>:     <span class=\"k\">return</span> <span class=\"n\">phi</span><span class=\"p\">(</span><span class=\"n\">z</span><span class=\"p\">)</span> <span class=\"o\">*</span> <span class=\"p\">(</span><span class=\"n\">Phi</span><span class=\"p\">(</span><span class=\"n\">z</span> <span class=\"o\">+</span> <span class=\"n\">q</span> <span class=\"o\">*</span> <span class=\"n\">s</span><span class=\"p\">)</span> <span class=\"o\">-</span> <span class=\"n\">Phi</span><span class=\"p\">(</span><span class=\"n\">z</span><span class=\"p\">))</span><span class=\"o\">**</span><span class=\"p\">(</span><span class=\"n\">k</span> <span class=\"o\">-</span> <span class=\"mf\">1</span><span class=\"p\">)</span></pre>\n",
              "<pre class='cython code score-88 '>  <span class='pyx_macro_api'>__Pyx_XDECREF</span>(__pyx_r);\n",
              "  <span class='pyx_c_api'>__Pyx_GetModuleGlobalName</span>(__pyx_t_2, __pyx_n_s_phi);<span class='error_goto'> if (unlikely(!__pyx_t_2)) __PYX_ERR(0, 18, __pyx_L1_error)</span>\n",
              "  <span class='refnanny'>__Pyx_GOTREF</span>(__pyx_t_2);\n",
              "  __pyx_t_3 = NULL;\n",
              "  if (CYTHON_UNPACK_METHODS &amp;&amp; unlikely(<span class='py_c_api'>PyMethod_Check</span>(__pyx_t_2))) {\n",
              "    __pyx_t_3 = <span class='py_macro_api'>PyMethod_GET_SELF</span>(__pyx_t_2);\n",
              "    if (likely(__pyx_t_3)) {\n",
              "      PyObject* function = <span class='py_macro_api'>PyMethod_GET_FUNCTION</span>(__pyx_t_2);\n",
              "      <span class='pyx_macro_api'>__Pyx_INCREF</span>(__pyx_t_3);\n",
              "      <span class='pyx_macro_api'>__Pyx_INCREF</span>(function);\n",
              "      <span class='pyx_macro_api'>__Pyx_DECREF_SET</span>(__pyx_t_2, function);\n",
              "    }\n",
              "  }\n",
              "  __pyx_t_1 = (__pyx_t_3) ? __Pyx_PyObject_Call2Args(__pyx_t_2, __pyx_t_3, __pyx_v_z) : <span class='pyx_c_api'>__Pyx_PyObject_CallOneArg</span>(__pyx_t_2, __pyx_v_z);\n",
              "  <span class='pyx_macro_api'>__Pyx_XDECREF</span>(__pyx_t_3); __pyx_t_3 = 0;\n",
              "  if (unlikely(!__pyx_t_1)) <span class='error_goto'>__PYX_ERR(0, 18, __pyx_L1_error)</span>\n",
              "  <span class='refnanny'>__Pyx_GOTREF</span>(__pyx_t_1);\n",
              "  <span class='pyx_macro_api'>__Pyx_DECREF</span>(__pyx_t_2); __pyx_t_2 = 0;\n",
              "  <span class='pyx_c_api'>__Pyx_GetModuleGlobalName</span>(__pyx_t_3, __pyx_n_s_Phi);<span class='error_goto'> if (unlikely(!__pyx_t_3)) __PYX_ERR(0, 18, __pyx_L1_error)</span>\n",
              "  <span class='refnanny'>__Pyx_GOTREF</span>(__pyx_t_3);\n",
              "  if (unlikely(!__pyx_cur_scope-&gt;__pyx_v_q)) { <span class='pyx_c_api'>__Pyx_RaiseClosureNameError</span>(\"q\"); <span class='error_goto'>__PYX_ERR(0, 18, __pyx_L1_error)</span> }\n",
              "  __pyx_t_4 = <span class='py_c_api'>PyNumber_Multiply</span>(__pyx_cur_scope-&gt;__pyx_v_q, __pyx_v_s);<span class='error_goto'> if (unlikely(!__pyx_t_4)) __PYX_ERR(0, 18, __pyx_L1_error)</span>\n",
              "  <span class='refnanny'>__Pyx_GOTREF</span>(__pyx_t_4);\n",
              "  __pyx_t_5 = <span class='py_c_api'>PyNumber_Add</span>(__pyx_v_z, __pyx_t_4);<span class='error_goto'> if (unlikely(!__pyx_t_5)) __PYX_ERR(0, 18, __pyx_L1_error)</span>\n",
              "  <span class='refnanny'>__Pyx_GOTREF</span>(__pyx_t_5);\n",
              "  <span class='pyx_macro_api'>__Pyx_DECREF</span>(__pyx_t_4); __pyx_t_4 = 0;\n",
              "  __pyx_t_4 = NULL;\n",
              "  if (CYTHON_UNPACK_METHODS &amp;&amp; unlikely(<span class='py_c_api'>PyMethod_Check</span>(__pyx_t_3))) {\n",
              "    __pyx_t_4 = <span class='py_macro_api'>PyMethod_GET_SELF</span>(__pyx_t_3);\n",
              "    if (likely(__pyx_t_4)) {\n",
              "      PyObject* function = <span class='py_macro_api'>PyMethod_GET_FUNCTION</span>(__pyx_t_3);\n",
              "      <span class='pyx_macro_api'>__Pyx_INCREF</span>(__pyx_t_4);\n",
              "      <span class='pyx_macro_api'>__Pyx_INCREF</span>(function);\n",
              "      <span class='pyx_macro_api'>__Pyx_DECREF_SET</span>(__pyx_t_3, function);\n",
              "    }\n",
              "  }\n",
              "  __pyx_t_2 = (__pyx_t_4) ? __Pyx_PyObject_Call2Args(__pyx_t_3, __pyx_t_4, __pyx_t_5) : <span class='pyx_c_api'>__Pyx_PyObject_CallOneArg</span>(__pyx_t_3, __pyx_t_5);\n",
              "  <span class='pyx_macro_api'>__Pyx_XDECREF</span>(__pyx_t_4); __pyx_t_4 = 0;\n",
              "  <span class='pyx_macro_api'>__Pyx_DECREF</span>(__pyx_t_5); __pyx_t_5 = 0;\n",
              "  if (unlikely(!__pyx_t_2)) <span class='error_goto'>__PYX_ERR(0, 18, __pyx_L1_error)</span>\n",
              "  <span class='refnanny'>__Pyx_GOTREF</span>(__pyx_t_2);\n",
              "  <span class='pyx_macro_api'>__Pyx_DECREF</span>(__pyx_t_3); __pyx_t_3 = 0;\n",
              "  <span class='pyx_c_api'>__Pyx_GetModuleGlobalName</span>(__pyx_t_5, __pyx_n_s_Phi);<span class='error_goto'> if (unlikely(!__pyx_t_5)) __PYX_ERR(0, 18, __pyx_L1_error)</span>\n",
              "  <span class='refnanny'>__Pyx_GOTREF</span>(__pyx_t_5);\n",
              "  __pyx_t_4 = NULL;\n",
              "  if (CYTHON_UNPACK_METHODS &amp;&amp; unlikely(<span class='py_c_api'>PyMethod_Check</span>(__pyx_t_5))) {\n",
              "    __pyx_t_4 = <span class='py_macro_api'>PyMethod_GET_SELF</span>(__pyx_t_5);\n",
              "    if (likely(__pyx_t_4)) {\n",
              "      PyObject* function = <span class='py_macro_api'>PyMethod_GET_FUNCTION</span>(__pyx_t_5);\n",
              "      <span class='pyx_macro_api'>__Pyx_INCREF</span>(__pyx_t_4);\n",
              "      <span class='pyx_macro_api'>__Pyx_INCREF</span>(function);\n",
              "      <span class='pyx_macro_api'>__Pyx_DECREF_SET</span>(__pyx_t_5, function);\n",
              "    }\n",
              "  }\n",
              "  __pyx_t_3 = (__pyx_t_4) ? __Pyx_PyObject_Call2Args(__pyx_t_5, __pyx_t_4, __pyx_v_z) : <span class='pyx_c_api'>__Pyx_PyObject_CallOneArg</span>(__pyx_t_5, __pyx_v_z);\n",
              "  <span class='pyx_macro_api'>__Pyx_XDECREF</span>(__pyx_t_4); __pyx_t_4 = 0;\n",
              "  if (unlikely(!__pyx_t_3)) <span class='error_goto'>__PYX_ERR(0, 18, __pyx_L1_error)</span>\n",
              "  <span class='refnanny'>__Pyx_GOTREF</span>(__pyx_t_3);\n",
              "  <span class='pyx_macro_api'>__Pyx_DECREF</span>(__pyx_t_5); __pyx_t_5 = 0;\n",
              "  __pyx_t_5 = <span class='py_c_api'>PyNumber_Subtract</span>(__pyx_t_2, __pyx_t_3);<span class='error_goto'> if (unlikely(!__pyx_t_5)) __PYX_ERR(0, 18, __pyx_L1_error)</span>\n",
              "  <span class='refnanny'>__Pyx_GOTREF</span>(__pyx_t_5);\n",
              "  <span class='pyx_macro_api'>__Pyx_DECREF</span>(__pyx_t_2); __pyx_t_2 = 0;\n",
              "  <span class='pyx_macro_api'>__Pyx_DECREF</span>(__pyx_t_3); __pyx_t_3 = 0;\n",
              "  if (unlikely(!__pyx_cur_scope-&gt;__pyx_v_k)) { <span class='pyx_c_api'>__Pyx_RaiseClosureNameError</span>(\"k\"); <span class='error_goto'>__PYX_ERR(0, 18, __pyx_L1_error)</span> }\n",
              "  __pyx_t_3 = <span class='pyx_c_api'>__Pyx_PyInt_SubtractObjC</span>(__pyx_cur_scope-&gt;__pyx_v_k, __pyx_int_1, 1, 0, 0);<span class='error_goto'> if (unlikely(!__pyx_t_3)) __PYX_ERR(0, 18, __pyx_L1_error)</span>\n",
              "  <span class='refnanny'>__Pyx_GOTREF</span>(__pyx_t_3);\n",
              "  __pyx_t_2 = <span class='py_c_api'>PyNumber_Power</span>(__pyx_t_5, __pyx_t_3, Py_None);<span class='error_goto'> if (unlikely(!__pyx_t_2)) __PYX_ERR(0, 18, __pyx_L1_error)</span>\n",
              "  <span class='refnanny'>__Pyx_GOTREF</span>(__pyx_t_2);\n",
              "  <span class='pyx_macro_api'>__Pyx_DECREF</span>(__pyx_t_5); __pyx_t_5 = 0;\n",
              "  <span class='pyx_macro_api'>__Pyx_DECREF</span>(__pyx_t_3); __pyx_t_3 = 0;\n",
              "  __pyx_t_3 = <span class='py_c_api'>PyNumber_Multiply</span>(__pyx_t_1, __pyx_t_2);<span class='error_goto'> if (unlikely(!__pyx_t_3)) __PYX_ERR(0, 18, __pyx_L1_error)</span>\n",
              "  <span class='refnanny'>__Pyx_GOTREF</span>(__pyx_t_3);\n",
              "  <span class='pyx_macro_api'>__Pyx_DECREF</span>(__pyx_t_1); __pyx_t_1 = 0;\n",
              "  <span class='pyx_macro_api'>__Pyx_DECREF</span>(__pyx_t_2); __pyx_t_2 = 0;\n",
              "  __pyx_r = __pyx_t_3;\n",
              "  __pyx_t_3 = 0;\n",
              "  goto __pyx_L0;\n",
              "</pre><pre class=\"cython line score-0\">&#xA0;<span class=\"\">19</span>: </pre>\n",
              "<pre class=\"cython line score-43\" onclick=\"(function(s){s.display=s.display==='block'?'none':'block'})(this.nextElementSibling.style)\">+<span class=\"\">20</span>:   <span class=\"k\">def</span> <span class=\"nf\">outer</span><span class=\"p\">(</span><span class=\"n\">s</span><span class=\"p\">,</span> <span class=\"n\">z</span><span class=\"p\">):</span></pre>\n",
              "<pre class='cython code score-43 '>/* Python wrapper */\n",
              "static PyObject *__pyx_pw_46_cython_magic_a93589204fdd759fa363b86415b16dc5_20cdf_integrand_cython_3outer(PyObject *__pyx_self, PyObject *__pyx_args, PyObject *__pyx_kwds); /*proto*/\n",
              "static PyMethodDef __pyx_mdef_46_cython_magic_a93589204fdd759fa363b86415b16dc5_20cdf_integrand_cython_3outer = {\"outer\", (PyCFunction)(void*)(PyCFunctionWithKeywords)__pyx_pw_46_cython_magic_a93589204fdd759fa363b86415b16dc5_20cdf_integrand_cython_3outer, METH_VARARGS|METH_KEYWORDS, 0};\n",
              "static PyObject *__pyx_pw_46_cython_magic_a93589204fdd759fa363b86415b16dc5_20cdf_integrand_cython_3outer(PyObject *__pyx_self, PyObject *__pyx_args, PyObject *__pyx_kwds) {\n",
              "  PyObject *__pyx_v_s = 0;\n",
              "  PyObject *__pyx_v_z = 0;\n",
              "  PyObject *__pyx_r = 0;\n",
              "  <span class='refnanny'>__Pyx_RefNannyDeclarations</span>\n",
              "  <span class='refnanny'>__Pyx_RefNannySetupContext</span>(\"outer (wrapper)\", 0);\n",
              "  {\n",
              "    static PyObject **__pyx_pyargnames[] = {&amp;__pyx_n_s_s,&amp;__pyx_n_s_z,0};\n",
              "    PyObject* values[2] = {0,0};\n",
              "    if (unlikely(__pyx_kwds)) {\n",
              "      Py_ssize_t kw_args;\n",
              "      const Py_ssize_t pos_args = <span class='py_macro_api'>PyTuple_GET_SIZE</span>(__pyx_args);\n",
              "      switch (pos_args) {\n",
              "        case  2: values[1] = <span class='py_macro_api'>PyTuple_GET_ITEM</span>(__pyx_args, 1);\n",
              "        CYTHON_FALLTHROUGH;\n",
              "        case  1: values[0] = <span class='py_macro_api'>PyTuple_GET_ITEM</span>(__pyx_args, 0);\n",
              "        CYTHON_FALLTHROUGH;\n",
              "        case  0: break;\n",
              "        default: goto __pyx_L5_argtuple_error;\n",
              "      }\n",
              "      kw_args = <span class='py_c_api'>PyDict_Size</span>(__pyx_kwds);\n",
              "      switch (pos_args) {\n",
              "        case  0:\n",
              "        if (likely((values[0] = <span class='pyx_c_api'>__Pyx_PyDict_GetItemStr</span>(__pyx_kwds, __pyx_n_s_s)) != 0)) kw_args--;\n",
              "        else goto __pyx_L5_argtuple_error;\n",
              "        CYTHON_FALLTHROUGH;\n",
              "        case  1:\n",
              "        if (likely((values[1] = <span class='pyx_c_api'>__Pyx_PyDict_GetItemStr</span>(__pyx_kwds, __pyx_n_s_z)) != 0)) kw_args--;\n",
              "        else {\n",
              "          <span class='pyx_c_api'>__Pyx_RaiseArgtupleInvalid</span>(\"outer\", 1, 2, 2, 1); <span class='error_goto'>__PYX_ERR(0, 20, __pyx_L3_error)</span>\n",
              "        }\n",
              "      }\n",
              "      if (unlikely(kw_args &gt; 0)) {\n",
              "        if (unlikely(<span class='pyx_c_api'>__Pyx_ParseOptionalKeywords</span>(__pyx_kwds, __pyx_pyargnames, 0, values, pos_args, \"outer\") &lt; 0)) <span class='error_goto'>__PYX_ERR(0, 20, __pyx_L3_error)</span>\n",
              "      }\n",
              "    } else if (<span class='py_macro_api'>PyTuple_GET_SIZE</span>(__pyx_args) != 2) {\n",
              "      goto __pyx_L5_argtuple_error;\n",
              "    } else {\n",
              "      values[0] = <span class='py_macro_api'>PyTuple_GET_ITEM</span>(__pyx_args, 0);\n",
              "      values[1] = <span class='py_macro_api'>PyTuple_GET_ITEM</span>(__pyx_args, 1);\n",
              "    }\n",
              "    __pyx_v_s = values[0];\n",
              "    __pyx_v_z = values[1];\n",
              "  }\n",
              "  goto __pyx_L4_argument_unpacking_done;\n",
              "  __pyx_L5_argtuple_error:;\n",
              "  <span class='pyx_c_api'>__Pyx_RaiseArgtupleInvalid</span>(\"outer\", 1, 2, 2, <span class='py_macro_api'>PyTuple_GET_SIZE</span>(__pyx_args)); <span class='error_goto'>__PYX_ERR(0, 20, __pyx_L3_error)</span>\n",
              "  __pyx_L3_error:;\n",
              "  <span class='pyx_c_api'>__Pyx_AddTraceback</span>(\"_cython_magic_a93589204fdd759fa363b86415b16dc5.cdf_integrand_cython.outer\", __pyx_clineno, __pyx_lineno, __pyx_filename);\n",
              "  <span class='refnanny'>__Pyx_RefNannyFinishContext</span>();\n",
              "  return NULL;\n",
              "  __pyx_L4_argument_unpacking_done:;\n",
              "  __pyx_r = __pyx_pf_46_cython_magic_a93589204fdd759fa363b86415b16dc5_20cdf_integrand_cython_2outer(__pyx_self, __pyx_v_s, __pyx_v_z);\n",
              "  int __pyx_lineno = 0;\n",
              "  const char *__pyx_filename = NULL;\n",
              "  int __pyx_clineno = 0;\n",
              "\n",
              "  /* function exit code */\n",
              "  <span class='refnanny'>__Pyx_RefNannyFinishContext</span>();\n",
              "  return __pyx_r;\n",
              "}\n",
              "\n",
              "static PyObject *__pyx_pf_46_cython_magic_a93589204fdd759fa363b86415b16dc5_20cdf_integrand_cython_2outer(PyObject *__pyx_self, PyObject *__pyx_v_s, PyObject *__pyx_v_z) {\n",
              "  struct __pyx_obj_46_cython_magic_a93589204fdd759fa363b86415b16dc5___pyx_scope_struct__cdf_integrand_cython *__pyx_cur_scope;\n",
              "  struct __pyx_obj_46_cython_magic_a93589204fdd759fa363b86415b16dc5___pyx_scope_struct__cdf_integrand_cython *__pyx_outer_scope;\n",
              "  PyObject *__pyx_v_inner_int = NULL;\n",
              "  PyObject *__pyx_r = NULL;\n",
              "  <span class='refnanny'>__Pyx_RefNannyDeclarations</span>\n",
              "  <span class='refnanny'>__Pyx_RefNannySetupContext</span>(\"outer\", 0);\n",
              "  __pyx_outer_scope = (struct __pyx_obj_46_cython_magic_a93589204fdd759fa363b86415b16dc5___pyx_scope_struct__cdf_integrand_cython *) <span class='pyx_c_api'>__Pyx_CyFunction_GetClosure</span>(__pyx_self);\n",
              "  __pyx_cur_scope = __pyx_outer_scope;\n",
              "/* … */\n",
              "  /* function exit code */\n",
              "  __pyx_L1_error:;\n",
              "  <span class='pyx_macro_api'>__Pyx_XDECREF</span>(__pyx_t_1);\n",
              "  <span class='pyx_macro_api'>__Pyx_XDECREF</span>(__pyx_t_2);\n",
              "  <span class='pyx_macro_api'>__Pyx_XDECREF</span>(__pyx_t_3);\n",
              "  <span class='pyx_macro_api'>__Pyx_XDECREF</span>(__pyx_t_4);\n",
              "  <span class='pyx_macro_api'>__Pyx_XDECREF</span>(__pyx_t_5);\n",
              "  <span class='pyx_c_api'>__Pyx_AddTraceback</span>(\"_cython_magic_a93589204fdd759fa363b86415b16dc5.cdf_integrand_cython.outer\", __pyx_clineno, __pyx_lineno, __pyx_filename);\n",
              "  __pyx_r = NULL;\n",
              "  __pyx_L0:;\n",
              "  <span class='pyx_macro_api'>__Pyx_XDECREF</span>(__pyx_v_inner_int);\n",
              "  <span class='refnanny'>__Pyx_XGIVEREF</span>(__pyx_r);\n",
              "  <span class='refnanny'>__Pyx_RefNannyFinishContext</span>();\n",
              "  return __pyx_r;\n",
              "}\n",
              "/* … */\n",
              "  __pyx_tuple__3 = <span class='py_c_api'>PyTuple_Pack</span>(3, __pyx_n_s_s, __pyx_n_s_z, __pyx_n_s_inner_int);<span class='error_goto'> if (unlikely(!__pyx_tuple__3)) __PYX_ERR(0, 20, __pyx_L1_error)</span>\n",
              "  <span class='refnanny'>__Pyx_GOTREF</span>(__pyx_tuple__3);\n",
              "  <span class='refnanny'>__Pyx_GIVEREF</span>(__pyx_tuple__3);\n",
              "/* … */\n",
              "  __pyx_t_3 = <span class='pyx_c_api'>__Pyx_CyFunction_New</span>(&amp;__pyx_mdef_46_cython_magic_a93589204fdd759fa363b86415b16dc5_20cdf_integrand_cython_3outer, 0, __pyx_n_s_cdf_integrand_cython_locals_oute, ((PyObject*)__pyx_cur_scope), __pyx_n_s_cython_magic_a93589204fdd759fa3, __pyx_d, ((PyObject *)__pyx_codeobj__4));<span class='error_goto'> if (unlikely(!__pyx_t_3)) __PYX_ERR(0, 20, __pyx_L1_error)</span>\n",
              "  <span class='refnanny'>__Pyx_GOTREF</span>(__pyx_t_3);\n",
              "  <span class='refnanny'>__Pyx_GIVEREF</span>(__pyx_t_3);\n",
              "  __pyx_cur_scope-&gt;__pyx_v_outer = __pyx_t_3;\n",
              "  __pyx_t_3 = 0;\n",
              "  __pyx_codeobj__4 = (PyObject*)<span class='pyx_c_api'>__Pyx_PyCode_New</span>(2, 0, 3, 0, CO_OPTIMIZED|CO_NEWLOCALS, __pyx_empty_bytes, __pyx_empty_tuple, __pyx_empty_tuple, __pyx_tuple__3, __pyx_empty_tuple, __pyx_empty_tuple, __pyx_kp_s_root_cache_ipython_cython__cyth, __pyx_n_s_outer, 20, __pyx_empty_bytes);<span class='error_goto'> if (unlikely(!__pyx_codeobj__4)) __PYX_ERR(0, 20, __pyx_L1_error)</span>\n",
              "</pre><pre class=\"cython line score-2\" onclick=\"(function(s){s.display=s.display==='block'?'none':'block'})(this.nextElementSibling.style)\">+<span class=\"\">21</span>:     <span class=\"n\">inner_int</span> <span class=\"o\">=</span> <span class=\"n\">inner</span><span class=\"p\">(</span><span class=\"n\">s</span><span class=\"p\">,</span> <span class=\"n\">z</span><span class=\"p\">)</span></pre>\n",
              "<pre class='cython code score-2 '>  if (unlikely(!__pyx_cur_scope-&gt;__pyx_v_inner)) { <span class='pyx_c_api'>__Pyx_RaiseClosureNameError</span>(\"inner\"); <span class='error_goto'>__PYX_ERR(0, 21, __pyx_L1_error)</span> }\n",
              "  __pyx_t_1 = __pyx_pf_46_cython_magic_a93589204fdd759fa363b86415b16dc5_20cdf_integrand_cython_inner(__pyx_cur_scope-&gt;__pyx_v_inner, __pyx_v_s, __pyx_v_z);<span class='error_goto'> if (unlikely(!__pyx_t_1)) __PYX_ERR(0, 21, __pyx_L1_error)</span>\n",
              "  <span class='refnanny'>__Pyx_GOTREF</span>(__pyx_t_1);\n",
              "  __pyx_v_inner_int = __pyx_t_1;\n",
              "  __pyx_t_1 = 0;\n",
              "</pre><pre class=\"cython line score-51\" onclick=\"(function(s){s.display=s.display==='block'?'none':'block'})(this.nextElementSibling.style)\">+<span class=\"\">22</span>:     <span class=\"k\">return</span> <span class=\"n\">s</span><span class=\"o\">**</span><span class=\"p\">(</span><span class=\"n\">nu</span><span class=\"p\">)</span> <span class=\"o\">*</span> <span class=\"n\">phi</span><span class=\"p\">((</span><span class=\"n\">nu</span> <span class=\"o\">**</span> <span class=\"o\">.</span><span class=\"mf\">5</span><span class=\"p\">)</span><span class=\"o\">*</span><span class=\"n\">s</span><span class=\"p\">)</span> <span class=\"o\">*</span> <span class=\"n\">inner_int</span></pre>\n",
              "<pre class='cython code score-51 '>  <span class='pyx_macro_api'>__Pyx_XDECREF</span>(__pyx_r);\n",
              "  if (unlikely(!__pyx_cur_scope-&gt;__pyx_v_nu)) { <span class='pyx_c_api'>__Pyx_RaiseClosureNameError</span>(\"nu\"); <span class='error_goto'>__PYX_ERR(0, 22, __pyx_L1_error)</span> }\n",
              "  __pyx_t_1 = <span class='py_c_api'>PyNumber_Power</span>(__pyx_v_s, __pyx_cur_scope-&gt;__pyx_v_nu, Py_None);<span class='error_goto'> if (unlikely(!__pyx_t_1)) __PYX_ERR(0, 22, __pyx_L1_error)</span>\n",
              "  <span class='refnanny'>__Pyx_GOTREF</span>(__pyx_t_1);\n",
              "  <span class='pyx_c_api'>__Pyx_GetModuleGlobalName</span>(__pyx_t_3, __pyx_n_s_phi);<span class='error_goto'> if (unlikely(!__pyx_t_3)) __PYX_ERR(0, 22, __pyx_L1_error)</span>\n",
              "  <span class='refnanny'>__Pyx_GOTREF</span>(__pyx_t_3);\n",
              "  if (unlikely(!__pyx_cur_scope-&gt;__pyx_v_nu)) { <span class='pyx_c_api'>__Pyx_RaiseClosureNameError</span>(\"nu\"); <span class='error_goto'>__PYX_ERR(0, 22, __pyx_L1_error)</span> }\n",
              "  __pyx_t_4 = <span class='py_c_api'>PyNumber_Power</span>(__pyx_cur_scope-&gt;__pyx_v_nu, __pyx_float__5, Py_None);<span class='error_goto'> if (unlikely(!__pyx_t_4)) __PYX_ERR(0, 22, __pyx_L1_error)</span>\n",
              "  <span class='refnanny'>__Pyx_GOTREF</span>(__pyx_t_4);\n",
              "  __pyx_t_5 = <span class='py_c_api'>PyNumber_Multiply</span>(__pyx_t_4, __pyx_v_s);<span class='error_goto'> if (unlikely(!__pyx_t_5)) __PYX_ERR(0, 22, __pyx_L1_error)</span>\n",
              "  <span class='refnanny'>__Pyx_GOTREF</span>(__pyx_t_5);\n",
              "  <span class='pyx_macro_api'>__Pyx_DECREF</span>(__pyx_t_4); __pyx_t_4 = 0;\n",
              "  __pyx_t_4 = NULL;\n",
              "  if (CYTHON_UNPACK_METHODS &amp;&amp; unlikely(<span class='py_c_api'>PyMethod_Check</span>(__pyx_t_3))) {\n",
              "    __pyx_t_4 = <span class='py_macro_api'>PyMethod_GET_SELF</span>(__pyx_t_3);\n",
              "    if (likely(__pyx_t_4)) {\n",
              "      PyObject* function = <span class='py_macro_api'>PyMethod_GET_FUNCTION</span>(__pyx_t_3);\n",
              "      <span class='pyx_macro_api'>__Pyx_INCREF</span>(__pyx_t_4);\n",
              "      <span class='pyx_macro_api'>__Pyx_INCREF</span>(function);\n",
              "      <span class='pyx_macro_api'>__Pyx_DECREF_SET</span>(__pyx_t_3, function);\n",
              "    }\n",
              "  }\n",
              "  __pyx_t_2 = (__pyx_t_4) ? __Pyx_PyObject_Call2Args(__pyx_t_3, __pyx_t_4, __pyx_t_5) : <span class='pyx_c_api'>__Pyx_PyObject_CallOneArg</span>(__pyx_t_3, __pyx_t_5);\n",
              "  <span class='pyx_macro_api'>__Pyx_XDECREF</span>(__pyx_t_4); __pyx_t_4 = 0;\n",
              "  <span class='pyx_macro_api'>__Pyx_DECREF</span>(__pyx_t_5); __pyx_t_5 = 0;\n",
              "  if (unlikely(!__pyx_t_2)) <span class='error_goto'>__PYX_ERR(0, 22, __pyx_L1_error)</span>\n",
              "  <span class='refnanny'>__Pyx_GOTREF</span>(__pyx_t_2);\n",
              "  <span class='pyx_macro_api'>__Pyx_DECREF</span>(__pyx_t_3); __pyx_t_3 = 0;\n",
              "  __pyx_t_3 = <span class='py_c_api'>PyNumber_Multiply</span>(__pyx_t_1, __pyx_t_2);<span class='error_goto'> if (unlikely(!__pyx_t_3)) __PYX_ERR(0, 22, __pyx_L1_error)</span>\n",
              "  <span class='refnanny'>__Pyx_GOTREF</span>(__pyx_t_3);\n",
              "  <span class='pyx_macro_api'>__Pyx_DECREF</span>(__pyx_t_1); __pyx_t_1 = 0;\n",
              "  <span class='pyx_macro_api'>__Pyx_DECREF</span>(__pyx_t_2); __pyx_t_2 = 0;\n",
              "  __pyx_t_2 = <span class='py_c_api'>PyNumber_Multiply</span>(__pyx_t_3, __pyx_v_inner_int);<span class='error_goto'> if (unlikely(!__pyx_t_2)) __PYX_ERR(0, 22, __pyx_L1_error)</span>\n",
              "  <span class='refnanny'>__Pyx_GOTREF</span>(__pyx_t_2);\n",
              "  <span class='pyx_macro_api'>__Pyx_DECREF</span>(__pyx_t_3); __pyx_t_3 = 0;\n",
              "  __pyx_r = __pyx_t_2;\n",
              "  __pyx_t_2 = 0;\n",
              "  goto __pyx_L0;\n",
              "</pre><pre class=\"cython line score-0\">&#xA0;<span class=\"\">23</span>: </pre>\n",
              "<pre class=\"cython line score-42\" onclick=\"(function(s){s.display=s.display==='block'?'none':'block'})(this.nextElementSibling.style)\">+<span class=\"\">24</span>:   <span class=\"k\">def</span> <span class=\"nf\">whole</span><span class=\"p\">(</span><span class=\"n\">s</span><span class=\"p\">,</span> <span class=\"n\">z</span><span class=\"p\">):</span></pre>\n",
              "<pre class='cython code score-42 '>/* Python wrapper */\n",
              "static PyObject *__pyx_pw_46_cython_magic_a93589204fdd759fa363b86415b16dc5_20cdf_integrand_cython_5whole(PyObject *__pyx_self, PyObject *__pyx_args, PyObject *__pyx_kwds); /*proto*/\n",
              "static PyMethodDef __pyx_mdef_46_cython_magic_a93589204fdd759fa363b86415b16dc5_20cdf_integrand_cython_5whole = {\"whole\", (PyCFunction)(void*)(PyCFunctionWithKeywords)__pyx_pw_46_cython_magic_a93589204fdd759fa363b86415b16dc5_20cdf_integrand_cython_5whole, METH_VARARGS|METH_KEYWORDS, 0};\n",
              "static PyObject *__pyx_pw_46_cython_magic_a93589204fdd759fa363b86415b16dc5_20cdf_integrand_cython_5whole(PyObject *__pyx_self, PyObject *__pyx_args, PyObject *__pyx_kwds) {\n",
              "  PyObject *__pyx_v_s = 0;\n",
              "  PyObject *__pyx_v_z = 0;\n",
              "  PyObject *__pyx_r = 0;\n",
              "  <span class='refnanny'>__Pyx_RefNannyDeclarations</span>\n",
              "  <span class='refnanny'>__Pyx_RefNannySetupContext</span>(\"whole (wrapper)\", 0);\n",
              "  {\n",
              "    static PyObject **__pyx_pyargnames[] = {&amp;__pyx_n_s_s,&amp;__pyx_n_s_z,0};\n",
              "    PyObject* values[2] = {0,0};\n",
              "    if (unlikely(__pyx_kwds)) {\n",
              "      Py_ssize_t kw_args;\n",
              "      const Py_ssize_t pos_args = <span class='py_macro_api'>PyTuple_GET_SIZE</span>(__pyx_args);\n",
              "      switch (pos_args) {\n",
              "        case  2: values[1] = <span class='py_macro_api'>PyTuple_GET_ITEM</span>(__pyx_args, 1);\n",
              "        CYTHON_FALLTHROUGH;\n",
              "        case  1: values[0] = <span class='py_macro_api'>PyTuple_GET_ITEM</span>(__pyx_args, 0);\n",
              "        CYTHON_FALLTHROUGH;\n",
              "        case  0: break;\n",
              "        default: goto __pyx_L5_argtuple_error;\n",
              "      }\n",
              "      kw_args = <span class='py_c_api'>PyDict_Size</span>(__pyx_kwds);\n",
              "      switch (pos_args) {\n",
              "        case  0:\n",
              "        if (likely((values[0] = <span class='pyx_c_api'>__Pyx_PyDict_GetItemStr</span>(__pyx_kwds, __pyx_n_s_s)) != 0)) kw_args--;\n",
              "        else goto __pyx_L5_argtuple_error;\n",
              "        CYTHON_FALLTHROUGH;\n",
              "        case  1:\n",
              "        if (likely((values[1] = <span class='pyx_c_api'>__Pyx_PyDict_GetItemStr</span>(__pyx_kwds, __pyx_n_s_z)) != 0)) kw_args--;\n",
              "        else {\n",
              "          <span class='pyx_c_api'>__Pyx_RaiseArgtupleInvalid</span>(\"whole\", 1, 2, 2, 1); <span class='error_goto'>__PYX_ERR(0, 24, __pyx_L3_error)</span>\n",
              "        }\n",
              "      }\n",
              "      if (unlikely(kw_args &gt; 0)) {\n",
              "        if (unlikely(<span class='pyx_c_api'>__Pyx_ParseOptionalKeywords</span>(__pyx_kwds, __pyx_pyargnames, 0, values, pos_args, \"whole\") &lt; 0)) <span class='error_goto'>__PYX_ERR(0, 24, __pyx_L3_error)</span>\n",
              "      }\n",
              "    } else if (<span class='py_macro_api'>PyTuple_GET_SIZE</span>(__pyx_args) != 2) {\n",
              "      goto __pyx_L5_argtuple_error;\n",
              "    } else {\n",
              "      values[0] = <span class='py_macro_api'>PyTuple_GET_ITEM</span>(__pyx_args, 0);\n",
              "      values[1] = <span class='py_macro_api'>PyTuple_GET_ITEM</span>(__pyx_args, 1);\n",
              "    }\n",
              "    __pyx_v_s = values[0];\n",
              "    __pyx_v_z = values[1];\n",
              "  }\n",
              "  goto __pyx_L4_argument_unpacking_done;\n",
              "  __pyx_L5_argtuple_error:;\n",
              "  <span class='pyx_c_api'>__Pyx_RaiseArgtupleInvalid</span>(\"whole\", 1, 2, 2, <span class='py_macro_api'>PyTuple_GET_SIZE</span>(__pyx_args)); <span class='error_goto'>__PYX_ERR(0, 24, __pyx_L3_error)</span>\n",
              "  __pyx_L3_error:;\n",
              "  <span class='pyx_c_api'>__Pyx_AddTraceback</span>(\"_cython_magic_a93589204fdd759fa363b86415b16dc5.cdf_integrand_cython.whole\", __pyx_clineno, __pyx_lineno, __pyx_filename);\n",
              "  <span class='refnanny'>__Pyx_RefNannyFinishContext</span>();\n",
              "  return NULL;\n",
              "  __pyx_L4_argument_unpacking_done:;\n",
              "  __pyx_r = __pyx_pf_46_cython_magic_a93589204fdd759fa363b86415b16dc5_20cdf_integrand_cython_4whole(__pyx_self, __pyx_v_s, __pyx_v_z);\n",
              "  int __pyx_lineno = 0;\n",
              "  const char *__pyx_filename = NULL;\n",
              "  int __pyx_clineno = 0;\n",
              "\n",
              "  /* function exit code */\n",
              "  <span class='refnanny'>__Pyx_RefNannyFinishContext</span>();\n",
              "  return __pyx_r;\n",
              "}\n",
              "\n",
              "static PyObject *__pyx_pf_46_cython_magic_a93589204fdd759fa363b86415b16dc5_20cdf_integrand_cython_4whole(PyObject *__pyx_self, PyObject *__pyx_v_s, PyObject *__pyx_v_z) {\n",
              "  struct __pyx_obj_46_cython_magic_a93589204fdd759fa363b86415b16dc5___pyx_scope_struct__cdf_integrand_cython *__pyx_cur_scope;\n",
              "  struct __pyx_obj_46_cython_magic_a93589204fdd759fa363b86415b16dc5___pyx_scope_struct__cdf_integrand_cython *__pyx_outer_scope;\n",
              "  PyObject *__pyx_r = NULL;\n",
              "  <span class='refnanny'>__Pyx_RefNannyDeclarations</span>\n",
              "  <span class='refnanny'>__Pyx_RefNannySetupContext</span>(\"whole\", 0);\n",
              "  __pyx_outer_scope = (struct __pyx_obj_46_cython_magic_a93589204fdd759fa363b86415b16dc5___pyx_scope_struct__cdf_integrand_cython *) <span class='pyx_c_api'>__Pyx_CyFunction_GetClosure</span>(__pyx_self);\n",
              "  __pyx_cur_scope = __pyx_outer_scope;\n",
              "/* … */\n",
              "  /* function exit code */\n",
              "  __pyx_L1_error:;\n",
              "  <span class='pyx_macro_api'>__Pyx_XDECREF</span>(__pyx_t_1);\n",
              "  <span class='pyx_macro_api'>__Pyx_XDECREF</span>(__pyx_t_2);\n",
              "  <span class='pyx_macro_api'>__Pyx_XDECREF</span>(__pyx_t_3);\n",
              "  <span class='pyx_macro_api'>__Pyx_XDECREF</span>(__pyx_t_4);\n",
              "  <span class='pyx_macro_api'>__Pyx_XDECREF</span>(__pyx_t_5);\n",
              "  <span class='pyx_c_api'>__Pyx_AddTraceback</span>(\"_cython_magic_a93589204fdd759fa363b86415b16dc5.cdf_integrand_cython.whole\", __pyx_clineno, __pyx_lineno, __pyx_filename);\n",
              "  __pyx_r = NULL;\n",
              "  __pyx_L0:;\n",
              "  <span class='refnanny'>__Pyx_XGIVEREF</span>(__pyx_r);\n",
              "  <span class='refnanny'>__Pyx_RefNannyFinishContext</span>();\n",
              "  return __pyx_r;\n",
              "}\n",
              "/* … */\n",
              "  __pyx_tuple__5 = <span class='py_c_api'>PyTuple_Pack</span>(2, __pyx_n_s_s, __pyx_n_s_z);<span class='error_goto'> if (unlikely(!__pyx_tuple__5)) __PYX_ERR(0, 24, __pyx_L1_error)</span>\n",
              "  <span class='refnanny'>__Pyx_GOTREF</span>(__pyx_tuple__5);\n",
              "  <span class='refnanny'>__Pyx_GIVEREF</span>(__pyx_tuple__5);\n",
              "/* … */\n",
              "  __pyx_t_3 = <span class='pyx_c_api'>__Pyx_CyFunction_New</span>(&amp;__pyx_mdef_46_cython_magic_a93589204fdd759fa363b86415b16dc5_20cdf_integrand_cython_5whole, 0, __pyx_n_s_cdf_integrand_cython_locals_whol, ((PyObject*)__pyx_cur_scope), __pyx_n_s_cython_magic_a93589204fdd759fa3, __pyx_d, ((PyObject *)__pyx_codeobj__6));<span class='error_goto'> if (unlikely(!__pyx_t_3)) __PYX_ERR(0, 24, __pyx_L1_error)</span>\n",
              "  <span class='refnanny'>__Pyx_GOTREF</span>(__pyx_t_3);\n",
              "  __pyx_v_whole = __pyx_t_3;\n",
              "  __pyx_t_3 = 0;\n",
              "  __pyx_codeobj__6 = (PyObject*)<span class='pyx_c_api'>__Pyx_PyCode_New</span>(2, 0, 2, 0, CO_OPTIMIZED|CO_NEWLOCALS, __pyx_empty_bytes, __pyx_empty_tuple, __pyx_empty_tuple, __pyx_tuple__5, __pyx_empty_tuple, __pyx_empty_tuple, __pyx_kp_s_root_cache_ipython_cython__cyth, __pyx_n_s_whole, 24, __pyx_empty_bytes);<span class='error_goto'> if (unlikely(!__pyx_codeobj__6)) __PYX_ERR(0, 24, __pyx_L1_error)</span>\n",
              "</pre><pre class=\"cython line score-49\" onclick=\"(function(s){s.display=s.display==='block'?'none':'block'})(this.nextElementSibling.style)\">+<span class=\"\">25</span>:     <span class=\"k\">return</span> <span class=\"p\">(((</span><span class=\"mf\">2</span> <span class=\"o\">*</span> <span class=\"n\">np</span><span class=\"o\">.</span><span class=\"n\">pi</span><span class=\"p\">)</span><span class=\"o\">**.</span><span class=\"mf\">5</span><span class=\"p\">)</span> <span class=\"o\">*</span> <span class=\"n\">k</span> <span class=\"o\">*</span> <span class=\"n\">nu</span><span class=\"o\">**</span><span class=\"p\">(</span><span class=\"n\">nu</span> <span class=\"o\">/</span> <span class=\"mf\">2</span><span class=\"p\">)</span> <span class=\"o\">/</span></pre>\n",
              "<pre class='cython code score-49 '>  <span class='pyx_macro_api'>__Pyx_XDECREF</span>(__pyx_r);\n",
              "  <span class='pyx_c_api'>__Pyx_GetModuleGlobalName</span>(__pyx_t_1, __pyx_n_s_np);<span class='error_goto'> if (unlikely(!__pyx_t_1)) __PYX_ERR(0, 25, __pyx_L1_error)</span>\n",
              "  <span class='refnanny'>__Pyx_GOTREF</span>(__pyx_t_1);\n",
              "  __pyx_t_2 = <span class='pyx_c_api'>__Pyx_PyObject_GetAttrStr</span>(__pyx_t_1, __pyx_n_s_pi);<span class='error_goto'> if (unlikely(!__pyx_t_2)) __PYX_ERR(0, 25, __pyx_L1_error)</span>\n",
              "  <span class='refnanny'>__Pyx_GOTREF</span>(__pyx_t_2);\n",
              "  <span class='pyx_macro_api'>__Pyx_DECREF</span>(__pyx_t_1); __pyx_t_1 = 0;\n",
              "  __pyx_t_1 = <span class='py_c_api'>PyNumber_Multiply</span>(__pyx_int_2, __pyx_t_2);<span class='error_goto'> if (unlikely(!__pyx_t_1)) __PYX_ERR(0, 25, __pyx_L1_error)</span>\n",
              "  <span class='refnanny'>__Pyx_GOTREF</span>(__pyx_t_1);\n",
              "  <span class='pyx_macro_api'>__Pyx_DECREF</span>(__pyx_t_2); __pyx_t_2 = 0;\n",
              "  __pyx_t_2 = <span class='py_c_api'>PyNumber_Power</span>(__pyx_t_1, __pyx_float__5, Py_None);<span class='error_goto'> if (unlikely(!__pyx_t_2)) __PYX_ERR(0, 25, __pyx_L1_error)</span>\n",
              "  <span class='refnanny'>__Pyx_GOTREF</span>(__pyx_t_2);\n",
              "  <span class='pyx_macro_api'>__Pyx_DECREF</span>(__pyx_t_1); __pyx_t_1 = 0;\n",
              "  if (unlikely(!__pyx_cur_scope-&gt;__pyx_v_k)) { <span class='pyx_c_api'>__Pyx_RaiseClosureNameError</span>(\"k\"); <span class='error_goto'>__PYX_ERR(0, 25, __pyx_L1_error)</span> }\n",
              "  __pyx_t_1 = <span class='py_c_api'>PyNumber_Multiply</span>(__pyx_t_2, __pyx_cur_scope-&gt;__pyx_v_k);<span class='error_goto'> if (unlikely(!__pyx_t_1)) __PYX_ERR(0, 25, __pyx_L1_error)</span>\n",
              "  <span class='refnanny'>__Pyx_GOTREF</span>(__pyx_t_1);\n",
              "  <span class='pyx_macro_api'>__Pyx_DECREF</span>(__pyx_t_2); __pyx_t_2 = 0;\n",
              "  if (unlikely(!__pyx_cur_scope-&gt;__pyx_v_nu)) { <span class='pyx_c_api'>__Pyx_RaiseClosureNameError</span>(\"nu\"); <span class='error_goto'>__PYX_ERR(0, 25, __pyx_L1_error)</span> }\n",
              "  if (unlikely(!__pyx_cur_scope-&gt;__pyx_v_nu)) { <span class='pyx_c_api'>__Pyx_RaiseClosureNameError</span>(\"nu\"); <span class='error_goto'>__PYX_ERR(0, 25, __pyx_L1_error)</span> }\n",
              "  __pyx_t_2 = <span class='pyx_c_api'>__Pyx_PyInt_TrueDivideObjC</span>(__pyx_cur_scope-&gt;__pyx_v_nu, __pyx_int_2, 2, 0, 0);<span class='error_goto'> if (unlikely(!__pyx_t_2)) __PYX_ERR(0, 25, __pyx_L1_error)</span>\n",
              "  <span class='refnanny'>__Pyx_GOTREF</span>(__pyx_t_2);\n",
              "  __pyx_t_3 = <span class='py_c_api'>PyNumber_Power</span>(__pyx_cur_scope-&gt;__pyx_v_nu, __pyx_t_2, Py_None);<span class='error_goto'> if (unlikely(!__pyx_t_3)) __PYX_ERR(0, 25, __pyx_L1_error)</span>\n",
              "  <span class='refnanny'>__Pyx_GOTREF</span>(__pyx_t_3);\n",
              "  <span class='pyx_macro_api'>__Pyx_DECREF</span>(__pyx_t_2); __pyx_t_2 = 0;\n",
              "  __pyx_t_2 = <span class='py_c_api'>PyNumber_Multiply</span>(__pyx_t_1, __pyx_t_3);<span class='error_goto'> if (unlikely(!__pyx_t_2)) __PYX_ERR(0, 25, __pyx_L1_error)</span>\n",
              "  <span class='refnanny'>__Pyx_GOTREF</span>(__pyx_t_2);\n",
              "  <span class='pyx_macro_api'>__Pyx_DECREF</span>(__pyx_t_1); __pyx_t_1 = 0;\n",
              "  <span class='pyx_macro_api'>__Pyx_DECREF</span>(__pyx_t_3); __pyx_t_3 = 0;\n",
              "/* … */\n",
              "  __pyx_t_1 = <span class='pyx_c_api'>__Pyx_PyNumber_Divide</span>(__pyx_t_2, __pyx_t_4);<span class='error_goto'> if (unlikely(!__pyx_t_1)) __PYX_ERR(0, 25, __pyx_L1_error)</span>\n",
              "  <span class='refnanny'>__Pyx_GOTREF</span>(__pyx_t_1);\n",
              "  <span class='pyx_macro_api'>__Pyx_DECREF</span>(__pyx_t_2); __pyx_t_2 = 0;\n",
              "  <span class='pyx_macro_api'>__Pyx_DECREF</span>(__pyx_t_4); __pyx_t_4 = 0;\n",
              "</pre><pre class=\"cython line score-45\" onclick=\"(function(s){s.display=s.display==='block'?'none':'block'})(this.nextElementSibling.style)\">+<span class=\"\">26</span>:             <span class=\"p\">(</span><span class=\"n\">gamma</span><span class=\"p\">(</span><span class=\"n\">nu</span> <span class=\"o\">/</span> <span class=\"mf\">2</span><span class=\"p\">)</span> <span class=\"o\">*</span> <span class=\"mf\">2</span><span class=\"o\">**</span><span class=\"p\">(</span><span class=\"n\">nu</span> <span class=\"o\">/</span><span class=\"mf\">2</span> <span class=\"o\">-</span> <span class=\"mf\">1</span><span class=\"p\">))</span> <span class=\"o\">*</span> <span class=\"n\">outer</span><span class=\"p\">(</span><span class=\"n\">s</span><span class=\"p\">,</span> <span class=\"n\">z</span><span class=\"p\">))</span></pre>\n",
              "<pre class='cython code score-45 '>  <span class='pyx_c_api'>__Pyx_GetModuleGlobalName</span>(__pyx_t_1, __pyx_n_s_gamma);<span class='error_goto'> if (unlikely(!__pyx_t_1)) __PYX_ERR(0, 26, __pyx_L1_error)</span>\n",
              "  <span class='refnanny'>__Pyx_GOTREF</span>(__pyx_t_1);\n",
              "  if (unlikely(!__pyx_cur_scope-&gt;__pyx_v_nu)) { <span class='pyx_c_api'>__Pyx_RaiseClosureNameError</span>(\"nu\"); <span class='error_goto'>__PYX_ERR(0, 26, __pyx_L1_error)</span> }\n",
              "  __pyx_t_4 = <span class='pyx_c_api'>__Pyx_PyInt_TrueDivideObjC</span>(__pyx_cur_scope-&gt;__pyx_v_nu, __pyx_int_2, 2, 0, 0);<span class='error_goto'> if (unlikely(!__pyx_t_4)) __PYX_ERR(0, 26, __pyx_L1_error)</span>\n",
              "  <span class='refnanny'>__Pyx_GOTREF</span>(__pyx_t_4);\n",
              "  __pyx_t_5 = NULL;\n",
              "  if (CYTHON_UNPACK_METHODS &amp;&amp; unlikely(<span class='py_c_api'>PyMethod_Check</span>(__pyx_t_1))) {\n",
              "    __pyx_t_5 = <span class='py_macro_api'>PyMethod_GET_SELF</span>(__pyx_t_1);\n",
              "    if (likely(__pyx_t_5)) {\n",
              "      PyObject* function = <span class='py_macro_api'>PyMethod_GET_FUNCTION</span>(__pyx_t_1);\n",
              "      <span class='pyx_macro_api'>__Pyx_INCREF</span>(__pyx_t_5);\n",
              "      <span class='pyx_macro_api'>__Pyx_INCREF</span>(function);\n",
              "      <span class='pyx_macro_api'>__Pyx_DECREF_SET</span>(__pyx_t_1, function);\n",
              "    }\n",
              "  }\n",
              "  __pyx_t_3 = (__pyx_t_5) ? __Pyx_PyObject_Call2Args(__pyx_t_1, __pyx_t_5, __pyx_t_4) : <span class='pyx_c_api'>__Pyx_PyObject_CallOneArg</span>(__pyx_t_1, __pyx_t_4);\n",
              "  <span class='pyx_macro_api'>__Pyx_XDECREF</span>(__pyx_t_5); __pyx_t_5 = 0;\n",
              "  <span class='pyx_macro_api'>__Pyx_DECREF</span>(__pyx_t_4); __pyx_t_4 = 0;\n",
              "  if (unlikely(!__pyx_t_3)) <span class='error_goto'>__PYX_ERR(0, 26, __pyx_L1_error)</span>\n",
              "  <span class='refnanny'>__Pyx_GOTREF</span>(__pyx_t_3);\n",
              "  <span class='pyx_macro_api'>__Pyx_DECREF</span>(__pyx_t_1); __pyx_t_1 = 0;\n",
              "  if (unlikely(!__pyx_cur_scope-&gt;__pyx_v_nu)) { <span class='pyx_c_api'>__Pyx_RaiseClosureNameError</span>(\"nu\"); <span class='error_goto'>__PYX_ERR(0, 26, __pyx_L1_error)</span> }\n",
              "  __pyx_t_1 = <span class='pyx_c_api'>__Pyx_PyInt_TrueDivideObjC</span>(__pyx_cur_scope-&gt;__pyx_v_nu, __pyx_int_2, 2, 0, 0);<span class='error_goto'> if (unlikely(!__pyx_t_1)) __PYX_ERR(0, 26, __pyx_L1_error)</span>\n",
              "  <span class='refnanny'>__Pyx_GOTREF</span>(__pyx_t_1);\n",
              "  __pyx_t_4 = <span class='pyx_c_api'>__Pyx_PyInt_SubtractObjC</span>(__pyx_t_1, __pyx_int_1, 1, 0, 0);<span class='error_goto'> if (unlikely(!__pyx_t_4)) __PYX_ERR(0, 26, __pyx_L1_error)</span>\n",
              "  <span class='refnanny'>__Pyx_GOTREF</span>(__pyx_t_4);\n",
              "  <span class='pyx_macro_api'>__Pyx_DECREF</span>(__pyx_t_1); __pyx_t_1 = 0;\n",
              "  __pyx_t_1 = __Pyx_PyNumber_PowerOf2(__pyx_int_2, __pyx_t_4, Py_None);<span class='error_goto'> if (unlikely(!__pyx_t_1)) __PYX_ERR(0, 26, __pyx_L1_error)</span>\n",
              "  <span class='refnanny'>__Pyx_GOTREF</span>(__pyx_t_1);\n",
              "  <span class='pyx_macro_api'>__Pyx_DECREF</span>(__pyx_t_4); __pyx_t_4 = 0;\n",
              "  __pyx_t_4 = <span class='py_c_api'>PyNumber_Multiply</span>(__pyx_t_3, __pyx_t_1);<span class='error_goto'> if (unlikely(!__pyx_t_4)) __PYX_ERR(0, 26, __pyx_L1_error)</span>\n",
              "  <span class='refnanny'>__Pyx_GOTREF</span>(__pyx_t_4);\n",
              "  <span class='pyx_macro_api'>__Pyx_DECREF</span>(__pyx_t_3); __pyx_t_3 = 0;\n",
              "  <span class='pyx_macro_api'>__Pyx_DECREF</span>(__pyx_t_1); __pyx_t_1 = 0;\n",
              "/* … */\n",
              "  if (unlikely(!__pyx_cur_scope-&gt;__pyx_v_outer)) { <span class='pyx_c_api'>__Pyx_RaiseClosureNameError</span>(\"outer\"); <span class='error_goto'>__PYX_ERR(0, 26, __pyx_L1_error)</span> }\n",
              "  __pyx_t_4 = __pyx_pf_46_cython_magic_a93589204fdd759fa363b86415b16dc5_20cdf_integrand_cython_2outer(__pyx_cur_scope-&gt;__pyx_v_outer, __pyx_v_s, __pyx_v_z);<span class='error_goto'> if (unlikely(!__pyx_t_4)) __PYX_ERR(0, 26, __pyx_L1_error)</span>\n",
              "  <span class='refnanny'>__Pyx_GOTREF</span>(__pyx_t_4);\n",
              "  __pyx_t_2 = <span class='py_c_api'>PyNumber_Multiply</span>(__pyx_t_1, __pyx_t_4);<span class='error_goto'> if (unlikely(!__pyx_t_2)) __PYX_ERR(0, 26, __pyx_L1_error)</span>\n",
              "  <span class='refnanny'>__Pyx_GOTREF</span>(__pyx_t_2);\n",
              "  <span class='pyx_macro_api'>__Pyx_DECREF</span>(__pyx_t_1); __pyx_t_1 = 0;\n",
              "  <span class='pyx_macro_api'>__Pyx_DECREF</span>(__pyx_t_4); __pyx_t_4 = 0;\n",
              "  __pyx_r = __pyx_t_2;\n",
              "  __pyx_t_2 = 0;\n",
              "  goto __pyx_L0;\n",
              "</pre><pre class=\"cython line score-0\">&#xA0;<span class=\"\">27</span>: </pre>\n",
              "<pre class=\"cython line score-1\" onclick=\"(function(s){s.display=s.display==='block'?'none':'block'})(this.nextElementSibling.style)\">+<span class=\"\">28</span>:   <span class=\"k\">return</span> <span class=\"n\">whole</span><span class=\"p\">(</span><span class=\"n\">s</span><span class=\"p\">,</span> <span class=\"n\">z</span><span class=\"p\">)</span></pre>\n",
              "<pre class='cython code score-1 '>  <span class='pyx_macro_api'>__Pyx_XDECREF</span>(__pyx_r);\n",
              "  __pyx_t_3 = __pyx_pf_46_cython_magic_a93589204fdd759fa363b86415b16dc5_20cdf_integrand_cython_4whole(__pyx_v_whole, __pyx_v_s, __pyx_v_z);<span class='error_goto'> if (unlikely(!__pyx_t_3)) __PYX_ERR(0, 28, __pyx_L1_error)</span>\n",
              "  <span class='refnanny'>__Pyx_GOTREF</span>(__pyx_t_3);\n",
              "  __pyx_r = __pyx_t_3;\n",
              "  __pyx_t_3 = 0;\n",
              "  goto __pyx_L0;\n",
              "</pre></div></body></html>"
            ],
            "text/plain": [
              "<IPython.core.display.HTML object>"
            ]
          },
          "metadata": {
            "tags": []
          },
          "execution_count": 156
        }
      ]
    },
    {
      "cell_type": "markdown",
      "metadata": {
        "id": "UwtnRaOw1EuV"
      },
      "source": [
        "The bolder the highlighting in the lines above, the greater the overhead of API calls between the compiled code and Python. As most of the code is highlighted, we would not expect the Cythonized code to be much faster than the original."
      ]
    },
    {
      "cell_type": "code",
      "metadata": {
        "id": "1PWmvZCy5JVq",
        "colab": {
          "base_uri": "https://localhost:8080/"
        },
        "outputId": "88bb94e9-3c95-4e78-eba8-f4744d37a458"
      },
      "source": [
        "%timeit cdf_integrand_cython(1, 1, [3.77, 3, 12])"
      ],
      "execution_count": null,
      "outputs": [
        {
          "output_type": "stream",
          "text": [
            "The slowest run took 9.34 times longer than the fastest. This could mean that an intermediate result is being cached.\n",
            "100000 loops, best of 5: 9.01 µs per loop\n"
          ],
          "name": "stdout"
        }
      ]
    },
    {
      "cell_type": "markdown",
      "metadata": {
        "id": "ITHBT6XmC_7k"
      },
      "source": [
        "Although this ~20% faster than the pure Python version, the speed can be improved further by minimizing the amount of interaction between C and Python."
      ]
    },
    {
      "cell_type": "markdown",
      "metadata": {
        "id": "4mzVMxmNRKlH"
      },
      "source": [
        "#### Optimizing Cython\n"
      ]
    },
    {
      "cell_type": "markdown",
      "metadata": {
        "id": "UP-f2RCVSuDG"
      },
      "source": [
        "Every highlighted line hints at an interaction between C and Python. Therefore, we introduce a refactored, more Cythonic, implementation that \n",
        "- removes the Python interface for interior functions,\n",
        "- declares types for variables and function returns,\n",
        "- precomputes constants,\n",
        "- removes Python interaction relating to division, and\n",
        "- imports functions native to C for computing $\\phi$ and $\\Phi$."
      ]
    },
    {
      "cell_type": "code",
      "metadata": {
        "id": "Xg-rTaCGS8AE",
        "colab": {
          "base_uri": "https://localhost:8080/",
          "height": 518
        },
        "outputId": "a8315d29-3d4f-4a43-9f87-35384703bf2e"
      },
      "source": [
        "%%cython -a\n",
        "\n",
        "cimport libc.math as math\n",
        "cimport scipy.special.cython_special as cs\n",
        "\n",
        "cdef double _phi(double z) nogil:\n",
        "  cdef double inv_sqrt_2pi = 0.3989422804014327\n",
        "  return inv_sqrt_2pi * math.exp(-0.5 * z * z)\n",
        "\n",
        "cdef double _Phi(double z) nogil:\n",
        "  return cs.ndtr(z)\n",
        "\n",
        "cdef double inner(double s, double z, double q, double k, double nu) nogil:\n",
        "  return _phi(z)*(_Phi(z+q*s)-_Phi(z))**(k-1)\n",
        "\n",
        "cdef double outer(double s, double z, double q, double k, double nu) nogil:\n",
        "  inner_int = inner(s, z, q, k, nu)\n",
        "  return s**(nu)*_phi((nu ** .5)*s)*inner_int\n",
        "\n",
        "cdef double constants(double s, double z, double q, double k, double nu) nogil:\n",
        "  num = ((2 * math.M_PI)**.5)* k *nu**(nu/2)\n",
        "  denom = (math.tgamma(nu / 2) * 2**(nu / 2 - 1))\n",
        "  return  num * (denom ** -1)\n",
        "\n",
        "cpdef double cdf_integrand_cython_optimized(double s, double z, double q, double k, double nu):\n",
        "  return constants(s, z, q, k, nu) * outer(s, z, q, k, nu)"
      ],
      "execution_count": null,
      "outputs": [
        {
          "output_type": "execute_result",
          "data": {
            "text/html": [
              "<!DOCTYPE html>\n",
              "<!-- Generated by Cython 0.29.23 -->\n",
              "<html>\n",
              "<head>\n",
              "    <meta http-equiv=\"Content-Type\" content=\"text/html; charset=utf-8\" />\n",
              "    <title>Cython: _cython_magic_904b0adf1bca35c9aaf74567a73a0895.pyx</title>\n",
              "    <style type=\"text/css\">\n",
              "    \n",
              "body.cython { font-family: courier; font-size: 12; }\n",
              "\n",
              ".cython.tag  {  }\n",
              ".cython.line { margin: 0em }\n",
              ".cython.code { font-size: 9; color: #444444; display: none; margin: 0px 0px 0px 8px; border-left: 8px none; }\n",
              "\n",
              ".cython.line .run { background-color: #B0FFB0; }\n",
              ".cython.line .mis { background-color: #FFB0B0; }\n",
              ".cython.code.run  { border-left: 8px solid #B0FFB0; }\n",
              ".cython.code.mis  { border-left: 8px solid #FFB0B0; }\n",
              "\n",
              ".cython.code .py_c_api  { color: red; }\n",
              ".cython.code .py_macro_api  { color: #FF7000; }\n",
              ".cython.code .pyx_c_api  { color: #FF3000; }\n",
              ".cython.code .pyx_macro_api  { color: #FF7000; }\n",
              ".cython.code .refnanny  { color: #FFA000; }\n",
              ".cython.code .trace  { color: #FFA000; }\n",
              ".cython.code .error_goto  { color: #FFA000; }\n",
              "\n",
              ".cython.code .coerce  { color: #008000; border: 1px dotted #008000 }\n",
              ".cython.code .py_attr { color: #FF0000; font-weight: bold; }\n",
              ".cython.code .c_attr  { color: #0000FF; }\n",
              ".cython.code .py_call { color: #FF0000; font-weight: bold; }\n",
              ".cython.code .c_call  { color: #0000FF; }\n",
              "\n",
              ".cython.score-0 {background-color: #FFFFff;}\n",
              ".cython.score-1 {background-color: #FFFFe7;}\n",
              ".cython.score-2 {background-color: #FFFFd4;}\n",
              ".cython.score-3 {background-color: #FFFFc4;}\n",
              ".cython.score-4 {background-color: #FFFFb6;}\n",
              ".cython.score-5 {background-color: #FFFFaa;}\n",
              ".cython.score-6 {background-color: #FFFF9f;}\n",
              ".cython.score-7 {background-color: #FFFF96;}\n",
              ".cython.score-8 {background-color: #FFFF8d;}\n",
              ".cython.score-9 {background-color: #FFFF86;}\n",
              ".cython.score-10 {background-color: #FFFF7f;}\n",
              ".cython.score-11 {background-color: #FFFF79;}\n",
              ".cython.score-12 {background-color: #FFFF73;}\n",
              ".cython.score-13 {background-color: #FFFF6e;}\n",
              ".cython.score-14 {background-color: #FFFF6a;}\n",
              ".cython.score-15 {background-color: #FFFF66;}\n",
              ".cython.score-16 {background-color: #FFFF62;}\n",
              ".cython.score-17 {background-color: #FFFF5e;}\n",
              ".cython.score-18 {background-color: #FFFF5b;}\n",
              ".cython.score-19 {background-color: #FFFF57;}\n",
              ".cython.score-20 {background-color: #FFFF55;}\n",
              ".cython.score-21 {background-color: #FFFF52;}\n",
              ".cython.score-22 {background-color: #FFFF4f;}\n",
              ".cython.score-23 {background-color: #FFFF4d;}\n",
              ".cython.score-24 {background-color: #FFFF4b;}\n",
              ".cython.score-25 {background-color: #FFFF48;}\n",
              ".cython.score-26 {background-color: #FFFF46;}\n",
              ".cython.score-27 {background-color: #FFFF44;}\n",
              ".cython.score-28 {background-color: #FFFF43;}\n",
              ".cython.score-29 {background-color: #FFFF41;}\n",
              ".cython.score-30 {background-color: #FFFF3f;}\n",
              ".cython.score-31 {background-color: #FFFF3e;}\n",
              ".cython.score-32 {background-color: #FFFF3c;}\n",
              ".cython.score-33 {background-color: #FFFF3b;}\n",
              ".cython.score-34 {background-color: #FFFF39;}\n",
              ".cython.score-35 {background-color: #FFFF38;}\n",
              ".cython.score-36 {background-color: #FFFF37;}\n",
              ".cython.score-37 {background-color: #FFFF36;}\n",
              ".cython.score-38 {background-color: #FFFF35;}\n",
              ".cython.score-39 {background-color: #FFFF34;}\n",
              ".cython.score-40 {background-color: #FFFF33;}\n",
              ".cython.score-41 {background-color: #FFFF32;}\n",
              ".cython.score-42 {background-color: #FFFF31;}\n",
              ".cython.score-43 {background-color: #FFFF30;}\n",
              ".cython.score-44 {background-color: #FFFF2f;}\n",
              ".cython.score-45 {background-color: #FFFF2e;}\n",
              ".cython.score-46 {background-color: #FFFF2d;}\n",
              ".cython.score-47 {background-color: #FFFF2c;}\n",
              ".cython.score-48 {background-color: #FFFF2b;}\n",
              ".cython.score-49 {background-color: #FFFF2b;}\n",
              ".cython.score-50 {background-color: #FFFF2a;}\n",
              ".cython.score-51 {background-color: #FFFF29;}\n",
              ".cython.score-52 {background-color: #FFFF29;}\n",
              ".cython.score-53 {background-color: #FFFF28;}\n",
              ".cython.score-54 {background-color: #FFFF27;}\n",
              ".cython.score-55 {background-color: #FFFF27;}\n",
              ".cython.score-56 {background-color: #FFFF26;}\n",
              ".cython.score-57 {background-color: #FFFF26;}\n",
              ".cython.score-58 {background-color: #FFFF25;}\n",
              ".cython.score-59 {background-color: #FFFF24;}\n",
              ".cython.score-60 {background-color: #FFFF24;}\n",
              ".cython.score-61 {background-color: #FFFF23;}\n",
              ".cython.score-62 {background-color: #FFFF23;}\n",
              ".cython.score-63 {background-color: #FFFF22;}\n",
              ".cython.score-64 {background-color: #FFFF22;}\n",
              ".cython.score-65 {background-color: #FFFF22;}\n",
              ".cython.score-66 {background-color: #FFFF21;}\n",
              ".cython.score-67 {background-color: #FFFF21;}\n",
              ".cython.score-68 {background-color: #FFFF20;}\n",
              ".cython.score-69 {background-color: #FFFF20;}\n",
              ".cython.score-70 {background-color: #FFFF1f;}\n",
              ".cython.score-71 {background-color: #FFFF1f;}\n",
              ".cython.score-72 {background-color: #FFFF1f;}\n",
              ".cython.score-73 {background-color: #FFFF1e;}\n",
              ".cython.score-74 {background-color: #FFFF1e;}\n",
              ".cython.score-75 {background-color: #FFFF1e;}\n",
              ".cython.score-76 {background-color: #FFFF1d;}\n",
              ".cython.score-77 {background-color: #FFFF1d;}\n",
              ".cython.score-78 {background-color: #FFFF1c;}\n",
              ".cython.score-79 {background-color: #FFFF1c;}\n",
              ".cython.score-80 {background-color: #FFFF1c;}\n",
              ".cython.score-81 {background-color: #FFFF1c;}\n",
              ".cython.score-82 {background-color: #FFFF1b;}\n",
              ".cython.score-83 {background-color: #FFFF1b;}\n",
              ".cython.score-84 {background-color: #FFFF1b;}\n",
              ".cython.score-85 {background-color: #FFFF1a;}\n",
              ".cython.score-86 {background-color: #FFFF1a;}\n",
              ".cython.score-87 {background-color: #FFFF1a;}\n",
              ".cython.score-88 {background-color: #FFFF1a;}\n",
              ".cython.score-89 {background-color: #FFFF19;}\n",
              ".cython.score-90 {background-color: #FFFF19;}\n",
              ".cython.score-91 {background-color: #FFFF19;}\n",
              ".cython.score-92 {background-color: #FFFF19;}\n",
              ".cython.score-93 {background-color: #FFFF18;}\n",
              ".cython.score-94 {background-color: #FFFF18;}\n",
              ".cython.score-95 {background-color: #FFFF18;}\n",
              ".cython.score-96 {background-color: #FFFF18;}\n",
              ".cython.score-97 {background-color: #FFFF17;}\n",
              ".cython.score-98 {background-color: #FFFF17;}\n",
              ".cython.score-99 {background-color: #FFFF17;}\n",
              ".cython.score-100 {background-color: #FFFF17;}\n",
              ".cython.score-101 {background-color: #FFFF16;}\n",
              ".cython.score-102 {background-color: #FFFF16;}\n",
              ".cython.score-103 {background-color: #FFFF16;}\n",
              ".cython.score-104 {background-color: #FFFF16;}\n",
              ".cython.score-105 {background-color: #FFFF16;}\n",
              ".cython.score-106 {background-color: #FFFF15;}\n",
              ".cython.score-107 {background-color: #FFFF15;}\n",
              ".cython.score-108 {background-color: #FFFF15;}\n",
              ".cython.score-109 {background-color: #FFFF15;}\n",
              ".cython.score-110 {background-color: #FFFF15;}\n",
              ".cython.score-111 {background-color: #FFFF15;}\n",
              ".cython.score-112 {background-color: #FFFF14;}\n",
              ".cython.score-113 {background-color: #FFFF14;}\n",
              ".cython.score-114 {background-color: #FFFF14;}\n",
              ".cython.score-115 {background-color: #FFFF14;}\n",
              ".cython.score-116 {background-color: #FFFF14;}\n",
              ".cython.score-117 {background-color: #FFFF14;}\n",
              ".cython.score-118 {background-color: #FFFF13;}\n",
              ".cython.score-119 {background-color: #FFFF13;}\n",
              ".cython.score-120 {background-color: #FFFF13;}\n",
              ".cython.score-121 {background-color: #FFFF13;}\n",
              ".cython.score-122 {background-color: #FFFF13;}\n",
              ".cython.score-123 {background-color: #FFFF13;}\n",
              ".cython.score-124 {background-color: #FFFF13;}\n",
              ".cython.score-125 {background-color: #FFFF12;}\n",
              ".cython.score-126 {background-color: #FFFF12;}\n",
              ".cython.score-127 {background-color: #FFFF12;}\n",
              ".cython.score-128 {background-color: #FFFF12;}\n",
              ".cython.score-129 {background-color: #FFFF12;}\n",
              ".cython.score-130 {background-color: #FFFF12;}\n",
              ".cython.score-131 {background-color: #FFFF12;}\n",
              ".cython.score-132 {background-color: #FFFF11;}\n",
              ".cython.score-133 {background-color: #FFFF11;}\n",
              ".cython.score-134 {background-color: #FFFF11;}\n",
              ".cython.score-135 {background-color: #FFFF11;}\n",
              ".cython.score-136 {background-color: #FFFF11;}\n",
              ".cython.score-137 {background-color: #FFFF11;}\n",
              ".cython.score-138 {background-color: #FFFF11;}\n",
              ".cython.score-139 {background-color: #FFFF11;}\n",
              ".cython.score-140 {background-color: #FFFF11;}\n",
              ".cython.score-141 {background-color: #FFFF10;}\n",
              ".cython.score-142 {background-color: #FFFF10;}\n",
              ".cython.score-143 {background-color: #FFFF10;}\n",
              ".cython.score-144 {background-color: #FFFF10;}\n",
              ".cython.score-145 {background-color: #FFFF10;}\n",
              ".cython.score-146 {background-color: #FFFF10;}\n",
              ".cython.score-147 {background-color: #FFFF10;}\n",
              ".cython.score-148 {background-color: #FFFF10;}\n",
              ".cython.score-149 {background-color: #FFFF10;}\n",
              ".cython.score-150 {background-color: #FFFF0f;}\n",
              ".cython.score-151 {background-color: #FFFF0f;}\n",
              ".cython.score-152 {background-color: #FFFF0f;}\n",
              ".cython.score-153 {background-color: #FFFF0f;}\n",
              ".cython.score-154 {background-color: #FFFF0f;}\n",
              ".cython.score-155 {background-color: #FFFF0f;}\n",
              ".cython.score-156 {background-color: #FFFF0f;}\n",
              ".cython.score-157 {background-color: #FFFF0f;}\n",
              ".cython.score-158 {background-color: #FFFF0f;}\n",
              ".cython.score-159 {background-color: #FFFF0f;}\n",
              ".cython.score-160 {background-color: #FFFF0f;}\n",
              ".cython.score-161 {background-color: #FFFF0e;}\n",
              ".cython.score-162 {background-color: #FFFF0e;}\n",
              ".cython.score-163 {background-color: #FFFF0e;}\n",
              ".cython.score-164 {background-color: #FFFF0e;}\n",
              ".cython.score-165 {background-color: #FFFF0e;}\n",
              ".cython.score-166 {background-color: #FFFF0e;}\n",
              ".cython.score-167 {background-color: #FFFF0e;}\n",
              ".cython.score-168 {background-color: #FFFF0e;}\n",
              ".cython.score-169 {background-color: #FFFF0e;}\n",
              ".cython.score-170 {background-color: #FFFF0e;}\n",
              ".cython.score-171 {background-color: #FFFF0e;}\n",
              ".cython.score-172 {background-color: #FFFF0e;}\n",
              ".cython.score-173 {background-color: #FFFF0d;}\n",
              ".cython.score-174 {background-color: #FFFF0d;}\n",
              ".cython.score-175 {background-color: #FFFF0d;}\n",
              ".cython.score-176 {background-color: #FFFF0d;}\n",
              ".cython.score-177 {background-color: #FFFF0d;}\n",
              ".cython.score-178 {background-color: #FFFF0d;}\n",
              ".cython.score-179 {background-color: #FFFF0d;}\n",
              ".cython.score-180 {background-color: #FFFF0d;}\n",
              ".cython.score-181 {background-color: #FFFF0d;}\n",
              ".cython.score-182 {background-color: #FFFF0d;}\n",
              ".cython.score-183 {background-color: #FFFF0d;}\n",
              ".cython.score-184 {background-color: #FFFF0d;}\n",
              ".cython.score-185 {background-color: #FFFF0d;}\n",
              ".cython.score-186 {background-color: #FFFF0d;}\n",
              ".cython.score-187 {background-color: #FFFF0c;}\n",
              ".cython.score-188 {background-color: #FFFF0c;}\n",
              ".cython.score-189 {background-color: #FFFF0c;}\n",
              ".cython.score-190 {background-color: #FFFF0c;}\n",
              ".cython.score-191 {background-color: #FFFF0c;}\n",
              ".cython.score-192 {background-color: #FFFF0c;}\n",
              ".cython.score-193 {background-color: #FFFF0c;}\n",
              ".cython.score-194 {background-color: #FFFF0c;}\n",
              ".cython.score-195 {background-color: #FFFF0c;}\n",
              ".cython.score-196 {background-color: #FFFF0c;}\n",
              ".cython.score-197 {background-color: #FFFF0c;}\n",
              ".cython.score-198 {background-color: #FFFF0c;}\n",
              ".cython.score-199 {background-color: #FFFF0c;}\n",
              ".cython.score-200 {background-color: #FFFF0c;}\n",
              ".cython.score-201 {background-color: #FFFF0c;}\n",
              ".cython.score-202 {background-color: #FFFF0c;}\n",
              ".cython.score-203 {background-color: #FFFF0b;}\n",
              ".cython.score-204 {background-color: #FFFF0b;}\n",
              ".cython.score-205 {background-color: #FFFF0b;}\n",
              ".cython.score-206 {background-color: #FFFF0b;}\n",
              ".cython.score-207 {background-color: #FFFF0b;}\n",
              ".cython.score-208 {background-color: #FFFF0b;}\n",
              ".cython.score-209 {background-color: #FFFF0b;}\n",
              ".cython.score-210 {background-color: #FFFF0b;}\n",
              ".cython.score-211 {background-color: #FFFF0b;}\n",
              ".cython.score-212 {background-color: #FFFF0b;}\n",
              ".cython.score-213 {background-color: #FFFF0b;}\n",
              ".cython.score-214 {background-color: #FFFF0b;}\n",
              ".cython.score-215 {background-color: #FFFF0b;}\n",
              ".cython.score-216 {background-color: #FFFF0b;}\n",
              ".cython.score-217 {background-color: #FFFF0b;}\n",
              ".cython.score-218 {background-color: #FFFF0b;}\n",
              ".cython.score-219 {background-color: #FFFF0b;}\n",
              ".cython.score-220 {background-color: #FFFF0b;}\n",
              ".cython.score-221 {background-color: #FFFF0b;}\n",
              ".cython.score-222 {background-color: #FFFF0a;}\n",
              ".cython.score-223 {background-color: #FFFF0a;}\n",
              ".cython.score-224 {background-color: #FFFF0a;}\n",
              ".cython.score-225 {background-color: #FFFF0a;}\n",
              ".cython.score-226 {background-color: #FFFF0a;}\n",
              ".cython.score-227 {background-color: #FFFF0a;}\n",
              ".cython.score-228 {background-color: #FFFF0a;}\n",
              ".cython.score-229 {background-color: #FFFF0a;}\n",
              ".cython.score-230 {background-color: #FFFF0a;}\n",
              ".cython.score-231 {background-color: #FFFF0a;}\n",
              ".cython.score-232 {background-color: #FFFF0a;}\n",
              ".cython.score-233 {background-color: #FFFF0a;}\n",
              ".cython.score-234 {background-color: #FFFF0a;}\n",
              ".cython.score-235 {background-color: #FFFF0a;}\n",
              ".cython.score-236 {background-color: #FFFF0a;}\n",
              ".cython.score-237 {background-color: #FFFF0a;}\n",
              ".cython.score-238 {background-color: #FFFF0a;}\n",
              ".cython.score-239 {background-color: #FFFF0a;}\n",
              ".cython.score-240 {background-color: #FFFF0a;}\n",
              ".cython.score-241 {background-color: #FFFF0a;}\n",
              ".cython.score-242 {background-color: #FFFF0a;}\n",
              ".cython.score-243 {background-color: #FFFF0a;}\n",
              ".cython.score-244 {background-color: #FFFF0a;}\n",
              ".cython.score-245 {background-color: #FFFF0a;}\n",
              ".cython.score-246 {background-color: #FFFF09;}\n",
              ".cython.score-247 {background-color: #FFFF09;}\n",
              ".cython.score-248 {background-color: #FFFF09;}\n",
              ".cython.score-249 {background-color: #FFFF09;}\n",
              ".cython.score-250 {background-color: #FFFF09;}\n",
              ".cython.score-251 {background-color: #FFFF09;}\n",
              ".cython.score-252 {background-color: #FFFF09;}\n",
              ".cython.score-253 {background-color: #FFFF09;}\n",
              ".cython.score-254 {background-color: #FFFF09;}\n",
              ".cython .hll { background-color: #ffffcc }\n",
              ".cython  { background: #f8f8f8; }\n",
              ".cython .c { color: #408080; font-style: italic } /* Comment */\n",
              ".cython .err { border: 1px solid #FF0000 } /* Error */\n",
              ".cython .k { color: #008000; font-weight: bold } /* Keyword */\n",
              ".cython .o { color: #666666 } /* Operator */\n",
              ".cython .ch { color: #408080; font-style: italic } /* Comment.Hashbang */\n",
              ".cython .cm { color: #408080; font-style: italic } /* Comment.Multiline */\n",
              ".cython .cp { color: #BC7A00 } /* Comment.Preproc */\n",
              ".cython .cpf { color: #408080; font-style: italic } /* Comment.PreprocFile */\n",
              ".cython .c1 { color: #408080; font-style: italic } /* Comment.Single */\n",
              ".cython .cs { color: #408080; font-style: italic } /* Comment.Special */\n",
              ".cython .gd { color: #A00000 } /* Generic.Deleted */\n",
              ".cython .ge { font-style: italic } /* Generic.Emph */\n",
              ".cython .gr { color: #FF0000 } /* Generic.Error */\n",
              ".cython .gh { color: #000080; font-weight: bold } /* Generic.Heading */\n",
              ".cython .gi { color: #00A000 } /* Generic.Inserted */\n",
              ".cython .go { color: #888888 } /* Generic.Output */\n",
              ".cython .gp { color: #000080; font-weight: bold } /* Generic.Prompt */\n",
              ".cython .gs { font-weight: bold } /* Generic.Strong */\n",
              ".cython .gu { color: #800080; font-weight: bold } /* Generic.Subheading */\n",
              ".cython .gt { color: #0044DD } /* Generic.Traceback */\n",
              ".cython .kc { color: #008000; font-weight: bold } /* Keyword.Constant */\n",
              ".cython .kd { color: #008000; font-weight: bold } /* Keyword.Declaration */\n",
              ".cython .kn { color: #008000; font-weight: bold } /* Keyword.Namespace */\n",
              ".cython .kp { color: #008000 } /* Keyword.Pseudo */\n",
              ".cython .kr { color: #008000; font-weight: bold } /* Keyword.Reserved */\n",
              ".cython .kt { color: #B00040 } /* Keyword.Type */\n",
              ".cython .m { color: #666666 } /* Literal.Number */\n",
              ".cython .s { color: #BA2121 } /* Literal.String */\n",
              ".cython .na { color: #7D9029 } /* Name.Attribute */\n",
              ".cython .nb { color: #008000 } /* Name.Builtin */\n",
              ".cython .nc { color: #0000FF; font-weight: bold } /* Name.Class */\n",
              ".cython .no { color: #880000 } /* Name.Constant */\n",
              ".cython .nd { color: #AA22FF } /* Name.Decorator */\n",
              ".cython .ni { color: #999999; font-weight: bold } /* Name.Entity */\n",
              ".cython .ne { color: #D2413A; font-weight: bold } /* Name.Exception */\n",
              ".cython .nf { color: #0000FF } /* Name.Function */\n",
              ".cython .nl { color: #A0A000 } /* Name.Label */\n",
              ".cython .nn { color: #0000FF; font-weight: bold } /* Name.Namespace */\n",
              ".cython .nt { color: #008000; font-weight: bold } /* Name.Tag */\n",
              ".cython .nv { color: #19177C } /* Name.Variable */\n",
              ".cython .ow { color: #AA22FF; font-weight: bold } /* Operator.Word */\n",
              ".cython .w { color: #bbbbbb } /* Text.Whitespace */\n",
              ".cython .mb { color: #666666 } /* Literal.Number.Bin */\n",
              ".cython .mf { color: #666666 } /* Literal.Number.Float */\n",
              ".cython .mh { color: #666666 } /* Literal.Number.Hex */\n",
              ".cython .mi { color: #666666 } /* Literal.Number.Integer */\n",
              ".cython .mo { color: #666666 } /* Literal.Number.Oct */\n",
              ".cython .sa { color: #BA2121 } /* Literal.String.Affix */\n",
              ".cython .sb { color: #BA2121 } /* Literal.String.Backtick */\n",
              ".cython .sc { color: #BA2121 } /* Literal.String.Char */\n",
              ".cython .dl { color: #BA2121 } /* Literal.String.Delimiter */\n",
              ".cython .sd { color: #BA2121; font-style: italic } /* Literal.String.Doc */\n",
              ".cython .s2 { color: #BA2121 } /* Literal.String.Double */\n",
              ".cython .se { color: #BB6622; font-weight: bold } /* Literal.String.Escape */\n",
              ".cython .sh { color: #BA2121 } /* Literal.String.Heredoc */\n",
              ".cython .si { color: #BB6688; font-weight: bold } /* Literal.String.Interpol */\n",
              ".cython .sx { color: #008000 } /* Literal.String.Other */\n",
              ".cython .sr { color: #BB6688 } /* Literal.String.Regex */\n",
              ".cython .s1 { color: #BA2121 } /* Literal.String.Single */\n",
              ".cython .ss { color: #19177C } /* Literal.String.Symbol */\n",
              ".cython .bp { color: #008000 } /* Name.Builtin.Pseudo */\n",
              ".cython .fm { color: #0000FF } /* Name.Function.Magic */\n",
              ".cython .vc { color: #19177C } /* Name.Variable.Class */\n",
              ".cython .vg { color: #19177C } /* Name.Variable.Global */\n",
              ".cython .vi { color: #19177C } /* Name.Variable.Instance */\n",
              ".cython .vm { color: #19177C } /* Name.Variable.Magic */\n",
              ".cython .il { color: #666666 } /* Literal.Number.Integer.Long */\n",
              "    </style>\n",
              "</head>\n",
              "<body class=\"cython\">\n",
              "<p><span style=\"border-bottom: solid 1px grey;\">Generated by Cython 0.29.23</span></p>\n",
              "<p>\n",
              "    <span style=\"background-color: #FFFF00\">Yellow lines</span> hint at Python interaction.<br />\n",
              "    Click on a line that starts with a \"<code>+</code>\" to see the C code that Cython generated for it.\n",
              "</p>\n",
              "<div class=\"cython\"><pre class=\"cython line score-0\">&#xA0;<span class=\"\">01</span>: </pre>\n",
              "<pre class=\"cython line score-0\">&#xA0;<span class=\"\">02</span>: <span class=\"k\">cimport</span> <span class=\"nn\">libc.math</span> <span class=\"k\">as</span> <span class=\"nn\">math</span></pre>\n",
              "<pre class=\"cython line score-0\">&#xA0;<span class=\"\">03</span>: <span class=\"k\">cimport</span> <span class=\"nn\">scipy.special.cython_special</span> <span class=\"k\">as</span> <span class=\"nn\">cs</span></pre>\n",
              "<pre class=\"cython line score-0\">&#xA0;<span class=\"\">04</span>: </pre>\n",
              "<pre class=\"cython line score-0\" onclick=\"(function(s){s.display=s.display==='block'?'none':'block'})(this.nextElementSibling.style)\">+<span class=\"\">05</span>: <span class=\"k\">cdef</span> <span class=\"kt\">double</span> <span class=\"nf\">_phi</span><span class=\"p\">(</span><span class=\"n\">double</span> <span class=\"n\">z</span><span class=\"p\">)</span> <span class=\"k\">nogil</span><span class=\"p\">:</span></pre>\n",
              "<pre class='cython code score-0 '>static double __pyx_f_46_cython_magic_904b0adf1bca35c9aaf74567a73a0895__phi(double __pyx_v_z) {\n",
              "  double __pyx_v_inv_sqrt_2pi;\n",
              "  double __pyx_r;\n",
              "/* … */\n",
              "  /* function exit code */\n",
              "  __pyx_L0:;\n",
              "  return __pyx_r;\n",
              "}\n",
              "</pre><pre class=\"cython line score-0\" onclick=\"(function(s){s.display=s.display==='block'?'none':'block'})(this.nextElementSibling.style)\">+<span class=\"\">06</span>:   <span class=\"k\">cdef</span> <span class=\"kt\">double</span> <span class=\"nf\">inv_sqrt_2pi</span> <span class=\"o\">=</span> <span class=\"mf\">0.3989422804014327</span></pre>\n",
              "<pre class='cython code score-0 '>  __pyx_v_inv_sqrt_2pi = 0.3989422804014327;\n",
              "</pre><pre class=\"cython line score-0\" onclick=\"(function(s){s.display=s.display==='block'?'none':'block'})(this.nextElementSibling.style)\">+<span class=\"\">07</span>:   <span class=\"k\">return</span> <span class=\"n\">inv_sqrt_2pi</span> <span class=\"o\">*</span> <span class=\"n\">math</span><span class=\"o\">.</span><span class=\"n\">exp</span><span class=\"p\">(</span><span class=\"o\">-</span><span class=\"mf\">0.5</span> <span class=\"o\">*</span> <span class=\"n\">z</span> <span class=\"o\">*</span> <span class=\"n\">z</span><span class=\"p\">)</span></pre>\n",
              "<pre class='cython code score-0 '>  __pyx_r = (__pyx_v_inv_sqrt_2pi * exp(((-0.5 * __pyx_v_z) * __pyx_v_z)));\n",
              "  goto __pyx_L0;\n",
              "</pre><pre class=\"cython line score-0\">&#xA0;<span class=\"\">08</span>: </pre>\n",
              "<pre class=\"cython line score-0\" onclick=\"(function(s){s.display=s.display==='block'?'none':'block'})(this.nextElementSibling.style)\">+<span class=\"\">09</span>: <span class=\"k\">cdef</span> <span class=\"kt\">double</span> <span class=\"nf\">_Phi</span><span class=\"p\">(</span><span class=\"n\">double</span> <span class=\"n\">z</span><span class=\"p\">)</span> <span class=\"k\">nogil</span><span class=\"p\">:</span></pre>\n",
              "<pre class='cython code score-0 '>static double __pyx_f_46_cython_magic_904b0adf1bca35c9aaf74567a73a0895__Phi(double __pyx_v_z) {\n",
              "  double __pyx_r;\n",
              "/* … */\n",
              "  /* function exit code */\n",
              "  __pyx_L0:;\n",
              "  return __pyx_r;\n",
              "}\n",
              "</pre><pre class=\"cython line score-0\" onclick=\"(function(s){s.display=s.display==='block'?'none':'block'})(this.nextElementSibling.style)\">+<span class=\"\">10</span>:   <span class=\"k\">return</span> <span class=\"n\">cs</span><span class=\"o\">.</span><span class=\"n\">ndtr</span><span class=\"p\">(</span><span class=\"n\">z</span><span class=\"p\">)</span></pre>\n",
              "<pre class='cython code score-0 '>  __pyx_r = __pyx_fuse_1__pyx_f_5scipy_7special_14cython_special_ndtr(__pyx_v_z, 0);\n",
              "  goto __pyx_L0;\n",
              "</pre><pre class=\"cython line score-0\">&#xA0;<span class=\"\">11</span>: </pre>\n",
              "<pre class=\"cython line score-0\" onclick=\"(function(s){s.display=s.display==='block'?'none':'block'})(this.nextElementSibling.style)\">+<span class=\"\">12</span>: <span class=\"k\">cdef</span> <span class=\"kt\">double</span> <span class=\"nf\">inner</span><span class=\"p\">(</span><span class=\"n\">double</span> <span class=\"n\">s</span><span class=\"p\">,</span> <span class=\"n\">double</span> <span class=\"n\">z</span><span class=\"p\">,</span> <span class=\"n\">double</span> <span class=\"n\">q</span><span class=\"p\">,</span> <span class=\"n\">double</span> <span class=\"n\">k</span><span class=\"p\">,</span> <span class=\"n\">double</span> <span class=\"n\">nu</span><span class=\"p\">)</span> <span class=\"k\">nogil</span><span class=\"p\">:</span></pre>\n",
              "<pre class='cython code score-0 '>static double __pyx_f_46_cython_magic_904b0adf1bca35c9aaf74567a73a0895_inner(double __pyx_v_s, double __pyx_v_z, double __pyx_v_q, double __pyx_v_k, CYTHON_UNUSED double __pyx_v_nu) {\n",
              "  double __pyx_r;\n",
              "/* … */\n",
              "  /* function exit code */\n",
              "  __pyx_L0:;\n",
              "  return __pyx_r;\n",
              "}\n",
              "</pre><pre class=\"cython line score-0\" onclick=\"(function(s){s.display=s.display==='block'?'none':'block'})(this.nextElementSibling.style)\">+<span class=\"\">13</span>:   <span class=\"k\">return</span> <span class=\"n\">_phi</span><span class=\"p\">(</span><span class=\"n\">z</span><span class=\"p\">)</span><span class=\"o\">*</span><span class=\"p\">(</span><span class=\"n\">_Phi</span><span class=\"p\">(</span><span class=\"n\">z</span><span class=\"o\">+</span><span class=\"n\">q</span><span class=\"o\">*</span><span class=\"n\">s</span><span class=\"p\">)</span><span class=\"o\">-</span><span class=\"n\">_Phi</span><span class=\"p\">(</span><span class=\"n\">z</span><span class=\"p\">))</span><span class=\"o\">**</span><span class=\"p\">(</span><span class=\"n\">k</span><span class=\"o\">-</span><span class=\"mf\">1</span><span class=\"p\">)</span></pre>\n",
              "<pre class='cython code score-0 '>  __pyx_r = (__pyx_f_46_cython_magic_904b0adf1bca35c9aaf74567a73a0895__phi(__pyx_v_z) * pow((__pyx_f_46_cython_magic_904b0adf1bca35c9aaf74567a73a0895__Phi((__pyx_v_z + (__pyx_v_q * __pyx_v_s))) - __pyx_f_46_cython_magic_904b0adf1bca35c9aaf74567a73a0895__Phi(__pyx_v_z)), (__pyx_v_k - 1.0)));\n",
              "  goto __pyx_L0;\n",
              "</pre><pre class=\"cython line score-0\">&#xA0;<span class=\"\">14</span>: </pre>\n",
              "<pre class=\"cython line score-0\" onclick=\"(function(s){s.display=s.display==='block'?'none':'block'})(this.nextElementSibling.style)\">+<span class=\"\">15</span>: <span class=\"k\">cdef</span> <span class=\"kt\">double</span> <span class=\"nf\">outer</span><span class=\"p\">(</span><span class=\"n\">double</span> <span class=\"n\">s</span><span class=\"p\">,</span> <span class=\"n\">double</span> <span class=\"n\">z</span><span class=\"p\">,</span> <span class=\"n\">double</span> <span class=\"n\">q</span><span class=\"p\">,</span> <span class=\"n\">double</span> <span class=\"n\">k</span><span class=\"p\">,</span> <span class=\"n\">double</span> <span class=\"n\">nu</span><span class=\"p\">)</span> <span class=\"k\">nogil</span><span class=\"p\">:</span></pre>\n",
              "<pre class='cython code score-0 '>static double __pyx_f_46_cython_magic_904b0adf1bca35c9aaf74567a73a0895_outer(double __pyx_v_s, double __pyx_v_z, double __pyx_v_q, double __pyx_v_k, double __pyx_v_nu) {\n",
              "  double __pyx_v_inner_int;\n",
              "  double __pyx_r;\n",
              "/* … */\n",
              "  /* function exit code */\n",
              "  __pyx_L0:;\n",
              "  return __pyx_r;\n",
              "}\n",
              "</pre><pre class=\"cython line score-0\" onclick=\"(function(s){s.display=s.display==='block'?'none':'block'})(this.nextElementSibling.style)\">+<span class=\"\">16</span>:   <span class=\"n\">inner_int</span> <span class=\"o\">=</span> <span class=\"n\">inner</span><span class=\"p\">(</span><span class=\"n\">s</span><span class=\"p\">,</span> <span class=\"n\">z</span><span class=\"p\">,</span> <span class=\"n\">q</span><span class=\"p\">,</span> <span class=\"n\">k</span><span class=\"p\">,</span> <span class=\"n\">nu</span><span class=\"p\">)</span></pre>\n",
              "<pre class='cython code score-0 '>  __pyx_v_inner_int = __pyx_f_46_cython_magic_904b0adf1bca35c9aaf74567a73a0895_inner(__pyx_v_s, __pyx_v_z, __pyx_v_q, __pyx_v_k, __pyx_v_nu);\n",
              "</pre><pre class=\"cython line score-0\" onclick=\"(function(s){s.display=s.display==='block'?'none':'block'})(this.nextElementSibling.style)\">+<span class=\"\">17</span>:   <span class=\"k\">return</span> <span class=\"n\">s</span><span class=\"o\">**</span><span class=\"p\">(</span><span class=\"n\">nu</span><span class=\"p\">)</span><span class=\"o\">*</span><span class=\"n\">_phi</span><span class=\"p\">((</span><span class=\"n\">nu</span> <span class=\"o\">**</span> <span class=\"o\">.</span><span class=\"mf\">5</span><span class=\"p\">)</span><span class=\"o\">*</span><span class=\"n\">s</span><span class=\"p\">)</span><span class=\"o\">*</span><span class=\"n\">inner_int</span></pre>\n",
              "<pre class='cython code score-0 '>  __pyx_r = ((pow(__pyx_v_s, __pyx_v_nu) * __pyx_f_46_cython_magic_904b0adf1bca35c9aaf74567a73a0895__phi((pow(__pyx_v_nu, .5) * __pyx_v_s))) * __pyx_v_inner_int);\n",
              "  goto __pyx_L0;\n",
              "</pre><pre class=\"cython line score-0\">&#xA0;<span class=\"\">18</span>: </pre>\n",
              "<pre class=\"cython line score-0\" onclick=\"(function(s){s.display=s.display==='block'?'none':'block'})(this.nextElementSibling.style)\">+<span class=\"\">19</span>: <span class=\"k\">cdef</span> <span class=\"kt\">double</span> <span class=\"nf\">constants</span><span class=\"p\">(</span><span class=\"n\">double</span> <span class=\"n\">s</span><span class=\"p\">,</span> <span class=\"n\">double</span> <span class=\"n\">z</span><span class=\"p\">,</span> <span class=\"n\">double</span> <span class=\"n\">q</span><span class=\"p\">,</span> <span class=\"n\">double</span> <span class=\"n\">k</span><span class=\"p\">,</span> <span class=\"n\">double</span> <span class=\"n\">nu</span><span class=\"p\">)</span> <span class=\"k\">nogil</span><span class=\"p\">:</span></pre>\n",
              "<pre class='cython code score-0 '>static double __pyx_f_46_cython_magic_904b0adf1bca35c9aaf74567a73a0895_constants(CYTHON_UNUSED double __pyx_v_s, CYTHON_UNUSED double __pyx_v_z, CYTHON_UNUSED double __pyx_v_q, double __pyx_v_k, double __pyx_v_nu) {\n",
              "  double __pyx_v_num;\n",
              "  double __pyx_v_denom;\n",
              "  double __pyx_r;\n",
              "/* … */\n",
              "  /* function exit code */\n",
              "  __pyx_L0:;\n",
              "  return __pyx_r;\n",
              "}\n",
              "</pre><pre class=\"cython line score-0\" onclick=\"(function(s){s.display=s.display==='block'?'none':'block'})(this.nextElementSibling.style)\">+<span class=\"\">20</span>:   <span class=\"n\">num</span> <span class=\"o\">=</span> <span class=\"p\">((</span><span class=\"mf\">2</span> <span class=\"o\">*</span> <span class=\"n\">math</span><span class=\"o\">.</span><span class=\"n\">M_PI</span><span class=\"p\">)</span><span class=\"o\">**.</span><span class=\"mf\">5</span><span class=\"p\">)</span><span class=\"o\">*</span> <span class=\"n\">k</span> <span class=\"o\">*</span><span class=\"n\">nu</span><span class=\"o\">**</span><span class=\"p\">(</span><span class=\"n\">nu</span><span class=\"o\">/</span><span class=\"mf\">2</span><span class=\"p\">)</span></pre>\n",
              "<pre class='cython code score-0 '>  __pyx_v_num = ((pow((2.0 * M_PI), .5) * __pyx_v_k) * pow(__pyx_v_nu, (__pyx_v_nu / 2.0)));\n",
              "</pre><pre class=\"cython line score-0\" onclick=\"(function(s){s.display=s.display==='block'?'none':'block'})(this.nextElementSibling.style)\">+<span class=\"\">21</span>:   <span class=\"n\">denom</span> <span class=\"o\">=</span> <span class=\"p\">(</span><span class=\"n\">math</span><span class=\"o\">.</span><span class=\"n\">tgamma</span><span class=\"p\">(</span><span class=\"n\">nu</span> <span class=\"o\">/</span> <span class=\"mf\">2</span><span class=\"p\">)</span> <span class=\"o\">*</span> <span class=\"mf\">2</span><span class=\"o\">**</span><span class=\"p\">(</span><span class=\"n\">nu</span> <span class=\"o\">/</span> <span class=\"mf\">2</span> <span class=\"o\">-</span> <span class=\"mf\">1</span><span class=\"p\">))</span></pre>\n",
              "<pre class='cython code score-0 '>  __pyx_v_denom = (tgamma((__pyx_v_nu / 2.0)) * pow(2.0, ((__pyx_v_nu / 2.0) - 1.0)));\n",
              "</pre><pre class=\"cython line score-0\" onclick=\"(function(s){s.display=s.display==='block'?'none':'block'})(this.nextElementSibling.style)\">+<span class=\"\">22</span>:   <span class=\"k\">return</span>  <span class=\"n\">num</span> <span class=\"o\">*</span> <span class=\"p\">(</span><span class=\"n\">denom</span> <span class=\"o\">**</span> <span class=\"o\">-</span><span class=\"mf\">1</span><span class=\"p\">)</span></pre>\n",
              "<pre class='cython code score-0 '>  __pyx_r = (__pyx_v_num * pow(__pyx_v_denom, -1.0));\n",
              "  goto __pyx_L0;\n",
              "</pre><pre class=\"cython line score-0\">&#xA0;<span class=\"\">23</span>: </pre>\n",
              "<pre class=\"cython line score-101\" onclick=\"(function(s){s.display=s.display==='block'?'none':'block'})(this.nextElementSibling.style)\">+<span class=\"\">24</span>: <span class=\"k\">cpdef</span> <span class=\"kt\">double</span> <span class=\"nf\">cdf_integrand_cython_optimized</span><span class=\"p\">(</span><span class=\"n\">double</span> <span class=\"n\">s</span><span class=\"p\">,</span> <span class=\"n\">double</span> <span class=\"n\">z</span><span class=\"p\">,</span> <span class=\"n\">double</span> <span class=\"n\">q</span><span class=\"p\">,</span> <span class=\"n\">double</span> <span class=\"n\">k</span><span class=\"p\">,</span> <span class=\"n\">double</span> <span class=\"n\">nu</span><span class=\"p\">):</span></pre>\n",
              "<pre class='cython code score-101 '>static PyObject *__pyx_pw_46_cython_magic_904b0adf1bca35c9aaf74567a73a0895_1cdf_integrand_cython_optimized(PyObject *__pyx_self, PyObject *__pyx_args, PyObject *__pyx_kwds); /*proto*/\n",
              "static double __pyx_f_46_cython_magic_904b0adf1bca35c9aaf74567a73a0895_cdf_integrand_cython_optimized(double __pyx_v_s, double __pyx_v_z, double __pyx_v_q, double __pyx_v_k, double __pyx_v_nu, CYTHON_UNUSED int __pyx_skip_dispatch) {\n",
              "  double __pyx_r;\n",
              "  <span class='refnanny'>__Pyx_RefNannyDeclarations</span>\n",
              "  <span class='refnanny'>__Pyx_RefNannySetupContext</span>(\"cdf_integrand_cython_optimized\", 0);\n",
              "/* … */\n",
              "  /* function exit code */\n",
              "  __pyx_L0:;\n",
              "  <span class='refnanny'>__Pyx_RefNannyFinishContext</span>();\n",
              "  return __pyx_r;\n",
              "}\n",
              "\n",
              "/* Python wrapper */\n",
              "static PyObject *__pyx_pw_46_cython_magic_904b0adf1bca35c9aaf74567a73a0895_1cdf_integrand_cython_optimized(PyObject *__pyx_self, PyObject *__pyx_args, PyObject *__pyx_kwds); /*proto*/\n",
              "static PyObject *__pyx_pw_46_cython_magic_904b0adf1bca35c9aaf74567a73a0895_1cdf_integrand_cython_optimized(PyObject *__pyx_self, PyObject *__pyx_args, PyObject *__pyx_kwds) {\n",
              "  double __pyx_v_s;\n",
              "  double __pyx_v_z;\n",
              "  double __pyx_v_q;\n",
              "  double __pyx_v_k;\n",
              "  double __pyx_v_nu;\n",
              "  PyObject *__pyx_r = 0;\n",
              "  <span class='refnanny'>__Pyx_RefNannyDeclarations</span>\n",
              "  <span class='refnanny'>__Pyx_RefNannySetupContext</span>(\"cdf_integrand_cython_optimized (wrapper)\", 0);\n",
              "  {\n",
              "    static PyObject **__pyx_pyargnames[] = {&amp;__pyx_n_s_s,&amp;__pyx_n_s_z,&amp;__pyx_n_s_q,&amp;__pyx_n_s_k,&amp;__pyx_n_s_nu,0};\n",
              "    PyObject* values[5] = {0,0,0,0,0};\n",
              "    if (unlikely(__pyx_kwds)) {\n",
              "      Py_ssize_t kw_args;\n",
              "      const Py_ssize_t pos_args = <span class='py_macro_api'>PyTuple_GET_SIZE</span>(__pyx_args);\n",
              "      switch (pos_args) {\n",
              "        case  5: values[4] = <span class='py_macro_api'>PyTuple_GET_ITEM</span>(__pyx_args, 4);\n",
              "        CYTHON_FALLTHROUGH;\n",
              "        case  4: values[3] = <span class='py_macro_api'>PyTuple_GET_ITEM</span>(__pyx_args, 3);\n",
              "        CYTHON_FALLTHROUGH;\n",
              "        case  3: values[2] = <span class='py_macro_api'>PyTuple_GET_ITEM</span>(__pyx_args, 2);\n",
              "        CYTHON_FALLTHROUGH;\n",
              "        case  2: values[1] = <span class='py_macro_api'>PyTuple_GET_ITEM</span>(__pyx_args, 1);\n",
              "        CYTHON_FALLTHROUGH;\n",
              "        case  1: values[0] = <span class='py_macro_api'>PyTuple_GET_ITEM</span>(__pyx_args, 0);\n",
              "        CYTHON_FALLTHROUGH;\n",
              "        case  0: break;\n",
              "        default: goto __pyx_L5_argtuple_error;\n",
              "      }\n",
              "      kw_args = <span class='py_c_api'>PyDict_Size</span>(__pyx_kwds);\n",
              "      switch (pos_args) {\n",
              "        case  0:\n",
              "        if (likely((values[0] = <span class='pyx_c_api'>__Pyx_PyDict_GetItemStr</span>(__pyx_kwds, __pyx_n_s_s)) != 0)) kw_args--;\n",
              "        else goto __pyx_L5_argtuple_error;\n",
              "        CYTHON_FALLTHROUGH;\n",
              "        case  1:\n",
              "        if (likely((values[1] = <span class='pyx_c_api'>__Pyx_PyDict_GetItemStr</span>(__pyx_kwds, __pyx_n_s_z)) != 0)) kw_args--;\n",
              "        else {\n",
              "          <span class='pyx_c_api'>__Pyx_RaiseArgtupleInvalid</span>(\"cdf_integrand_cython_optimized\", 1, 5, 5, 1); <span class='error_goto'>__PYX_ERR(0, 24, __pyx_L3_error)</span>\n",
              "        }\n",
              "        CYTHON_FALLTHROUGH;\n",
              "        case  2:\n",
              "        if (likely((values[2] = <span class='pyx_c_api'>__Pyx_PyDict_GetItemStr</span>(__pyx_kwds, __pyx_n_s_q)) != 0)) kw_args--;\n",
              "        else {\n",
              "          <span class='pyx_c_api'>__Pyx_RaiseArgtupleInvalid</span>(\"cdf_integrand_cython_optimized\", 1, 5, 5, 2); <span class='error_goto'>__PYX_ERR(0, 24, __pyx_L3_error)</span>\n",
              "        }\n",
              "        CYTHON_FALLTHROUGH;\n",
              "        case  3:\n",
              "        if (likely((values[3] = <span class='pyx_c_api'>__Pyx_PyDict_GetItemStr</span>(__pyx_kwds, __pyx_n_s_k)) != 0)) kw_args--;\n",
              "        else {\n",
              "          <span class='pyx_c_api'>__Pyx_RaiseArgtupleInvalid</span>(\"cdf_integrand_cython_optimized\", 1, 5, 5, 3); <span class='error_goto'>__PYX_ERR(0, 24, __pyx_L3_error)</span>\n",
              "        }\n",
              "        CYTHON_FALLTHROUGH;\n",
              "        case  4:\n",
              "        if (likely((values[4] = <span class='pyx_c_api'>__Pyx_PyDict_GetItemStr</span>(__pyx_kwds, __pyx_n_s_nu)) != 0)) kw_args--;\n",
              "        else {\n",
              "          <span class='pyx_c_api'>__Pyx_RaiseArgtupleInvalid</span>(\"cdf_integrand_cython_optimized\", 1, 5, 5, 4); <span class='error_goto'>__PYX_ERR(0, 24, __pyx_L3_error)</span>\n",
              "        }\n",
              "      }\n",
              "      if (unlikely(kw_args &gt; 0)) {\n",
              "        if (unlikely(<span class='pyx_c_api'>__Pyx_ParseOptionalKeywords</span>(__pyx_kwds, __pyx_pyargnames, 0, values, pos_args, \"cdf_integrand_cython_optimized\") &lt; 0)) <span class='error_goto'>__PYX_ERR(0, 24, __pyx_L3_error)</span>\n",
              "      }\n",
              "    } else if (<span class='py_macro_api'>PyTuple_GET_SIZE</span>(__pyx_args) != 5) {\n",
              "      goto __pyx_L5_argtuple_error;\n",
              "    } else {\n",
              "      values[0] = <span class='py_macro_api'>PyTuple_GET_ITEM</span>(__pyx_args, 0);\n",
              "      values[1] = <span class='py_macro_api'>PyTuple_GET_ITEM</span>(__pyx_args, 1);\n",
              "      values[2] = <span class='py_macro_api'>PyTuple_GET_ITEM</span>(__pyx_args, 2);\n",
              "      values[3] = <span class='py_macro_api'>PyTuple_GET_ITEM</span>(__pyx_args, 3);\n",
              "      values[4] = <span class='py_macro_api'>PyTuple_GET_ITEM</span>(__pyx_args, 4);\n",
              "    }\n",
              "    __pyx_v_s = __pyx_<span class='py_c_api'>PyFloat_AsDouble</span>(values[0]); if (unlikely((__pyx_v_s == (double)-1) &amp;&amp; <span class='py_c_api'>PyErr_Occurred</span>())) <span class='error_goto'>__PYX_ERR(0, 24, __pyx_L3_error)</span>\n",
              "    __pyx_v_z = __pyx_<span class='py_c_api'>PyFloat_AsDouble</span>(values[1]); if (unlikely((__pyx_v_z == (double)-1) &amp;&amp; <span class='py_c_api'>PyErr_Occurred</span>())) <span class='error_goto'>__PYX_ERR(0, 24, __pyx_L3_error)</span>\n",
              "    __pyx_v_q = __pyx_<span class='py_c_api'>PyFloat_AsDouble</span>(values[2]); if (unlikely((__pyx_v_q == (double)-1) &amp;&amp; <span class='py_c_api'>PyErr_Occurred</span>())) <span class='error_goto'>__PYX_ERR(0, 24, __pyx_L3_error)</span>\n",
              "    __pyx_v_k = __pyx_<span class='py_c_api'>PyFloat_AsDouble</span>(values[3]); if (unlikely((__pyx_v_k == (double)-1) &amp;&amp; <span class='py_c_api'>PyErr_Occurred</span>())) <span class='error_goto'>__PYX_ERR(0, 24, __pyx_L3_error)</span>\n",
              "    __pyx_v_nu = __pyx_<span class='py_c_api'>PyFloat_AsDouble</span>(values[4]); if (unlikely((__pyx_v_nu == (double)-1) &amp;&amp; <span class='py_c_api'>PyErr_Occurred</span>())) <span class='error_goto'>__PYX_ERR(0, 24, __pyx_L3_error)</span>\n",
              "  }\n",
              "  goto __pyx_L4_argument_unpacking_done;\n",
              "  __pyx_L5_argtuple_error:;\n",
              "  <span class='pyx_c_api'>__Pyx_RaiseArgtupleInvalid</span>(\"cdf_integrand_cython_optimized\", 1, 5, 5, <span class='py_macro_api'>PyTuple_GET_SIZE</span>(__pyx_args)); <span class='error_goto'>__PYX_ERR(0, 24, __pyx_L3_error)</span>\n",
              "  __pyx_L3_error:;\n",
              "  <span class='pyx_c_api'>__Pyx_AddTraceback</span>(\"_cython_magic_904b0adf1bca35c9aaf74567a73a0895.cdf_integrand_cython_optimized\", __pyx_clineno, __pyx_lineno, __pyx_filename);\n",
              "  <span class='refnanny'>__Pyx_RefNannyFinishContext</span>();\n",
              "  return NULL;\n",
              "  __pyx_L4_argument_unpacking_done:;\n",
              "  __pyx_r = __pyx_pf_46_cython_magic_904b0adf1bca35c9aaf74567a73a0895_cdf_integrand_cython_optimized(__pyx_self, __pyx_v_s, __pyx_v_z, __pyx_v_q, __pyx_v_k, __pyx_v_nu);\n",
              "  int __pyx_lineno = 0;\n",
              "  const char *__pyx_filename = NULL;\n",
              "  int __pyx_clineno = 0;\n",
              "\n",
              "  /* function exit code */\n",
              "  <span class='refnanny'>__Pyx_RefNannyFinishContext</span>();\n",
              "  return __pyx_r;\n",
              "}\n",
              "\n",
              "static PyObject *__pyx_pf_46_cython_magic_904b0adf1bca35c9aaf74567a73a0895_cdf_integrand_cython_optimized(CYTHON_UNUSED PyObject *__pyx_self, double __pyx_v_s, double __pyx_v_z, double __pyx_v_q, double __pyx_v_k, double __pyx_v_nu) {\n",
              "  PyObject *__pyx_r = NULL;\n",
              "  <span class='refnanny'>__Pyx_RefNannyDeclarations</span>\n",
              "  <span class='refnanny'>__Pyx_RefNannySetupContext</span>(\"cdf_integrand_cython_optimized\", 0);\n",
              "  <span class='pyx_macro_api'>__Pyx_XDECREF</span>(__pyx_r);\n",
              "  __pyx_t_1 = <span class='py_c_api'>PyFloat_FromDouble</span>(__pyx_f_46_cython_magic_904b0adf1bca35c9aaf74567a73a0895_cdf_integrand_cython_optimized(__pyx_v_s, __pyx_v_z, __pyx_v_q, __pyx_v_k, __pyx_v_nu, 0));<span class='error_goto'> if (unlikely(!__pyx_t_1)) __PYX_ERR(0, 24, __pyx_L1_error)</span>\n",
              "  <span class='refnanny'>__Pyx_GOTREF</span>(__pyx_t_1);\n",
              "  __pyx_r = __pyx_t_1;\n",
              "  __pyx_t_1 = 0;\n",
              "  goto __pyx_L0;\n",
              "\n",
              "  /* function exit code */\n",
              "  __pyx_L1_error:;\n",
              "  <span class='pyx_macro_api'>__Pyx_XDECREF</span>(__pyx_t_1);\n",
              "  <span class='pyx_c_api'>__Pyx_AddTraceback</span>(\"_cython_magic_904b0adf1bca35c9aaf74567a73a0895.cdf_integrand_cython_optimized\", __pyx_clineno, __pyx_lineno, __pyx_filename);\n",
              "  __pyx_r = NULL;\n",
              "  __pyx_L0:;\n",
              "  <span class='refnanny'>__Pyx_XGIVEREF</span>(__pyx_r);\n",
              "  <span class='refnanny'>__Pyx_RefNannyFinishContext</span>();\n",
              "  return __pyx_r;\n",
              "}\n",
              "</pre><pre class=\"cython line score-0\" onclick=\"(function(s){s.display=s.display==='block'?'none':'block'})(this.nextElementSibling.style)\">+<span class=\"\">25</span>:   <span class=\"k\">return</span> <span class=\"n\">constants</span><span class=\"p\">(</span><span class=\"n\">s</span><span class=\"p\">,</span> <span class=\"n\">z</span><span class=\"p\">,</span> <span class=\"n\">q</span><span class=\"p\">,</span> <span class=\"n\">k</span><span class=\"p\">,</span> <span class=\"n\">nu</span><span class=\"p\">)</span> <span class=\"o\">*</span> <span class=\"n\">outer</span><span class=\"p\">(</span><span class=\"n\">s</span><span class=\"p\">,</span> <span class=\"n\">z</span><span class=\"p\">,</span> <span class=\"n\">q</span><span class=\"p\">,</span> <span class=\"n\">k</span><span class=\"p\">,</span> <span class=\"n\">nu</span><span class=\"p\">)</span></pre>\n",
              "<pre class='cython code score-0 '>  __pyx_r = (__pyx_f_46_cython_magic_904b0adf1bca35c9aaf74567a73a0895_constants(__pyx_v_s, __pyx_v_z, __pyx_v_q, __pyx_v_k, __pyx_v_nu) * __pyx_f_46_cython_magic_904b0adf1bca35c9aaf74567a73a0895_outer(__pyx_v_s, __pyx_v_z, __pyx_v_q, __pyx_v_k, __pyx_v_nu));\n",
              "  goto __pyx_L0;\n",
              "</pre></div></body></html>"
            ],
            "text/plain": [
              "<IPython.core.display.HTML object>"
            ]
          },
          "metadata": {
            "tags": []
          },
          "execution_count": 158
        }
      ]
    },
    {
      "cell_type": "markdown",
      "metadata": {
        "id": "Aots9WeHUAGA"
      },
      "source": [
        "Almost all Python interaction has been eliminated, so the resulting integrand function is much faster than the original."
      ]
    },
    {
      "cell_type": "code",
      "metadata": {
        "id": "pMZDCgjoUTlX",
        "colab": {
          "base_uri": "https://localhost:8080/"
        },
        "outputId": "35c56146-6b64-4b24-deef-d296e21da94e"
      },
      "source": [
        "%timeit cdf_integrand_cython_optimized(1, 1, 3.77, 3, 12)"
      ],
      "execution_count": null,
      "outputs": [
        {
          "output_type": "stream",
          "text": [
            "The slowest run took 26.25 times longer than the fastest. This could mean that an intermediate result is being cached.\n",
            "1000000 loops, best of 5: 584 ns per loop\n"
          ],
          "name": "stdout"
        }
      ]
    },
    {
      "cell_type": "markdown",
      "metadata": {
        "id": "OzDRFUvxF25y"
      },
      "source": [
        "### Integration with Optimized Integrand"
      ]
    },
    {
      "cell_type": "markdown",
      "metadata": {
        "id": "wA5BD6N1OcES"
      },
      "source": [
        "Integrating using the optimized Cython integrand is nearly three order of magnitude faster than the original Python implementation."
      ]
    },
    {
      "cell_type": "code",
      "metadata": {
        "id": "gbqwqXlaINTX",
        "colab": {
          "base_uri": "https://localhost:8080/"
        },
        "outputId": "90724278-a642-4700-c8ab-e3077af7cbea"
      },
      "source": [
        "optimized_cython = %timeit -o dblquad(cdf_integrand_cython_optimized, -np.inf,  np.inf, lambda x: 0, lambda x: np.inf, args=(3.77, 3, 12))"
      ],
      "execution_count": null,
      "outputs": [
        {
          "output_type": "stream",
          "text": [
            "10 loops, best of 5: 19.6 ms per loop\n"
          ],
          "name": "stdout"
        }
      ]
    },
    {
      "cell_type": "markdown",
      "metadata": {
        "id": "hpXKEnvNGAEE"
      },
      "source": [
        "### Utilize SciPy's LowLevelCallable as the Integrand\n",
        "\n",
        "\n",
        "There is one remaining Python interaction that slows down integration: because `cdf_integrand_cython_optimized` is declared using `cpdef` and therefore has a Python interface, we know that `dblquad` is using the Python interface to call the function. It would be faster if the compiled code underlying `dblquad` could interact with the compiled version of the integrand directly. That is precisely what SciPy's [`LowLevelCallable`](https://docs.scipy.org/doc/scipy/reference/generated/scipy.LowLevelCallable.html) feature allows us to do.\n",
        "\n",
        "\n",
        "*Note: There are multiple possible implementations of a `LowLevelCallable`; the following is one that works in Jupyter Notebooks. Jupyter Notebook's `%%cython` magic command doesn't provide an interface for using `.pxd` files in compliation, so we must write it to the directory ourselves. The following two cells are not part of SciPy's implementation of the studentized range distribution, but allow us to demonstrate the idea on Google Colab and in Jupyter Notebooks.*\n"
      ]
    },
    {
      "cell_type": "code",
      "metadata": {
        "id": "0SqEcDGUP-ru"
      },
      "source": [
        "# disregard this cell, it is only used to set up the LowLevelCallable.\n",
        "%%cython -n tempName\n",
        "cpdef fun():\n",
        "  return None"
      ],
      "execution_count": null,
      "outputs": []
    },
    {
      "cell_type": "code",
      "metadata": {
        "id": "4JvkmJX4GA29"
      },
      "source": [
        "# disregard this cell, it is only used to set up the LowLevelCallable.\n",
        "import tempName\n",
        "import os\n",
        "path = tempName.__file__\n",
        "path_split = os.path.split(path)[0]\n",
        "path_pxd = os.path.join(path_split, \"studentized_range.pxd\")\n",
        "\n",
        "with open(path_pxd , \"w+\") as f:\n",
        "  f.write(\"cdef double genstudentized_range_cdf(int, double*, void*) nogil\")"
      ],
      "execution_count": null,
      "outputs": []
    },
    {
      "cell_type": "markdown",
      "metadata": {
        "id": "eGBIozzYRPT3"
      },
      "source": [
        "Once past that, we compile:"
      ]
    },
    {
      "cell_type": "code",
      "metadata": {
        "id": "SFnj05pUk_pQ"
      },
      "source": [
        "%%cython -f -n studentized_range\n",
        "cimport libc.math as math\n",
        "cimport scipy.special.cython_special as cs\n",
        "\n",
        "# ~~~~~~~~~~~~~~~~~~~~~~~~~~~~~~~~~~~~~~~~~~~~~~~~~~~~~~~~~~~~~~~~~~~~~~~~~~~~~~\n",
        "# The following code mirrors the above Cython cell. The new method is at the\n",
        "# bottom of this cell.\n",
        "\n",
        "cdef double _phi(double z) nogil:\n",
        "  \"\"\"evaluates the normal PDF. Used in `studentized range`\"\"\"\n",
        "  cdef double inv_sqrt_2pi = 0.3989422804014327\n",
        "  return inv_sqrt_2pi * math.exp(-0.5 * z * z)\n",
        "\n",
        "cdef double _Phi(double z) nogil:\n",
        "  \"\"\"evaluates the normal CDF. Used in `studentized range`\"\"\"\n",
        "  return cs.ndtr(z)\n",
        "\n",
        "cdef double inner(double s, double z, double q, double k, double nu) nogil:\n",
        "  return _phi(z)*(_Phi(z+q*s)-_Phi(z))**(k-1)\n",
        "\n",
        "cdef double outer(double s, double z, double q, double k, double nu) nogil:\n",
        "  inner_int = inner(s, z, q, k, nu)\n",
        "  return s**(nu) * _phi((nu ** .5)*s) * inner_int\n",
        "\n",
        "cdef double constants(double s, double z, double q, double k, double nu) nogil:\n",
        "  num = ((2 * math.M_PI)**.5)* k *nu**(nu/2)\n",
        "  denom = (math.tgamma(nu / 2) * 2**(nu / 2 - 1))\n",
        "  return  num * (denom ** -1)\n",
        "# ~~~~~~~~~~~~~~~~~~~~~~~~~~~~~~~~~~~~~~~~~~~~~~~~~~~~~~~~~~~~~~~~~~~~~~~~~~~~~~\n",
        "\n",
        "# This is new code that is formatted to work with `scipy.integrate.nquad`\n",
        "cdef double genstudentized_range_cdf(int n, double * x, void * user_data) nogil:\n",
        "    q = (<double *> user_data)[0]\n",
        "    k = (<double *> user_data)[1]\n",
        "    nu = (<double *> user_data)[2]\n",
        "\n",
        "    z = x[0]\n",
        "    s = x[1]\n",
        "    return outer(s, z, q, k, nu) * constants(s, z, q, k, nu)\n"
      ],
      "execution_count": null,
      "outputs": []
    },
    {
      "cell_type": "markdown",
      "metadata": {
        "id": "yxfOIY3NEfHb"
      },
      "source": [
        "We could use this `LowLevelCallable` in `dblquad`, but since `dblquad` is implemented using SciPy's n-integral quadrature function `nquad`, we'll call `nquad` directly."
      ]
    },
    {
      "cell_type": "code",
      "metadata": {
        "id": "6QgFJeDdK8_p"
      },
      "source": [
        "import studentized_range\n",
        "import ctypes\n",
        "from scipy._lib._ccallback import LowLevelCallable\n",
        "import numpy as np\n",
        "from scipy.integrate import nquad\n",
        "\n",
        "usr_data = np.array([3.77, 3, 12], float).ctypes.data_as(ctypes.c_void_p)\n",
        "studentized_range_cdf_lowlevelcallable = LowLevelCallable.from_cython(studentized_range, \"genstudentized_range_cdf\", usr_data)\n",
        "ranges = [(-np.inf, np.inf), (0, np.inf)]"
      ],
      "execution_count": null,
      "outputs": []
    },
    {
      "cell_type": "code",
      "metadata": {
        "id": "_n7GvpJjGPk3",
        "colab": {
          "base_uri": "https://localhost:8080/"
        },
        "outputId": "98835a5e-6ef0-417a-ceef-9e33615ce3e8"
      },
      "source": [
        "LLC_nquad = %timeit -o nquad(studentized_range_cdf_lowlevelcallable, ranges=ranges)[0]"
      ],
      "execution_count": null,
      "outputs": [
        {
          "output_type": "stream",
          "text": [
            "100 loops, best of 5: 14.9 ms per loop\n"
          ],
          "name": "stdout"
        }
      ]
    },
    {
      "cell_type": "markdown",
      "metadata": {
        "id": "Pm60HqN7Tm-T"
      },
      "source": [
        "## Other Improvements\n"
      ]
    },
    {
      "cell_type": "markdown",
      "metadata": {
        "id": "L7zs2vHqT-RQ"
      },
      "source": [
        "### Logarithmization\n",
        "\n",
        "over flow underflow numerical accuracy. Some of the terms are huge (gamma) some are tiny. The integrand without the constants inside it may underflow and the constants outside may overflow. fix by passing in constants, turn into logarithms -> balance out ot # that are more moderate. \n",
        "\n"
      ]
    },
    {
      "cell_type": "markdown",
      "metadata": {
        "id": "rtLmUy1oyZSV"
      },
      "source": [
        "With respect to accuracy, it was observed with this implementation the occasional warning of over or underflow for some extreme values. For example, some terms can become very large, like `gamma` and some terms can become very small, like $\\phi$. When multiplied together, they result in a moderate number, but if they are too large or small to represent accurately in the intermediate step as a float accuracy is lost in the result. We utilize this logarithmic relationship to circumvent over and underflow:\n",
        "$$\n",
        "ab = \\exp{(\\log{(a)} + \\log{(b)})}\n",
        "$$\n",
        "\n",
        "Since we can calculate $\\log{(a)}$ and $\\log{(b)}$ (or log-phi and log-gamma, in the implementation) directly we can exponentiate their sum and get the result that we want. The following scenario illustrates how overflow requires use of logarithms to compute a result at all. "
      ]
    },
    {
      "cell_type": "code",
      "metadata": {
        "colab": {
          "base_uri": "https://localhost:8080/"
        },
        "id": "b1vk442Hd9lu",
        "outputId": "19884c7f-4fa2-4643-b9a3-8d97cd3371cd"
      },
      "source": [
        "phi_small = phi(39)\n",
        "phi_small"
      ],
      "execution_count": null,
      "outputs": [
        {
          "output_type": "execute_result",
          "data": {
            "text/plain": [
              "0.0"
            ]
          },
          "metadata": {
            "tags": []
          },
          "execution_count": 166
        }
      ]
    },
    {
      "cell_type": "code",
      "metadata": {
        "colab": {
          "base_uri": "https://localhost:8080/"
        },
        "id": "w8LRUBloeL7e",
        "outputId": "b4af3e69-5d2a-477d-88b3-3e6089ce963e"
      },
      "source": [
        "import math\n",
        "try:\n",
        "    gamma_large = math.gamma(180)\n",
        "except OverflowError as e:\n",
        "  print(f\"OverflowError: {e}\") \n",
        "gamma_large = np.inf"
      ],
      "execution_count": null,
      "outputs": [
        {
          "output_type": "stream",
          "text": [
            "OverflowError: math range error\n"
          ],
          "name": "stdout"
        }
      ]
    },
    {
      "cell_type": "code",
      "metadata": {
        "colab": {
          "base_uri": "https://localhost:8080/"
        },
        "id": "Kmz52FGneSGu",
        "outputId": "d360b997-2a36-4ee1-8c80-c1b5b0e0a0ba"
      },
      "source": [
        "phi_small * gamma_large\n"
      ],
      "execution_count": null,
      "outputs": [
        {
          "output_type": "stream",
          "text": [
            "/usr/local/lib/python3.7/dist-packages/ipykernel_launcher.py:1: RuntimeWarning: invalid value encountered in double_scalars\n",
            "  \"\"\"Entry point for launching an IPython kernel.\n"
          ],
          "name": "stderr"
        },
        {
          "output_type": "execute_result",
          "data": {
            "text/plain": [
              "nan"
            ]
          },
          "metadata": {
            "tags": []
          },
          "execution_count": 168
        }
      ]
    },
    {
      "cell_type": "markdown",
      "metadata": {
        "id": "auvqiarXe4Jw"
      },
      "source": [
        "The result cannot be used because of overflow from `gamma` and possible underflow from `phi`. With logarithms it is possible to compute a result:"
      ]
    },
    {
      "cell_type": "code",
      "metadata": {
        "colab": {
          "base_uri": "https://localhost:8080/"
        },
        "id": "BVpzR6bhe5xS",
        "outputId": "3a33890a-7146-4a46-bb4f-d79adebd2a9c"
      },
      "source": [
        "def logphi(x):\n",
        "  return  -0.9189385332046727 - .5 * x**2\n",
        "\n",
        "np.exp(math.lgamma(180) + logphi(39))"
      ],
      "execution_count": null,
      "outputs": [
        {
          "output_type": "execute_result",
          "data": {
            "text/plain": [
              "0.00023316077923749782"
            ]
          },
          "metadata": {
            "tags": []
          },
          "execution_count": 169
        }
      ]
    },
    {
      "cell_type": "markdown",
      "metadata": {
        "id": "u__duVXydeTE"
      },
      "source": [
        "To ensure that this type of occurance does not impact results, we make use of logarithms to reduce large terms and then exponentiate before returning the LowLevelCallable. Additionally, we propose passing in the constant terms, such that they do not have to be recomputed for every evaluation of the integral, but are still included in the error calculation of `dblquad`. "
      ]
    },
    {
      "cell_type": "code",
      "metadata": {
        "id": "AEE52tjC0tZz"
      },
      "source": [
        "# disregard this cell, it is only used to set up the LowLevelCallable.\n",
        "import tempName\n",
        "import os\n",
        "path = tempName.__file__\n",
        "path_split = os.path.split(path)[0]\n",
        "path_pxd = os.path.join(path_split, \"studentized_range_log.pxd\")\n",
        "\n",
        "with open(path_pxd , \"w+\") as f:\n",
        "  f.write(\"cdef double _studentized_range_cdf(int, double*, void*) nogil\")"
      ],
      "execution_count": null,
      "outputs": []
    },
    {
      "cell_type": "code",
      "metadata": {
        "id": "OS9XY4PuzolW"
      },
      "source": [
        "%%cython -n studentized_range_log\n",
        "cimport libc.math as math\n",
        "cimport scipy.special.cython_special as cs\n",
        "\n",
        "# ~~~~~~~~~~~~~~~~~~~~~~~~~~~~~~~~~~~~~~~~~~~~~~~~~~~~~~~~~~~~~~~~~~~~~~~~~~~~~~\n",
        "# The following code mirrors the above cell. The new method is at the\n",
        "# bottom of this cell.\n",
        "cpdef double studentized_range_cdf_logconst(double k, double df):\n",
        "  \"\"\"Evaluates log of constant terms in the cdf integrand\"\"\"\n",
        "  cdef double log_2 = 0.6931471805599453\n",
        "  return (math.log(k) + (df / 2) * math.log(df)\n",
        "          - (math.lgamma(df / 2) + (df / 2 - 1) * log_2))\n",
        "  \n",
        "cdef double phi(double z) nogil:\n",
        "  \"\"\"evaluates the normal PDF. Used in `studentized range`\"\"\"\n",
        "  cdef double inv_sqrt_2pi = 0.3989422804014327\n",
        "  return inv_sqrt_2pi * math.exp(-0.5 * z * z)\n",
        "\n",
        "cdef double Phi(double z) nogil:\n",
        "  \"\"\"evaluates the normal CDF. Used in `studentized range`\"\"\"\n",
        "  return cs.ndtr(z)\n",
        "# ~~~~~~~~~~~~~~~~~~~~~~~~~~~~~~~~~~~~~~~~~~~~~~~~~~~~~~~~~~~~~~~~~~~~~~~~~~~~~~\n",
        "\n",
        "# New code    \n",
        "cdef double _logphi(double z) nogil:\n",
        "  \"\"\"evaluates the log of the normal PDF. Used in `studentized_range`\"\"\"\n",
        "  cdef double log_inv_sqrt_2pi = -0.9189385332046727\n",
        "  return log_inv_sqrt_2pi - 0.5 * z * z\n",
        "\n",
        "cdef double _studentized_range_cdf(int n, double[2] integration_var,\n",
        "                                  void *user_data) nogil:\n",
        "  q = (<double *> user_data)[0]\n",
        "  k = (<double *> user_data)[1]\n",
        "  df = (<double *> user_data)[2]\n",
        "  log_cdf_const = (<double *> user_data)[3]\n",
        "\n",
        "  s = integration_var[1]\n",
        "  z = integration_var[0]\n",
        "\n",
        "  # suitable terms are evaluated within logarithms to avoid under/overflows\n",
        "  log_terms = (log_cdf_const\n",
        "                + (df - 1) * math.log(s)\n",
        "                - (df * s * s / 2)\n",
        "                + _logphi(z))\n",
        "  # multiply remaining term outside of log because it can be 0\n",
        "  return math.exp(log_terms) * math.pow(Phi(z + q * s) - Phi(z), k - 1)"
      ],
      "execution_count": null,
      "outputs": []
    },
    {
      "cell_type": "code",
      "metadata": {
        "id": "C58aOzat094X"
      },
      "source": [
        "import studentized_range_log as srd\n",
        "import ctypes\n",
        "from scipy._lib._ccallback import LowLevelCallable\n",
        "import numpy as np\n",
        "from scipy.integrate import nquad\n",
        "\n",
        "def cython_LLC_log_cdf(q, k, v):\n",
        "  log_const = srd.studentized_range_cdf_logconst(k, v)\n",
        "  usr_data = np.array([3.77, 3, 12, log_const], float).ctypes.data_as(ctypes.c_void_p)\n",
        "  studentized_range_cdf_lowlevelcallable = LowLevelCallable.from_cython(srd, \"_studentized_range_cdf\", usr_data)\n",
        "  ranges = [(-np.inf, np.inf), (0, np.inf)]\n",
        "  return nquad(studentized_range_cdf_lowlevelcallable, ranges=ranges)[0]"
      ],
      "execution_count": null,
      "outputs": []
    },
    {
      "cell_type": "code",
      "metadata": {
        "id": "qNG-cIfY3I7l",
        "colab": {
          "base_uri": "https://localhost:8080/"
        },
        "outputId": "cd7a4ed4-24e2-4bec-806a-56421b6b9e53"
      },
      "source": [
        "optimized_LLC = %timeit -o cython_LLC_log_cdf(3.77, 3, 12)"
      ],
      "execution_count": null,
      "outputs": [
        {
          "output_type": "stream",
          "text": [
            "100 loops, best of 5: 5.9 ms per loop\n"
          ],
          "name": "stdout"
        }
      ]
    },
    {
      "cell_type": "markdown",
      "metadata": {
        "id": "hqsZRAcW3YLY"
      },
      "source": [
        "The speed of this implementation (hereon referred to as \"SciPy Implementation\") is more reliable and has better performance than the non-logarithmized version. "
      ]
    },
    {
      "cell_type": "markdown",
      "metadata": {
        "id": "51ziy1owT-_k"
      },
      "source": [
        "### ufunc\n",
        "Statistical functions in SciPy are vectorized; that is, they accept NumPy arrays as inputs and perform the calculations element-wise. We endow our function with this capabilities by making it a NumPy universal function (\"ufunc\"). `np.frompyfunc` makes this very simple:"
      ]
    },
    {
      "cell_type": "code",
      "metadata": {
        "id": "msrmELUzBHk7"
      },
      "source": [
        "ufunc = np.frompyfunc(cython_LLC_log_cdf, nin=3, nout=1)"
      ],
      "execution_count": null,
      "outputs": []
    },
    {
      "cell_type": "markdown",
      "metadata": {
        "id": "ejMmBbaGDdfe"
      },
      "source": [
        "With that short invocation, our function now supports array inputs, broadcasting arrays of different shapes according the usual conventions."
      ]
    },
    {
      "cell_type": "code",
      "metadata": {
        "id": "5a4MtzqqDgzc",
        "colab": {
          "base_uri": "https://localhost:8080/"
        },
        "outputId": "71067a3c-d6c6-43cb-f776-a12cffc03de7"
      },
      "source": [
        "q = np.asarray([1.77, 2.77, 3.77])\n",
        "k = np.asarray([1, 2, 3])\n",
        "v = np.asarray([10, 11, 12])\n",
        "ufunc(q, k[..., None], v).astype(np.float64)"
      ],
      "execution_count": null,
      "outputs": [
        {
          "output_type": "execute_result",
          "data": {
            "text/plain": [
              "array([[0.10603067, 0.18362455, 0.31660588],\n",
              "       [0.21206134, 0.3672491 , 0.63321176],\n",
              "       [0.31809201, 0.55087365, 0.94981764]])"
            ]
          },
          "metadata": {
            "tags": []
          },
          "execution_count": 175
        }
      ]
    },
    {
      "cell_type": "markdown",
      "metadata": {
        "id": "RKc-AVAnOkO4"
      },
      "source": [
        "## Quantifying Speed Improvements"
      ]
    },
    {
      "cell_type": "markdown",
      "metadata": {
        "id": "ajL6AWtFOvzM"
      },
      "source": [
        "The graph below represents typical execution time of each of the versions of the studentized range CDF code above: \n",
        "- \"Python\" - A very direct implementation\n",
        "- \"Optimized Python\" - Python with faster `phi` and `Phi`\n",
        "- \"Cython\" - Integration with optimized integrand\n",
        "- \"LLC\" - LowLevelCallable as integrand\n",
        "- \"Optimized LLC\" - improved LowLevelCallable with precomputed constants and logarithms to prevent overflow and underflow.\n"
      ]
    },
    {
      "cell_type": "code",
      "metadata": {
        "id": "l0pOUIBE4-9x"
      },
      "source": [
        "%%capture\n",
        "!apt install texlive-fonts-recommended texlive-fonts-extra cm-super dvipng"
      ],
      "execution_count": null,
      "outputs": []
    },
    {
      "cell_type": "code",
      "metadata": {
        "id": "zgQxj2Tv5c03",
        "colab": {
          "base_uri": "https://localhost:8080/",
          "height": 428
        },
        "outputId": "84736a68-57cc-48ba-ecf4-f1607815724b"
      },
      "source": [
        "import matplotlib\n",
        "import matplotlib.pyplot as plt\n",
        "import numpy as np\n",
        "\n",
        "%matplotlib inline\n",
        "plt.rc('text', usetex=True)\n",
        "plt.rc('font', family='serif')\n",
        "matplotlib.rcParams['figure.figsize'] = [8, 6]\n",
        "matplotlib.rcParams.update({'font.size': 16})\n",
        "\n",
        "fig, ax = plt.subplots()\n",
        "inputs = [python_quad,\n",
        "          improved_python,\n",
        "          optimized_cython,\n",
        "          LLC_nquad, \n",
        "          optimized_LLC\n",
        "          ]\n",
        "index = np.arange(len(inputs))\n",
        "times = [input.best for input in inputs]\n",
        "t = ax.bar(index, times)\n",
        "ax.set_yscale('log')\n",
        "ax.set_ylabel(\"Time (seconds)\")\n",
        "ax.set_xlabel(\"Computation Method\")\n",
        "\n",
        "ax.set_title(\"CDF Computation Time By Method\")\n",
        "ax.set_xticks(index)\n",
        "labels = (\"Python\", \"Optimized\\nPython\", \"Cython\", \"LLC\", \"Optimized LLC\" )\n",
        "ax.set_xticklabels(labels)\n",
        "\n",
        "# put label on top of each bar\n",
        "for index, data in enumerate(times):\n",
        "  plt.text(x = index,\n",
        "           y = data ,\n",
        "           s=f\"{data:.4f}s\",\n",
        "           ha='center',\n",
        "           va='bottom')\n",
        "plt.setp(ax.get_xticklabels(), fontsize=14)\n",
        "plt.ylim(np.min(times)**1.1,10**1.4)\n",
        "\n",
        "plt.show()"
      ],
      "execution_count": null,
      "outputs": [
        {
          "output_type": "display_data",
          "data": {
            "image/png": "[encoded data removed]",
            "text/plain": [
              "<Figure size 576x432 with 1 Axes>"
            ]
          },
          "metadata": {
            "tags": [],
            "needs_background": "light"
          }
        }
      ]
    },
    {
      "cell_type": "markdown",
      "metadata": {
        "id": "a9LMh9RGIHjB"
      },
      "source": [
        "## Establishing Accuracy\n",
        "\n",
        "One way of veryifying the accuracy of the wrapped LowLevelCallable as a solution to calculate the CDF is to compare its results against the already existing methods; the `statsmodels` package has an implementation based off of interpolating between existing studentized range tables there is an R interface for wrapped Fortran code. However, neither of these are both modern and full implementations of the integral. Therefore, it is neccesary to determine a way to establish the ground truth values to compare against."
      ]
    },
    {
      "cell_type": "markdown",
      "metadata": {
        "id": "9icFMyhItPsc"
      },
      "source": [
        "### Determining Ground Truth\n",
        "\n",
        "To fully flesh out the accuracy of our methods used in our cython implementation, we want to come up with a method that is unoquivocally accurate. For this, we turn to [`mpmath`](https://mpmath.org/), a Python library for floating point arithmetic with arbitrary precision. There is a cost of this increased precision; `mpmath` integrations can take many seconds for increased precision. \n",
        "\n",
        "The goal is to determine a ground truth value, so the path we follow is to implement the integral with `mpmath` functions, using two separate methods of integration, *tanh-sinh quadrature* and *Gauss-Legendre quadrature*, and then increase the degrees of precision until the results converge. While the `mpmath` functions used for this exercise are shown in the following cells, their outputs are provided due to the time needed to run them, which is in excess of 10 minutes."
      ]
    },
    {
      "cell_type": "code",
      "metadata": {
        "id": "KMqZoML_L9Sm"
      },
      "source": [
        "from mpmath import gamma, pi, erf, exp, sqrt, quad, inf, mpf\n",
        "from mpmath import npdf as phi\n",
        "from mpmath import ncdf as Phi\n",
        "from mpmath import mp\n",
        "\n",
        "\n",
        "def _cdf_mp(q, k, nu, method, verbose=True, error=True, dps=15):\n",
        "  mp.dps = dps\n",
        "  q, k, nu = mpf(q), mpf(k), mpf(nu)\n",
        "\n",
        "  def inner(s, z):\n",
        "    return phi(z)*(Phi(z+q*s)-Phi(z))**(k-1)\n",
        "\n",
        "  def outer(s, z):\n",
        "    return s**(nu-1)*phi(sqrt(nu)*s)*inner(s, z)\n",
        "\n",
        "  def whole(s, z):\n",
        "    return sqrt(2*pi)*k*nu**(nu/2) / (gamma(nu/2)*2**(nu/2-1))*outer(s, z)\n",
        "  res = quad(whole, [0, inf], [-inf, inf], error=error,\n",
        "             method=method, maxdegree=10)\n",
        "  return res\n",
        "\n",
        "def cdf_mp_gl(q, k, nu, verbose=True, error=True, dps=15):\n",
        "  return _cdf_mp(q, k, nu, method='gauss-legendre', verbose=verbose,\n",
        "                error=error, dps=dps)\n",
        "\n",
        "def cdf_mp_ts(q, k, nu, verbose=True, error=True, dps=15):\n",
        "  return _cdf_mp(q, k, nu, method='tanh-sinh', verbose=verbose, error=error,\n",
        "                 dps=dps)\n",
        "\n",
        "\n",
        "def eval_over_dps_range(q, k, v, dps_range):\n",
        "  ts_cdf = []\n",
        "  gl_cdf = [] \n",
        "  for dps in dps_range:\n",
        "    print(dps)\n",
        "    ts_cdf.append(cdf_mp_ts(q, k, v, dps=dps)[0])\n",
        "    gl_cdf.append(cdf_mp_gl(q, k, v, dps=dps)[0])\n",
        "  return ts_cdf, gl_cdf\n"
      ],
      "execution_count": null,
      "outputs": []
    },
    {
      "cell_type": "markdown",
      "metadata": {
        "id": "AC7QPtyOw84W"
      },
      "source": [
        "As the degrees of precision increases, the absolute difference between the *tanh-sinh* and Gauss-Legendre quadrature integration methods converge. Therefore, we establish that the ground truth value to be the average of the gauss-legendre and tanh-sinh methods at 25 degrees of precision. Data has been generated for this arbitrarily selected set of parameters: \n",
        "$$q, k, \\nu = 4.577, 10, 10$$"
      ]
    },
    {
      "cell_type": "code",
      "metadata": {
        "colab": {
          "base_uri": "https://localhost:8080/"
        },
        "id": "6lYZWMDMQlzp",
        "outputId": "35680abf-ba58-4cc4-c76e-35725b6e69a1"
      },
      "source": [
        "# mpmath computation is very slow, so the results have been precomputed\n",
        "!git clone https://github.com/swallan/srdcolab.git\n",
        "mp.dps = 25\n",
        "with open('srdcolab/gl_cdf.npy', 'rb') as f:\n",
        "    gl_cdf = np.load(f, allow_pickle=True)\n",
        "with open('srdcolab/ts_cdf.npy', 'rb') as f:\n",
        "    ts_cdf = np.load(f, allow_pickle=True)"
      ],
      "execution_count": null,
      "outputs": [
        {
          "output_type": "stream",
          "text": [
            "fatal: destination path 'srdcolab' already exists and is not an empty directory.\n"
          ],
          "name": "stdout"
        }
      ]
    },
    {
      "cell_type": "code",
      "metadata": {
        "id": "bJ13ekQe9Yky",
        "colab": {
          "base_uri": "https://localhost:8080/"
        },
        "outputId": "c5b66a1b-f6c6-4e0c-c644-3403799b8bea"
      },
      "source": [
        "gt = (gl_cdf[-1] + ts_cdf[-1]) / 2\n",
        "print(gt)"
      ],
      "execution_count": null,
      "outputs": [
        {
          "output_type": "stream",
          "text": [
            "0.8602913886732686811098036\n"
          ],
          "name": "stdout"
        }
      ]
    },
    {
      "cell_type": "markdown",
      "metadata": {
        "id": "Mn_Clb6iRrEw"
      },
      "source": [
        "### Comparing against ground truth"
      ]
    },
    {
      "cell_type": "markdown",
      "metadata": {
        "id": "Lx6ul5Ny1a0T"
      },
      "source": [
        "At various degrees of precision (\"espilon\"), we would like to examine the relative absolute error of the presented Cython implementation, R's `ptukey` and `statsmodels`. Like the digits of precision in `mpmath`, we utilize the `epsabs` parameter when integrating over the Cython LowLevelCallable to adjust the level of precision. We calculate the result of the function at different levels of precision to examine the absolute accuracy. R and StatsModels do not provide an interface for the possibility of increased precision, so their results are constant.\n",
        "\n",
        "\n",
        "We compute the results of the CDF for SciPy, StatsModels, and R, and then find the absolute error from the ground truth value. "
      ]
    },
    {
      "cell_type": "code",
      "metadata": {
        "id": "_TxOCaf_wSQM"
      },
      "source": [
        "# SciPy\n",
        "from mpmath import mpf, fabs, mp\n",
        "import numpy as np\n",
        "import scipy.integrate as integrate\n",
        "import ctypes\n",
        "\n",
        "mp.dps = 25\n",
        "q, k, v = 4.577, 10, 10\n",
        "\n",
        "def cython_cdf(dps):\n",
        "  log_const = srd.studentized_range_cdf_logconst(k, v)\n",
        "  usr_data = np.array([q, k, v, log_const], float).ctypes.data_as(ctypes.c_void_p)\n",
        "  llc = LowLevelCallable.from_cython(srd, \"_studentized_range_cdf\", usr_data)\n",
        "  ranges = [(-np.inf, np.inf), (0, np.inf)]\n",
        "  atol = 10**-(dps)\n",
        "  opts = dict(epsabs=atol)\n",
        "  return nquad(llc, ranges=ranges, opts=opts)[0]\n",
        "\n",
        "dps_range = range(5, 25)\n",
        "cython = []\n",
        "\n",
        "for dps in dps_range:\n",
        "  cython.append(cython_cdf(dps))\n"
      ],
      "execution_count": null,
      "outputs": []
    },
    {
      "cell_type": "markdown",
      "metadata": {
        "id": "tzv2zaNT296Z"
      },
      "source": [
        "StatsModels does not have a toggle for accuracy, so its result is constant."
      ]
    },
    {
      "cell_type": "code",
      "metadata": {
        "id": "Pj49-thq6paZ"
      },
      "source": [
        "from statsmodels.stats.libqsturng import psturng\n",
        "def statsmodels_cdf(q, k, v):\n",
        "  # `psturng` returns the `alpha` value, which we \n",
        "  # convert to a p-value. \n",
        "  return 1 - psturng(q, k, v)\n",
        "\n",
        "sm_cdf = [statsmodels_cdf(q, k, v)] * len(dps_range)"
      ],
      "execution_count": null,
      "outputs": []
    },
    {
      "cell_type": "markdown",
      "metadata": {
        "id": "utAErgxO2-ii"
      },
      "source": [
        "R's accuracy is fixed, so its result is constant."
      ]
    },
    {
      "cell_type": "code",
      "metadata": {
        "id": "WQ2vD5eM5pf7",
        "colab": {
          "base_uri": "https://localhost:8080/"
        },
        "outputId": "e6c583d4-b71e-445e-e5b2-d4a9ed3cbc0c"
      },
      "source": [
        "%load_ext rpy2.ipython "
      ],
      "execution_count": null,
      "outputs": [
        {
          "output_type": "stream",
          "text": [
            "The rpy2.ipython extension is already loaded. To reload it, use:\n",
            "  %reload_ext rpy2.ipython\n"
          ],
          "name": "stdout"
        }
      ]
    },
    {
      "cell_type": "code",
      "metadata": {
        "id": "0jxGGz045mVJ"
      },
      "source": [
        "# execute R code and return the result to a python variable\n",
        "%%R -o cdf_r_single\n",
        "cdf_r_single <- ptukey(4.577, 10, 10)"
      ],
      "execution_count": null,
      "outputs": []
    },
    {
      "cell_type": "code",
      "metadata": {
        "id": "WiTShns367Ns"
      },
      "source": [
        "cdf_r = [cdf_r_single[0]] * len(dps_range)"
      ],
      "execution_count": null,
      "outputs": []
    },
    {
      "cell_type": "markdown",
      "metadata": {
        "id": "CzL_rTVd2_Z1"
      },
      "source": [
        "Calculate relative error for each sample at 25 `dps`."
      ]
    },
    {
      "cell_type": "code",
      "metadata": {
        "id": "_I2E8chd9s_W"
      },
      "source": [
        "from mpmath import mpf, fabs, mp\n",
        "import numpy as np\n",
        "\n",
        "mp.dps = 25\n",
        "\n",
        "cython_err = [fabs(c - gt)/gt for c in cython]\n",
        "gl_err = [fabs(gl - gt)/gt for gl in gl_cdf]\n",
        "ts_err = [fabs(ts - gt)/gt for ts in ts_cdf]\n",
        "sm_err = [fabs(sm - gt)/gt for sm in sm_cdf]\n",
        "r_err = [fabs(r - gt)/gt for r in cdf_r]"
      ],
      "execution_count": null,
      "outputs": []
    },
    {
      "cell_type": "markdown",
      "metadata": {
        "id": "A5_AVKUl9uW9"
      },
      "source": [
        "Using the relative error, we can compare the accuracy of each of the methods in a chart. "
      ]
    },
    {
      "cell_type": "code",
      "metadata": {
        "id": "wy0T2-yIxTYO",
        "colab": {
          "base_uri": "https://localhost:8080/",
          "height": 457
        },
        "outputId": "2eb30e3a-99d5-4582-ba2f-01ec80c7b08b"
      },
      "source": [
        "import matplotlib\n",
        "import matplotlib.pyplot as plt\n",
        "import matplotlib.ticker as ticker\n",
        "\n",
        "# styling setup\n",
        "plt.rc('font', family='serif')\n",
        "matplotlib.rcParams['figure.figsize'] = [8, 6]\n",
        "matplotlib.rcParams.update({'font.size': 16})\n",
        "fig, ax = plt.subplots()\n",
        "\n",
        "# corresponding x axis values\n",
        "rng = list(range(5, 25))\n",
        "ax.semilogy(rng, cython_err, rng, sm_err, rng, r_err, rng, gl_err, rng, ts_err)\n",
        "ax.legend((\"SciPy\", \"statsmodels\", \"R\", \"mp-gl\", \"mp-ts\"))\n",
        "ax.set_title(f\"Absolute Deviation from Ground Truth\\nof CDF({q}, {k}, {v})\"\n",
        "              \" at various espsilon\\nfor different implementations\")\n",
        "ax.set_ylabel(\"relative absolute error\")\n",
        "ax.set_xlabel(\"espilon\")\n",
        "\n",
        "plt.xticks(range(5, 25, 2))\n",
        "\n",
        "data = np.asarray([cython_err, sm_err, r_err, gl_err, ts_err])\n",
        "labels = [\"SciPy\", \"statsmodels\", \"R\", \"mp-gl\", \"mp-ts\"]\n",
        "\n",
        "ax.set_yscale('symlog', linthreshy=1e-24)\n",
        "\n",
        "# set the number of ticks on the y axis.\n",
        "locmaj = ticker.LogLocator(base=10, numticks=16) \n",
        "ax.yaxis.set_major_locator(locmaj)\n",
        "\n",
        "plt.show()\n"
      ],
      "execution_count": null,
      "outputs": [
        {
          "output_type": "display_data",
          "data": {
            "image/png": "[encoded data removed]",
            "text/plain": [
              "<Figure size 576x432 with 1 Axes>"
            ]
          },
          "metadata": {
            "tags": [],
            "needs_background": "light"
          }
        }
      ]
    },
    {
      "cell_type": "markdown",
      "metadata": {
        "id": "xZIZYsHf7Sj1"
      },
      "source": [
        "As stated the `mpmath` implementations for *tanh-sinh* and *gauss legendre* converge to the same value as the digits of precision increases. StatsModels is accurate to the fourth decimal place, R is accurate to the ninth decimal place, and SciPy levels off in accuracy to about 14 decimal places at 9 digits of precision. "
      ]
    },
    {
      "cell_type": "markdown",
      "metadata": {
        "id": "_teRnqZ0RyqN"
      },
      "source": [
        "### Affirming of Statistical Significance of Accuracy\n",
        "\n",
        "\n",
        "We observe that SciPy has a high degree of accuracy for the above arbitrarily selected case. We would like to say that this method is accurate for most computations, so we rely on two statistical tests in a simulation:\n",
        "\n",
        "- Binomial Test\n",
        "- Bootstrap Confidence Intervals of Error\n",
        "\n",
        "\n",
        "\n",
        "#### Experimental Setup\n",
        "For this simulation, 1000 randomly generated sets of $q, k, $ and $\\nu$ values were evaluated with `mpmath` at 18 digits of precision, more than number of digits that Python floats can have. The process of generating $q, k, $ and $\\nu$ was intended to cover most common scenarios.\n",
        "\n",
        "For each of the 1000 observations:\n",
        " 1. a $k$ was randomly generated uniformly in the range 1, the minimum value supported by the distribution, through 120, the largest finite value provided by most available online tables.\n",
        " 2. a $\\nu$ was randomly generated uniformly in the range 2 through 100, with bounds chose for the same reason as above.\n",
        " 3.  A $p$ value was randomly generated uniformly in the range 0 through 1, and then the corresponding $q$ was determined from the distribution with the given $k$ and $\\nu$. \n",
        "\n",
        "\n",
        "We define the `mpmath` implementation at 18 digits of precision to be the ground truth value, as it was observed that at 18 digits of precision, `mpmath` yields more accuracy than standard python float which only holds 16 decimals:\n",
        "$$\n",
        "F_{MP}(q; k, v) \n",
        "$$\n",
        "\n",
        "Similarly, we define the implementations for SciPy, StatsModels, and R:\n",
        "$$F_{SP}(q; k, v) \\\\\n",
        "\\\\\n",
        "F_{SM}(q; k, v) \\\\\n",
        "F_{R}(q; k, v)^*$$\n",
        "\n",
        "\n",
        "$^*$ the R implementation does not support parameters where $\\nu = 0$. For the sake of quantitative comparison, these results have been filtered out."
      ]
    },
    {
      "cell_type": "markdown",
      "metadata": {
        "id": "L0IN075DTcZ2"
      },
      "source": [
        "The following cell's function is to load in the data and convert it to list form."
      ]
    },
    {
      "cell_type": "code",
      "metadata": {
        "id": "4x1Nl2WXMILg"
      },
      "source": [
        "with open('srdcolab/glnp.npy', 'rb') as f:\n",
        "    gl_l = np.load(f, allow_pickle=True)\n",
        "with open('srdcolab/smnp.npy', 'rb') as f:\n",
        "    sm_l = np.load(f)\n",
        "with open('srdcolab/cnp.npy', 'rb') as f:\n",
        "    c_l = np.load(f)\n",
        "with open('srdcolab/rnp.npy', 'rb') as f:\n",
        "    r_l = np.load(f)"
      ],
      "execution_count": null,
      "outputs": []
    },
    {
      "cell_type": "markdown",
      "metadata": {
        "id": "22xNuHO2TlaM"
      },
      "source": [
        "The absolute errors for SciPy, StatsModels, and R were then calculated according to the ground truth value from `mpmath`:\n",
        "\n",
        "$$\n",
        "SP_{ERR} = \\mathrm{abs}(F_{MP}(q; k, v) - {F_{SP}}(q; k, v)\\\\\n",
        "SM_{ERR} = \\mathrm{abs}(F_{MP}(q; k, v) - F_{SM}(q; k, v) \\\\\n",
        "R_{ERR} = \\mathrm{abs}(F_{MP}(q; k, v) - F_{R}(q; k, v) \n",
        "$$\n",
        "\n",
        "  \n"
      ]
    },
    {
      "cell_type": "code",
      "metadata": {
        "id": "wlEdsbqeQKh3"
      },
      "source": [
        "cython_errors = np.asarray(np.abs(c_l - gl_l), dtype=float)\n",
        "sm_errors = np.asarray(np.abs(sm_l - gl_l), dtype=float)\n",
        "r_errors = np.asarray(np.abs(r_l - gl_l), dtype=float)"
      ],
      "execution_count": null,
      "outputs": []
    },
    {
      "cell_type": "markdown",
      "metadata": {
        "id": "aQAl8FonVXKk"
      },
      "source": [
        "### Exact Binomial Test of Accuracy\n",
        "We also the results of this implementation with the SciPy's binomial test [ref]. \n",
        "\n",
        "We would like to say that having less than 1e-12 absolute error constitues an accurate computation. Therefore, we conduct the test under the hypothesis that exactly 99% of results from the space are accurate. The alternative hypothesis is that the true percentage of results from the space that are accurate is greater than 99%. \n",
        "\n",
        "Out of 1000 results, 998 had errors less than than 1e-12. Our desired significance level is .01."
      ]
    },
    {
      "cell_type": "code",
      "metadata": {
        "colab": {
          "base_uri": "https://localhost:8080/"
        },
        "id": "HG2_IgZtt62c",
        "outputId": "addfc681-135f-41c4-c022-fec867a14d37"
      },
      "source": [
        "# ensure the most recent version of SciPy is installed\n",
        "!pip install scipy==1.7.0"
      ],
      "execution_count": null,
      "outputs": [
        {
          "output_type": "stream",
          "text": [
            "Requirement already satisfied: scipy==1.7.0 in /usr/local/lib/python3.7/dist-packages (1.7.0)\n",
            "Requirement already satisfied: numpy<1.23.0,>=1.16.5 in /usr/local/lib/python3.7/dist-packages (from scipy==1.7.0) (1.19.5)\n"
          ],
          "name": "stdout"
        }
      ]
    },
    {
      "cell_type": "code",
      "metadata": {
        "id": "47qmHJmlWg6V",
        "colab": {
          "base_uri": "https://localhost:8080/"
        },
        "outputId": "0c1d26ba-790e-43fe-c745-b8bc134a1fa6"
      },
      "source": [
        "from scipy.stats import binomtest\n",
        "res = binomtest(998, n=1000, p=.99, alternative=\"greater\")\n",
        "print(f\"pvalue = {res.pvalue:.04f}\")"
      ],
      "execution_count": null,
      "outputs": [
        {
          "output_type": "stream",
          "text": [
            "pvalue = 0.0027\n"
          ],
          "name": "stdout"
        }
      ]
    },
    {
      "cell_type": "markdown",
      "metadata": {
        "id": "QK7G46TNXYtS"
      },
      "source": [
        "The p-value is much less than our desired significance level, $.002 < .01$. This is significant, so the null hypothesis is rejected in favor of the alternative, that the true percentage of the space for which the results are accurate is greater than 99.9%.\n",
        "\n",
        "The binomial test result also provides confidence intervals based on the proportion of the estimate. Using the same confidence level as used during bootstrapped confidence interval estimation, 99.9%, we observe the range of proportions of a sample that are accurate in having less than 1e-12 absolute error. "
      ]
    },
    {
      "cell_type": "code",
      "metadata": {
        "id": "gxzIJyu0X-7w",
        "colab": {
          "base_uri": "https://localhost:8080/"
        },
        "outputId": "84159620-0aff-4d76-cebe-9d436d3f7b1d"
      },
      "source": [
        "res.proportion_ci(confidence_level=.999)"
      ],
      "execution_count": null,
      "outputs": [
        {
          "output_type": "execute_result",
          "data": {
            "text/plain": [
              "ConfidenceInterval(low=0.988822807558805, high=1.0)"
            ]
          },
          "metadata": {
            "tags": []
          },
          "execution_count": 192
        }
      ]
    },
    {
      "cell_type": "markdown",
      "metadata": {
        "id": "xxeSXFW4YWwE"
      },
      "source": [
        "Based on this result, we can expect that the interval $(.9888, 1)$ will contain the true proportion of accurate values 99.9% of the times for which this experiment were replicated."
      ]
    },
    {
      "cell_type": "markdown",
      "metadata": {
        "id": "YgQTujYzU87I"
      },
      "source": [
        "### Bootstrapped Confidence Intervals Around Absolute Geometric Mean Error\n",
        "For each method's absolute error, a bootstraped confidence interval was estimated around the geometric mean using `scipy.stats.bootstrap` for the confidence level of .999. The geometric mean was selected over the arithmatic mean as it provides a more accurate measure of central tendancy.\n",
        "\n",
        "\n",
        "The results of these tests yeilded strong results. Data and generation scripts available upon request.\n",
        "\n",
        "We estimate the confidence interval of the mean absolute error for SciPy, StatsModels, and R at the .999 confidence level. Examine the resulting table (below) for the confidence intervals."
      ]
    },
    {
      "cell_type": "code",
      "metadata": {
        "id": "2VAp87WUU5sa",
        "colab": {
          "base_uri": "https://localhost:8080/"
        },
        "outputId": "2949e501-56b0-437f-dcb6-3c6ec47b8f96"
      },
      "source": [
        "import scipy.stats as stats\n",
        "from scipy.stats.mstats import gmean\n",
        "statistic = gmean\n",
        "rng = np.random.default_rng(123)\n",
        "CI = .999\n",
        "\n",
        "\n",
        "res_cython = stats.bootstrap((cython_errors,), statistic, confidence_level=CI, \n",
        "                             random_state=rng)\n",
        "ci_cython = res_cython.confidence_interval\n",
        "\n",
        "res_sm = stats.bootstrap((sm_errors,),statistic, confidence_level=CI, \n",
        "                             random_state=rng)\n",
        "ci_sm = res_sm.confidence_interval        \n",
        "\n",
        "r_errors_no_nans = r_errors[np.isfinite(r_errors)]  \n",
        "res_r = stats.bootstrap((r_errors_no_nans,), statistic, confidence_level=CI, \n",
        "                             random_state=rng)\n",
        "ci_r = res_r.confidence_interval \n",
        "  \n",
        "def print_table(ci_cython, ci_sm, ci_r):\n",
        "  '''print table showing upper and lower CI limits'''\n",
        "  print(f\"\"\"     Mean Absolute Error CI\n",
        "{CI*100}% Bootstrap Confidence Interval\n",
        "\n",
        "method     |  lower ci  |  upper ci\n",
        "-----------------------------------\n",
        "SciPy      | {ci_cython.low:.3e}  | {ci_cython.high:.3e}\n",
        "-----------------------------------\n",
        "StatsModels| {ci_sm.low:.3e}  | {ci_sm.high:.3e}\n",
        "-----------------------------------\n",
        "R          | {ci_r.low:.3e}  | {ci_r.high:.3e}\n",
        "\"\"\"\n",
        "        )\n",
        "print_table(ci_cython, ci_sm, ci_r)"
      ],
      "execution_count": null,
      "outputs": [
        {
          "output_type": "stream",
          "text": [
            "     Mean Absolute Error CI\n",
            "99.9% Bootstrap Confidence Interval\n",
            "\n",
            "method     |  lower ci  |  upper ci\n",
            "-----------------------------------\n",
            "SciPy      | 2.133e-15  | 3.102e-15\n",
            "-----------------------------------\n",
            "StatsModels| 1.784e-03  | 3.105e-03\n",
            "-----------------------------------\n",
            "R          | 4.219e-09  | 8.553e-09\n",
            "\n"
          ],
          "name": "stdout"
        }
      ]
    },
    {
      "cell_type": "markdown",
      "metadata": {
        "id": "BRnvQZwaYxMG"
      },
      "source": [
        "A confidence interval at the .999 level indicates that there is a 99.9% probability that the true error of the sample is contained within the interval.\n",
        "\n",
        "The mean absolute error for the SciPy implementation was $2.59\\mathrm{e}{-15}$, and the confidence interval indicates that there is a 99.9% probability that $2.133e\\mathrm{e}{-15}$ and $3.102\\mathrm{e}{-15}$ will contain the true error of the sample. \n",
        "\n",
        "\n",
        "$$\n",
        "\\mathrm{P}(\\text{True Error of Sample} \\ni [2.133e\\mathrm{e}{-15}, 3.102\\mathrm{e}{-15}]) = .999\n",
        "$$\n",
        "\n",
        "\n",
        "The magnitude of the confidence intervals for the SciPy implementation is much smaller than both StatsModels and R. \n",
        "\n",
        "Something that must be considered is the range of p-values used to generate the q values. Some methods may be more accurate for typical p-value ranges found in tables (Harter), such as those over .9. Filtering out all sets of $q, k$ and $\\nu$ that produce p-values less than .9, we re-compute the confidence intervals:\n",
        "\n"
      ]
    },
    {
      "cell_type": "code",
      "metadata": {
        "id": "gmvS_pcAXbqf",
        "colab": {
          "base_uri": "https://localhost:8080/"
        },
        "outputId": "8434061f-dbb9-4651-d2c4-b071c42b6dde"
      },
      "source": [
        "rng = np.random.default_rng(123)\n",
        "\n",
        "# Filter out combinations with p-values below .9\n",
        "cython_errors = np.asarray(np.abs(c_l - gl_l), dtype=float)[gl_l > .9]\n",
        "sm_errors = np.asarray(np.abs(sm_l - gl_l), dtype=float)[gl_l > .9]\n",
        "r_errors = np.asarray(np.abs(r_l - gl_l), dtype=float)[gl_l > .9]\n",
        "\n",
        "# ~~~~~~~~~~~~~~~~~~~~~~~~~~~~~~~~~~~~~~~~~~~~~~~~~~~~~~~~~~~~~~~~~~~~~~~~~~~~~\n",
        "# This code mirrors the above comptution\n",
        "res_cython = stats.bootstrap((cython_errors,), statistic, confidence_level=CI, \n",
        "                             random_state=rng)\n",
        "ci_cython = res_cython.confidence_interval\n",
        "\n",
        "res_sm = stats.bootstrap((sm_errors,),statistic, confidence_level=CI, \n",
        "                             random_state=rng)\n",
        "ci_sm = res_sm.confidence_interval        \n",
        "\n",
        "r_errors_no_nans = r_errors[np.isfinite(r_errors)]  \n",
        "res_r = stats.bootstrap((r_errors_no_nans,), statistic, confidence_level=CI, \n",
        "                             random_state=rng)\n",
        "ci_r = res_r.confidence_interval \n",
        "\n",
        "print_table(ci_cython, ci_sm, ci_r)\n",
        "# ~~~~~~~~~~~~~~~~~~~~~~~~~~~~~~~~~~~~~~~~~~~~~~~~~~~~~~~~~~~~~~~~~~~~~~~~~~~~~~"
      ],
      "execution_count": null,
      "outputs": [
        {
          "output_type": "stream",
          "text": [
            "     Mean Absolute Error CI\n",
            "99.9% Bootstrap Confidence Interval\n",
            "\n",
            "method     |  lower ci  |  upper ci\n",
            "-----------------------------------\n",
            "SciPy      | 6.176e-15  | 1.573e-14\n",
            "-----------------------------------\n",
            "StatsModels| 2.700e-05  | 8.886e-05\n",
            "-----------------------------------\n",
            "R          | 1.879e-10  | 1.238e-09\n",
            "\n"
          ],
          "name": "stdout"
        }
      ]
    },
    {
      "cell_type": "markdown",
      "metadata": {
        "id": "UzHINla3XXWg"
      },
      "source": [
        "Both StatsModels and R increased in precision when using only combinations with p-values over .9. This result may not be as robust as the above result due to there being only 114 out of 1000 combinations with the requested p-value.  "
      ]
    },
    {
      "cell_type": "markdown",
      "metadata": {
        "id": "8W-kxbo_joFf"
      },
      "source": [
        "### Accuracy Summary\n",
        "\n",
        "\n",
        "Based on the results of the Bootstrapped Confidence Intervals and Binomial Test, we conclude that the test is accurate for a variety of values. Comparing the Bootstrapped confidence interval of the SciPy implementation to other methods showed that it is more accurate to ground truth by several orders of magnitude.\n",
        "\n",
        "The Binomial Test affirmed that we can expect the SciPy implementation to be accurate for a large proportion of computations based on the simulation created."
      ]
    },
    {
      "cell_type": "markdown",
      "metadata": {
        "id": "hHEe6EZQ5xWr"
      },
      "source": [
        "## Conclusion\n",
        "\n",
        "The [PR](https://github.com/scipy/scipy/pull/13732) for the addition of this distribution was successfully merged into the main branch of SciPy on May 26, 2021. See the documentation page [here](https://docs.scipy.org/doc/scipy/reference/reference/generated/scipy.stats.studentized_range.html). It makes use of this LowLevelCallable for the CDF and also implements many other attributes of the distribution. For example, we can compare the CDF and inverse CDF (PPF). "
      ]
    },
    {
      "cell_type": "code",
      "metadata": {
        "colab": {
          "base_uri": "https://localhost:8080/"
        },
        "id": "KfrRBgklBLV7",
        "outputId": "0d43cdc5-47ca-4c78-e6ed-55ef701e6325"
      },
      "source": [
        "from scipy.stats import studentized_range\n",
        "studentized_range.cdf(3.77, 3, 12)"
      ],
      "execution_count": null,
      "outputs": [
        {
          "output_type": "execute_result",
          "data": {
            "text/plain": [
              "0.9498176382394464"
            ]
          },
          "metadata": {
            "tags": []
          },
          "execution_count": 195
        }
      ]
    },
    {
      "cell_type": "code",
      "metadata": {
        "colab": {
          "base_uri": "https://localhost:8080/"
        },
        "id": "ucHjKrceCiRw",
        "outputId": "185b932d-9259-4c62-f584-80ee9bb0646a"
      },
      "source": [
        "studentized_range.ppf(0.95, 3, 12)"
      ],
      "execution_count": null,
      "outputs": [
        {
          "output_type": "execute_result",
          "data": {
            "text/plain": [
              "3.772928965726967"
            ]
          },
          "metadata": {
            "tags": []
          },
          "execution_count": 196
        }
      ]
    },
    {
      "cell_type": "markdown",
      "metadata": {
        "id": "Dm0ph0d3qqTP"
      },
      "source": [
        "And plot the PDF:"
      ]
    },
    {
      "cell_type": "code",
      "metadata": {
        "colab": {
          "base_uri": "https://localhost:8080/",
          "height": 378
        },
        "id": "DEVP3tZwqsKE",
        "outputId": "f699b8d1-d23f-456c-eba5-463b94240da0"
      },
      "source": [
        "import matplotlib.pyplot as plt\n",
        "fig, ax = plt.subplots(1, 1)\n",
        "k, df = 3, 12\n",
        "x = np.linspace(studentized_range.ppf(0.01, k, df),\n",
        "                studentized_range.ppf(0.99, k, df), 100)\n",
        "ax.plot(x, studentized_range.pdf(x, k, df),\n",
        "        'r-', lw=5, alpha=0.6, label='studentized range pdf')\n",
        "ax.legend(loc='best', frameon=False)\n",
        "plt.show()"
      ],
      "execution_count": null,
      "outputs": [
        {
          "output_type": "display_data",
          "data": {
            "image/png": "[encoded data removed]",
            "text/plain": [
              "<Figure size 576x432 with 1 Axes>"
            ]
          },
          "metadata": {
            "tags": [],
            "needs_background": "light"
          }
        }
      ]
    },
    {
      "cell_type": "markdown",
      "metadata": {
        "id": "-jGODwY2Qebo"
      },
      "source": [
        "The test is also used in the under review [PR](https://github.com/scipy/scipy/pull/13002) for Tukey's Honestly Significant Difference test, which uses the studentized range's critical values. "
      ]
    },
    {
      "cell_type": "markdown",
      "metadata": {
        "id": "UX-XeM8wwIc7"
      },
      "source": [
        "## References\n",
        "\n",
        "[1] R. E. Lund and J. R. Lund, “Algorithm AS 190: Probabilities and Upper Quantiles for the Studentized Range,” Applied Statistics, vol. 32, no. 2, p. 204, 1983.\n",
        "\n",
        "[2] H. L. Harter, “Use of Tables of Percentage Points of Range and Studentized Range,” Technometrics, vol. 3, no. 3, pp. 407–411, 1961."
      ]
    }
  ]
}