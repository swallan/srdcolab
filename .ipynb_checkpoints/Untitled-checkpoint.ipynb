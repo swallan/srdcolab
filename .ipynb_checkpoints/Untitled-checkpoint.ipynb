{
 "cells": [
  {
   "cell_type": "markdown",
   "id": "049213fc",
   "metadata": {},
   "source": [
    "# An Accurate Implementation of the Studentized Range Distribution for Python\n",
    "\n",
    "By Samuel Wallan, Dominic Chmiel, and Matt Haberland\n",
    "\n",
    "## Introduction\n",
    "\n",
    "As data becomes more and more accessible in a world awash with computers, it can be tempting follow a practice called \"p-hacking\", or misusing data analysis in order to show an artificially  significant statistical corellation. For example, there appears to be a correllation between the number of letters in the Scripps National Spelling Bee and the number of people killed by venomous spiders in the United States every year. Several carefully designed statistical tests that gaurd against this practice rely on the studentized range distrbution by accounting for the number of comparisons in their statistic and p-value. One such test is Tukey's HSD (Honest Significant Difference) test, which utilizes the studentized range distribution's Percent Point Function (PPF), to measure the range of data from a normally distributed sample.\n",
    "\n",
    "Precomputed tables exist for the studentized range distrbution, but can only approximate results should input data not fall within the tables' bounds. However, the probability distribution function (PDF) and cumulative distribution function (CDF) for the studentized range are computationally challenging to evaluate due to their complicated double integrals. The PPF is the inverse of the CDF. Therefore, in this paper we present a pythonic, fast, accurate, and direct implementation of the studentized range distribution for SciPy in addition to tests that demonstrate its accuracy and performance. \n",
    "\n",
    "## The Distribution\n",
    "\n",
    "The studentized range's PDF and CDF take the following forms, respectively [1]:\n",
    "\n",
    "$$     f_\\text{R}(q;k,\\nu) = \\frac{\\sqrt{2\\pi\\,}\\,k\\,(k-1)\\,\\nu^{\\nu/2}}{\\Gamma(\\nu /2)\\,2^{\\left(\\nu/2-1\\right)}}\\int_0^\\infty s^\\nu \\, \\phi(\\sqrt{\\nu\\,} \\,s)\\,\\left[\\int_{-\\infty}^\\infty \\phi(z+q\\,s)\\,\\phi(z)\\, \\left[\\Phi(z+q\\,s)-\\Phi(z)\\right]^{k-2} \\, \\mathrm{d}z\\right] \\, \\mathrm{d}s \\tag{1}\n",
    "$$\n",
    "\n",
    "$$ F_\\text{R}(q;k,\\nu) = \\frac{\\sqrt{2\\pi\\,}\\,k\\,\\nu^{\\nu/2}}{\\,\\Gamma(\\nu/2)\\,2^{(\\nu/2-1)}\\,} \\int_0^\\infty s^{\\nu-1} \\phi(\\sqrt{\\nu\\,}\\,s) \\left[\\int_{-\\infty}^\\infty \\phi(z) \\left[\\Phi(z+q\\,s)-\\Phi(z)\\right]^{k-1} \\, \\mathrm{d}z \\right] \\, \\mathrm{d}s, \\tag{2}$$\n",
    "\n",
    "where $\\phi(z)$ and $\\Phi(z)$ represent the normal PDF and normal CDF, respectively.\n",
    "\n",
    "## Implementations\n",
    "\n",
    "### A Very Direct Implementation\n",
    "\n",
    "To establish a baseline, we evaluate the CDF exactly as written in equation (2), using nested calls to SciPy's `integrate.quad` to evaluate the double integral."
   ]
  },
  {
   "cell_type": "markdown",
   "id": "e4aab445",
   "metadata": {},
   "source": [
    "[See the full notebook here!](https://colab.research.google.com/drive/12WsuDWyZpdcBR0Dk7qpzFKAZkEY3IgwU?usp=sharing)"
   ]
  }
 ],
 "metadata": {
  "kernelspec": {
   "display_name": "Python 3",
   "language": "python",
   "name": "python3"
  },
  "language_info": {
   "codemirror_mode": {
    "name": "ipython",
    "version": 3
   },
   "file_extension": ".py",
   "mimetype": "text/x-python",
   "name": "python",
   "nbconvert_exporter": "python",
   "pygments_lexer": "ipython3",
   "version": "3.8.8"
  }
 },
 "nbformat": 4,
 "nbformat_minor": 5
}
