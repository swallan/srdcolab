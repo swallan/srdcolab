{
  "cells": [
    {
      "cell_type": "markdown",
      "metadata": {
        "id": "e2rxE8toArM-"
      },
      "source": [
        "# An Accurate Implementation of the Studentized Range Distribution for Python\n",
        "\n",
        "By Samuel Wallan, Dominic Chmiel, and Matt Haberland\n"
      ]
    },
    {
      "cell_type": "markdown",
      "metadata": {
        "id": "SB3o7ap1y4wz"
      },
      "source": [
        "## Introduction\n",
        "\n",
        "In a world awash with data and computers, it is tempting to automate the process of scientific discovery by performing comparisons between many pairs of variables in hope of finding correlations. When frequentist hypothesis tests between pairs of variables are performed at a fixed confidence level, increasing the number of tests increases the probability of observing a \"statistically significant\" result even when the null hypothesis is actually true. Carefully designed tests, such as Tukey's HSD (Honestly Significant Difference) test, protect against this practice of \"data dredging\", producing p-values and confidence intervals that correctly account for the number of comparisons performed. Several such tests rely on the studentized range distribution, which models the range (i.e. the difference between the maximum and minimum values) of the means of samples from a normally distributed population. Although there are already implementations of these tests available in the scientific Python ecosystem, all of them rely on approximations of the studentized range distribution, which may not be accurate outside the range of inputs for which they are designed. We present the implementation of a reasonably fast and very accurate implementation of the studentized range distribution for SciPy, and we give evidence of its accuracy and performance."
      ]
    },
    {
      "cell_type": "markdown",
      "metadata": {
        "id": "7HEZgXy-4KtV"
      },
      "source": [
        "## The Distribution\n",
        "\n",
        "The studentized range probability density function (PDF) and cumulative distribution function (CDF) take the following forms, respectively [1]:\n",
        "\n",
        "$$     f_\\text{R}(q;k,\\nu) = \\frac{\\sqrt{2\\pi\\,}\\,k\\,(k-1)\\,\\nu^{\\nu/2}}{\\Gamma(\\nu /2)\\,2^{\\left(\\nu/2-1\\right)}}\\int_0^\\infty s^\\nu \\, \\phi(\\sqrt{\\nu\\,} \\,s)\\,\\left[\\int_{-\\infty}^\\infty \\phi(z+q\\,s)\\,\\phi(z)\\, \\left[\\Phi(z+q\\,s)-\\Phi(z)\\right]^{k-2} \\, \\mathrm{d}z\\right] \\, \\mathrm{d}s \\quad \\mbox{and} \\tag{1}\n",
        "$$\n",
        "\n",
        "$$ F_\\text{R}(q;k,\\nu) = \\frac{\\sqrt{2\\pi\\,}\\,k\\,\\nu^{\\nu/2}}{\\,\\Gamma(\\nu/2)\\,2^{(\\nu/2-1)}\\,} \\int_0^\\infty s^{\\nu-1} \\phi(\\sqrt{\\nu\\,}\\,s) \\left[\\int_{-\\infty}^\\infty \\phi(z) \\left[\\Phi(z+q\\,s)-\\Phi(z)\\right]^{k-1} \\, \\mathrm{d}z \\right] \\, \\mathrm{d}s, \\tag{2}$$\n",
        "\n",
        "where $q > 0$ is the studentized range of sample means from $k>1$ groups, $\\nu>0$ is the number of degrees of freedom used for determining the pooled sample variance, and $\\phi(z)$ and $\\Phi(z)$ represent the normal PDF and CDF.\n",
        "\n",
        "In this document, no knowledge of the meaning of these terms is assumed; we simply take (1) and (2) as (messy!) integrals to be evaluated given real numbers $q$, $k$, and $\\nu$."
      ]
    },
    {
      "cell_type": "markdown",
      "metadata": {
        "id": "gq8EMKWq5EQ3"
      },
      "source": [
        "## Implementations\n",
        "\n"
      ]
    },
    {
      "cell_type": "markdown",
      "metadata": {
        "id": "sCXnAmykLc6X"
      },
      "source": [
        "We begin by presenting a sequence of implementations of the studentized range CDF, incrementally improving the speed and reliability, culminating in the implementation adopted by SciPy."
      ]
    },
    {
      "cell_type": "markdown",
      "metadata": {
        "id": "j8C0BD5A_j1N"
      },
      "source": [
        "### A Very Direct Implementation\n",
        "\n",
        "To establish a baseline, we evaluate the CDF exactly as written in (2), using nested calls to SciPy's `integrate.quad` to evaluate the double integral."
      ]
    },
    {
      "cell_type": "code",
      "execution_count": 1,
      "metadata": {
        "colab": {
          "base_uri": "https://localhost:8080/"
        },
        "id": "fimmhJUmiNkD",
        "outputId": "e158ecae-60ee-4723-95cb-6bf42c11db05"
      },
      "outputs": [
        {
          "name": "stdout",
          "output_type": "stream",
          "text": [
            "Collecting scipy==1.7.0\n",
            "\u001b[?25l  Downloading https://files.pythonhosted.org/packages/b2/85/b00f13b52d079b5625e1a12330fc6453c947a482ff667a907c7bc60ed220/scipy-1.7.0-cp37-cp37m-manylinux_2_5_x86_64.manylinux1_x86_64.whl (28.5MB)\n",
            "\u001b[K     |████████████████████████████████| 28.5MB 103kB/s \n",
            "\u001b[?25hRequirement already satisfied: numpy<1.23.0,>=1.16.5 in /usr/local/lib/python3.7/dist-packages (from scipy==1.7.0) (1.19.5)\n",
            "\u001b[31mERROR: albumentations 0.1.12 has requirement imgaug<0.2.7,>=0.2.5, but you'll have imgaug 0.2.9 which is incompatible.\u001b[0m\n",
            "Installing collected packages: scipy\n",
            "  Found existing installation: scipy 1.4.1\n",
            "    Uninstalling scipy-1.4.1:\n",
            "      Successfully uninstalled scipy-1.4.1\n",
            "Successfully installed scipy-1.7.0\n"
          ]
        }
      ],
      "source": [
        "# ensure the most recent version of SciPy is installed\n",
        "!pip install scipy==1.7.0"
      ]
    },
    {
      "cell_type": "code",
      "execution_count": 2,
      "metadata": {
        "id": "8YDWi_I50o68"
      },
      "outputs": [],
      "source": [
        "import numpy as np\n",
        "from scipy.integrate import quad\n",
        "from scipy.special import gamma\n",
        "from scipy.stats import norm\n",
        "\n",
        "phi = norm.pdf\n",
        "Phi = norm.cdf\n",
        "\n",
        "def cdf_quad(q, k, nu):\n",
        "  \n",
        "    def inner(z, s):\n",
        "      return phi(z) * (Phi(z + q * s) - Phi(z))**(k - 1)\n",
        "\n",
        "    def outer(s):\n",
        "      inner_int = quad(inner, -np.inf, np.inf, args=(s,), \n",
        "                       epsabs=1e-12, limit=1000)[0]\n",
        "      return s**(nu - 1) * phi(np.sqrt(nu) * s) * inner_int\n",
        "\n",
        "    outer_int = quad(outer, 0, np.inf, epsabs=1e-12, limit=1000)[0]\n",
        "\n",
        "    return (np.sqrt(2 * np.pi) * k * nu**(nu/2) /\n",
        "            (gamma(nu/2) * 2**(nu/2 - 1)) * outer_int)"
      ]
    },
    {
      "cell_type": "markdown",
      "metadata": {
        "id": "MTC-0WMqop0N"
      },
      "source": [
        "Reference [1] tabulates the studentized range CDF as a function of $q$, $k$, and $\\nu$, reporting $q$ and $p=F(q; k, \\nu)$ with two significant figures. It states that $F(3.77; 3, 12)=0.95$, and `cdf_quad` agrees to the precision available in the table."
      ]
    },
    {
      "cell_type": "code",
      "execution_count": 3,
      "metadata": {
        "colab": {
          "base_uri": "https://localhost:8080/"
        },
        "id": "m0T-3t59p_Dl",
        "outputId": "f3c325d1-74c5-4025-e243-fc279750149c"
      },
      "outputs": [
        {
          "data": {
            "text/plain": [
              "0.9498176382397655"
            ]
          },
          "execution_count": 3,
          "metadata": {
            "tags": []
          },
          "output_type": "execute_result"
        }
      ],
      "source": [
        "qkv = 3.77, 3, 12\n",
        "cdf_quad(*qkv)"
      ]
    },
    {
      "cell_type": "markdown",
      "metadata": {
        "id": "2YSEP5cMkDcO"
      },
      "source": [
        "Unfortunately, our `cdf_quad` implementation is very slow."
      ]
    },
    {
      "cell_type": "code",
      "execution_count": 4,
      "metadata": {
        "colab": {
          "base_uri": "https://localhost:8080/"
        },
        "id": "739dBAURkNVZ",
        "outputId": "09aed803-1a22-43fe-a452-df1bdd7d4037"
      },
      "outputs": [
        {
          "name": "stdout",
          "output_type": "stream",
          "text": [
            "1 loop, best of 1: 12.3 s per loop\n"
          ]
        }
      ],
      "source": [
        "time_quad = %timeit -o -r1 -n1 cdf_quad(*qkv)  # 13.6 s per loop"
      ]
    },
    {
      "cell_type": "markdown",
      "metadata": {
        "id": "zPZJtNFEpBD-"
      },
      "source": [
        "This implementation is easy to verify against the original formula and therefore serves as a valuable reference, but a faster implementation is needed for inclusion in SciPy.\n"
      ]
    },
    {
      "cell_type": "markdown",
      "metadata": {
        "id": "QERP91dr_xhD"
      },
      "source": [
        "###  Using `optimize.dblquad`."
      ]
    },
    {
      "cell_type": "markdown",
      "metadata": {
        "id": "vdVLj2_u_wqA"
      },
      "source": [
        "To remove the overhead of repeated calls to `quad` and to enable more judicious choice of quadrature points $(s, z)$, we rearrange (2) to\n",
        "\n",
        "$$ F(q; k, \\nu) = \\int_{0}^ {\\infty} \\int_{-\\infty}^{\\infty} s^{\\nu-1} \\frac{k\\nu^{\\nu/2}}{\\Gamma(\\nu/2)2^{\\nu/2-1}}e^{-\\nu s^2/2} \\phi(z) [\\Phi(sq + z) - \\Phi(z)]^{k-1} \\,dz \\,ds \\tag{3} $$\n",
        "\n",
        "so that it can be computed with single call to SciPy's double integration function, `integrate.dblquad`. Besides moving the inner integral sign to the left, we have also moved the constant terms into the integral so that they can be included in the integrator's internal error estimate."
      ]
    },
    {
      "cell_type": "code",
      "execution_count": 5,
      "metadata": {
        "id": "jPaDKUy0ql4E"
      },
      "outputs": [],
      "source": [
        "from scipy.integrate import dblquad\n",
        "\n",
        "def integrand_python(s, z, *args):\n",
        "    q, k, nu = args\n",
        "    \n",
        "    def inner(s, z):\n",
        "        return phi(z) * (Phi(z + q * s) - Phi(z))**(k - 1)\n",
        "\n",
        "    def outer(s, z):\n",
        "        inner_int = inner(s, z)\n",
        "        return s**(nu - 1) * phi(np.sqrt(nu) * s) * inner_int\n",
        "\n",
        "    def whole(s, z):\n",
        "        return (np.sqrt(2 * np.pi) * k * nu**(nu / 2) /\n",
        "                (gamma(nu / 2) * 2**(nu / 2 - 1)) * outer(s, z))\n",
        "        \n",
        "    return whole(s, z)\n",
        "\n",
        "def cdf_dblquad(q, k, nu):    \n",
        "    return dblquad(integrand_python, -np.inf, np.inf, 0, np.inf, args=(q, k, nu))[0]"
      ]
    },
    {
      "cell_type": "code",
      "execution_count": 6,
      "metadata": {
        "colab": {
          "base_uri": "https://localhost:8080/"
        },
        "id": "b-jJ7SosortZ",
        "outputId": "f8439d92-0106-4935-eb96-e35c915de317"
      },
      "outputs": [
        {
          "data": {
            "text/plain": [
              "0.949817638242155"
            ]
          },
          "execution_count": 6,
          "metadata": {
            "tags": []
          },
          "output_type": "execute_result"
        }
      ],
      "source": [
        "cdf_dblquad(*qkv)"
      ]
    },
    {
      "cell_type": "code",
      "execution_count": 7,
      "metadata": {
        "colab": {
          "base_uri": "https://localhost:8080/"
        },
        "id": "3sZsIkCVq47I",
        "outputId": "701a8731-c051-4210-c52d-240b1d80ea7b"
      },
      "outputs": [
        {
          "name": "stdout",
          "output_type": "stream",
          "text": [
            "1 loop, best of 1: 11.7 s per loop\n"
          ]
        }
      ],
      "source": [
        "time_dblquad = %timeit -o -r1 -n1 cdf_dblquad(*qkv)  # 13.2 s per loop"
      ]
    },
    {
      "cell_type": "markdown",
      "metadata": {
        "id": "XI87ofJxrLx4"
      },
      "source": [
        "This simple change saves a small amount of computation time, but `cdf_dblquad` remains too slow for general use."
      ]
    },
    {
      "cell_type": "markdown",
      "metadata": {
        "id": "AEfXxw29hOpH"
      },
      "source": [
        "### Faster Normal PDF/CDF Evaluation\n",
        "\n",
        "A more significant source of overhead is the use of SciPy's `norm.pdf` and `norm.cdf` for evaluation of $\\phi$ and $\\Phi$. The statistical distributions in `scipy.stats` have many useful features, but their methods are often much slower than direct calls to the underlying special functions. We eliminate this overhead by redefining `phi` and `Phi` more directly.\n"
      ]
    },
    {
      "cell_type": "code",
      "execution_count": 8,
      "metadata": {
        "id": "4sfGRuj4rViL"
      },
      "outputs": [],
      "source": [
        "from scipy.special import ndtr  # the normal CDF \n",
        "\n",
        "phi_norm = norm.pdf\n",
        "Phi_norm = norm.cdf\n",
        "\n",
        "def phi(z):\n",
        "  return (2 * np.pi)**(-.5) * np.exp(-0.5 * z * z)\n",
        "\n",
        "def Phi(z):\n",
        "  return ndtr(z)"
      ]
    },
    {
      "cell_type": "markdown",
      "metadata": {
        "id": "GlJxGauQKF3a"
      },
      "source": [
        "Even the slowest runs of our new `phi` and `Phi` functions are much faster than the fastest runs of `norm.pdf` and `norm.cdf`."
      ]
    },
    {
      "cell_type": "code",
      "execution_count": 9,
      "metadata": {
        "colab": {
          "base_uri": "https://localhost:8080/"
        },
        "id": "uhwO3lSQrmq1",
        "outputId": "6756550b-d694-4eb3-940d-58552bd3c182"
      },
      "outputs": [
        {
          "name": "stdout",
          "output_type": "stream",
          "text": [
            "The slowest run took 4.15 times longer than the fastest. This could mean that an intermediate result is being cached.\n",
            "10000 loops, best of 5: 88.9 µs per loop\n"
          ]
        }
      ],
      "source": [
        "z = 1\n",
        "%timeit phi_norm(z)  # 99.6 µs per loop"
      ]
    },
    {
      "cell_type": "code",
      "execution_count": 10,
      "metadata": {
        "colab": {
          "base_uri": "https://localhost:8080/"
        },
        "id": "k42VkkT4r5v2",
        "outputId": "aa87acf2-9e6d-4e4f-89ea-f704e6bcabbc"
      },
      "outputs": [
        {
          "name": "stdout",
          "output_type": "stream",
          "text": [
            "The slowest run took 25.19 times longer than the fastest. This could mean that an intermediate result is being cached.\n",
            "1000000 loops, best of 5: 1.36 µs per loop\n"
          ]
        }
      ],
      "source": [
        "%timeit phi(z)  # 1.61 µs per loop"
      ]
    },
    {
      "cell_type": "code",
      "execution_count": 11,
      "metadata": {
        "colab": {
          "base_uri": "https://localhost:8080/"
        },
        "id": "PGluLIGOr7ob",
        "outputId": "e31957c8-be9e-4c61-b258-ab441e26b125"
      },
      "outputs": [
        {
          "name": "stdout",
          "output_type": "stream",
          "text": [
            "10000 loops, best of 5: 101 µs per loop\n"
          ]
        }
      ],
      "source": [
        "%timeit Phi_norm(z)  # 83.4 µs per loop"
      ]
    },
    {
      "cell_type": "code",
      "execution_count": 12,
      "metadata": {
        "colab": {
          "base_uri": "https://localhost:8080/"
        },
        "id": "ppFolCGWr-lP",
        "outputId": "ae217f9e-3825-4ff7-a89c-a40e12411c44"
      },
      "outputs": [
        {
          "name": "stdout",
          "output_type": "stream",
          "text": [
            "The slowest run took 29.94 times longer than the fastest. This could mean that an intermediate result is being cached.\n",
            "1000000 loops, best of 5: 1.18 µs per loop\n"
          ]
        }
      ],
      "source": [
        "%timeit Phi(z)  # 1.45 µs per loop"
      ]
    },
    {
      "cell_type": "markdown",
      "metadata": {
        "id": "I872G6MtQIWh"
      },
      "source": [
        "Our functions have much less overhead than `norm`'s methods, so we expect that they will improve the speed of the `cdf_dblquad` evaluation significantly. Indeed, they do:"
      ]
    },
    {
      "cell_type": "code",
      "execution_count": 13,
      "metadata": {
        "colab": {
          "base_uri": "https://localhost:8080/"
        },
        "id": "V6FKA1I3XDnc",
        "outputId": "17bf7b7d-3502-4bb2-8033-b8277f5134fe"
      },
      "outputs": [
        {
          "name": "stdout",
          "output_type": "stream",
          "text": [
            "1 loop, best of 1: 428 ms per loop\n"
          ]
        }
      ],
      "source": [
        "time_dblquad = %timeit -o -r1 -n1 cdf_dblquad(*qkv)  # 494 ms per loop"
      ]
    },
    {
      "cell_type": "markdown",
      "metadata": {
        "id": "jEwe9QJVtWO5"
      },
      "source": [
        "At ~1/25 of the original execution time, this may be acceptable for a single function evaluation, but `cdf_dblquad` remains too slow for vectorized and iterative computations."
      ]
    },
    {
      "cell_type": "markdown",
      "metadata": {
        "id": "hp9bo_5tASaZ"
      },
      "source": [
        "### Optimizing the Integrand with Cython\n",
        "\n",
        "To improve the integration speed further, we focus on reducing the evaluation time of the integrand\n",
        "\n",
        "$$ I = s^{\\nu-1} \\frac{k\\nu^{\\nu/2}}{\\Gamma(\\nu/2)2^{\\nu/2-1}}e^{-\\nu s^2/2} \\phi(z) [\\Phi(sq + z) - \\Phi(z)]^{k-1} \\tag{4}$$\n",
        "\n",
        "using Cython. For reference, evaluating the integrand in pure Python takes more than ten microseconds."
      ]
    },
    {
      "cell_type": "code",
      "execution_count": 14,
      "metadata": {
        "colab": {
          "base_uri": "https://localhost:8080/"
        },
        "id": "mu7pXi7XwlMf",
        "outputId": "b2490f9e-ab23-4006-8214-129822fefe59"
      },
      "outputs": [
        {
          "name": "stdout",
          "output_type": "stream",
          "text": [
            "The slowest run took 7.53 times longer than the fastest. This could mean that an intermediate result is being cached.\n",
            "100000 loops, best of 5: 14.2 µs per loop\n"
          ]
        }
      ],
      "source": [
        "s = 1\n",
        "%timeit integrand_python(s, z, *qkv)"
      ]
    },
    {
      "cell_type": "markdown",
      "metadata": {
        "id": "mUfXrQWVREvx"
      },
      "source": [
        "#### Cythonizing Python Directly"
      ]
    },
    {
      "cell_type": "markdown",
      "metadata": {
        "id": "aLgOILaa5-up"
      },
      "source": [
        "As a high level programming language, Python's dynamic typing promotes ease of use but also adds significant computation time. An extension to the Python language, Cython, is designed to make C-like performance accessible from Python. Python-like code is converted to C or C++ and compiled, and an interface for use within Python is automatically generated.\n",
        "\n",
        "To begin, we process the unmodified Python code with Cython."
      ]
    },
    {
      "cell_type": "code",
      "execution_count": 15,
      "metadata": {
        "id": "YwzN1j_cQRs2"
      },
      "outputs": [],
      "source": [
        "%load_ext cython"
      ]
    },
    {
      "cell_type": "code",
      "execution_count": 16,
      "metadata": {
        "colab": {
          "base_uri": "https://localhost:8080/",
          "height": 587
        },
        "id": "JjqqfhwwwYYV",
        "outputId": "9bcc1f8c-3453-4479-ca63-effcc1191e75"
      },
      "outputs": [
        {
          "data": {
            "text/html": [
              "<!DOCTYPE html>\n",
              "<!-- Generated by Cython 0.29.23 -->\n",
              "<html>\n",
              "<head>\n",
              "    <meta http-equiv=\"Content-Type\" content=\"text/html; charset=utf-8\" />\n",
              "    <title>Cython: _cython_magic_5ff788dfb06d94276a81147fd91e82ab.pyx</title>\n",
              "    <style type=\"text/css\">\n",
              "    \n",
              "body.cython { font-family: courier; font-size: 12; }\n",
              "\n",
              ".cython.tag  {  }\n",
              ".cython.line { margin: 0em }\n",
              ".cython.code { font-size: 9; color: #444444; display: none; margin: 0px 0px 0px 8px; border-left: 8px none; }\n",
              "\n",
              ".cython.line .run { background-color: #B0FFB0; }\n",
              ".cython.line .mis { background-color: #FFB0B0; }\n",
              ".cython.code.run  { border-left: 8px solid #B0FFB0; }\n",
              ".cython.code.mis  { border-left: 8px solid #FFB0B0; }\n",
              "\n",
              ".cython.code .py_c_api  { color: red; }\n",
              ".cython.code .py_macro_api  { color: #FF7000; }\n",
              ".cython.code .pyx_c_api  { color: #FF3000; }\n",
              ".cython.code .pyx_macro_api  { color: #FF7000; }\n",
              ".cython.code .refnanny  { color: #FFA000; }\n",
              ".cython.code .trace  { color: #FFA000; }\n",
              ".cython.code .error_goto  { color: #FFA000; }\n",
              "\n",
              ".cython.code .coerce  { color: #008000; border: 1px dotted #008000 }\n",
              ".cython.code .py_attr { color: #FF0000; font-weight: bold; }\n",
              ".cython.code .c_attr  { color: #0000FF; }\n",
              ".cython.code .py_call { color: #FF0000; font-weight: bold; }\n",
              ".cython.code .c_call  { color: #0000FF; }\n",
              "\n",
              ".cython.score-0 {background-color: #FFFFff;}\n",
              ".cython.score-1 {background-color: #FFFFe7;}\n",
              ".cython.score-2 {background-color: #FFFFd4;}\n",
              ".cython.score-3 {background-color: #FFFFc4;}\n",
              ".cython.score-4 {background-color: #FFFFb6;}\n",
              ".cython.score-5 {background-color: #FFFFaa;}\n",
              ".cython.score-6 {background-color: #FFFF9f;}\n",
              ".cython.score-7 {background-color: #FFFF96;}\n",
              ".cython.score-8 {background-color: #FFFF8d;}\n",
              ".cython.score-9 {background-color: #FFFF86;}\n",
              ".cython.score-10 {background-color: #FFFF7f;}\n",
              ".cython.score-11 {background-color: #FFFF79;}\n",
              ".cython.score-12 {background-color: #FFFF73;}\n",
              ".cython.score-13 {background-color: #FFFF6e;}\n",
              ".cython.score-14 {background-color: #FFFF6a;}\n",
              ".cython.score-15 {background-color: #FFFF66;}\n",
              ".cython.score-16 {background-color: #FFFF62;}\n",
              ".cython.score-17 {background-color: #FFFF5e;}\n",
              ".cython.score-18 {background-color: #FFFF5b;}\n",
              ".cython.score-19 {background-color: #FFFF57;}\n",
              ".cython.score-20 {background-color: #FFFF55;}\n",
              ".cython.score-21 {background-color: #FFFF52;}\n",
              ".cython.score-22 {background-color: #FFFF4f;}\n",
              ".cython.score-23 {background-color: #FFFF4d;}\n",
              ".cython.score-24 {background-color: #FFFF4b;}\n",
              ".cython.score-25 {background-color: #FFFF48;}\n",
              ".cython.score-26 {background-color: #FFFF46;}\n",
              ".cython.score-27 {background-color: #FFFF44;}\n",
              ".cython.score-28 {background-color: #FFFF43;}\n",
              ".cython.score-29 {background-color: #FFFF41;}\n",
              ".cython.score-30 {background-color: #FFFF3f;}\n",
              ".cython.score-31 {background-color: #FFFF3e;}\n",
              ".cython.score-32 {background-color: #FFFF3c;}\n",
              ".cython.score-33 {background-color: #FFFF3b;}\n",
              ".cython.score-34 {background-color: #FFFF39;}\n",
              ".cython.score-35 {background-color: #FFFF38;}\n",
              ".cython.score-36 {background-color: #FFFF37;}\n",
              ".cython.score-37 {background-color: #FFFF36;}\n",
              ".cython.score-38 {background-color: #FFFF35;}\n",
              ".cython.score-39 {background-color: #FFFF34;}\n",
              ".cython.score-40 {background-color: #FFFF33;}\n",
              ".cython.score-41 {background-color: #FFFF32;}\n",
              ".cython.score-42 {background-color: #FFFF31;}\n",
              ".cython.score-43 {background-color: #FFFF30;}\n",
              ".cython.score-44 {background-color: #FFFF2f;}\n",
              ".cython.score-45 {background-color: #FFFF2e;}\n",
              ".cython.score-46 {background-color: #FFFF2d;}\n",
              ".cython.score-47 {background-color: #FFFF2c;}\n",
              ".cython.score-48 {background-color: #FFFF2b;}\n",
              ".cython.score-49 {background-color: #FFFF2b;}\n",
              ".cython.score-50 {background-color: #FFFF2a;}\n",
              ".cython.score-51 {background-color: #FFFF29;}\n",
              ".cython.score-52 {background-color: #FFFF29;}\n",
              ".cython.score-53 {background-color: #FFFF28;}\n",
              ".cython.score-54 {background-color: #FFFF27;}\n",
              ".cython.score-55 {background-color: #FFFF27;}\n",
              ".cython.score-56 {background-color: #FFFF26;}\n",
              ".cython.score-57 {background-color: #FFFF26;}\n",
              ".cython.score-58 {background-color: #FFFF25;}\n",
              ".cython.score-59 {background-color: #FFFF24;}\n",
              ".cython.score-60 {background-color: #FFFF24;}\n",
              ".cython.score-61 {background-color: #FFFF23;}\n",
              ".cython.score-62 {background-color: #FFFF23;}\n",
              ".cython.score-63 {background-color: #FFFF22;}\n",
              ".cython.score-64 {background-color: #FFFF22;}\n",
              ".cython.score-65 {background-color: #FFFF22;}\n",
              ".cython.score-66 {background-color: #FFFF21;}\n",
              ".cython.score-67 {background-color: #FFFF21;}\n",
              ".cython.score-68 {background-color: #FFFF20;}\n",
              ".cython.score-69 {background-color: #FFFF20;}\n",
              ".cython.score-70 {background-color: #FFFF1f;}\n",
              ".cython.score-71 {background-color: #FFFF1f;}\n",
              ".cython.score-72 {background-color: #FFFF1f;}\n",
              ".cython.score-73 {background-color: #FFFF1e;}\n",
              ".cython.score-74 {background-color: #FFFF1e;}\n",
              ".cython.score-75 {background-color: #FFFF1e;}\n",
              ".cython.score-76 {background-color: #FFFF1d;}\n",
              ".cython.score-77 {background-color: #FFFF1d;}\n",
              ".cython.score-78 {background-color: #FFFF1c;}\n",
              ".cython.score-79 {background-color: #FFFF1c;}\n",
              ".cython.score-80 {background-color: #FFFF1c;}\n",
              ".cython.score-81 {background-color: #FFFF1c;}\n",
              ".cython.score-82 {background-color: #FFFF1b;}\n",
              ".cython.score-83 {background-color: #FFFF1b;}\n",
              ".cython.score-84 {background-color: #FFFF1b;}\n",
              ".cython.score-85 {background-color: #FFFF1a;}\n",
              ".cython.score-86 {background-color: #FFFF1a;}\n",
              ".cython.score-87 {background-color: #FFFF1a;}\n",
              ".cython.score-88 {background-color: #FFFF1a;}\n",
              ".cython.score-89 {background-color: #FFFF19;}\n",
              ".cython.score-90 {background-color: #FFFF19;}\n",
              ".cython.score-91 {background-color: #FFFF19;}\n",
              ".cython.score-92 {background-color: #FFFF19;}\n",
              ".cython.score-93 {background-color: #FFFF18;}\n",
              ".cython.score-94 {background-color: #FFFF18;}\n",
              ".cython.score-95 {background-color: #FFFF18;}\n",
              ".cython.score-96 {background-color: #FFFF18;}\n",
              ".cython.score-97 {background-color: #FFFF17;}\n",
              ".cython.score-98 {background-color: #FFFF17;}\n",
              ".cython.score-99 {background-color: #FFFF17;}\n",
              ".cython.score-100 {background-color: #FFFF17;}\n",
              ".cython.score-101 {background-color: #FFFF16;}\n",
              ".cython.score-102 {background-color: #FFFF16;}\n",
              ".cython.score-103 {background-color: #FFFF16;}\n",
              ".cython.score-104 {background-color: #FFFF16;}\n",
              ".cython.score-105 {background-color: #FFFF16;}\n",
              ".cython.score-106 {background-color: #FFFF15;}\n",
              ".cython.score-107 {background-color: #FFFF15;}\n",
              ".cython.score-108 {background-color: #FFFF15;}\n",
              ".cython.score-109 {background-color: #FFFF15;}\n",
              ".cython.score-110 {background-color: #FFFF15;}\n",
              ".cython.score-111 {background-color: #FFFF15;}\n",
              ".cython.score-112 {background-color: #FFFF14;}\n",
              ".cython.score-113 {background-color: #FFFF14;}\n",
              ".cython.score-114 {background-color: #FFFF14;}\n",
              ".cython.score-115 {background-color: #FFFF14;}\n",
              ".cython.score-116 {background-color: #FFFF14;}\n",
              ".cython.score-117 {background-color: #FFFF14;}\n",
              ".cython.score-118 {background-color: #FFFF13;}\n",
              ".cython.score-119 {background-color: #FFFF13;}\n",
              ".cython.score-120 {background-color: #FFFF13;}\n",
              ".cython.score-121 {background-color: #FFFF13;}\n",
              ".cython.score-122 {background-color: #FFFF13;}\n",
              ".cython.score-123 {background-color: #FFFF13;}\n",
              ".cython.score-124 {background-color: #FFFF13;}\n",
              ".cython.score-125 {background-color: #FFFF12;}\n",
              ".cython.score-126 {background-color: #FFFF12;}\n",
              ".cython.score-127 {background-color: #FFFF12;}\n",
              ".cython.score-128 {background-color: #FFFF12;}\n",
              ".cython.score-129 {background-color: #FFFF12;}\n",
              ".cython.score-130 {background-color: #FFFF12;}\n",
              ".cython.score-131 {background-color: #FFFF12;}\n",
              ".cython.score-132 {background-color: #FFFF11;}\n",
              ".cython.score-133 {background-color: #FFFF11;}\n",
              ".cython.score-134 {background-color: #FFFF11;}\n",
              ".cython.score-135 {background-color: #FFFF11;}\n",
              ".cython.score-136 {background-color: #FFFF11;}\n",
              ".cython.score-137 {background-color: #FFFF11;}\n",
              ".cython.score-138 {background-color: #FFFF11;}\n",
              ".cython.score-139 {background-color: #FFFF11;}\n",
              ".cython.score-140 {background-color: #FFFF11;}\n",
              ".cython.score-141 {background-color: #FFFF10;}\n",
              ".cython.score-142 {background-color: #FFFF10;}\n",
              ".cython.score-143 {background-color: #FFFF10;}\n",
              ".cython.score-144 {background-color: #FFFF10;}\n",
              ".cython.score-145 {background-color: #FFFF10;}\n",
              ".cython.score-146 {background-color: #FFFF10;}\n",
              ".cython.score-147 {background-color: #FFFF10;}\n",
              ".cython.score-148 {background-color: #FFFF10;}\n",
              ".cython.score-149 {background-color: #FFFF10;}\n",
              ".cython.score-150 {background-color: #FFFF0f;}\n",
              ".cython.score-151 {background-color: #FFFF0f;}\n",
              ".cython.score-152 {background-color: #FFFF0f;}\n",
              ".cython.score-153 {background-color: #FFFF0f;}\n",
              ".cython.score-154 {background-color: #FFFF0f;}\n",
              ".cython.score-155 {background-color: #FFFF0f;}\n",
              ".cython.score-156 {background-color: #FFFF0f;}\n",
              ".cython.score-157 {background-color: #FFFF0f;}\n",
              ".cython.score-158 {background-color: #FFFF0f;}\n",
              ".cython.score-159 {background-color: #FFFF0f;}\n",
              ".cython.score-160 {background-color: #FFFF0f;}\n",
              ".cython.score-161 {background-color: #FFFF0e;}\n",
              ".cython.score-162 {background-color: #FFFF0e;}\n",
              ".cython.score-163 {background-color: #FFFF0e;}\n",
              ".cython.score-164 {background-color: #FFFF0e;}\n",
              ".cython.score-165 {background-color: #FFFF0e;}\n",
              ".cython.score-166 {background-color: #FFFF0e;}\n",
              ".cython.score-167 {background-color: #FFFF0e;}\n",
              ".cython.score-168 {background-color: #FFFF0e;}\n",
              ".cython.score-169 {background-color: #FFFF0e;}\n",
              ".cython.score-170 {background-color: #FFFF0e;}\n",
              ".cython.score-171 {background-color: #FFFF0e;}\n",
              ".cython.score-172 {background-color: #FFFF0e;}\n",
              ".cython.score-173 {background-color: #FFFF0d;}\n",
              ".cython.score-174 {background-color: #FFFF0d;}\n",
              ".cython.score-175 {background-color: #FFFF0d;}\n",
              ".cython.score-176 {background-color: #FFFF0d;}\n",
              ".cython.score-177 {background-color: #FFFF0d;}\n",
              ".cython.score-178 {background-color: #FFFF0d;}\n",
              ".cython.score-179 {background-color: #FFFF0d;}\n",
              ".cython.score-180 {background-color: #FFFF0d;}\n",
              ".cython.score-181 {background-color: #FFFF0d;}\n",
              ".cython.score-182 {background-color: #FFFF0d;}\n",
              ".cython.score-183 {background-color: #FFFF0d;}\n",
              ".cython.score-184 {background-color: #FFFF0d;}\n",
              ".cython.score-185 {background-color: #FFFF0d;}\n",
              ".cython.score-186 {background-color: #FFFF0d;}\n",
              ".cython.score-187 {background-color: #FFFF0c;}\n",
              ".cython.score-188 {background-color: #FFFF0c;}\n",
              ".cython.score-189 {background-color: #FFFF0c;}\n",
              ".cython.score-190 {background-color: #FFFF0c;}\n",
              ".cython.score-191 {background-color: #FFFF0c;}\n",
              ".cython.score-192 {background-color: #FFFF0c;}\n",
              ".cython.score-193 {background-color: #FFFF0c;}\n",
              ".cython.score-194 {background-color: #FFFF0c;}\n",
              ".cython.score-195 {background-color: #FFFF0c;}\n",
              ".cython.score-196 {background-color: #FFFF0c;}\n",
              ".cython.score-197 {background-color: #FFFF0c;}\n",
              ".cython.score-198 {background-color: #FFFF0c;}\n",
              ".cython.score-199 {background-color: #FFFF0c;}\n",
              ".cython.score-200 {background-color: #FFFF0c;}\n",
              ".cython.score-201 {background-color: #FFFF0c;}\n",
              ".cython.score-202 {background-color: #FFFF0c;}\n",
              ".cython.score-203 {background-color: #FFFF0b;}\n",
              ".cython.score-204 {background-color: #FFFF0b;}\n",
              ".cython.score-205 {background-color: #FFFF0b;}\n",
              ".cython.score-206 {background-color: #FFFF0b;}\n",
              ".cython.score-207 {background-color: #FFFF0b;}\n",
              ".cython.score-208 {background-color: #FFFF0b;}\n",
              ".cython.score-209 {background-color: #FFFF0b;}\n",
              ".cython.score-210 {background-color: #FFFF0b;}\n",
              ".cython.score-211 {background-color: #FFFF0b;}\n",
              ".cython.score-212 {background-color: #FFFF0b;}\n",
              ".cython.score-213 {background-color: #FFFF0b;}\n",
              ".cython.score-214 {background-color: #FFFF0b;}\n",
              ".cython.score-215 {background-color: #FFFF0b;}\n",
              ".cython.score-216 {background-color: #FFFF0b;}\n",
              ".cython.score-217 {background-color: #FFFF0b;}\n",
              ".cython.score-218 {background-color: #FFFF0b;}\n",
              ".cython.score-219 {background-color: #FFFF0b;}\n",
              ".cython.score-220 {background-color: #FFFF0b;}\n",
              ".cython.score-221 {background-color: #FFFF0b;}\n",
              ".cython.score-222 {background-color: #FFFF0a;}\n",
              ".cython.score-223 {background-color: #FFFF0a;}\n",
              ".cython.score-224 {background-color: #FFFF0a;}\n",
              ".cython.score-225 {background-color: #FFFF0a;}\n",
              ".cython.score-226 {background-color: #FFFF0a;}\n",
              ".cython.score-227 {background-color: #FFFF0a;}\n",
              ".cython.score-228 {background-color: #FFFF0a;}\n",
              ".cython.score-229 {background-color: #FFFF0a;}\n",
              ".cython.score-230 {background-color: #FFFF0a;}\n",
              ".cython.score-231 {background-color: #FFFF0a;}\n",
              ".cython.score-232 {background-color: #FFFF0a;}\n",
              ".cython.score-233 {background-color: #FFFF0a;}\n",
              ".cython.score-234 {background-color: #FFFF0a;}\n",
              ".cython.score-235 {background-color: #FFFF0a;}\n",
              ".cython.score-236 {background-color: #FFFF0a;}\n",
              ".cython.score-237 {background-color: #FFFF0a;}\n",
              ".cython.score-238 {background-color: #FFFF0a;}\n",
              ".cython.score-239 {background-color: #FFFF0a;}\n",
              ".cython.score-240 {background-color: #FFFF0a;}\n",
              ".cython.score-241 {background-color: #FFFF0a;}\n",
              ".cython.score-242 {background-color: #FFFF0a;}\n",
              ".cython.score-243 {background-color: #FFFF0a;}\n",
              ".cython.score-244 {background-color: #FFFF0a;}\n",
              ".cython.score-245 {background-color: #FFFF0a;}\n",
              ".cython.score-246 {background-color: #FFFF09;}\n",
              ".cython.score-247 {background-color: #FFFF09;}\n",
              ".cython.score-248 {background-color: #FFFF09;}\n",
              ".cython.score-249 {background-color: #FFFF09;}\n",
              ".cython.score-250 {background-color: #FFFF09;}\n",
              ".cython.score-251 {background-color: #FFFF09;}\n",
              ".cython.score-252 {background-color: #FFFF09;}\n",
              ".cython.score-253 {background-color: #FFFF09;}\n",
              ".cython.score-254 {background-color: #FFFF09;}\n",
              ".cython .hll { background-color: #ffffcc }\n",
              ".cython  { background: #f8f8f8; }\n",
              ".cython .c { color: #408080; font-style: italic } /* Comment */\n",
              ".cython .err { border: 1px solid #FF0000 } /* Error */\n",
              ".cython .k { color: #008000; font-weight: bold } /* Keyword */\n",
              ".cython .o { color: #666666 } /* Operator */\n",
              ".cython .ch { color: #408080; font-style: italic } /* Comment.Hashbang */\n",
              ".cython .cm { color: #408080; font-style: italic } /* Comment.Multiline */\n",
              ".cython .cp { color: #BC7A00 } /* Comment.Preproc */\n",
              ".cython .cpf { color: #408080; font-style: italic } /* Comment.PreprocFile */\n",
              ".cython .c1 { color: #408080; font-style: italic } /* Comment.Single */\n",
              ".cython .cs { color: #408080; font-style: italic } /* Comment.Special */\n",
              ".cython .gd { color: #A00000 } /* Generic.Deleted */\n",
              ".cython .ge { font-style: italic } /* Generic.Emph */\n",
              ".cython .gr { color: #FF0000 } /* Generic.Error */\n",
              ".cython .gh { color: #000080; font-weight: bold } /* Generic.Heading */\n",
              ".cython .gi { color: #00A000 } /* Generic.Inserted */\n",
              ".cython .go { color: #888888 } /* Generic.Output */\n",
              ".cython .gp { color: #000080; font-weight: bold } /* Generic.Prompt */\n",
              ".cython .gs { font-weight: bold } /* Generic.Strong */\n",
              ".cython .gu { color: #800080; font-weight: bold } /* Generic.Subheading */\n",
              ".cython .gt { color: #0044DD } /* Generic.Traceback */\n",
              ".cython .kc { color: #008000; font-weight: bold } /* Keyword.Constant */\n",
              ".cython .kd { color: #008000; font-weight: bold } /* Keyword.Declaration */\n",
              ".cython .kn { color: #008000; font-weight: bold } /* Keyword.Namespace */\n",
              ".cython .kp { color: #008000 } /* Keyword.Pseudo */\n",
              ".cython .kr { color: #008000; font-weight: bold } /* Keyword.Reserved */\n",
              ".cython .kt { color: #B00040 } /* Keyword.Type */\n",
              ".cython .m { color: #666666 } /* Literal.Number */\n",
              ".cython .s { color: #BA2121 } /* Literal.String */\n",
              ".cython .na { color: #7D9029 } /* Name.Attribute */\n",
              ".cython .nb { color: #008000 } /* Name.Builtin */\n",
              ".cython .nc { color: #0000FF; font-weight: bold } /* Name.Class */\n",
              ".cython .no { color: #880000 } /* Name.Constant */\n",
              ".cython .nd { color: #AA22FF } /* Name.Decorator */\n",
              ".cython .ni { color: #999999; font-weight: bold } /* Name.Entity */\n",
              ".cython .ne { color: #D2413A; font-weight: bold } /* Name.Exception */\n",
              ".cython .nf { color: #0000FF } /* Name.Function */\n",
              ".cython .nl { color: #A0A000 } /* Name.Label */\n",
              ".cython .nn { color: #0000FF; font-weight: bold } /* Name.Namespace */\n",
              ".cython .nt { color: #008000; font-weight: bold } /* Name.Tag */\n",
              ".cython .nv { color: #19177C } /* Name.Variable */\n",
              ".cython .ow { color: #AA22FF; font-weight: bold } /* Operator.Word */\n",
              ".cython .w { color: #bbbbbb } /* Text.Whitespace */\n",
              ".cython .mb { color: #666666 } /* Literal.Number.Bin */\n",
              ".cython .mf { color: #666666 } /* Literal.Number.Float */\n",
              ".cython .mh { color: #666666 } /* Literal.Number.Hex */\n",
              ".cython .mi { color: #666666 } /* Literal.Number.Integer */\n",
              ".cython .mo { color: #666666 } /* Literal.Number.Oct */\n",
              ".cython .sa { color: #BA2121 } /* Literal.String.Affix */\n",
              ".cython .sb { color: #BA2121 } /* Literal.String.Backtick */\n",
              ".cython .sc { color: #BA2121 } /* Literal.String.Char */\n",
              ".cython .dl { color: #BA2121 } /* Literal.String.Delimiter */\n",
              ".cython .sd { color: #BA2121; font-style: italic } /* Literal.String.Doc */\n",
              ".cython .s2 { color: #BA2121 } /* Literal.String.Double */\n",
              ".cython .se { color: #BB6622; font-weight: bold } /* Literal.String.Escape */\n",
              ".cython .sh { color: #BA2121 } /* Literal.String.Heredoc */\n",
              ".cython .si { color: #BB6688; font-weight: bold } /* Literal.String.Interpol */\n",
              ".cython .sx { color: #008000 } /* Literal.String.Other */\n",
              ".cython .sr { color: #BB6688 } /* Literal.String.Regex */\n",
              ".cython .s1 { color: #BA2121 } /* Literal.String.Single */\n",
              ".cython .ss { color: #19177C } /* Literal.String.Symbol */\n",
              ".cython .bp { color: #008000 } /* Name.Builtin.Pseudo */\n",
              ".cython .fm { color: #0000FF } /* Name.Function.Magic */\n",
              ".cython .vc { color: #19177C } /* Name.Variable.Class */\n",
              ".cython .vg { color: #19177C } /* Name.Variable.Global */\n",
              ".cython .vi { color: #19177C } /* Name.Variable.Instance */\n",
              ".cython .vm { color: #19177C } /* Name.Variable.Magic */\n",
              ".cython .il { color: #666666 } /* Literal.Number.Integer.Long */\n",
              "    </style>\n",
              "</head>\n",
              "<body class=\"cython\">\n",
              "<p><span style=\"border-bottom: solid 1px grey;\">Generated by Cython 0.29.23</span></p>\n",
              "<p>\n",
              "    <span style=\"background-color: #FFFF00\">Yellow lines</span> hint at Python interaction.<br />\n",
              "    Click on a line that starts with a \"<code>+</code>\" to see the C code that Cython generated for it.\n",
              "</p>\n",
              "<div class=\"cython\"><pre class=\"cython line score-0\">&#xA0;<span class=\"\">01</span>: </pre>\n",
              "<pre class=\"cython line score-0\">&#xA0;<span class=\"\">02</span>: <span class=\"c\"># ~~~~~~~~~~~~~~~~~~~~~~~~~~~~~~~~~~~~~~~~~~~~~~~~~~~~~~~~</span></pre>\n",
              "<pre class=\"cython line score-0\">&#xA0;<span class=\"\">03</span>: <span class=\"c\"># The code in this cell is identical to that above; it</span></pre>\n",
              "<pre class=\"cython line score-0\">&#xA0;<span class=\"\">04</span>: <span class=\"c\"># must be repeated here to be processed with Cython.</span></pre>\n",
              "<pre class=\"cython line score-0\">&#xA0;<span class=\"\">05</span>: </pre>\n",
              "<pre class=\"cython line score-8\" onclick=\"(function(s){s.display=s.display==='block'?'none':'block'})(this.nextElementSibling.style)\">+<span class=\"\">06</span>: <span class=\"k\">import</span> <span class=\"nn\">numpy</span> <span class=\"k\">as</span> <span class=\"nn\">np</span></pre>\n",
              "<pre class='cython code score-8 '>  __pyx_t_1 = <span class='pyx_c_api'>__Pyx_Import</span>(__pyx_n_s_numpy, 0, 0);<span class='error_goto'> if (unlikely(!__pyx_t_1)) __PYX_ERR(0, 6, __pyx_L1_error)</span>\n",
              "  <span class='refnanny'>__Pyx_GOTREF</span>(__pyx_t_1);\n",
              "  if (<span class='py_c_api'>PyDict_SetItem</span>(__pyx_d, __pyx_n_s_np, __pyx_t_1) &lt; 0) <span class='error_goto'>__PYX_ERR(0, 6, __pyx_L1_error)</span>\n",
              "  <span class='pyx_macro_api'>__Pyx_DECREF</span>(__pyx_t_1); __pyx_t_1 = 0;\n",
              "</pre><pre class=\"cython line score-29\" onclick=\"(function(s){s.display=s.display==='block'?'none':'block'})(this.nextElementSibling.style)\">+<span class=\"\">07</span>: <span class=\"k\">from</span> <span class=\"nn\">scipy.special</span> <span class=\"k\">import</span> <span class=\"n\">gamma</span><span class=\"p\">,</span> <span class=\"n\">ndtr</span></pre>\n",
              "<pre class='cython code score-29 '>  __pyx_t_1 = <span class='py_c_api'>PyList_New</span>(2);<span class='error_goto'> if (unlikely(!__pyx_t_1)) __PYX_ERR(0, 7, __pyx_L1_error)</span>\n",
              "  <span class='refnanny'>__Pyx_GOTREF</span>(__pyx_t_1);\n",
              "  <span class='pyx_macro_api'>__Pyx_INCREF</span>(__pyx_n_s_gamma);\n",
              "  <span class='refnanny'>__Pyx_GIVEREF</span>(__pyx_n_s_gamma);\n",
              "  <span class='py_macro_api'>PyList_SET_ITEM</span>(__pyx_t_1, 0, __pyx_n_s_gamma);\n",
              "  <span class='pyx_macro_api'>__Pyx_INCREF</span>(__pyx_n_s_ndtr);\n",
              "  <span class='refnanny'>__Pyx_GIVEREF</span>(__pyx_n_s_ndtr);\n",
              "  <span class='py_macro_api'>PyList_SET_ITEM</span>(__pyx_t_1, 1, __pyx_n_s_ndtr);\n",
              "  __pyx_t_2 = <span class='pyx_c_api'>__Pyx_Import</span>(__pyx_n_s_scipy_special, __pyx_t_1, 0);<span class='error_goto'> if (unlikely(!__pyx_t_2)) __PYX_ERR(0, 7, __pyx_L1_error)</span>\n",
              "  <span class='refnanny'>__Pyx_GOTREF</span>(__pyx_t_2);\n",
              "  <span class='pyx_macro_api'>__Pyx_DECREF</span>(__pyx_t_1); __pyx_t_1 = 0;\n",
              "  __pyx_t_1 = <span class='pyx_c_api'>__Pyx_ImportFrom</span>(__pyx_t_2, __pyx_n_s_gamma);<span class='error_goto'> if (unlikely(!__pyx_t_1)) __PYX_ERR(0, 7, __pyx_L1_error)</span>\n",
              "  <span class='refnanny'>__Pyx_GOTREF</span>(__pyx_t_1);\n",
              "  if (<span class='py_c_api'>PyDict_SetItem</span>(__pyx_d, __pyx_n_s_gamma, __pyx_t_1) &lt; 0) <span class='error_goto'>__PYX_ERR(0, 7, __pyx_L1_error)</span>\n",
              "  <span class='pyx_macro_api'>__Pyx_DECREF</span>(__pyx_t_1); __pyx_t_1 = 0;\n",
              "  __pyx_t_1 = <span class='pyx_c_api'>__Pyx_ImportFrom</span>(__pyx_t_2, __pyx_n_s_ndtr);<span class='error_goto'> if (unlikely(!__pyx_t_1)) __PYX_ERR(0, 7, __pyx_L1_error)</span>\n",
              "  <span class='refnanny'>__Pyx_GOTREF</span>(__pyx_t_1);\n",
              "  if (<span class='py_c_api'>PyDict_SetItem</span>(__pyx_d, __pyx_n_s_ndtr, __pyx_t_1) &lt; 0) <span class='error_goto'>__PYX_ERR(0, 7, __pyx_L1_error)</span>\n",
              "  <span class='pyx_macro_api'>__Pyx_DECREF</span>(__pyx_t_1); __pyx_t_1 = 0;\n",
              "  <span class='pyx_macro_api'>__Pyx_DECREF</span>(__pyx_t_2); __pyx_t_2 = 0;\n",
              "</pre><pre class=\"cython line score-0\">&#xA0;<span class=\"\">08</span>: </pre>\n",
              "<pre class=\"cython line score-20\" onclick=\"(function(s){s.display=s.display==='block'?'none':'block'})(this.nextElementSibling.style)\">+<span class=\"\">09</span>: <span class=\"k\">def</span> <span class=\"nf\">phi</span><span class=\"p\">(</span><span class=\"n\">z</span><span class=\"p\">):</span></pre>\n",
              "<pre class='cython code score-20 '>/* Python wrapper */\n",
              "static PyObject *__pyx_pw_46_cython_magic_5ff788dfb06d94276a81147fd91e82ab_1phi(PyObject *__pyx_self, PyObject *__pyx_v_z); /*proto*/\n",
              "static PyMethodDef __pyx_mdef_46_cython_magic_5ff788dfb06d94276a81147fd91e82ab_1phi = {\"phi\", (PyCFunction)__pyx_pw_46_cython_magic_5ff788dfb06d94276a81147fd91e82ab_1phi, METH_O, 0};\n",
              "static PyObject *__pyx_pw_46_cython_magic_5ff788dfb06d94276a81147fd91e82ab_1phi(PyObject *__pyx_self, PyObject *__pyx_v_z) {\n",
              "  PyObject *__pyx_r = 0;\n",
              "  <span class='refnanny'>__Pyx_RefNannyDeclarations</span>\n",
              "  <span class='refnanny'>__Pyx_RefNannySetupContext</span>(\"phi (wrapper)\", 0);\n",
              "  __pyx_r = __pyx_pf_46_cython_magic_5ff788dfb06d94276a81147fd91e82ab_phi(__pyx_self, ((PyObject *)__pyx_v_z));\n",
              "\n",
              "  /* function exit code */\n",
              "  <span class='refnanny'>__Pyx_RefNannyFinishContext</span>();\n",
              "  return __pyx_r;\n",
              "}\n",
              "\n",
              "static PyObject *__pyx_pf_46_cython_magic_5ff788dfb06d94276a81147fd91e82ab_phi(CYTHON_UNUSED PyObject *__pyx_self, PyObject *__pyx_v_z) {\n",
              "  PyObject *__pyx_r = NULL;\n",
              "  <span class='refnanny'>__Pyx_RefNannyDeclarations</span>\n",
              "  <span class='refnanny'>__Pyx_RefNannySetupContext</span>(\"phi\", 0);\n",
              "/* … */\n",
              "  /* function exit code */\n",
              "  __pyx_L1_error:;\n",
              "  <span class='pyx_macro_api'>__Pyx_XDECREF</span>(__pyx_t_1);\n",
              "  <span class='pyx_macro_api'>__Pyx_XDECREF</span>(__pyx_t_2);\n",
              "  <span class='pyx_macro_api'>__Pyx_XDECREF</span>(__pyx_t_3);\n",
              "  <span class='pyx_macro_api'>__Pyx_XDECREF</span>(__pyx_t_4);\n",
              "  <span class='pyx_macro_api'>__Pyx_XDECREF</span>(__pyx_t_5);\n",
              "  <span class='pyx_c_api'>__Pyx_AddTraceback</span>(\"_cython_magic_5ff788dfb06d94276a81147fd91e82ab.phi\", __pyx_clineno, __pyx_lineno, __pyx_filename);\n",
              "  __pyx_r = NULL;\n",
              "  __pyx_L0:;\n",
              "  <span class='refnanny'>__Pyx_XGIVEREF</span>(__pyx_r);\n",
              "  <span class='refnanny'>__Pyx_RefNannyFinishContext</span>();\n",
              "  return __pyx_r;\n",
              "}\n",
              "/* … */\n",
              "  __pyx_tuple__7 = <span class='py_c_api'>PyTuple_Pack</span>(1, __pyx_n_s_z);<span class='error_goto'> if (unlikely(!__pyx_tuple__7)) __PYX_ERR(0, 9, __pyx_L1_error)</span>\n",
              "  <span class='refnanny'>__Pyx_GOTREF</span>(__pyx_tuple__7);\n",
              "  <span class='refnanny'>__Pyx_GIVEREF</span>(__pyx_tuple__7);\n",
              "/* … */\n",
              "  __pyx_t_2 = PyCFunction_NewEx(&amp;__pyx_mdef_46_cython_magic_5ff788dfb06d94276a81147fd91e82ab_1phi, NULL, __pyx_n_s_cython_magic_5ff788dfb06d94276a);<span class='error_goto'> if (unlikely(!__pyx_t_2)) __PYX_ERR(0, 9, __pyx_L1_error)</span>\n",
              "  <span class='refnanny'>__Pyx_GOTREF</span>(__pyx_t_2);\n",
              "  if (<span class='py_c_api'>PyDict_SetItem</span>(__pyx_d, __pyx_n_s_phi, __pyx_t_2) &lt; 0) <span class='error_goto'>__PYX_ERR(0, 9, __pyx_L1_error)</span>\n",
              "  <span class='pyx_macro_api'>__Pyx_DECREF</span>(__pyx_t_2); __pyx_t_2 = 0;\n",
              "  __pyx_codeobj__8 = (PyObject*)<span class='pyx_c_api'>__Pyx_PyCode_New</span>(1, 0, 1, 0, CO_OPTIMIZED|CO_NEWLOCALS, __pyx_empty_bytes, __pyx_empty_tuple, __pyx_empty_tuple, __pyx_tuple__7, __pyx_empty_tuple, __pyx_empty_tuple, __pyx_kp_s_root_cache_ipython_cython__cyth, __pyx_n_s_phi, 9, __pyx_empty_bytes);<span class='error_goto'> if (unlikely(!__pyx_codeobj__8)) __PYX_ERR(0, 9, __pyx_L1_error)</span>\n",
              "</pre><pre class=\"cython line score-56\" onclick=\"(function(s){s.display=s.display==='block'?'none':'block'})(this.nextElementSibling.style)\">+<span class=\"\">10</span>:   <span class=\"k\">return</span> <span class=\"p\">(</span><span class=\"mf\">2</span> <span class=\"o\">*</span> <span class=\"n\">np</span><span class=\"o\">.</span><span class=\"n\">pi</span><span class=\"p\">)</span><span class=\"o\">**</span><span class=\"p\">(</span><span class=\"o\">-.</span><span class=\"mf\">5</span><span class=\"p\">)</span> <span class=\"o\">*</span> <span class=\"n\">np</span><span class=\"o\">.</span><span class=\"n\">exp</span><span class=\"p\">(</span><span class=\"o\">-</span><span class=\"mf\">0.5</span> <span class=\"o\">*</span> <span class=\"n\">z</span> <span class=\"o\">*</span> <span class=\"n\">z</span><span class=\"p\">)</span></pre>\n",
              "<pre class='cython code score-56 '>  <span class='pyx_macro_api'>__Pyx_XDECREF</span>(__pyx_r);\n",
              "  <span class='pyx_c_api'>__Pyx_GetModuleGlobalName</span>(__pyx_t_1, __pyx_n_s_np);<span class='error_goto'> if (unlikely(!__pyx_t_1)) __PYX_ERR(0, 10, __pyx_L1_error)</span>\n",
              "  <span class='refnanny'>__Pyx_GOTREF</span>(__pyx_t_1);\n",
              "  __pyx_t_2 = <span class='pyx_c_api'>__Pyx_PyObject_GetAttrStr</span>(__pyx_t_1, __pyx_n_s_pi);<span class='error_goto'> if (unlikely(!__pyx_t_2)) __PYX_ERR(0, 10, __pyx_L1_error)</span>\n",
              "  <span class='refnanny'>__Pyx_GOTREF</span>(__pyx_t_2);\n",
              "  <span class='pyx_macro_api'>__Pyx_DECREF</span>(__pyx_t_1); __pyx_t_1 = 0;\n",
              "  __pyx_t_1 = <span class='py_c_api'>PyNumber_Multiply</span>(__pyx_int_2, __pyx_t_2);<span class='error_goto'> if (unlikely(!__pyx_t_1)) __PYX_ERR(0, 10, __pyx_L1_error)</span>\n",
              "  <span class='refnanny'>__Pyx_GOTREF</span>(__pyx_t_1);\n",
              "  <span class='pyx_macro_api'>__Pyx_DECREF</span>(__pyx_t_2); __pyx_t_2 = 0;\n",
              "  __pyx_t_2 = <span class='py_c_api'>PyNumber_Power</span>(__pyx_t_1, __pyx_float_neg__5, Py_None);<span class='error_goto'> if (unlikely(!__pyx_t_2)) __PYX_ERR(0, 10, __pyx_L1_error)</span>\n",
              "  <span class='refnanny'>__Pyx_GOTREF</span>(__pyx_t_2);\n",
              "  <span class='pyx_macro_api'>__Pyx_DECREF</span>(__pyx_t_1); __pyx_t_1 = 0;\n",
              "  <span class='pyx_c_api'>__Pyx_GetModuleGlobalName</span>(__pyx_t_3, __pyx_n_s_np);<span class='error_goto'> if (unlikely(!__pyx_t_3)) __PYX_ERR(0, 10, __pyx_L1_error)</span>\n",
              "  <span class='refnanny'>__Pyx_GOTREF</span>(__pyx_t_3);\n",
              "  __pyx_t_4 = <span class='pyx_c_api'>__Pyx_PyObject_GetAttrStr</span>(__pyx_t_3, __pyx_n_s_exp);<span class='error_goto'> if (unlikely(!__pyx_t_4)) __PYX_ERR(0, 10, __pyx_L1_error)</span>\n",
              "  <span class='refnanny'>__Pyx_GOTREF</span>(__pyx_t_4);\n",
              "  <span class='pyx_macro_api'>__Pyx_DECREF</span>(__pyx_t_3); __pyx_t_3 = 0;\n",
              "  __pyx_t_3 = <span class='py_c_api'>PyNumber_Multiply</span>(__pyx_float_neg_0_5, __pyx_v_z);<span class='error_goto'> if (unlikely(!__pyx_t_3)) __PYX_ERR(0, 10, __pyx_L1_error)</span>\n",
              "  <span class='refnanny'>__Pyx_GOTREF</span>(__pyx_t_3);\n",
              "  __pyx_t_5 = <span class='py_c_api'>PyNumber_Multiply</span>(__pyx_t_3, __pyx_v_z);<span class='error_goto'> if (unlikely(!__pyx_t_5)) __PYX_ERR(0, 10, __pyx_L1_error)</span>\n",
              "  <span class='refnanny'>__Pyx_GOTREF</span>(__pyx_t_5);\n",
              "  <span class='pyx_macro_api'>__Pyx_DECREF</span>(__pyx_t_3); __pyx_t_3 = 0;\n",
              "  __pyx_t_3 = NULL;\n",
              "  if (CYTHON_UNPACK_METHODS &amp;&amp; unlikely(<span class='py_c_api'>PyMethod_Check</span>(__pyx_t_4))) {\n",
              "    __pyx_t_3 = <span class='py_macro_api'>PyMethod_GET_SELF</span>(__pyx_t_4);\n",
              "    if (likely(__pyx_t_3)) {\n",
              "      PyObject* function = <span class='py_macro_api'>PyMethod_GET_FUNCTION</span>(__pyx_t_4);\n",
              "      <span class='pyx_macro_api'>__Pyx_INCREF</span>(__pyx_t_3);\n",
              "      <span class='pyx_macro_api'>__Pyx_INCREF</span>(function);\n",
              "      <span class='pyx_macro_api'>__Pyx_DECREF_SET</span>(__pyx_t_4, function);\n",
              "    }\n",
              "  }\n",
              "  __pyx_t_1 = (__pyx_t_3) ? __Pyx_PyObject_Call2Args(__pyx_t_4, __pyx_t_3, __pyx_t_5) : <span class='pyx_c_api'>__Pyx_PyObject_CallOneArg</span>(__pyx_t_4, __pyx_t_5);\n",
              "  <span class='pyx_macro_api'>__Pyx_XDECREF</span>(__pyx_t_3); __pyx_t_3 = 0;\n",
              "  <span class='pyx_macro_api'>__Pyx_DECREF</span>(__pyx_t_5); __pyx_t_5 = 0;\n",
              "  if (unlikely(!__pyx_t_1)) <span class='error_goto'>__PYX_ERR(0, 10, __pyx_L1_error)</span>\n",
              "  <span class='refnanny'>__Pyx_GOTREF</span>(__pyx_t_1);\n",
              "  <span class='pyx_macro_api'>__Pyx_DECREF</span>(__pyx_t_4); __pyx_t_4 = 0;\n",
              "  __pyx_t_4 = <span class='py_c_api'>PyNumber_Multiply</span>(__pyx_t_2, __pyx_t_1);<span class='error_goto'> if (unlikely(!__pyx_t_4)) __PYX_ERR(0, 10, __pyx_L1_error)</span>\n",
              "  <span class='refnanny'>__Pyx_GOTREF</span>(__pyx_t_4);\n",
              "  <span class='pyx_macro_api'>__Pyx_DECREF</span>(__pyx_t_2); __pyx_t_2 = 0;\n",
              "  <span class='pyx_macro_api'>__Pyx_DECREF</span>(__pyx_t_1); __pyx_t_1 = 0;\n",
              "  __pyx_r = __pyx_t_4;\n",
              "  __pyx_t_4 = 0;\n",
              "  goto __pyx_L0;\n",
              "</pre><pre class=\"cython line score-0\">&#xA0;<span class=\"\">11</span>: </pre>\n",
              "<pre class=\"cython line score-18\" onclick=\"(function(s){s.display=s.display==='block'?'none':'block'})(this.nextElementSibling.style)\">+<span class=\"\">12</span>: <span class=\"k\">def</span> <span class=\"nf\">Phi</span><span class=\"p\">(</span><span class=\"n\">z</span><span class=\"p\">):</span></pre>\n",
              "<pre class='cython code score-18 '>/* Python wrapper */\n",
              "static PyObject *__pyx_pw_46_cython_magic_5ff788dfb06d94276a81147fd91e82ab_3Phi(PyObject *__pyx_self, PyObject *__pyx_v_z); /*proto*/\n",
              "static PyMethodDef __pyx_mdef_46_cython_magic_5ff788dfb06d94276a81147fd91e82ab_3Phi = {\"Phi\", (PyCFunction)__pyx_pw_46_cython_magic_5ff788dfb06d94276a81147fd91e82ab_3Phi, METH_O, 0};\n",
              "static PyObject *__pyx_pw_46_cython_magic_5ff788dfb06d94276a81147fd91e82ab_3Phi(PyObject *__pyx_self, PyObject *__pyx_v_z) {\n",
              "  PyObject *__pyx_r = 0;\n",
              "  <span class='refnanny'>__Pyx_RefNannyDeclarations</span>\n",
              "  <span class='refnanny'>__Pyx_RefNannySetupContext</span>(\"Phi (wrapper)\", 0);\n",
              "  __pyx_r = __pyx_pf_46_cython_magic_5ff788dfb06d94276a81147fd91e82ab_2Phi(__pyx_self, ((PyObject *)__pyx_v_z));\n",
              "\n",
              "  /* function exit code */\n",
              "  <span class='refnanny'>__Pyx_RefNannyFinishContext</span>();\n",
              "  return __pyx_r;\n",
              "}\n",
              "\n",
              "static PyObject *__pyx_pf_46_cython_magic_5ff788dfb06d94276a81147fd91e82ab_2Phi(CYTHON_UNUSED PyObject *__pyx_self, PyObject *__pyx_v_z) {\n",
              "  PyObject *__pyx_r = NULL;\n",
              "  <span class='refnanny'>__Pyx_RefNannyDeclarations</span>\n",
              "  <span class='refnanny'>__Pyx_RefNannySetupContext</span>(\"Phi\", 0);\n",
              "/* … */\n",
              "  /* function exit code */\n",
              "  __pyx_L1_error:;\n",
              "  <span class='pyx_macro_api'>__Pyx_XDECREF</span>(__pyx_t_1);\n",
              "  <span class='pyx_macro_api'>__Pyx_XDECREF</span>(__pyx_t_2);\n",
              "  <span class='pyx_macro_api'>__Pyx_XDECREF</span>(__pyx_t_3);\n",
              "  <span class='pyx_c_api'>__Pyx_AddTraceback</span>(\"_cython_magic_5ff788dfb06d94276a81147fd91e82ab.Phi\", __pyx_clineno, __pyx_lineno, __pyx_filename);\n",
              "  __pyx_r = NULL;\n",
              "  __pyx_L0:;\n",
              "  <span class='refnanny'>__Pyx_XGIVEREF</span>(__pyx_r);\n",
              "  <span class='refnanny'>__Pyx_RefNannyFinishContext</span>();\n",
              "  return __pyx_r;\n",
              "}\n",
              "/* … */\n",
              "  __pyx_tuple__9 = <span class='py_c_api'>PyTuple_Pack</span>(1, __pyx_n_s_z);<span class='error_goto'> if (unlikely(!__pyx_tuple__9)) __PYX_ERR(0, 12, __pyx_L1_error)</span>\n",
              "  <span class='refnanny'>__Pyx_GOTREF</span>(__pyx_tuple__9);\n",
              "  <span class='refnanny'>__Pyx_GIVEREF</span>(__pyx_tuple__9);\n",
              "/* … */\n",
              "  __pyx_t_2 = PyCFunction_NewEx(&amp;__pyx_mdef_46_cython_magic_5ff788dfb06d94276a81147fd91e82ab_3Phi, NULL, __pyx_n_s_cython_magic_5ff788dfb06d94276a);<span class='error_goto'> if (unlikely(!__pyx_t_2)) __PYX_ERR(0, 12, __pyx_L1_error)</span>\n",
              "  <span class='refnanny'>__Pyx_GOTREF</span>(__pyx_t_2);\n",
              "  if (<span class='py_c_api'>PyDict_SetItem</span>(__pyx_d, __pyx_n_s_Phi, __pyx_t_2) &lt; 0) <span class='error_goto'>__PYX_ERR(0, 12, __pyx_L1_error)</span>\n",
              "  <span class='pyx_macro_api'>__Pyx_DECREF</span>(__pyx_t_2); __pyx_t_2 = 0;\n",
              "  __pyx_codeobj__10 = (PyObject*)<span class='pyx_c_api'>__Pyx_PyCode_New</span>(1, 0, 1, 0, CO_OPTIMIZED|CO_NEWLOCALS, __pyx_empty_bytes, __pyx_empty_tuple, __pyx_empty_tuple, __pyx_tuple__9, __pyx_empty_tuple, __pyx_empty_tuple, __pyx_kp_s_root_cache_ipython_cython__cyth, __pyx_n_s_Phi, 12, __pyx_empty_bytes);<span class='error_goto'> if (unlikely(!__pyx_codeobj__10)) __PYX_ERR(0, 12, __pyx_L1_error)</span>\n",
              "</pre><pre class=\"cython line score-17\" onclick=\"(function(s){s.display=s.display==='block'?'none':'block'})(this.nextElementSibling.style)\">+<span class=\"\">13</span>:   <span class=\"k\">return</span> <span class=\"n\">ndtr</span><span class=\"p\">(</span><span class=\"n\">z</span><span class=\"p\">)</span></pre>\n",
              "<pre class='cython code score-17 '>  <span class='pyx_macro_api'>__Pyx_XDECREF</span>(__pyx_r);\n",
              "  <span class='pyx_c_api'>__Pyx_GetModuleGlobalName</span>(__pyx_t_2, __pyx_n_s_ndtr);<span class='error_goto'> if (unlikely(!__pyx_t_2)) __PYX_ERR(0, 13, __pyx_L1_error)</span>\n",
              "  <span class='refnanny'>__Pyx_GOTREF</span>(__pyx_t_2);\n",
              "  __pyx_t_3 = NULL;\n",
              "  if (CYTHON_UNPACK_METHODS &amp;&amp; unlikely(<span class='py_c_api'>PyMethod_Check</span>(__pyx_t_2))) {\n",
              "    __pyx_t_3 = <span class='py_macro_api'>PyMethod_GET_SELF</span>(__pyx_t_2);\n",
              "    if (likely(__pyx_t_3)) {\n",
              "      PyObject* function = <span class='py_macro_api'>PyMethod_GET_FUNCTION</span>(__pyx_t_2);\n",
              "      <span class='pyx_macro_api'>__Pyx_INCREF</span>(__pyx_t_3);\n",
              "      <span class='pyx_macro_api'>__Pyx_INCREF</span>(function);\n",
              "      <span class='pyx_macro_api'>__Pyx_DECREF_SET</span>(__pyx_t_2, function);\n",
              "    }\n",
              "  }\n",
              "  __pyx_t_1 = (__pyx_t_3) ? __Pyx_PyObject_Call2Args(__pyx_t_2, __pyx_t_3, __pyx_v_z) : <span class='pyx_c_api'>__Pyx_PyObject_CallOneArg</span>(__pyx_t_2, __pyx_v_z);\n",
              "  <span class='pyx_macro_api'>__Pyx_XDECREF</span>(__pyx_t_3); __pyx_t_3 = 0;\n",
              "  if (unlikely(!__pyx_t_1)) <span class='error_goto'>__PYX_ERR(0, 13, __pyx_L1_error)</span>\n",
              "  <span class='refnanny'>__Pyx_GOTREF</span>(__pyx_t_1);\n",
              "  <span class='pyx_macro_api'>__Pyx_DECREF</span>(__pyx_t_2); __pyx_t_2 = 0;\n",
              "  __pyx_r = __pyx_t_1;\n",
              "  __pyx_t_1 = 0;\n",
              "  goto __pyx_L0;\n",
              "</pre><pre class=\"cython line score-0\">&#xA0;<span class=\"\">14</span>: </pre>\n",
              "<pre class=\"cython line score-53\" onclick=\"(function(s){s.display=s.display==='block'?'none':'block'})(this.nextElementSibling.style)\">+<span class=\"\">15</span>: <span class=\"k\">def</span> <span class=\"nf\">integrand_cythonized_python</span><span class=\"p\">(</span><span class=\"n\">s</span><span class=\"p\">,</span> <span class=\"n\">z</span><span class=\"p\">,</span> <span class=\"o\">*</span><span class=\"n\">args</span><span class=\"p\">):</span></pre>\n",
              "<pre class='cython code score-53 '>/* Python wrapper */\n",
              "static PyObject *__pyx_pw_46_cython_magic_5ff788dfb06d94276a81147fd91e82ab_5integrand_cythonized_python(PyObject *__pyx_self, PyObject *__pyx_args, PyObject *__pyx_kwds); /*proto*/\n",
              "static PyMethodDef __pyx_mdef_46_cython_magic_5ff788dfb06d94276a81147fd91e82ab_5integrand_cythonized_python = {\"integrand_cythonized_python\", (PyCFunction)(void*)(PyCFunctionWithKeywords)__pyx_pw_46_cython_magic_5ff788dfb06d94276a81147fd91e82ab_5integrand_cythonized_python, METH_VARARGS|METH_KEYWORDS, 0};\n",
              "static PyObject *__pyx_pw_46_cython_magic_5ff788dfb06d94276a81147fd91e82ab_5integrand_cythonized_python(PyObject *__pyx_self, PyObject *__pyx_args, PyObject *__pyx_kwds) {\n",
              "  PyObject *__pyx_v_s = 0;\n",
              "  PyObject *__pyx_v_z = 0;\n",
              "  PyObject *__pyx_v_args = 0;\n",
              "  PyObject *__pyx_r = 0;\n",
              "  <span class='refnanny'>__Pyx_RefNannyDeclarations</span>\n",
              "  <span class='refnanny'>__Pyx_RefNannySetupContext</span>(\"integrand_cythonized_python (wrapper)\", 0);\n",
              "  if (<span class='py_macro_api'>PyTuple_GET_SIZE</span>(__pyx_args) &gt; 2) {\n",
              "    __pyx_v_args = <span class='py_c_api'>PyTuple_GetSlice</span>(__pyx_args, 2, <span class='py_macro_api'>PyTuple_GET_SIZE</span>(__pyx_args));\n",
              "    if (unlikely(!__pyx_v_args)) {\n",
              "      <span class='refnanny'>__Pyx_RefNannyFinishContext</span>();\n",
              "      return NULL;\n",
              "    }\n",
              "    <span class='refnanny'>__Pyx_GOTREF</span>(__pyx_v_args);\n",
              "  } else {\n",
              "    __pyx_v_args = __pyx_empty_tuple; <span class='pyx_macro_api'>__Pyx_INCREF</span>(__pyx_empty_tuple);\n",
              "  }\n",
              "  {\n",
              "    static PyObject **__pyx_pyargnames[] = {&amp;__pyx_n_s_s,&amp;__pyx_n_s_z,0};\n",
              "    PyObject* values[2] = {0,0};\n",
              "    if (unlikely(__pyx_kwds)) {\n",
              "      Py_ssize_t kw_args;\n",
              "      const Py_ssize_t pos_args = <span class='py_macro_api'>PyTuple_GET_SIZE</span>(__pyx_args);\n",
              "      switch (pos_args) {\n",
              "        default:\n",
              "        case  2: values[1] = <span class='py_macro_api'>PyTuple_GET_ITEM</span>(__pyx_args, 1);\n",
              "        CYTHON_FALLTHROUGH;\n",
              "        case  1: values[0] = <span class='py_macro_api'>PyTuple_GET_ITEM</span>(__pyx_args, 0);\n",
              "        CYTHON_FALLTHROUGH;\n",
              "        case  0: break;\n",
              "      }\n",
              "      kw_args = <span class='py_c_api'>PyDict_Size</span>(__pyx_kwds);\n",
              "      switch (pos_args) {\n",
              "        case  0:\n",
              "        if (likely((values[0] = <span class='pyx_c_api'>__Pyx_PyDict_GetItemStr</span>(__pyx_kwds, __pyx_n_s_s)) != 0)) kw_args--;\n",
              "        else goto __pyx_L5_argtuple_error;\n",
              "        CYTHON_FALLTHROUGH;\n",
              "        case  1:\n",
              "        if (likely((values[1] = <span class='pyx_c_api'>__Pyx_PyDict_GetItemStr</span>(__pyx_kwds, __pyx_n_s_z)) != 0)) kw_args--;\n",
              "        else {\n",
              "          <span class='pyx_c_api'>__Pyx_RaiseArgtupleInvalid</span>(\"integrand_cythonized_python\", 0, 2, 2, 1); <span class='error_goto'>__PYX_ERR(0, 15, __pyx_L3_error)</span>\n",
              "        }\n",
              "      }\n",
              "      if (unlikely(kw_args &gt; 0)) {\n",
              "        const Py_ssize_t used_pos_args = (pos_args &lt; 2) ? pos_args : 2;\n",
              "        if (unlikely(<span class='pyx_c_api'>__Pyx_ParseOptionalKeywords</span>(__pyx_kwds, __pyx_pyargnames, 0, values, used_pos_args, \"integrand_cythonized_python\") &lt; 0)) <span class='error_goto'>__PYX_ERR(0, 15, __pyx_L3_error)</span>\n",
              "      }\n",
              "    } else if (<span class='py_macro_api'>PyTuple_GET_SIZE</span>(__pyx_args) &lt; 2) {\n",
              "      goto __pyx_L5_argtuple_error;\n",
              "    } else {\n",
              "      values[0] = <span class='py_macro_api'>PyTuple_GET_ITEM</span>(__pyx_args, 0);\n",
              "      values[1] = <span class='py_macro_api'>PyTuple_GET_ITEM</span>(__pyx_args, 1);\n",
              "    }\n",
              "    __pyx_v_s = values[0];\n",
              "    __pyx_v_z = values[1];\n",
              "  }\n",
              "  goto __pyx_L4_argument_unpacking_done;\n",
              "  __pyx_L5_argtuple_error:;\n",
              "  <span class='pyx_c_api'>__Pyx_RaiseArgtupleInvalid</span>(\"integrand_cythonized_python\", 0, 2, 2, <span class='py_macro_api'>PyTuple_GET_SIZE</span>(__pyx_args)); <span class='error_goto'>__PYX_ERR(0, 15, __pyx_L3_error)</span>\n",
              "  __pyx_L3_error:;\n",
              "  <span class='pyx_macro_api'>__Pyx_DECREF</span>(__pyx_v_args); __pyx_v_args = 0;\n",
              "  <span class='pyx_c_api'>__Pyx_AddTraceback</span>(\"_cython_magic_5ff788dfb06d94276a81147fd91e82ab.integrand_cythonized_python\", __pyx_clineno, __pyx_lineno, __pyx_filename);\n",
              "  <span class='refnanny'>__Pyx_RefNannyFinishContext</span>();\n",
              "  return NULL;\n",
              "  __pyx_L4_argument_unpacking_done:;\n",
              "  __pyx_r = __pyx_pf_46_cython_magic_5ff788dfb06d94276a81147fd91e82ab_4integrand_cythonized_python(__pyx_self, __pyx_v_s, __pyx_v_z, __pyx_v_args);\n",
              "  int __pyx_lineno = 0;\n",
              "  const char *__pyx_filename = NULL;\n",
              "  int __pyx_clineno = 0;\n",
              "\n",
              "  /* function exit code */\n",
              "  <span class='pyx_macro_api'>__Pyx_XDECREF</span>(__pyx_v_args);\n",
              "  <span class='refnanny'>__Pyx_RefNannyFinishContext</span>();\n",
              "  return __pyx_r;\n",
              "}\n",
              "/* … */\n",
              "static PyObject *__pyx_pf_46_cython_magic_5ff788dfb06d94276a81147fd91e82ab_4integrand_cythonized_python(CYTHON_UNUSED PyObject *__pyx_self, PyObject *__pyx_v_s, PyObject *__pyx_v_z, PyObject *__pyx_v_args) {\n",
              "  struct __pyx_obj_46_cython_magic_5ff788dfb06d94276a81147fd91e82ab___pyx_scope_struct__integrand_cythonized_python *__pyx_cur_scope;\n",
              "  PyObject *__pyx_v_whole = 0;\n",
              "  PyObject *__pyx_r = NULL;\n",
              "  <span class='refnanny'>__Pyx_RefNannyDeclarations</span>\n",
              "  <span class='refnanny'>__Pyx_RefNannySetupContext</span>(\"integrand_cythonized_python\", 0);\n",
              "  __pyx_cur_scope = (struct __pyx_obj_46_cython_magic_5ff788dfb06d94276a81147fd91e82ab___pyx_scope_struct__integrand_cythonized_python *)__pyx_tp_new_46_cython_magic_5ff788dfb06d94276a81147fd91e82ab___pyx_scope_struct__integrand_cythonized_python(__pyx_ptype_46_cython_magic_5ff788dfb06d94276a81147fd91e82ab___pyx_scope_struct__integrand_cythonized_python, __pyx_empty_tuple, NULL);\n",
              "  if (unlikely(!__pyx_cur_scope)) {\n",
              "    __pyx_cur_scope = ((struct __pyx_obj_46_cython_magic_5ff788dfb06d94276a81147fd91e82ab___pyx_scope_struct__integrand_cythonized_python *)Py_None);\n",
              "    <span class='pyx_macro_api'>__Pyx_INCREF</span>(Py_None);\n",
              "    <span class='error_goto'>__PYX_ERR(0, 15, __pyx_L1_error)</span>\n",
              "  } else {\n",
              "    <span class='refnanny'>__Pyx_GOTREF</span>(__pyx_cur_scope);\n",
              "  }\n",
              "/* … */\n",
              "  /* function exit code */\n",
              "  __pyx_L1_error:;\n",
              "  <span class='pyx_macro_api'>__Pyx_XDECREF</span>(__pyx_t_1);\n",
              "  <span class='pyx_macro_api'>__Pyx_XDECREF</span>(__pyx_t_2);\n",
              "  <span class='pyx_macro_api'>__Pyx_XDECREF</span>(__pyx_t_3);\n",
              "  <span class='pyx_c_api'>__Pyx_AddTraceback</span>(\"_cython_magic_5ff788dfb06d94276a81147fd91e82ab.integrand_cythonized_python\", __pyx_clineno, __pyx_lineno, __pyx_filename);\n",
              "  __pyx_r = NULL;\n",
              "  __pyx_L0:;\n",
              "  <span class='pyx_macro_api'>__Pyx_XDECREF</span>(__pyx_v_whole);\n",
              "  <span class='pyx_macro_api'>__Pyx_DECREF</span>(((PyObject *)__pyx_cur_scope));\n",
              "  <span class='refnanny'>__Pyx_XGIVEREF</span>(__pyx_r);\n",
              "  <span class='refnanny'>__Pyx_RefNannyFinishContext</span>();\n",
              "  return __pyx_r;\n",
              "}\n",
              "/* … */\n",
              "  __pyx_tuple__11 = <span class='py_c_api'>PyTuple_Pack</span>(12, __pyx_n_s_s, __pyx_n_s_z, __pyx_n_s_args, __pyx_n_s_q, __pyx_n_s_k, __pyx_n_s_nu, __pyx_n_s_inner, __pyx_n_s_inner, __pyx_n_s_outer, __pyx_n_s_outer, __pyx_n_s_whole, __pyx_n_s_whole);<span class='error_goto'> if (unlikely(!__pyx_tuple__11)) __PYX_ERR(0, 15, __pyx_L1_error)</span>\n",
              "  <span class='refnanny'>__Pyx_GOTREF</span>(__pyx_tuple__11);\n",
              "  <span class='refnanny'>__Pyx_GIVEREF</span>(__pyx_tuple__11);\n",
              "/* … */\n",
              "  __pyx_t_2 = PyCFunction_NewEx(&amp;__pyx_mdef_46_cython_magic_5ff788dfb06d94276a81147fd91e82ab_5integrand_cythonized_python, NULL, __pyx_n_s_cython_magic_5ff788dfb06d94276a);<span class='error_goto'> if (unlikely(!__pyx_t_2)) __PYX_ERR(0, 15, __pyx_L1_error)</span>\n",
              "  <span class='refnanny'>__Pyx_GOTREF</span>(__pyx_t_2);\n",
              "  if (<span class='py_c_api'>PyDict_SetItem</span>(__pyx_d, __pyx_n_s_integrand_cythonized_python, __pyx_t_2) &lt; 0) <span class='error_goto'>__PYX_ERR(0, 15, __pyx_L1_error)</span>\n",
              "  <span class='pyx_macro_api'>__Pyx_DECREF</span>(__pyx_t_2); __pyx_t_2 = 0;\n",
              "</pre><pre class=\"cython line score-15\" onclick=\"(function(s){s.display=s.display==='block'?'none':'block'})(this.nextElementSibling.style)\">+<span class=\"\">16</span>:   <span class=\"n\">q</span><span class=\"p\">,</span> <span class=\"n\">k</span><span class=\"p\">,</span> <span class=\"n\">nu</span> <span class=\"o\">=</span> <span class=\"n\">args</span></pre>\n",
              "<pre class='cython code score-15 '>  if (1) {\n",
              "    PyObject* sequence = __pyx_v_args;\n",
              "    Py_ssize_t size = <span class='pyx_c_api'>__Pyx_PySequence_SIZE</span>(sequence);\n",
              "    if (unlikely(size != 3)) {\n",
              "      if (size &gt; 3) <span class='pyx_c_api'>__Pyx_RaiseTooManyValuesError</span>(3);\n",
              "      else if (size &gt;= 0) <span class='pyx_c_api'>__Pyx_RaiseNeedMoreValuesError</span>(size);\n",
              "      <span class='error_goto'>__PYX_ERR(0, 16, __pyx_L1_error)</span>\n",
              "    }\n",
              "    #if CYTHON_ASSUME_SAFE_MACROS &amp;&amp; !CYTHON_AVOID_BORROWED_REFS\n",
              "    __pyx_t_1 = <span class='py_macro_api'>PyTuple_GET_ITEM</span>(sequence, 0); \n",
              "    __pyx_t_2 = <span class='py_macro_api'>PyTuple_GET_ITEM</span>(sequence, 1); \n",
              "    __pyx_t_3 = <span class='py_macro_api'>PyTuple_GET_ITEM</span>(sequence, 2); \n",
              "    <span class='pyx_macro_api'>__Pyx_INCREF</span>(__pyx_t_1);\n",
              "    <span class='pyx_macro_api'>__Pyx_INCREF</span>(__pyx_t_2);\n",
              "    <span class='pyx_macro_api'>__Pyx_INCREF</span>(__pyx_t_3);\n",
              "    #else\n",
              "    __pyx_t_1 = <span class='py_macro_api'>PySequence_ITEM</span>(sequence, 0);<span class='error_goto'> if (unlikely(!__pyx_t_1)) __PYX_ERR(0, 16, __pyx_L1_error)</span>\n",
              "    <span class='refnanny'>__Pyx_GOTREF</span>(__pyx_t_1);\n",
              "    __pyx_t_2 = <span class='py_macro_api'>PySequence_ITEM</span>(sequence, 1);<span class='error_goto'> if (unlikely(!__pyx_t_2)) __PYX_ERR(0, 16, __pyx_L1_error)</span>\n",
              "    <span class='refnanny'>__Pyx_GOTREF</span>(__pyx_t_2);\n",
              "    __pyx_t_3 = <span class='py_macro_api'>PySequence_ITEM</span>(sequence, 2);<span class='error_goto'> if (unlikely(!__pyx_t_3)) __PYX_ERR(0, 16, __pyx_L1_error)</span>\n",
              "    <span class='refnanny'>__Pyx_GOTREF</span>(__pyx_t_3);\n",
              "    #endif\n",
              "  }\n",
              "  <span class='refnanny'>__Pyx_GIVEREF</span>(__pyx_t_1);\n",
              "  __pyx_cur_scope-&gt;__pyx_v_q = __pyx_t_1;\n",
              "  __pyx_t_1 = 0;\n",
              "  <span class='refnanny'>__Pyx_GIVEREF</span>(__pyx_t_2);\n",
              "  __pyx_cur_scope-&gt;__pyx_v_k = __pyx_t_2;\n",
              "  __pyx_t_2 = 0;\n",
              "  <span class='refnanny'>__Pyx_GIVEREF</span>(__pyx_t_3);\n",
              "  __pyx_cur_scope-&gt;__pyx_v_nu = __pyx_t_3;\n",
              "  __pyx_t_3 = 0;\n",
              "</pre><pre class=\"cython line score-0\">&#xA0;<span class=\"\">17</span>: </pre>\n",
              "<pre class=\"cython line score-42\" onclick=\"(function(s){s.display=s.display==='block'?'none':'block'})(this.nextElementSibling.style)\">+<span class=\"\">18</span>:   <span class=\"k\">def</span> <span class=\"nf\">inner</span><span class=\"p\">(</span><span class=\"n\">s</span><span class=\"p\">,</span> <span class=\"n\">z</span><span class=\"p\">):</span></pre>\n",
              "<pre class='cython code score-42 '>/* Python wrapper */\n",
              "static PyObject *__pyx_pw_46_cython_magic_5ff788dfb06d94276a81147fd91e82ab_27integrand_cythonized_python_1inner(PyObject *__pyx_self, PyObject *__pyx_args, PyObject *__pyx_kwds); /*proto*/\n",
              "static PyMethodDef __pyx_mdef_46_cython_magic_5ff788dfb06d94276a81147fd91e82ab_27integrand_cythonized_python_1inner = {\"inner\", (PyCFunction)(void*)(PyCFunctionWithKeywords)__pyx_pw_46_cython_magic_5ff788dfb06d94276a81147fd91e82ab_27integrand_cythonized_python_1inner, METH_VARARGS|METH_KEYWORDS, 0};\n",
              "static PyObject *__pyx_pw_46_cython_magic_5ff788dfb06d94276a81147fd91e82ab_27integrand_cythonized_python_1inner(PyObject *__pyx_self, PyObject *__pyx_args, PyObject *__pyx_kwds) {\n",
              "  PyObject *__pyx_v_s = 0;\n",
              "  PyObject *__pyx_v_z = 0;\n",
              "  PyObject *__pyx_r = 0;\n",
              "  <span class='refnanny'>__Pyx_RefNannyDeclarations</span>\n",
              "  <span class='refnanny'>__Pyx_RefNannySetupContext</span>(\"inner (wrapper)\", 0);\n",
              "  {\n",
              "    static PyObject **__pyx_pyargnames[] = {&amp;__pyx_n_s_s,&amp;__pyx_n_s_z,0};\n",
              "    PyObject* values[2] = {0,0};\n",
              "    if (unlikely(__pyx_kwds)) {\n",
              "      Py_ssize_t kw_args;\n",
              "      const Py_ssize_t pos_args = <span class='py_macro_api'>PyTuple_GET_SIZE</span>(__pyx_args);\n",
              "      switch (pos_args) {\n",
              "        case  2: values[1] = <span class='py_macro_api'>PyTuple_GET_ITEM</span>(__pyx_args, 1);\n",
              "        CYTHON_FALLTHROUGH;\n",
              "        case  1: values[0] = <span class='py_macro_api'>PyTuple_GET_ITEM</span>(__pyx_args, 0);\n",
              "        CYTHON_FALLTHROUGH;\n",
              "        case  0: break;\n",
              "        default: goto __pyx_L5_argtuple_error;\n",
              "      }\n",
              "      kw_args = <span class='py_c_api'>PyDict_Size</span>(__pyx_kwds);\n",
              "      switch (pos_args) {\n",
              "        case  0:\n",
              "        if (likely((values[0] = <span class='pyx_c_api'>__Pyx_PyDict_GetItemStr</span>(__pyx_kwds, __pyx_n_s_s)) != 0)) kw_args--;\n",
              "        else goto __pyx_L5_argtuple_error;\n",
              "        CYTHON_FALLTHROUGH;\n",
              "        case  1:\n",
              "        if (likely((values[1] = <span class='pyx_c_api'>__Pyx_PyDict_GetItemStr</span>(__pyx_kwds, __pyx_n_s_z)) != 0)) kw_args--;\n",
              "        else {\n",
              "          <span class='pyx_c_api'>__Pyx_RaiseArgtupleInvalid</span>(\"inner\", 1, 2, 2, 1); <span class='error_goto'>__PYX_ERR(0, 18, __pyx_L3_error)</span>\n",
              "        }\n",
              "      }\n",
              "      if (unlikely(kw_args &gt; 0)) {\n",
              "        if (unlikely(<span class='pyx_c_api'>__Pyx_ParseOptionalKeywords</span>(__pyx_kwds, __pyx_pyargnames, 0, values, pos_args, \"inner\") &lt; 0)) <span class='error_goto'>__PYX_ERR(0, 18, __pyx_L3_error)</span>\n",
              "      }\n",
              "    } else if (<span class='py_macro_api'>PyTuple_GET_SIZE</span>(__pyx_args) != 2) {\n",
              "      goto __pyx_L5_argtuple_error;\n",
              "    } else {\n",
              "      values[0] = <span class='py_macro_api'>PyTuple_GET_ITEM</span>(__pyx_args, 0);\n",
              "      values[1] = <span class='py_macro_api'>PyTuple_GET_ITEM</span>(__pyx_args, 1);\n",
              "    }\n",
              "    __pyx_v_s = values[0];\n",
              "    __pyx_v_z = values[1];\n",
              "  }\n",
              "  goto __pyx_L4_argument_unpacking_done;\n",
              "  __pyx_L5_argtuple_error:;\n",
              "  <span class='pyx_c_api'>__Pyx_RaiseArgtupleInvalid</span>(\"inner\", 1, 2, 2, <span class='py_macro_api'>PyTuple_GET_SIZE</span>(__pyx_args)); <span class='error_goto'>__PYX_ERR(0, 18, __pyx_L3_error)</span>\n",
              "  __pyx_L3_error:;\n",
              "  <span class='pyx_c_api'>__Pyx_AddTraceback</span>(\"_cython_magic_5ff788dfb06d94276a81147fd91e82ab.integrand_cythonized_python.inner\", __pyx_clineno, __pyx_lineno, __pyx_filename);\n",
              "  <span class='refnanny'>__Pyx_RefNannyFinishContext</span>();\n",
              "  return NULL;\n",
              "  __pyx_L4_argument_unpacking_done:;\n",
              "  __pyx_r = __pyx_pf_46_cython_magic_5ff788dfb06d94276a81147fd91e82ab_27integrand_cythonized_python_inner(__pyx_self, __pyx_v_s, __pyx_v_z);\n",
              "  int __pyx_lineno = 0;\n",
              "  const char *__pyx_filename = NULL;\n",
              "  int __pyx_clineno = 0;\n",
              "\n",
              "  /* function exit code */\n",
              "  <span class='refnanny'>__Pyx_RefNannyFinishContext</span>();\n",
              "  return __pyx_r;\n",
              "}\n",
              "\n",
              "static PyObject *__pyx_pf_46_cython_magic_5ff788dfb06d94276a81147fd91e82ab_27integrand_cythonized_python_inner(PyObject *__pyx_self, PyObject *__pyx_v_s, PyObject *__pyx_v_z) {\n",
              "  struct __pyx_obj_46_cython_magic_5ff788dfb06d94276a81147fd91e82ab___pyx_scope_struct__integrand_cythonized_python *__pyx_cur_scope;\n",
              "  struct __pyx_obj_46_cython_magic_5ff788dfb06d94276a81147fd91e82ab___pyx_scope_struct__integrand_cythonized_python *__pyx_outer_scope;\n",
              "  PyObject *__pyx_r = NULL;\n",
              "  <span class='refnanny'>__Pyx_RefNannyDeclarations</span>\n",
              "  <span class='refnanny'>__Pyx_RefNannySetupContext</span>(\"inner\", 0);\n",
              "  __pyx_outer_scope = (struct __pyx_obj_46_cython_magic_5ff788dfb06d94276a81147fd91e82ab___pyx_scope_struct__integrand_cythonized_python *) <span class='pyx_c_api'>__Pyx_CyFunction_GetClosure</span>(__pyx_self);\n",
              "  __pyx_cur_scope = __pyx_outer_scope;\n",
              "/* … */\n",
              "  /* function exit code */\n",
              "  __pyx_L1_error:;\n",
              "  <span class='pyx_macro_api'>__Pyx_XDECREF</span>(__pyx_t_1);\n",
              "  <span class='pyx_macro_api'>__Pyx_XDECREF</span>(__pyx_t_2);\n",
              "  <span class='pyx_macro_api'>__Pyx_XDECREF</span>(__pyx_t_3);\n",
              "  <span class='pyx_macro_api'>__Pyx_XDECREF</span>(__pyx_t_4);\n",
              "  <span class='pyx_macro_api'>__Pyx_XDECREF</span>(__pyx_t_5);\n",
              "  <span class='pyx_c_api'>__Pyx_AddTraceback</span>(\"_cython_magic_5ff788dfb06d94276a81147fd91e82ab.integrand_cythonized_python.inner\", __pyx_clineno, __pyx_lineno, __pyx_filename);\n",
              "  __pyx_r = NULL;\n",
              "  __pyx_L0:;\n",
              "  <span class='refnanny'>__Pyx_XGIVEREF</span>(__pyx_r);\n",
              "  <span class='refnanny'>__Pyx_RefNannyFinishContext</span>();\n",
              "  return __pyx_r;\n",
              "}\n",
              "/* … */\n",
              "  __pyx_tuple_ = <span class='py_c_api'>PyTuple_Pack</span>(2, __pyx_n_s_s, __pyx_n_s_z);<span class='error_goto'> if (unlikely(!__pyx_tuple_)) __PYX_ERR(0, 18, __pyx_L1_error)</span>\n",
              "  <span class='refnanny'>__Pyx_GOTREF</span>(__pyx_tuple_);\n",
              "  <span class='refnanny'>__Pyx_GIVEREF</span>(__pyx_tuple_);\n",
              "/* … */\n",
              "  __pyx_t_3 = <span class='pyx_c_api'>__Pyx_CyFunction_New</span>(&amp;__pyx_mdef_46_cython_magic_5ff788dfb06d94276a81147fd91e82ab_27integrand_cythonized_python_1inner, 0, __pyx_n_s_integrand_cythonized_python_loca, ((PyObject*)__pyx_cur_scope), __pyx_n_s_cython_magic_5ff788dfb06d94276a, __pyx_d, ((PyObject *)__pyx_codeobj__2));<span class='error_goto'> if (unlikely(!__pyx_t_3)) __PYX_ERR(0, 18, __pyx_L1_error)</span>\n",
              "  <span class='refnanny'>__Pyx_GOTREF</span>(__pyx_t_3);\n",
              "  <span class='refnanny'>__Pyx_GIVEREF</span>(__pyx_t_3);\n",
              "  __pyx_cur_scope-&gt;__pyx_v_inner = __pyx_t_3;\n",
              "  __pyx_t_3 = 0;\n",
              "  __pyx_codeobj__2 = (PyObject*)<span class='pyx_c_api'>__Pyx_PyCode_New</span>(2, 0, 2, 0, CO_OPTIMIZED|CO_NEWLOCALS, __pyx_empty_bytes, __pyx_empty_tuple, __pyx_empty_tuple, __pyx_tuple_, __pyx_empty_tuple, __pyx_empty_tuple, __pyx_kp_s_root_cache_ipython_cython__cyth, __pyx_n_s_inner, 18, __pyx_empty_bytes);<span class='error_goto'> if (unlikely(!__pyx_codeobj__2)) __PYX_ERR(0, 18, __pyx_L1_error)</span>\n",
              "</pre><pre class=\"cython line score-88\" onclick=\"(function(s){s.display=s.display==='block'?'none':'block'})(this.nextElementSibling.style)\">+<span class=\"\">19</span>:     <span class=\"k\">return</span> <span class=\"n\">phi</span><span class=\"p\">(</span><span class=\"n\">z</span><span class=\"p\">)</span> <span class=\"o\">*</span> <span class=\"p\">(</span><span class=\"n\">Phi</span><span class=\"p\">(</span><span class=\"n\">z</span> <span class=\"o\">+</span> <span class=\"n\">q</span> <span class=\"o\">*</span> <span class=\"n\">s</span><span class=\"p\">)</span> <span class=\"o\">-</span> <span class=\"n\">Phi</span><span class=\"p\">(</span><span class=\"n\">z</span><span class=\"p\">))</span><span class=\"o\">**</span><span class=\"p\">(</span><span class=\"n\">k</span> <span class=\"o\">-</span> <span class=\"mf\">1</span><span class=\"p\">)</span></pre>\n",
              "<pre class='cython code score-88 '>  <span class='pyx_macro_api'>__Pyx_XDECREF</span>(__pyx_r);\n",
              "  <span class='pyx_c_api'>__Pyx_GetModuleGlobalName</span>(__pyx_t_2, __pyx_n_s_phi);<span class='error_goto'> if (unlikely(!__pyx_t_2)) __PYX_ERR(0, 19, __pyx_L1_error)</span>\n",
              "  <span class='refnanny'>__Pyx_GOTREF</span>(__pyx_t_2);\n",
              "  __pyx_t_3 = NULL;\n",
              "  if (CYTHON_UNPACK_METHODS &amp;&amp; unlikely(<span class='py_c_api'>PyMethod_Check</span>(__pyx_t_2))) {\n",
              "    __pyx_t_3 = <span class='py_macro_api'>PyMethod_GET_SELF</span>(__pyx_t_2);\n",
              "    if (likely(__pyx_t_3)) {\n",
              "      PyObject* function = <span class='py_macro_api'>PyMethod_GET_FUNCTION</span>(__pyx_t_2);\n",
              "      <span class='pyx_macro_api'>__Pyx_INCREF</span>(__pyx_t_3);\n",
              "      <span class='pyx_macro_api'>__Pyx_INCREF</span>(function);\n",
              "      <span class='pyx_macro_api'>__Pyx_DECREF_SET</span>(__pyx_t_2, function);\n",
              "    }\n",
              "  }\n",
              "  __pyx_t_1 = (__pyx_t_3) ? __Pyx_PyObject_Call2Args(__pyx_t_2, __pyx_t_3, __pyx_v_z) : <span class='pyx_c_api'>__Pyx_PyObject_CallOneArg</span>(__pyx_t_2, __pyx_v_z);\n",
              "  <span class='pyx_macro_api'>__Pyx_XDECREF</span>(__pyx_t_3); __pyx_t_3 = 0;\n",
              "  if (unlikely(!__pyx_t_1)) <span class='error_goto'>__PYX_ERR(0, 19, __pyx_L1_error)</span>\n",
              "  <span class='refnanny'>__Pyx_GOTREF</span>(__pyx_t_1);\n",
              "  <span class='pyx_macro_api'>__Pyx_DECREF</span>(__pyx_t_2); __pyx_t_2 = 0;\n",
              "  <span class='pyx_c_api'>__Pyx_GetModuleGlobalName</span>(__pyx_t_3, __pyx_n_s_Phi);<span class='error_goto'> if (unlikely(!__pyx_t_3)) __PYX_ERR(0, 19, __pyx_L1_error)</span>\n",
              "  <span class='refnanny'>__Pyx_GOTREF</span>(__pyx_t_3);\n",
              "  if (unlikely(!__pyx_cur_scope-&gt;__pyx_v_q)) { <span class='pyx_c_api'>__Pyx_RaiseClosureNameError</span>(\"q\"); <span class='error_goto'>__PYX_ERR(0, 19, __pyx_L1_error)</span> }\n",
              "  __pyx_t_4 = <span class='py_c_api'>PyNumber_Multiply</span>(__pyx_cur_scope-&gt;__pyx_v_q, __pyx_v_s);<span class='error_goto'> if (unlikely(!__pyx_t_4)) __PYX_ERR(0, 19, __pyx_L1_error)</span>\n",
              "  <span class='refnanny'>__Pyx_GOTREF</span>(__pyx_t_4);\n",
              "  __pyx_t_5 = <span class='py_c_api'>PyNumber_Add</span>(__pyx_v_z, __pyx_t_4);<span class='error_goto'> if (unlikely(!__pyx_t_5)) __PYX_ERR(0, 19, __pyx_L1_error)</span>\n",
              "  <span class='refnanny'>__Pyx_GOTREF</span>(__pyx_t_5);\n",
              "  <span class='pyx_macro_api'>__Pyx_DECREF</span>(__pyx_t_4); __pyx_t_4 = 0;\n",
              "  __pyx_t_4 = NULL;\n",
              "  if (CYTHON_UNPACK_METHODS &amp;&amp; unlikely(<span class='py_c_api'>PyMethod_Check</span>(__pyx_t_3))) {\n",
              "    __pyx_t_4 = <span class='py_macro_api'>PyMethod_GET_SELF</span>(__pyx_t_3);\n",
              "    if (likely(__pyx_t_4)) {\n",
              "      PyObject* function = <span class='py_macro_api'>PyMethod_GET_FUNCTION</span>(__pyx_t_3);\n",
              "      <span class='pyx_macro_api'>__Pyx_INCREF</span>(__pyx_t_4);\n",
              "      <span class='pyx_macro_api'>__Pyx_INCREF</span>(function);\n",
              "      <span class='pyx_macro_api'>__Pyx_DECREF_SET</span>(__pyx_t_3, function);\n",
              "    }\n",
              "  }\n",
              "  __pyx_t_2 = (__pyx_t_4) ? __Pyx_PyObject_Call2Args(__pyx_t_3, __pyx_t_4, __pyx_t_5) : <span class='pyx_c_api'>__Pyx_PyObject_CallOneArg</span>(__pyx_t_3, __pyx_t_5);\n",
              "  <span class='pyx_macro_api'>__Pyx_XDECREF</span>(__pyx_t_4); __pyx_t_4 = 0;\n",
              "  <span class='pyx_macro_api'>__Pyx_DECREF</span>(__pyx_t_5); __pyx_t_5 = 0;\n",
              "  if (unlikely(!__pyx_t_2)) <span class='error_goto'>__PYX_ERR(0, 19, __pyx_L1_error)</span>\n",
              "  <span class='refnanny'>__Pyx_GOTREF</span>(__pyx_t_2);\n",
              "  <span class='pyx_macro_api'>__Pyx_DECREF</span>(__pyx_t_3); __pyx_t_3 = 0;\n",
              "  <span class='pyx_c_api'>__Pyx_GetModuleGlobalName</span>(__pyx_t_5, __pyx_n_s_Phi);<span class='error_goto'> if (unlikely(!__pyx_t_5)) __PYX_ERR(0, 19, __pyx_L1_error)</span>\n",
              "  <span class='refnanny'>__Pyx_GOTREF</span>(__pyx_t_5);\n",
              "  __pyx_t_4 = NULL;\n",
              "  if (CYTHON_UNPACK_METHODS &amp;&amp; unlikely(<span class='py_c_api'>PyMethod_Check</span>(__pyx_t_5))) {\n",
              "    __pyx_t_4 = <span class='py_macro_api'>PyMethod_GET_SELF</span>(__pyx_t_5);\n",
              "    if (likely(__pyx_t_4)) {\n",
              "      PyObject* function = <span class='py_macro_api'>PyMethod_GET_FUNCTION</span>(__pyx_t_5);\n",
              "      <span class='pyx_macro_api'>__Pyx_INCREF</span>(__pyx_t_4);\n",
              "      <span class='pyx_macro_api'>__Pyx_INCREF</span>(function);\n",
              "      <span class='pyx_macro_api'>__Pyx_DECREF_SET</span>(__pyx_t_5, function);\n",
              "    }\n",
              "  }\n",
              "  __pyx_t_3 = (__pyx_t_4) ? __Pyx_PyObject_Call2Args(__pyx_t_5, __pyx_t_4, __pyx_v_z) : <span class='pyx_c_api'>__Pyx_PyObject_CallOneArg</span>(__pyx_t_5, __pyx_v_z);\n",
              "  <span class='pyx_macro_api'>__Pyx_XDECREF</span>(__pyx_t_4); __pyx_t_4 = 0;\n",
              "  if (unlikely(!__pyx_t_3)) <span class='error_goto'>__PYX_ERR(0, 19, __pyx_L1_error)</span>\n",
              "  <span class='refnanny'>__Pyx_GOTREF</span>(__pyx_t_3);\n",
              "  <span class='pyx_macro_api'>__Pyx_DECREF</span>(__pyx_t_5); __pyx_t_5 = 0;\n",
              "  __pyx_t_5 = <span class='py_c_api'>PyNumber_Subtract</span>(__pyx_t_2, __pyx_t_3);<span class='error_goto'> if (unlikely(!__pyx_t_5)) __PYX_ERR(0, 19, __pyx_L1_error)</span>\n",
              "  <span class='refnanny'>__Pyx_GOTREF</span>(__pyx_t_5);\n",
              "  <span class='pyx_macro_api'>__Pyx_DECREF</span>(__pyx_t_2); __pyx_t_2 = 0;\n",
              "  <span class='pyx_macro_api'>__Pyx_DECREF</span>(__pyx_t_3); __pyx_t_3 = 0;\n",
              "  if (unlikely(!__pyx_cur_scope-&gt;__pyx_v_k)) { <span class='pyx_c_api'>__Pyx_RaiseClosureNameError</span>(\"k\"); <span class='error_goto'>__PYX_ERR(0, 19, __pyx_L1_error)</span> }\n",
              "  __pyx_t_3 = <span class='pyx_c_api'>__Pyx_PyInt_SubtractObjC</span>(__pyx_cur_scope-&gt;__pyx_v_k, __pyx_int_1, 1, 0, 0);<span class='error_goto'> if (unlikely(!__pyx_t_3)) __PYX_ERR(0, 19, __pyx_L1_error)</span>\n",
              "  <span class='refnanny'>__Pyx_GOTREF</span>(__pyx_t_3);\n",
              "  __pyx_t_2 = <span class='py_c_api'>PyNumber_Power</span>(__pyx_t_5, __pyx_t_3, Py_None);<span class='error_goto'> if (unlikely(!__pyx_t_2)) __PYX_ERR(0, 19, __pyx_L1_error)</span>\n",
              "  <span class='refnanny'>__Pyx_GOTREF</span>(__pyx_t_2);\n",
              "  <span class='pyx_macro_api'>__Pyx_DECREF</span>(__pyx_t_5); __pyx_t_5 = 0;\n",
              "  <span class='pyx_macro_api'>__Pyx_DECREF</span>(__pyx_t_3); __pyx_t_3 = 0;\n",
              "  __pyx_t_3 = <span class='py_c_api'>PyNumber_Multiply</span>(__pyx_t_1, __pyx_t_2);<span class='error_goto'> if (unlikely(!__pyx_t_3)) __PYX_ERR(0, 19, __pyx_L1_error)</span>\n",
              "  <span class='refnanny'>__Pyx_GOTREF</span>(__pyx_t_3);\n",
              "  <span class='pyx_macro_api'>__Pyx_DECREF</span>(__pyx_t_1); __pyx_t_1 = 0;\n",
              "  <span class='pyx_macro_api'>__Pyx_DECREF</span>(__pyx_t_2); __pyx_t_2 = 0;\n",
              "  __pyx_r = __pyx_t_3;\n",
              "  __pyx_t_3 = 0;\n",
              "  goto __pyx_L0;\n",
              "</pre><pre class=\"cython line score-0\">&#xA0;<span class=\"\">20</span>: </pre>\n",
              "<pre class=\"cython line score-43\" onclick=\"(function(s){s.display=s.display==='block'?'none':'block'})(this.nextElementSibling.style)\">+<span class=\"\">21</span>:   <span class=\"k\">def</span> <span class=\"nf\">outer</span><span class=\"p\">(</span><span class=\"n\">s</span><span class=\"p\">,</span> <span class=\"n\">z</span><span class=\"p\">):</span></pre>\n",
              "<pre class='cython code score-43 '>/* Python wrapper */\n",
              "static PyObject *__pyx_pw_46_cython_magic_5ff788dfb06d94276a81147fd91e82ab_27integrand_cythonized_python_3outer(PyObject *__pyx_self, PyObject *__pyx_args, PyObject *__pyx_kwds); /*proto*/\n",
              "static PyMethodDef __pyx_mdef_46_cython_magic_5ff788dfb06d94276a81147fd91e82ab_27integrand_cythonized_python_3outer = {\"outer\", (PyCFunction)(void*)(PyCFunctionWithKeywords)__pyx_pw_46_cython_magic_5ff788dfb06d94276a81147fd91e82ab_27integrand_cythonized_python_3outer, METH_VARARGS|METH_KEYWORDS, 0};\n",
              "static PyObject *__pyx_pw_46_cython_magic_5ff788dfb06d94276a81147fd91e82ab_27integrand_cythonized_python_3outer(PyObject *__pyx_self, PyObject *__pyx_args, PyObject *__pyx_kwds) {\n",
              "  PyObject *__pyx_v_s = 0;\n",
              "  PyObject *__pyx_v_z = 0;\n",
              "  PyObject *__pyx_r = 0;\n",
              "  <span class='refnanny'>__Pyx_RefNannyDeclarations</span>\n",
              "  <span class='refnanny'>__Pyx_RefNannySetupContext</span>(\"outer (wrapper)\", 0);\n",
              "  {\n",
              "    static PyObject **__pyx_pyargnames[] = {&amp;__pyx_n_s_s,&amp;__pyx_n_s_z,0};\n",
              "    PyObject* values[2] = {0,0};\n",
              "    if (unlikely(__pyx_kwds)) {\n",
              "      Py_ssize_t kw_args;\n",
              "      const Py_ssize_t pos_args = <span class='py_macro_api'>PyTuple_GET_SIZE</span>(__pyx_args);\n",
              "      switch (pos_args) {\n",
              "        case  2: values[1] = <span class='py_macro_api'>PyTuple_GET_ITEM</span>(__pyx_args, 1);\n",
              "        CYTHON_FALLTHROUGH;\n",
              "        case  1: values[0] = <span class='py_macro_api'>PyTuple_GET_ITEM</span>(__pyx_args, 0);\n",
              "        CYTHON_FALLTHROUGH;\n",
              "        case  0: break;\n",
              "        default: goto __pyx_L5_argtuple_error;\n",
              "      }\n",
              "      kw_args = <span class='py_c_api'>PyDict_Size</span>(__pyx_kwds);\n",
              "      switch (pos_args) {\n",
              "        case  0:\n",
              "        if (likely((values[0] = <span class='pyx_c_api'>__Pyx_PyDict_GetItemStr</span>(__pyx_kwds, __pyx_n_s_s)) != 0)) kw_args--;\n",
              "        else goto __pyx_L5_argtuple_error;\n",
              "        CYTHON_FALLTHROUGH;\n",
              "        case  1:\n",
              "        if (likely((values[1] = <span class='pyx_c_api'>__Pyx_PyDict_GetItemStr</span>(__pyx_kwds, __pyx_n_s_z)) != 0)) kw_args--;\n",
              "        else {\n",
              "          <span class='pyx_c_api'>__Pyx_RaiseArgtupleInvalid</span>(\"outer\", 1, 2, 2, 1); <span class='error_goto'>__PYX_ERR(0, 21, __pyx_L3_error)</span>\n",
              "        }\n",
              "      }\n",
              "      if (unlikely(kw_args &gt; 0)) {\n",
              "        if (unlikely(<span class='pyx_c_api'>__Pyx_ParseOptionalKeywords</span>(__pyx_kwds, __pyx_pyargnames, 0, values, pos_args, \"outer\") &lt; 0)) <span class='error_goto'>__PYX_ERR(0, 21, __pyx_L3_error)</span>\n",
              "      }\n",
              "    } else if (<span class='py_macro_api'>PyTuple_GET_SIZE</span>(__pyx_args) != 2) {\n",
              "      goto __pyx_L5_argtuple_error;\n",
              "    } else {\n",
              "      values[0] = <span class='py_macro_api'>PyTuple_GET_ITEM</span>(__pyx_args, 0);\n",
              "      values[1] = <span class='py_macro_api'>PyTuple_GET_ITEM</span>(__pyx_args, 1);\n",
              "    }\n",
              "    __pyx_v_s = values[0];\n",
              "    __pyx_v_z = values[1];\n",
              "  }\n",
              "  goto __pyx_L4_argument_unpacking_done;\n",
              "  __pyx_L5_argtuple_error:;\n",
              "  <span class='pyx_c_api'>__Pyx_RaiseArgtupleInvalid</span>(\"outer\", 1, 2, 2, <span class='py_macro_api'>PyTuple_GET_SIZE</span>(__pyx_args)); <span class='error_goto'>__PYX_ERR(0, 21, __pyx_L3_error)</span>\n",
              "  __pyx_L3_error:;\n",
              "  <span class='pyx_c_api'>__Pyx_AddTraceback</span>(\"_cython_magic_5ff788dfb06d94276a81147fd91e82ab.integrand_cythonized_python.outer\", __pyx_clineno, __pyx_lineno, __pyx_filename);\n",
              "  <span class='refnanny'>__Pyx_RefNannyFinishContext</span>();\n",
              "  return NULL;\n",
              "  __pyx_L4_argument_unpacking_done:;\n",
              "  __pyx_r = __pyx_pf_46_cython_magic_5ff788dfb06d94276a81147fd91e82ab_27integrand_cythonized_python_2outer(__pyx_self, __pyx_v_s, __pyx_v_z);\n",
              "  int __pyx_lineno = 0;\n",
              "  const char *__pyx_filename = NULL;\n",
              "  int __pyx_clineno = 0;\n",
              "\n",
              "  /* function exit code */\n",
              "  <span class='refnanny'>__Pyx_RefNannyFinishContext</span>();\n",
              "  return __pyx_r;\n",
              "}\n",
              "\n",
              "static PyObject *__pyx_pf_46_cython_magic_5ff788dfb06d94276a81147fd91e82ab_27integrand_cythonized_python_2outer(PyObject *__pyx_self, PyObject *__pyx_v_s, PyObject *__pyx_v_z) {\n",
              "  struct __pyx_obj_46_cython_magic_5ff788dfb06d94276a81147fd91e82ab___pyx_scope_struct__integrand_cythonized_python *__pyx_cur_scope;\n",
              "  struct __pyx_obj_46_cython_magic_5ff788dfb06d94276a81147fd91e82ab___pyx_scope_struct__integrand_cythonized_python *__pyx_outer_scope;\n",
              "  PyObject *__pyx_v_inner_int = NULL;\n",
              "  PyObject *__pyx_r = NULL;\n",
              "  <span class='refnanny'>__Pyx_RefNannyDeclarations</span>\n",
              "  <span class='refnanny'>__Pyx_RefNannySetupContext</span>(\"outer\", 0);\n",
              "  __pyx_outer_scope = (struct __pyx_obj_46_cython_magic_5ff788dfb06d94276a81147fd91e82ab___pyx_scope_struct__integrand_cythonized_python *) <span class='pyx_c_api'>__Pyx_CyFunction_GetClosure</span>(__pyx_self);\n",
              "  __pyx_cur_scope = __pyx_outer_scope;\n",
              "/* … */\n",
              "  /* function exit code */\n",
              "  __pyx_L1_error:;\n",
              "  <span class='pyx_macro_api'>__Pyx_XDECREF</span>(__pyx_t_1);\n",
              "  <span class='pyx_macro_api'>__Pyx_XDECREF</span>(__pyx_t_2);\n",
              "  <span class='pyx_macro_api'>__Pyx_XDECREF</span>(__pyx_t_3);\n",
              "  <span class='pyx_macro_api'>__Pyx_XDECREF</span>(__pyx_t_4);\n",
              "  <span class='pyx_macro_api'>__Pyx_XDECREF</span>(__pyx_t_5);\n",
              "  <span class='pyx_c_api'>__Pyx_AddTraceback</span>(\"_cython_magic_5ff788dfb06d94276a81147fd91e82ab.integrand_cythonized_python.outer\", __pyx_clineno, __pyx_lineno, __pyx_filename);\n",
              "  __pyx_r = NULL;\n",
              "  __pyx_L0:;\n",
              "  <span class='pyx_macro_api'>__Pyx_XDECREF</span>(__pyx_v_inner_int);\n",
              "  <span class='refnanny'>__Pyx_XGIVEREF</span>(__pyx_r);\n",
              "  <span class='refnanny'>__Pyx_RefNannyFinishContext</span>();\n",
              "  return __pyx_r;\n",
              "}\n",
              "/* … */\n",
              "  __pyx_tuple__3 = <span class='py_c_api'>PyTuple_Pack</span>(3, __pyx_n_s_s, __pyx_n_s_z, __pyx_n_s_inner_int);<span class='error_goto'> if (unlikely(!__pyx_tuple__3)) __PYX_ERR(0, 21, __pyx_L1_error)</span>\n",
              "  <span class='refnanny'>__Pyx_GOTREF</span>(__pyx_tuple__3);\n",
              "  <span class='refnanny'>__Pyx_GIVEREF</span>(__pyx_tuple__3);\n",
              "/* … */\n",
              "  __pyx_t_3 = <span class='pyx_c_api'>__Pyx_CyFunction_New</span>(&amp;__pyx_mdef_46_cython_magic_5ff788dfb06d94276a81147fd91e82ab_27integrand_cythonized_python_3outer, 0, __pyx_n_s_integrand_cythonized_python_loca_2, ((PyObject*)__pyx_cur_scope), __pyx_n_s_cython_magic_5ff788dfb06d94276a, __pyx_d, ((PyObject *)__pyx_codeobj__4));<span class='error_goto'> if (unlikely(!__pyx_t_3)) __PYX_ERR(0, 21, __pyx_L1_error)</span>\n",
              "  <span class='refnanny'>__Pyx_GOTREF</span>(__pyx_t_3);\n",
              "  <span class='refnanny'>__Pyx_GIVEREF</span>(__pyx_t_3);\n",
              "  __pyx_cur_scope-&gt;__pyx_v_outer = __pyx_t_3;\n",
              "  __pyx_t_3 = 0;\n",
              "  __pyx_codeobj__4 = (PyObject*)<span class='pyx_c_api'>__Pyx_PyCode_New</span>(2, 0, 3, 0, CO_OPTIMIZED|CO_NEWLOCALS, __pyx_empty_bytes, __pyx_empty_tuple, __pyx_empty_tuple, __pyx_tuple__3, __pyx_empty_tuple, __pyx_empty_tuple, __pyx_kp_s_root_cache_ipython_cython__cyth, __pyx_n_s_outer, 21, __pyx_empty_bytes);<span class='error_goto'> if (unlikely(!__pyx_codeobj__4)) __PYX_ERR(0, 21, __pyx_L1_error)</span>\n",
              "</pre><pre class=\"cython line score-2\" onclick=\"(function(s){s.display=s.display==='block'?'none':'block'})(this.nextElementSibling.style)\">+<span class=\"\">22</span>:     <span class=\"n\">inner_int</span> <span class=\"o\">=</span> <span class=\"n\">inner</span><span class=\"p\">(</span><span class=\"n\">s</span><span class=\"p\">,</span> <span class=\"n\">z</span><span class=\"p\">)</span></pre>\n",
              "<pre class='cython code score-2 '>  if (unlikely(!__pyx_cur_scope-&gt;__pyx_v_inner)) { <span class='pyx_c_api'>__Pyx_RaiseClosureNameError</span>(\"inner\"); <span class='error_goto'>__PYX_ERR(0, 22, __pyx_L1_error)</span> }\n",
              "  __pyx_t_1 = __pyx_pf_46_cython_magic_5ff788dfb06d94276a81147fd91e82ab_27integrand_cythonized_python_inner(__pyx_cur_scope-&gt;__pyx_v_inner, __pyx_v_s, __pyx_v_z);<span class='error_goto'> if (unlikely(!__pyx_t_1)) __PYX_ERR(0, 22, __pyx_L1_error)</span>\n",
              "  <span class='refnanny'>__Pyx_GOTREF</span>(__pyx_t_1);\n",
              "  __pyx_v_inner_int = __pyx_t_1;\n",
              "  __pyx_t_1 = 0;\n",
              "</pre><pre class=\"cython line score-54\" onclick=\"(function(s){s.display=s.display==='block'?'none':'block'})(this.nextElementSibling.style)\">+<span class=\"\">23</span>:     <span class=\"k\">return</span> <span class=\"n\">s</span><span class=\"o\">**</span><span class=\"p\">(</span><span class=\"n\">nu</span> <span class=\"o\">-</span> <span class=\"mf\">1</span><span class=\"p\">)</span> <span class=\"o\">*</span> <span class=\"n\">phi</span><span class=\"p\">((</span><span class=\"n\">nu</span> <span class=\"o\">**</span> <span class=\"o\">.</span><span class=\"mf\">5</span><span class=\"p\">)</span><span class=\"o\">*</span><span class=\"n\">s</span><span class=\"p\">)</span> <span class=\"o\">*</span> <span class=\"n\">inner_int</span></pre>\n",
              "<pre class='cython code score-54 '>  <span class='pyx_macro_api'>__Pyx_XDECREF</span>(__pyx_r);\n",
              "  if (unlikely(!__pyx_cur_scope-&gt;__pyx_v_nu)) { <span class='pyx_c_api'>__Pyx_RaiseClosureNameError</span>(\"nu\"); <span class='error_goto'>__PYX_ERR(0, 23, __pyx_L1_error)</span> }\n",
              "  __pyx_t_1 = <span class='pyx_c_api'>__Pyx_PyInt_SubtractObjC</span>(__pyx_cur_scope-&gt;__pyx_v_nu, __pyx_int_1, 1, 0, 0);<span class='error_goto'> if (unlikely(!__pyx_t_1)) __PYX_ERR(0, 23, __pyx_L1_error)</span>\n",
              "  <span class='refnanny'>__Pyx_GOTREF</span>(__pyx_t_1);\n",
              "  __pyx_t_2 = <span class='py_c_api'>PyNumber_Power</span>(__pyx_v_s, __pyx_t_1, Py_None);<span class='error_goto'> if (unlikely(!__pyx_t_2)) __PYX_ERR(0, 23, __pyx_L1_error)</span>\n",
              "  <span class='refnanny'>__Pyx_GOTREF</span>(__pyx_t_2);\n",
              "  <span class='pyx_macro_api'>__Pyx_DECREF</span>(__pyx_t_1); __pyx_t_1 = 0;\n",
              "  <span class='pyx_c_api'>__Pyx_GetModuleGlobalName</span>(__pyx_t_3, __pyx_n_s_phi);<span class='error_goto'> if (unlikely(!__pyx_t_3)) __PYX_ERR(0, 23, __pyx_L1_error)</span>\n",
              "  <span class='refnanny'>__Pyx_GOTREF</span>(__pyx_t_3);\n",
              "  if (unlikely(!__pyx_cur_scope-&gt;__pyx_v_nu)) { <span class='pyx_c_api'>__Pyx_RaiseClosureNameError</span>(\"nu\"); <span class='error_goto'>__PYX_ERR(0, 23, __pyx_L1_error)</span> }\n",
              "  __pyx_t_4 = <span class='py_c_api'>PyNumber_Power</span>(__pyx_cur_scope-&gt;__pyx_v_nu, __pyx_float__5, Py_None);<span class='error_goto'> if (unlikely(!__pyx_t_4)) __PYX_ERR(0, 23, __pyx_L1_error)</span>\n",
              "  <span class='refnanny'>__Pyx_GOTREF</span>(__pyx_t_4);\n",
              "  __pyx_t_5 = <span class='py_c_api'>PyNumber_Multiply</span>(__pyx_t_4, __pyx_v_s);<span class='error_goto'> if (unlikely(!__pyx_t_5)) __PYX_ERR(0, 23, __pyx_L1_error)</span>\n",
              "  <span class='refnanny'>__Pyx_GOTREF</span>(__pyx_t_5);\n",
              "  <span class='pyx_macro_api'>__Pyx_DECREF</span>(__pyx_t_4); __pyx_t_4 = 0;\n",
              "  __pyx_t_4 = NULL;\n",
              "  if (CYTHON_UNPACK_METHODS &amp;&amp; unlikely(<span class='py_c_api'>PyMethod_Check</span>(__pyx_t_3))) {\n",
              "    __pyx_t_4 = <span class='py_macro_api'>PyMethod_GET_SELF</span>(__pyx_t_3);\n",
              "    if (likely(__pyx_t_4)) {\n",
              "      PyObject* function = <span class='py_macro_api'>PyMethod_GET_FUNCTION</span>(__pyx_t_3);\n",
              "      <span class='pyx_macro_api'>__Pyx_INCREF</span>(__pyx_t_4);\n",
              "      <span class='pyx_macro_api'>__Pyx_INCREF</span>(function);\n",
              "      <span class='pyx_macro_api'>__Pyx_DECREF_SET</span>(__pyx_t_3, function);\n",
              "    }\n",
              "  }\n",
              "  __pyx_t_1 = (__pyx_t_4) ? __Pyx_PyObject_Call2Args(__pyx_t_3, __pyx_t_4, __pyx_t_5) : <span class='pyx_c_api'>__Pyx_PyObject_CallOneArg</span>(__pyx_t_3, __pyx_t_5);\n",
              "  <span class='pyx_macro_api'>__Pyx_XDECREF</span>(__pyx_t_4); __pyx_t_4 = 0;\n",
              "  <span class='pyx_macro_api'>__Pyx_DECREF</span>(__pyx_t_5); __pyx_t_5 = 0;\n",
              "  if (unlikely(!__pyx_t_1)) <span class='error_goto'>__PYX_ERR(0, 23, __pyx_L1_error)</span>\n",
              "  <span class='refnanny'>__Pyx_GOTREF</span>(__pyx_t_1);\n",
              "  <span class='pyx_macro_api'>__Pyx_DECREF</span>(__pyx_t_3); __pyx_t_3 = 0;\n",
              "  __pyx_t_3 = <span class='py_c_api'>PyNumber_Multiply</span>(__pyx_t_2, __pyx_t_1);<span class='error_goto'> if (unlikely(!__pyx_t_3)) __PYX_ERR(0, 23, __pyx_L1_error)</span>\n",
              "  <span class='refnanny'>__Pyx_GOTREF</span>(__pyx_t_3);\n",
              "  <span class='pyx_macro_api'>__Pyx_DECREF</span>(__pyx_t_2); __pyx_t_2 = 0;\n",
              "  <span class='pyx_macro_api'>__Pyx_DECREF</span>(__pyx_t_1); __pyx_t_1 = 0;\n",
              "  __pyx_t_1 = <span class='py_c_api'>PyNumber_Multiply</span>(__pyx_t_3, __pyx_v_inner_int);<span class='error_goto'> if (unlikely(!__pyx_t_1)) __PYX_ERR(0, 23, __pyx_L1_error)</span>\n",
              "  <span class='refnanny'>__Pyx_GOTREF</span>(__pyx_t_1);\n",
              "  <span class='pyx_macro_api'>__Pyx_DECREF</span>(__pyx_t_3); __pyx_t_3 = 0;\n",
              "  __pyx_r = __pyx_t_1;\n",
              "  __pyx_t_1 = 0;\n",
              "  goto __pyx_L0;\n",
              "</pre><pre class=\"cython line score-0\">&#xA0;<span class=\"\">24</span>: </pre>\n",
              "<pre class=\"cython line score-42\" onclick=\"(function(s){s.display=s.display==='block'?'none':'block'})(this.nextElementSibling.style)\">+<span class=\"\">25</span>:   <span class=\"k\">def</span> <span class=\"nf\">whole</span><span class=\"p\">(</span><span class=\"n\">s</span><span class=\"p\">,</span> <span class=\"n\">z</span><span class=\"p\">):</span></pre>\n",
              "<pre class='cython code score-42 '>/* Python wrapper */\n",
              "static PyObject *__pyx_pw_46_cython_magic_5ff788dfb06d94276a81147fd91e82ab_27integrand_cythonized_python_5whole(PyObject *__pyx_self, PyObject *__pyx_args, PyObject *__pyx_kwds); /*proto*/\n",
              "static PyMethodDef __pyx_mdef_46_cython_magic_5ff788dfb06d94276a81147fd91e82ab_27integrand_cythonized_python_5whole = {\"whole\", (PyCFunction)(void*)(PyCFunctionWithKeywords)__pyx_pw_46_cython_magic_5ff788dfb06d94276a81147fd91e82ab_27integrand_cythonized_python_5whole, METH_VARARGS|METH_KEYWORDS, 0};\n",
              "static PyObject *__pyx_pw_46_cython_magic_5ff788dfb06d94276a81147fd91e82ab_27integrand_cythonized_python_5whole(PyObject *__pyx_self, PyObject *__pyx_args, PyObject *__pyx_kwds) {\n",
              "  PyObject *__pyx_v_s = 0;\n",
              "  PyObject *__pyx_v_z = 0;\n",
              "  PyObject *__pyx_r = 0;\n",
              "  <span class='refnanny'>__Pyx_RefNannyDeclarations</span>\n",
              "  <span class='refnanny'>__Pyx_RefNannySetupContext</span>(\"whole (wrapper)\", 0);\n",
              "  {\n",
              "    static PyObject **__pyx_pyargnames[] = {&amp;__pyx_n_s_s,&amp;__pyx_n_s_z,0};\n",
              "    PyObject* values[2] = {0,0};\n",
              "    if (unlikely(__pyx_kwds)) {\n",
              "      Py_ssize_t kw_args;\n",
              "      const Py_ssize_t pos_args = <span class='py_macro_api'>PyTuple_GET_SIZE</span>(__pyx_args);\n",
              "      switch (pos_args) {\n",
              "        case  2: values[1] = <span class='py_macro_api'>PyTuple_GET_ITEM</span>(__pyx_args, 1);\n",
              "        CYTHON_FALLTHROUGH;\n",
              "        case  1: values[0] = <span class='py_macro_api'>PyTuple_GET_ITEM</span>(__pyx_args, 0);\n",
              "        CYTHON_FALLTHROUGH;\n",
              "        case  0: break;\n",
              "        default: goto __pyx_L5_argtuple_error;\n",
              "      }\n",
              "      kw_args = <span class='py_c_api'>PyDict_Size</span>(__pyx_kwds);\n",
              "      switch (pos_args) {\n",
              "        case  0:\n",
              "        if (likely((values[0] = <span class='pyx_c_api'>__Pyx_PyDict_GetItemStr</span>(__pyx_kwds, __pyx_n_s_s)) != 0)) kw_args--;\n",
              "        else goto __pyx_L5_argtuple_error;\n",
              "        CYTHON_FALLTHROUGH;\n",
              "        case  1:\n",
              "        if (likely((values[1] = <span class='pyx_c_api'>__Pyx_PyDict_GetItemStr</span>(__pyx_kwds, __pyx_n_s_z)) != 0)) kw_args--;\n",
              "        else {\n",
              "          <span class='pyx_c_api'>__Pyx_RaiseArgtupleInvalid</span>(\"whole\", 1, 2, 2, 1); <span class='error_goto'>__PYX_ERR(0, 25, __pyx_L3_error)</span>\n",
              "        }\n",
              "      }\n",
              "      if (unlikely(kw_args &gt; 0)) {\n",
              "        if (unlikely(<span class='pyx_c_api'>__Pyx_ParseOptionalKeywords</span>(__pyx_kwds, __pyx_pyargnames, 0, values, pos_args, \"whole\") &lt; 0)) <span class='error_goto'>__PYX_ERR(0, 25, __pyx_L3_error)</span>\n",
              "      }\n",
              "    } else if (<span class='py_macro_api'>PyTuple_GET_SIZE</span>(__pyx_args) != 2) {\n",
              "      goto __pyx_L5_argtuple_error;\n",
              "    } else {\n",
              "      values[0] = <span class='py_macro_api'>PyTuple_GET_ITEM</span>(__pyx_args, 0);\n",
              "      values[1] = <span class='py_macro_api'>PyTuple_GET_ITEM</span>(__pyx_args, 1);\n",
              "    }\n",
              "    __pyx_v_s = values[0];\n",
              "    __pyx_v_z = values[1];\n",
              "  }\n",
              "  goto __pyx_L4_argument_unpacking_done;\n",
              "  __pyx_L5_argtuple_error:;\n",
              "  <span class='pyx_c_api'>__Pyx_RaiseArgtupleInvalid</span>(\"whole\", 1, 2, 2, <span class='py_macro_api'>PyTuple_GET_SIZE</span>(__pyx_args)); <span class='error_goto'>__PYX_ERR(0, 25, __pyx_L3_error)</span>\n",
              "  __pyx_L3_error:;\n",
              "  <span class='pyx_c_api'>__Pyx_AddTraceback</span>(\"_cython_magic_5ff788dfb06d94276a81147fd91e82ab.integrand_cythonized_python.whole\", __pyx_clineno, __pyx_lineno, __pyx_filename);\n",
              "  <span class='refnanny'>__Pyx_RefNannyFinishContext</span>();\n",
              "  return NULL;\n",
              "  __pyx_L4_argument_unpacking_done:;\n",
              "  __pyx_r = __pyx_pf_46_cython_magic_5ff788dfb06d94276a81147fd91e82ab_27integrand_cythonized_python_4whole(__pyx_self, __pyx_v_s, __pyx_v_z);\n",
              "  int __pyx_lineno = 0;\n",
              "  const char *__pyx_filename = NULL;\n",
              "  int __pyx_clineno = 0;\n",
              "\n",
              "  /* function exit code */\n",
              "  <span class='refnanny'>__Pyx_RefNannyFinishContext</span>();\n",
              "  return __pyx_r;\n",
              "}\n",
              "\n",
              "static PyObject *__pyx_pf_46_cython_magic_5ff788dfb06d94276a81147fd91e82ab_27integrand_cythonized_python_4whole(PyObject *__pyx_self, PyObject *__pyx_v_s, PyObject *__pyx_v_z) {\n",
              "  struct __pyx_obj_46_cython_magic_5ff788dfb06d94276a81147fd91e82ab___pyx_scope_struct__integrand_cythonized_python *__pyx_cur_scope;\n",
              "  struct __pyx_obj_46_cython_magic_5ff788dfb06d94276a81147fd91e82ab___pyx_scope_struct__integrand_cythonized_python *__pyx_outer_scope;\n",
              "  PyObject *__pyx_r = NULL;\n",
              "  <span class='refnanny'>__Pyx_RefNannyDeclarations</span>\n",
              "  <span class='refnanny'>__Pyx_RefNannySetupContext</span>(\"whole\", 0);\n",
              "  __pyx_outer_scope = (struct __pyx_obj_46_cython_magic_5ff788dfb06d94276a81147fd91e82ab___pyx_scope_struct__integrand_cythonized_python *) <span class='pyx_c_api'>__Pyx_CyFunction_GetClosure</span>(__pyx_self);\n",
              "  __pyx_cur_scope = __pyx_outer_scope;\n",
              "/* … */\n",
              "  /* function exit code */\n",
              "  __pyx_L1_error:;\n",
              "  <span class='pyx_macro_api'>__Pyx_XDECREF</span>(__pyx_t_1);\n",
              "  <span class='pyx_macro_api'>__Pyx_XDECREF</span>(__pyx_t_2);\n",
              "  <span class='pyx_macro_api'>__Pyx_XDECREF</span>(__pyx_t_3);\n",
              "  <span class='pyx_macro_api'>__Pyx_XDECREF</span>(__pyx_t_4);\n",
              "  <span class='pyx_macro_api'>__Pyx_XDECREF</span>(__pyx_t_5);\n",
              "  <span class='pyx_c_api'>__Pyx_AddTraceback</span>(\"_cython_magic_5ff788dfb06d94276a81147fd91e82ab.integrand_cythonized_python.whole\", __pyx_clineno, __pyx_lineno, __pyx_filename);\n",
              "  __pyx_r = NULL;\n",
              "  __pyx_L0:;\n",
              "  <span class='refnanny'>__Pyx_XGIVEREF</span>(__pyx_r);\n",
              "  <span class='refnanny'>__Pyx_RefNannyFinishContext</span>();\n",
              "  return __pyx_r;\n",
              "}\n",
              "/* … */\n",
              "  __pyx_tuple__5 = <span class='py_c_api'>PyTuple_Pack</span>(2, __pyx_n_s_s, __pyx_n_s_z);<span class='error_goto'> if (unlikely(!__pyx_tuple__5)) __PYX_ERR(0, 25, __pyx_L1_error)</span>\n",
              "  <span class='refnanny'>__Pyx_GOTREF</span>(__pyx_tuple__5);\n",
              "  <span class='refnanny'>__Pyx_GIVEREF</span>(__pyx_tuple__5);\n",
              "/* … */\n",
              "  __pyx_t_3 = <span class='pyx_c_api'>__Pyx_CyFunction_New</span>(&amp;__pyx_mdef_46_cython_magic_5ff788dfb06d94276a81147fd91e82ab_27integrand_cythonized_python_5whole, 0, __pyx_n_s_integrand_cythonized_python_loca_3, ((PyObject*)__pyx_cur_scope), __pyx_n_s_cython_magic_5ff788dfb06d94276a, __pyx_d, ((PyObject *)__pyx_codeobj__6));<span class='error_goto'> if (unlikely(!__pyx_t_3)) __PYX_ERR(0, 25, __pyx_L1_error)</span>\n",
              "  <span class='refnanny'>__Pyx_GOTREF</span>(__pyx_t_3);\n",
              "  __pyx_v_whole = __pyx_t_3;\n",
              "  __pyx_t_3 = 0;\n",
              "  __pyx_codeobj__6 = (PyObject*)<span class='pyx_c_api'>__Pyx_PyCode_New</span>(2, 0, 2, 0, CO_OPTIMIZED|CO_NEWLOCALS, __pyx_empty_bytes, __pyx_empty_tuple, __pyx_empty_tuple, __pyx_tuple__5, __pyx_empty_tuple, __pyx_empty_tuple, __pyx_kp_s_root_cache_ipython_cython__cyth, __pyx_n_s_whole, 25, __pyx_empty_bytes);<span class='error_goto'> if (unlikely(!__pyx_codeobj__6)) __PYX_ERR(0, 25, __pyx_L1_error)</span>\n",
              "</pre><pre class=\"cython line score-49\" onclick=\"(function(s){s.display=s.display==='block'?'none':'block'})(this.nextElementSibling.style)\">+<span class=\"\">26</span>:     <span class=\"k\">return</span> <span class=\"p\">(((</span><span class=\"mf\">2</span> <span class=\"o\">*</span> <span class=\"n\">np</span><span class=\"o\">.</span><span class=\"n\">pi</span><span class=\"p\">)</span><span class=\"o\">**.</span><span class=\"mf\">5</span><span class=\"p\">)</span> <span class=\"o\">*</span> <span class=\"n\">k</span> <span class=\"o\">*</span> <span class=\"n\">nu</span><span class=\"o\">**</span><span class=\"p\">(</span><span class=\"n\">nu</span> <span class=\"o\">/</span> <span class=\"mf\">2</span><span class=\"p\">)</span> <span class=\"o\">/</span></pre>\n",
              "<pre class='cython code score-49 '>  <span class='pyx_macro_api'>__Pyx_XDECREF</span>(__pyx_r);\n",
              "  <span class='pyx_c_api'>__Pyx_GetModuleGlobalName</span>(__pyx_t_1, __pyx_n_s_np);<span class='error_goto'> if (unlikely(!__pyx_t_1)) __PYX_ERR(0, 26, __pyx_L1_error)</span>\n",
              "  <span class='refnanny'>__Pyx_GOTREF</span>(__pyx_t_1);\n",
              "  __pyx_t_2 = <span class='pyx_c_api'>__Pyx_PyObject_GetAttrStr</span>(__pyx_t_1, __pyx_n_s_pi);<span class='error_goto'> if (unlikely(!__pyx_t_2)) __PYX_ERR(0, 26, __pyx_L1_error)</span>\n",
              "  <span class='refnanny'>__Pyx_GOTREF</span>(__pyx_t_2);\n",
              "  <span class='pyx_macro_api'>__Pyx_DECREF</span>(__pyx_t_1); __pyx_t_1 = 0;\n",
              "  __pyx_t_1 = <span class='py_c_api'>PyNumber_Multiply</span>(__pyx_int_2, __pyx_t_2);<span class='error_goto'> if (unlikely(!__pyx_t_1)) __PYX_ERR(0, 26, __pyx_L1_error)</span>\n",
              "  <span class='refnanny'>__Pyx_GOTREF</span>(__pyx_t_1);\n",
              "  <span class='pyx_macro_api'>__Pyx_DECREF</span>(__pyx_t_2); __pyx_t_2 = 0;\n",
              "  __pyx_t_2 = <span class='py_c_api'>PyNumber_Power</span>(__pyx_t_1, __pyx_float__5, Py_None);<span class='error_goto'> if (unlikely(!__pyx_t_2)) __PYX_ERR(0, 26, __pyx_L1_error)</span>\n",
              "  <span class='refnanny'>__Pyx_GOTREF</span>(__pyx_t_2);\n",
              "  <span class='pyx_macro_api'>__Pyx_DECREF</span>(__pyx_t_1); __pyx_t_1 = 0;\n",
              "  if (unlikely(!__pyx_cur_scope-&gt;__pyx_v_k)) { <span class='pyx_c_api'>__Pyx_RaiseClosureNameError</span>(\"k\"); <span class='error_goto'>__PYX_ERR(0, 26, __pyx_L1_error)</span> }\n",
              "  __pyx_t_1 = <span class='py_c_api'>PyNumber_Multiply</span>(__pyx_t_2, __pyx_cur_scope-&gt;__pyx_v_k);<span class='error_goto'> if (unlikely(!__pyx_t_1)) __PYX_ERR(0, 26, __pyx_L1_error)</span>\n",
              "  <span class='refnanny'>__Pyx_GOTREF</span>(__pyx_t_1);\n",
              "  <span class='pyx_macro_api'>__Pyx_DECREF</span>(__pyx_t_2); __pyx_t_2 = 0;\n",
              "  if (unlikely(!__pyx_cur_scope-&gt;__pyx_v_nu)) { <span class='pyx_c_api'>__Pyx_RaiseClosureNameError</span>(\"nu\"); <span class='error_goto'>__PYX_ERR(0, 26, __pyx_L1_error)</span> }\n",
              "  if (unlikely(!__pyx_cur_scope-&gt;__pyx_v_nu)) { <span class='pyx_c_api'>__Pyx_RaiseClosureNameError</span>(\"nu\"); <span class='error_goto'>__PYX_ERR(0, 26, __pyx_L1_error)</span> }\n",
              "  __pyx_t_2 = <span class='pyx_c_api'>__Pyx_PyInt_TrueDivideObjC</span>(__pyx_cur_scope-&gt;__pyx_v_nu, __pyx_int_2, 2, 0, 0);<span class='error_goto'> if (unlikely(!__pyx_t_2)) __PYX_ERR(0, 26, __pyx_L1_error)</span>\n",
              "  <span class='refnanny'>__Pyx_GOTREF</span>(__pyx_t_2);\n",
              "  __pyx_t_3 = <span class='py_c_api'>PyNumber_Power</span>(__pyx_cur_scope-&gt;__pyx_v_nu, __pyx_t_2, Py_None);<span class='error_goto'> if (unlikely(!__pyx_t_3)) __PYX_ERR(0, 26, __pyx_L1_error)</span>\n",
              "  <span class='refnanny'>__Pyx_GOTREF</span>(__pyx_t_3);\n",
              "  <span class='pyx_macro_api'>__Pyx_DECREF</span>(__pyx_t_2); __pyx_t_2 = 0;\n",
              "  __pyx_t_2 = <span class='py_c_api'>PyNumber_Multiply</span>(__pyx_t_1, __pyx_t_3);<span class='error_goto'> if (unlikely(!__pyx_t_2)) __PYX_ERR(0, 26, __pyx_L1_error)</span>\n",
              "  <span class='refnanny'>__Pyx_GOTREF</span>(__pyx_t_2);\n",
              "  <span class='pyx_macro_api'>__Pyx_DECREF</span>(__pyx_t_1); __pyx_t_1 = 0;\n",
              "  <span class='pyx_macro_api'>__Pyx_DECREF</span>(__pyx_t_3); __pyx_t_3 = 0;\n",
              "/* … */\n",
              "  __pyx_t_1 = <span class='pyx_c_api'>__Pyx_PyNumber_Divide</span>(__pyx_t_2, __pyx_t_4);<span class='error_goto'> if (unlikely(!__pyx_t_1)) __PYX_ERR(0, 26, __pyx_L1_error)</span>\n",
              "  <span class='refnanny'>__Pyx_GOTREF</span>(__pyx_t_1);\n",
              "  <span class='pyx_macro_api'>__Pyx_DECREF</span>(__pyx_t_2); __pyx_t_2 = 0;\n",
              "  <span class='pyx_macro_api'>__Pyx_DECREF</span>(__pyx_t_4); __pyx_t_4 = 0;\n",
              "</pre><pre class=\"cython line score-45\" onclick=\"(function(s){s.display=s.display==='block'?'none':'block'})(this.nextElementSibling.style)\">+<span class=\"\">27</span>:             <span class=\"p\">(</span><span class=\"n\">gamma</span><span class=\"p\">(</span><span class=\"n\">nu</span> <span class=\"o\">/</span> <span class=\"mf\">2</span><span class=\"p\">)</span> <span class=\"o\">*</span> <span class=\"mf\">2</span><span class=\"o\">**</span><span class=\"p\">(</span><span class=\"n\">nu</span> <span class=\"o\">/</span><span class=\"mf\">2</span> <span class=\"o\">-</span> <span class=\"mf\">1</span><span class=\"p\">))</span> <span class=\"o\">*</span> <span class=\"n\">outer</span><span class=\"p\">(</span><span class=\"n\">s</span><span class=\"p\">,</span> <span class=\"n\">z</span><span class=\"p\">))</span></pre>\n",
              "<pre class='cython code score-45 '>  <span class='pyx_c_api'>__Pyx_GetModuleGlobalName</span>(__pyx_t_1, __pyx_n_s_gamma);<span class='error_goto'> if (unlikely(!__pyx_t_1)) __PYX_ERR(0, 27, __pyx_L1_error)</span>\n",
              "  <span class='refnanny'>__Pyx_GOTREF</span>(__pyx_t_1);\n",
              "  if (unlikely(!__pyx_cur_scope-&gt;__pyx_v_nu)) { <span class='pyx_c_api'>__Pyx_RaiseClosureNameError</span>(\"nu\"); <span class='error_goto'>__PYX_ERR(0, 27, __pyx_L1_error)</span> }\n",
              "  __pyx_t_4 = <span class='pyx_c_api'>__Pyx_PyInt_TrueDivideObjC</span>(__pyx_cur_scope-&gt;__pyx_v_nu, __pyx_int_2, 2, 0, 0);<span class='error_goto'> if (unlikely(!__pyx_t_4)) __PYX_ERR(0, 27, __pyx_L1_error)</span>\n",
              "  <span class='refnanny'>__Pyx_GOTREF</span>(__pyx_t_4);\n",
              "  __pyx_t_5 = NULL;\n",
              "  if (CYTHON_UNPACK_METHODS &amp;&amp; unlikely(<span class='py_c_api'>PyMethod_Check</span>(__pyx_t_1))) {\n",
              "    __pyx_t_5 = <span class='py_macro_api'>PyMethod_GET_SELF</span>(__pyx_t_1);\n",
              "    if (likely(__pyx_t_5)) {\n",
              "      PyObject* function = <span class='py_macro_api'>PyMethod_GET_FUNCTION</span>(__pyx_t_1);\n",
              "      <span class='pyx_macro_api'>__Pyx_INCREF</span>(__pyx_t_5);\n",
              "      <span class='pyx_macro_api'>__Pyx_INCREF</span>(function);\n",
              "      <span class='pyx_macro_api'>__Pyx_DECREF_SET</span>(__pyx_t_1, function);\n",
              "    }\n",
              "  }\n",
              "  __pyx_t_3 = (__pyx_t_5) ? __Pyx_PyObject_Call2Args(__pyx_t_1, __pyx_t_5, __pyx_t_4) : <span class='pyx_c_api'>__Pyx_PyObject_CallOneArg</span>(__pyx_t_1, __pyx_t_4);\n",
              "  <span class='pyx_macro_api'>__Pyx_XDECREF</span>(__pyx_t_5); __pyx_t_5 = 0;\n",
              "  <span class='pyx_macro_api'>__Pyx_DECREF</span>(__pyx_t_4); __pyx_t_4 = 0;\n",
              "  if (unlikely(!__pyx_t_3)) <span class='error_goto'>__PYX_ERR(0, 27, __pyx_L1_error)</span>\n",
              "  <span class='refnanny'>__Pyx_GOTREF</span>(__pyx_t_3);\n",
              "  <span class='pyx_macro_api'>__Pyx_DECREF</span>(__pyx_t_1); __pyx_t_1 = 0;\n",
              "  if (unlikely(!__pyx_cur_scope-&gt;__pyx_v_nu)) { <span class='pyx_c_api'>__Pyx_RaiseClosureNameError</span>(\"nu\"); <span class='error_goto'>__PYX_ERR(0, 27, __pyx_L1_error)</span> }\n",
              "  __pyx_t_1 = <span class='pyx_c_api'>__Pyx_PyInt_TrueDivideObjC</span>(__pyx_cur_scope-&gt;__pyx_v_nu, __pyx_int_2, 2, 0, 0);<span class='error_goto'> if (unlikely(!__pyx_t_1)) __PYX_ERR(0, 27, __pyx_L1_error)</span>\n",
              "  <span class='refnanny'>__Pyx_GOTREF</span>(__pyx_t_1);\n",
              "  __pyx_t_4 = <span class='pyx_c_api'>__Pyx_PyInt_SubtractObjC</span>(__pyx_t_1, __pyx_int_1, 1, 0, 0);<span class='error_goto'> if (unlikely(!__pyx_t_4)) __PYX_ERR(0, 27, __pyx_L1_error)</span>\n",
              "  <span class='refnanny'>__Pyx_GOTREF</span>(__pyx_t_4);\n",
              "  <span class='pyx_macro_api'>__Pyx_DECREF</span>(__pyx_t_1); __pyx_t_1 = 0;\n",
              "  __pyx_t_1 = __Pyx_PyNumber_PowerOf2(__pyx_int_2, __pyx_t_4, Py_None);<span class='error_goto'> if (unlikely(!__pyx_t_1)) __PYX_ERR(0, 27, __pyx_L1_error)</span>\n",
              "  <span class='refnanny'>__Pyx_GOTREF</span>(__pyx_t_1);\n",
              "  <span class='pyx_macro_api'>__Pyx_DECREF</span>(__pyx_t_4); __pyx_t_4 = 0;\n",
              "  __pyx_t_4 = <span class='py_c_api'>PyNumber_Multiply</span>(__pyx_t_3, __pyx_t_1);<span class='error_goto'> if (unlikely(!__pyx_t_4)) __PYX_ERR(0, 27, __pyx_L1_error)</span>\n",
              "  <span class='refnanny'>__Pyx_GOTREF</span>(__pyx_t_4);\n",
              "  <span class='pyx_macro_api'>__Pyx_DECREF</span>(__pyx_t_3); __pyx_t_3 = 0;\n",
              "  <span class='pyx_macro_api'>__Pyx_DECREF</span>(__pyx_t_1); __pyx_t_1 = 0;\n",
              "/* … */\n",
              "  if (unlikely(!__pyx_cur_scope-&gt;__pyx_v_outer)) { <span class='pyx_c_api'>__Pyx_RaiseClosureNameError</span>(\"outer\"); <span class='error_goto'>__PYX_ERR(0, 27, __pyx_L1_error)</span> }\n",
              "  __pyx_t_4 = __pyx_pf_46_cython_magic_5ff788dfb06d94276a81147fd91e82ab_27integrand_cythonized_python_2outer(__pyx_cur_scope-&gt;__pyx_v_outer, __pyx_v_s, __pyx_v_z);<span class='error_goto'> if (unlikely(!__pyx_t_4)) __PYX_ERR(0, 27, __pyx_L1_error)</span>\n",
              "  <span class='refnanny'>__Pyx_GOTREF</span>(__pyx_t_4);\n",
              "  __pyx_t_2 = <span class='py_c_api'>PyNumber_Multiply</span>(__pyx_t_1, __pyx_t_4);<span class='error_goto'> if (unlikely(!__pyx_t_2)) __PYX_ERR(0, 27, __pyx_L1_error)</span>\n",
              "  <span class='refnanny'>__Pyx_GOTREF</span>(__pyx_t_2);\n",
              "  <span class='pyx_macro_api'>__Pyx_DECREF</span>(__pyx_t_1); __pyx_t_1 = 0;\n",
              "  <span class='pyx_macro_api'>__Pyx_DECREF</span>(__pyx_t_4); __pyx_t_4 = 0;\n",
              "  __pyx_r = __pyx_t_2;\n",
              "  __pyx_t_2 = 0;\n",
              "  goto __pyx_L0;\n",
              "</pre><pre class=\"cython line score-0\">&#xA0;<span class=\"\">28</span>: </pre>\n",
              "<pre class=\"cython line score-1\" onclick=\"(function(s){s.display=s.display==='block'?'none':'block'})(this.nextElementSibling.style)\">+<span class=\"\">29</span>:   <span class=\"k\">return</span> <span class=\"n\">whole</span><span class=\"p\">(</span><span class=\"n\">s</span><span class=\"p\">,</span> <span class=\"n\">z</span><span class=\"p\">)</span></pre>\n",
              "<pre class='cython code score-1 '>  <span class='pyx_macro_api'>__Pyx_XDECREF</span>(__pyx_r);\n",
              "  __pyx_t_3 = __pyx_pf_46_cython_magic_5ff788dfb06d94276a81147fd91e82ab_27integrand_cythonized_python_4whole(__pyx_v_whole, __pyx_v_s, __pyx_v_z);<span class='error_goto'> if (unlikely(!__pyx_t_3)) __PYX_ERR(0, 29, __pyx_L1_error)</span>\n",
              "  <span class='refnanny'>__Pyx_GOTREF</span>(__pyx_t_3);\n",
              "  __pyx_r = __pyx_t_3;\n",
              "  __pyx_t_3 = 0;\n",
              "  goto __pyx_L0;\n",
              "</pre></div></body></html>"
            ],
            "text/plain": [
              "<IPython.core.display.HTML object>"
            ]
          },
          "execution_count": 16,
          "metadata": {
            "tags": []
          },
          "output_type": "execute_result"
        }
      ],
      "source": [
        "%%cython -a\n",
        "\n",
        "# ~~~~~~~~~~~~~~~~~~~~~~~~~~~~~~~~~~~~~~~~~~~~~~~~~~~~~~~~\n",
        "# The code in this cell is identical to that above; it\n",
        "# must be repeated here to be processed with Cython.\n",
        "\n",
        "import numpy as np\n",
        "from scipy.special import gamma, ndtr\n",
        "\n",
        "def phi(z):\n",
        "  return (2 * np.pi)**(-.5) * np.exp(-0.5 * z * z)\n",
        "\n",
        "def Phi(z):\n",
        "  return ndtr(z)\n",
        "\n",
        "def integrand_cythonized_python(s, z, *args): \n",
        "  q, k, nu = args\n",
        "\n",
        "  def inner(s, z):\n",
        "    return phi(z) * (Phi(z + q * s) - Phi(z))**(k - 1)\n",
        "\n",
        "  def outer(s, z):\n",
        "    inner_int = inner(s, z)\n",
        "    return s**(nu - 1) * phi((nu ** .5)*s) * inner_int\n",
        "\n",
        "  def whole(s, z):\n",
        "    return (((2 * np.pi)**.5) * k * nu**(nu / 2) /\n",
        "            (gamma(nu / 2) * 2**(nu /2 - 1)) * outer(s, z))\n",
        "\n",
        "  return whole(s, z)\n"
      ]
    },
    {
      "cell_type": "markdown",
      "metadata": {
        "id": "UwtnRaOw1EuV"
      },
      "source": [
        "The bolder the highlighting in the lines above, the greater the overhead of API calls between the compiled code and Python. As most of the code is highlighted, we would not expect the Cythonized code to be much faster than the original."
      ]
    },
    {
      "cell_type": "code",
      "execution_count": 17,
      "metadata": {
        "colab": {
          "base_uri": "https://localhost:8080/"
        },
        "id": "1PWmvZCy5JVq",
        "outputId": "4ff86303-1e49-42d5-97b6-a4631b6631c2"
      },
      "outputs": [
        {
          "name": "stdout",
          "output_type": "stream",
          "text": [
            "The slowest run took 12.22 times longer than the fastest. This could mean that an intermediate result is being cached.\n",
            "100000 loops, best of 5: 8.68 µs per loop\n"
          ]
        }
      ],
      "source": [
        "%timeit integrand_cythonized_python(s, z, *qkv)"
      ]
    },
    {
      "cell_type": "markdown",
      "metadata": {
        "id": "ITHBT6XmC_7k"
      },
      "source": [
        "Although this is slightly faster than the pure Python version, the speed can be improved further by minimizing the interaction between the compiled code and Python."
      ]
    },
    {
      "cell_type": "code",
      "execution_count": 18,
      "metadata": {
        "colab": {
          "base_uri": "https://localhost:8080/"
        },
        "id": "YCixnyOjDA4A",
        "outputId": "ee82863e-bf60-4f10-ff9f-ccf23bf775d8"
      },
      "outputs": [
        {
          "name": "stdout",
          "output_type": "stream",
          "text": [
            "1 loop, best of 5: 227 ms per loop\n"
          ]
        }
      ],
      "source": [
        "time_pure_cython = %timeit -o dblquad(integrand_cythonized_python, -np.inf, np.inf, 0, np.inf, args=qkv)[0] "
      ]
    },
    {
      "cell_type": "markdown",
      "metadata": {
        "id": "4mzVMxmNRKlH"
      },
      "source": [
        "#### Optimizing Cython\n"
      ]
    },
    {
      "cell_type": "markdown",
      "metadata": {
        "id": "UP-f2RCVSuDG"
      },
      "source": [
        "Every highlighted line hints at an interaction between the compiled code and Python that slows down execution. Therefore, we introduce a refactored, more Cythonic, implementation that \n",
        "- removes the Python interface for functions that need not be called from Python,\n",
        "- declares types of variables and function returns,\n",
        "- uses hard-coded constants,\n",
        "- removes Python interaction relating to division, and\n",
        "- imports functions native to C for computing $\\phi$ and $\\Phi$."
      ]
    },
    {
      "cell_type": "code",
      "execution_count": 19,
      "metadata": {
        "colab": {
          "base_uri": "https://localhost:8080/",
          "height": 518
        },
        "id": "Xg-rTaCGS8AE",
        "outputId": "7121b39b-e4c1-4778-be9c-0cc19c6a4aaf"
      },
      "outputs": [
        {
          "data": {
            "text/html": [
              "<!DOCTYPE html>\n",
              "<!-- Generated by Cython 0.29.23 -->\n",
              "<html>\n",
              "<head>\n",
              "    <meta http-equiv=\"Content-Type\" content=\"text/html; charset=utf-8\" />\n",
              "    <title>Cython: _cython_magic_11051ca64cb7b4ee9ce3a85b816503c2.pyx</title>\n",
              "    <style type=\"text/css\">\n",
              "    \n",
              "body.cython { font-family: courier; font-size: 12; }\n",
              "\n",
              ".cython.tag  {  }\n",
              ".cython.line { margin: 0em }\n",
              ".cython.code { font-size: 9; color: #444444; display: none; margin: 0px 0px 0px 8px; border-left: 8px none; }\n",
              "\n",
              ".cython.line .run { background-color: #B0FFB0; }\n",
              ".cython.line .mis { background-color: #FFB0B0; }\n",
              ".cython.code.run  { border-left: 8px solid #B0FFB0; }\n",
              ".cython.code.mis  { border-left: 8px solid #FFB0B0; }\n",
              "\n",
              ".cython.code .py_c_api  { color: red; }\n",
              ".cython.code .py_macro_api  { color: #FF7000; }\n",
              ".cython.code .pyx_c_api  { color: #FF3000; }\n",
              ".cython.code .pyx_macro_api  { color: #FF7000; }\n",
              ".cython.code .refnanny  { color: #FFA000; }\n",
              ".cython.code .trace  { color: #FFA000; }\n",
              ".cython.code .error_goto  { color: #FFA000; }\n",
              "\n",
              ".cython.code .coerce  { color: #008000; border: 1px dotted #008000 }\n",
              ".cython.code .py_attr { color: #FF0000; font-weight: bold; }\n",
              ".cython.code .c_attr  { color: #0000FF; }\n",
              ".cython.code .py_call { color: #FF0000; font-weight: bold; }\n",
              ".cython.code .c_call  { color: #0000FF; }\n",
              "\n",
              ".cython.score-0 {background-color: #FFFFff;}\n",
              ".cython.score-1 {background-color: #FFFFe7;}\n",
              ".cython.score-2 {background-color: #FFFFd4;}\n",
              ".cython.score-3 {background-color: #FFFFc4;}\n",
              ".cython.score-4 {background-color: #FFFFb6;}\n",
              ".cython.score-5 {background-color: #FFFFaa;}\n",
              ".cython.score-6 {background-color: #FFFF9f;}\n",
              ".cython.score-7 {background-color: #FFFF96;}\n",
              ".cython.score-8 {background-color: #FFFF8d;}\n",
              ".cython.score-9 {background-color: #FFFF86;}\n",
              ".cython.score-10 {background-color: #FFFF7f;}\n",
              ".cython.score-11 {background-color: #FFFF79;}\n",
              ".cython.score-12 {background-color: #FFFF73;}\n",
              ".cython.score-13 {background-color: #FFFF6e;}\n",
              ".cython.score-14 {background-color: #FFFF6a;}\n",
              ".cython.score-15 {background-color: #FFFF66;}\n",
              ".cython.score-16 {background-color: #FFFF62;}\n",
              ".cython.score-17 {background-color: #FFFF5e;}\n",
              ".cython.score-18 {background-color: #FFFF5b;}\n",
              ".cython.score-19 {background-color: #FFFF57;}\n",
              ".cython.score-20 {background-color: #FFFF55;}\n",
              ".cython.score-21 {background-color: #FFFF52;}\n",
              ".cython.score-22 {background-color: #FFFF4f;}\n",
              ".cython.score-23 {background-color: #FFFF4d;}\n",
              ".cython.score-24 {background-color: #FFFF4b;}\n",
              ".cython.score-25 {background-color: #FFFF48;}\n",
              ".cython.score-26 {background-color: #FFFF46;}\n",
              ".cython.score-27 {background-color: #FFFF44;}\n",
              ".cython.score-28 {background-color: #FFFF43;}\n",
              ".cython.score-29 {background-color: #FFFF41;}\n",
              ".cython.score-30 {background-color: #FFFF3f;}\n",
              ".cython.score-31 {background-color: #FFFF3e;}\n",
              ".cython.score-32 {background-color: #FFFF3c;}\n",
              ".cython.score-33 {background-color: #FFFF3b;}\n",
              ".cython.score-34 {background-color: #FFFF39;}\n",
              ".cython.score-35 {background-color: #FFFF38;}\n",
              ".cython.score-36 {background-color: #FFFF37;}\n",
              ".cython.score-37 {background-color: #FFFF36;}\n",
              ".cython.score-38 {background-color: #FFFF35;}\n",
              ".cython.score-39 {background-color: #FFFF34;}\n",
              ".cython.score-40 {background-color: #FFFF33;}\n",
              ".cython.score-41 {background-color: #FFFF32;}\n",
              ".cython.score-42 {background-color: #FFFF31;}\n",
              ".cython.score-43 {background-color: #FFFF30;}\n",
              ".cython.score-44 {background-color: #FFFF2f;}\n",
              ".cython.score-45 {background-color: #FFFF2e;}\n",
              ".cython.score-46 {background-color: #FFFF2d;}\n",
              ".cython.score-47 {background-color: #FFFF2c;}\n",
              ".cython.score-48 {background-color: #FFFF2b;}\n",
              ".cython.score-49 {background-color: #FFFF2b;}\n",
              ".cython.score-50 {background-color: #FFFF2a;}\n",
              ".cython.score-51 {background-color: #FFFF29;}\n",
              ".cython.score-52 {background-color: #FFFF29;}\n",
              ".cython.score-53 {background-color: #FFFF28;}\n",
              ".cython.score-54 {background-color: #FFFF27;}\n",
              ".cython.score-55 {background-color: #FFFF27;}\n",
              ".cython.score-56 {background-color: #FFFF26;}\n",
              ".cython.score-57 {background-color: #FFFF26;}\n",
              ".cython.score-58 {background-color: #FFFF25;}\n",
              ".cython.score-59 {background-color: #FFFF24;}\n",
              ".cython.score-60 {background-color: #FFFF24;}\n",
              ".cython.score-61 {background-color: #FFFF23;}\n",
              ".cython.score-62 {background-color: #FFFF23;}\n",
              ".cython.score-63 {background-color: #FFFF22;}\n",
              ".cython.score-64 {background-color: #FFFF22;}\n",
              ".cython.score-65 {background-color: #FFFF22;}\n",
              ".cython.score-66 {background-color: #FFFF21;}\n",
              ".cython.score-67 {background-color: #FFFF21;}\n",
              ".cython.score-68 {background-color: #FFFF20;}\n",
              ".cython.score-69 {background-color: #FFFF20;}\n",
              ".cython.score-70 {background-color: #FFFF1f;}\n",
              ".cython.score-71 {background-color: #FFFF1f;}\n",
              ".cython.score-72 {background-color: #FFFF1f;}\n",
              ".cython.score-73 {background-color: #FFFF1e;}\n",
              ".cython.score-74 {background-color: #FFFF1e;}\n",
              ".cython.score-75 {background-color: #FFFF1e;}\n",
              ".cython.score-76 {background-color: #FFFF1d;}\n",
              ".cython.score-77 {background-color: #FFFF1d;}\n",
              ".cython.score-78 {background-color: #FFFF1c;}\n",
              ".cython.score-79 {background-color: #FFFF1c;}\n",
              ".cython.score-80 {background-color: #FFFF1c;}\n",
              ".cython.score-81 {background-color: #FFFF1c;}\n",
              ".cython.score-82 {background-color: #FFFF1b;}\n",
              ".cython.score-83 {background-color: #FFFF1b;}\n",
              ".cython.score-84 {background-color: #FFFF1b;}\n",
              ".cython.score-85 {background-color: #FFFF1a;}\n",
              ".cython.score-86 {background-color: #FFFF1a;}\n",
              ".cython.score-87 {background-color: #FFFF1a;}\n",
              ".cython.score-88 {background-color: #FFFF1a;}\n",
              ".cython.score-89 {background-color: #FFFF19;}\n",
              ".cython.score-90 {background-color: #FFFF19;}\n",
              ".cython.score-91 {background-color: #FFFF19;}\n",
              ".cython.score-92 {background-color: #FFFF19;}\n",
              ".cython.score-93 {background-color: #FFFF18;}\n",
              ".cython.score-94 {background-color: #FFFF18;}\n",
              ".cython.score-95 {background-color: #FFFF18;}\n",
              ".cython.score-96 {background-color: #FFFF18;}\n",
              ".cython.score-97 {background-color: #FFFF17;}\n",
              ".cython.score-98 {background-color: #FFFF17;}\n",
              ".cython.score-99 {background-color: #FFFF17;}\n",
              ".cython.score-100 {background-color: #FFFF17;}\n",
              ".cython.score-101 {background-color: #FFFF16;}\n",
              ".cython.score-102 {background-color: #FFFF16;}\n",
              ".cython.score-103 {background-color: #FFFF16;}\n",
              ".cython.score-104 {background-color: #FFFF16;}\n",
              ".cython.score-105 {background-color: #FFFF16;}\n",
              ".cython.score-106 {background-color: #FFFF15;}\n",
              ".cython.score-107 {background-color: #FFFF15;}\n",
              ".cython.score-108 {background-color: #FFFF15;}\n",
              ".cython.score-109 {background-color: #FFFF15;}\n",
              ".cython.score-110 {background-color: #FFFF15;}\n",
              ".cython.score-111 {background-color: #FFFF15;}\n",
              ".cython.score-112 {background-color: #FFFF14;}\n",
              ".cython.score-113 {background-color: #FFFF14;}\n",
              ".cython.score-114 {background-color: #FFFF14;}\n",
              ".cython.score-115 {background-color: #FFFF14;}\n",
              ".cython.score-116 {background-color: #FFFF14;}\n",
              ".cython.score-117 {background-color: #FFFF14;}\n",
              ".cython.score-118 {background-color: #FFFF13;}\n",
              ".cython.score-119 {background-color: #FFFF13;}\n",
              ".cython.score-120 {background-color: #FFFF13;}\n",
              ".cython.score-121 {background-color: #FFFF13;}\n",
              ".cython.score-122 {background-color: #FFFF13;}\n",
              ".cython.score-123 {background-color: #FFFF13;}\n",
              ".cython.score-124 {background-color: #FFFF13;}\n",
              ".cython.score-125 {background-color: #FFFF12;}\n",
              ".cython.score-126 {background-color: #FFFF12;}\n",
              ".cython.score-127 {background-color: #FFFF12;}\n",
              ".cython.score-128 {background-color: #FFFF12;}\n",
              ".cython.score-129 {background-color: #FFFF12;}\n",
              ".cython.score-130 {background-color: #FFFF12;}\n",
              ".cython.score-131 {background-color: #FFFF12;}\n",
              ".cython.score-132 {background-color: #FFFF11;}\n",
              ".cython.score-133 {background-color: #FFFF11;}\n",
              ".cython.score-134 {background-color: #FFFF11;}\n",
              ".cython.score-135 {background-color: #FFFF11;}\n",
              ".cython.score-136 {background-color: #FFFF11;}\n",
              ".cython.score-137 {background-color: #FFFF11;}\n",
              ".cython.score-138 {background-color: #FFFF11;}\n",
              ".cython.score-139 {background-color: #FFFF11;}\n",
              ".cython.score-140 {background-color: #FFFF11;}\n",
              ".cython.score-141 {background-color: #FFFF10;}\n",
              ".cython.score-142 {background-color: #FFFF10;}\n",
              ".cython.score-143 {background-color: #FFFF10;}\n",
              ".cython.score-144 {background-color: #FFFF10;}\n",
              ".cython.score-145 {background-color: #FFFF10;}\n",
              ".cython.score-146 {background-color: #FFFF10;}\n",
              ".cython.score-147 {background-color: #FFFF10;}\n",
              ".cython.score-148 {background-color: #FFFF10;}\n",
              ".cython.score-149 {background-color: #FFFF10;}\n",
              ".cython.score-150 {background-color: #FFFF0f;}\n",
              ".cython.score-151 {background-color: #FFFF0f;}\n",
              ".cython.score-152 {background-color: #FFFF0f;}\n",
              ".cython.score-153 {background-color: #FFFF0f;}\n",
              ".cython.score-154 {background-color: #FFFF0f;}\n",
              ".cython.score-155 {background-color: #FFFF0f;}\n",
              ".cython.score-156 {background-color: #FFFF0f;}\n",
              ".cython.score-157 {background-color: #FFFF0f;}\n",
              ".cython.score-158 {background-color: #FFFF0f;}\n",
              ".cython.score-159 {background-color: #FFFF0f;}\n",
              ".cython.score-160 {background-color: #FFFF0f;}\n",
              ".cython.score-161 {background-color: #FFFF0e;}\n",
              ".cython.score-162 {background-color: #FFFF0e;}\n",
              ".cython.score-163 {background-color: #FFFF0e;}\n",
              ".cython.score-164 {background-color: #FFFF0e;}\n",
              ".cython.score-165 {background-color: #FFFF0e;}\n",
              ".cython.score-166 {background-color: #FFFF0e;}\n",
              ".cython.score-167 {background-color: #FFFF0e;}\n",
              ".cython.score-168 {background-color: #FFFF0e;}\n",
              ".cython.score-169 {background-color: #FFFF0e;}\n",
              ".cython.score-170 {background-color: #FFFF0e;}\n",
              ".cython.score-171 {background-color: #FFFF0e;}\n",
              ".cython.score-172 {background-color: #FFFF0e;}\n",
              ".cython.score-173 {background-color: #FFFF0d;}\n",
              ".cython.score-174 {background-color: #FFFF0d;}\n",
              ".cython.score-175 {background-color: #FFFF0d;}\n",
              ".cython.score-176 {background-color: #FFFF0d;}\n",
              ".cython.score-177 {background-color: #FFFF0d;}\n",
              ".cython.score-178 {background-color: #FFFF0d;}\n",
              ".cython.score-179 {background-color: #FFFF0d;}\n",
              ".cython.score-180 {background-color: #FFFF0d;}\n",
              ".cython.score-181 {background-color: #FFFF0d;}\n",
              ".cython.score-182 {background-color: #FFFF0d;}\n",
              ".cython.score-183 {background-color: #FFFF0d;}\n",
              ".cython.score-184 {background-color: #FFFF0d;}\n",
              ".cython.score-185 {background-color: #FFFF0d;}\n",
              ".cython.score-186 {background-color: #FFFF0d;}\n",
              ".cython.score-187 {background-color: #FFFF0c;}\n",
              ".cython.score-188 {background-color: #FFFF0c;}\n",
              ".cython.score-189 {background-color: #FFFF0c;}\n",
              ".cython.score-190 {background-color: #FFFF0c;}\n",
              ".cython.score-191 {background-color: #FFFF0c;}\n",
              ".cython.score-192 {background-color: #FFFF0c;}\n",
              ".cython.score-193 {background-color: #FFFF0c;}\n",
              ".cython.score-194 {background-color: #FFFF0c;}\n",
              ".cython.score-195 {background-color: #FFFF0c;}\n",
              ".cython.score-196 {background-color: #FFFF0c;}\n",
              ".cython.score-197 {background-color: #FFFF0c;}\n",
              ".cython.score-198 {background-color: #FFFF0c;}\n",
              ".cython.score-199 {background-color: #FFFF0c;}\n",
              ".cython.score-200 {background-color: #FFFF0c;}\n",
              ".cython.score-201 {background-color: #FFFF0c;}\n",
              ".cython.score-202 {background-color: #FFFF0c;}\n",
              ".cython.score-203 {background-color: #FFFF0b;}\n",
              ".cython.score-204 {background-color: #FFFF0b;}\n",
              ".cython.score-205 {background-color: #FFFF0b;}\n",
              ".cython.score-206 {background-color: #FFFF0b;}\n",
              ".cython.score-207 {background-color: #FFFF0b;}\n",
              ".cython.score-208 {background-color: #FFFF0b;}\n",
              ".cython.score-209 {background-color: #FFFF0b;}\n",
              ".cython.score-210 {background-color: #FFFF0b;}\n",
              ".cython.score-211 {background-color: #FFFF0b;}\n",
              ".cython.score-212 {background-color: #FFFF0b;}\n",
              ".cython.score-213 {background-color: #FFFF0b;}\n",
              ".cython.score-214 {background-color: #FFFF0b;}\n",
              ".cython.score-215 {background-color: #FFFF0b;}\n",
              ".cython.score-216 {background-color: #FFFF0b;}\n",
              ".cython.score-217 {background-color: #FFFF0b;}\n",
              ".cython.score-218 {background-color: #FFFF0b;}\n",
              ".cython.score-219 {background-color: #FFFF0b;}\n",
              ".cython.score-220 {background-color: #FFFF0b;}\n",
              ".cython.score-221 {background-color: #FFFF0b;}\n",
              ".cython.score-222 {background-color: #FFFF0a;}\n",
              ".cython.score-223 {background-color: #FFFF0a;}\n",
              ".cython.score-224 {background-color: #FFFF0a;}\n",
              ".cython.score-225 {background-color: #FFFF0a;}\n",
              ".cython.score-226 {background-color: #FFFF0a;}\n",
              ".cython.score-227 {background-color: #FFFF0a;}\n",
              ".cython.score-228 {background-color: #FFFF0a;}\n",
              ".cython.score-229 {background-color: #FFFF0a;}\n",
              ".cython.score-230 {background-color: #FFFF0a;}\n",
              ".cython.score-231 {background-color: #FFFF0a;}\n",
              ".cython.score-232 {background-color: #FFFF0a;}\n",
              ".cython.score-233 {background-color: #FFFF0a;}\n",
              ".cython.score-234 {background-color: #FFFF0a;}\n",
              ".cython.score-235 {background-color: #FFFF0a;}\n",
              ".cython.score-236 {background-color: #FFFF0a;}\n",
              ".cython.score-237 {background-color: #FFFF0a;}\n",
              ".cython.score-238 {background-color: #FFFF0a;}\n",
              ".cython.score-239 {background-color: #FFFF0a;}\n",
              ".cython.score-240 {background-color: #FFFF0a;}\n",
              ".cython.score-241 {background-color: #FFFF0a;}\n",
              ".cython.score-242 {background-color: #FFFF0a;}\n",
              ".cython.score-243 {background-color: #FFFF0a;}\n",
              ".cython.score-244 {background-color: #FFFF0a;}\n",
              ".cython.score-245 {background-color: #FFFF0a;}\n",
              ".cython.score-246 {background-color: #FFFF09;}\n",
              ".cython.score-247 {background-color: #FFFF09;}\n",
              ".cython.score-248 {background-color: #FFFF09;}\n",
              ".cython.score-249 {background-color: #FFFF09;}\n",
              ".cython.score-250 {background-color: #FFFF09;}\n",
              ".cython.score-251 {background-color: #FFFF09;}\n",
              ".cython.score-252 {background-color: #FFFF09;}\n",
              ".cython.score-253 {background-color: #FFFF09;}\n",
              ".cython.score-254 {background-color: #FFFF09;}\n",
              ".cython .hll { background-color: #ffffcc }\n",
              ".cython  { background: #f8f8f8; }\n",
              ".cython .c { color: #408080; font-style: italic } /* Comment */\n",
              ".cython .err { border: 1px solid #FF0000 } /* Error */\n",
              ".cython .k { color: #008000; font-weight: bold } /* Keyword */\n",
              ".cython .o { color: #666666 } /* Operator */\n",
              ".cython .ch { color: #408080; font-style: italic } /* Comment.Hashbang */\n",
              ".cython .cm { color: #408080; font-style: italic } /* Comment.Multiline */\n",
              ".cython .cp { color: #BC7A00 } /* Comment.Preproc */\n",
              ".cython .cpf { color: #408080; font-style: italic } /* Comment.PreprocFile */\n",
              ".cython .c1 { color: #408080; font-style: italic } /* Comment.Single */\n",
              ".cython .cs { color: #408080; font-style: italic } /* Comment.Special */\n",
              ".cython .gd { color: #A00000 } /* Generic.Deleted */\n",
              ".cython .ge { font-style: italic } /* Generic.Emph */\n",
              ".cython .gr { color: #FF0000 } /* Generic.Error */\n",
              ".cython .gh { color: #000080; font-weight: bold } /* Generic.Heading */\n",
              ".cython .gi { color: #00A000 } /* Generic.Inserted */\n",
              ".cython .go { color: #888888 } /* Generic.Output */\n",
              ".cython .gp { color: #000080; font-weight: bold } /* Generic.Prompt */\n",
              ".cython .gs { font-weight: bold } /* Generic.Strong */\n",
              ".cython .gu { color: #800080; font-weight: bold } /* Generic.Subheading */\n",
              ".cython .gt { color: #0044DD } /* Generic.Traceback */\n",
              ".cython .kc { color: #008000; font-weight: bold } /* Keyword.Constant */\n",
              ".cython .kd { color: #008000; font-weight: bold } /* Keyword.Declaration */\n",
              ".cython .kn { color: #008000; font-weight: bold } /* Keyword.Namespace */\n",
              ".cython .kp { color: #008000 } /* Keyword.Pseudo */\n",
              ".cython .kr { color: #008000; font-weight: bold } /* Keyword.Reserved */\n",
              ".cython .kt { color: #B00040 } /* Keyword.Type */\n",
              ".cython .m { color: #666666 } /* Literal.Number */\n",
              ".cython .s { color: #BA2121 } /* Literal.String */\n",
              ".cython .na { color: #7D9029 } /* Name.Attribute */\n",
              ".cython .nb { color: #008000 } /* Name.Builtin */\n",
              ".cython .nc { color: #0000FF; font-weight: bold } /* Name.Class */\n",
              ".cython .no { color: #880000 } /* Name.Constant */\n",
              ".cython .nd { color: #AA22FF } /* Name.Decorator */\n",
              ".cython .ni { color: #999999; font-weight: bold } /* Name.Entity */\n",
              ".cython .ne { color: #D2413A; font-weight: bold } /* Name.Exception */\n",
              ".cython .nf { color: #0000FF } /* Name.Function */\n",
              ".cython .nl { color: #A0A000 } /* Name.Label */\n",
              ".cython .nn { color: #0000FF; font-weight: bold } /* Name.Namespace */\n",
              ".cython .nt { color: #008000; font-weight: bold } /* Name.Tag */\n",
              ".cython .nv { color: #19177C } /* Name.Variable */\n",
              ".cython .ow { color: #AA22FF; font-weight: bold } /* Operator.Word */\n",
              ".cython .w { color: #bbbbbb } /* Text.Whitespace */\n",
              ".cython .mb { color: #666666 } /* Literal.Number.Bin */\n",
              ".cython .mf { color: #666666 } /* Literal.Number.Float */\n",
              ".cython .mh { color: #666666 } /* Literal.Number.Hex */\n",
              ".cython .mi { color: #666666 } /* Literal.Number.Integer */\n",
              ".cython .mo { color: #666666 } /* Literal.Number.Oct */\n",
              ".cython .sa { color: #BA2121 } /* Literal.String.Affix */\n",
              ".cython .sb { color: #BA2121 } /* Literal.String.Backtick */\n",
              ".cython .sc { color: #BA2121 } /* Literal.String.Char */\n",
              ".cython .dl { color: #BA2121 } /* Literal.String.Delimiter */\n",
              ".cython .sd { color: #BA2121; font-style: italic } /* Literal.String.Doc */\n",
              ".cython .s2 { color: #BA2121 } /* Literal.String.Double */\n",
              ".cython .se { color: #BB6622; font-weight: bold } /* Literal.String.Escape */\n",
              ".cython .sh { color: #BA2121 } /* Literal.String.Heredoc */\n",
              ".cython .si { color: #BB6688; font-weight: bold } /* Literal.String.Interpol */\n",
              ".cython .sx { color: #008000 } /* Literal.String.Other */\n",
              ".cython .sr { color: #BB6688 } /* Literal.String.Regex */\n",
              ".cython .s1 { color: #BA2121 } /* Literal.String.Single */\n",
              ".cython .ss { color: #19177C } /* Literal.String.Symbol */\n",
              ".cython .bp { color: #008000 } /* Name.Builtin.Pseudo */\n",
              ".cython .fm { color: #0000FF } /* Name.Function.Magic */\n",
              ".cython .vc { color: #19177C } /* Name.Variable.Class */\n",
              ".cython .vg { color: #19177C } /* Name.Variable.Global */\n",
              ".cython .vi { color: #19177C } /* Name.Variable.Instance */\n",
              ".cython .vm { color: #19177C } /* Name.Variable.Magic */\n",
              ".cython .il { color: #666666 } /* Literal.Number.Integer.Long */\n",
              "    </style>\n",
              "</head>\n",
              "<body class=\"cython\">\n",
              "<p><span style=\"border-bottom: solid 1px grey;\">Generated by Cython 0.29.23</span></p>\n",
              "<p>\n",
              "    <span style=\"background-color: #FFFF00\">Yellow lines</span> hint at Python interaction.<br />\n",
              "    Click on a line that starts with a \"<code>+</code>\" to see the C code that Cython generated for it.\n",
              "</p>\n",
              "<div class=\"cython\"><pre class=\"cython line score-0\">&#xA0;<span class=\"\">01</span>: </pre>\n",
              "<pre class=\"cython line score-0\">&#xA0;<span class=\"\">02</span>: <span class=\"k\">cimport</span> <span class=\"nn\">libc.math</span> <span class=\"k\">as</span> <span class=\"nn\">math</span></pre>\n",
              "<pre class=\"cython line score-0\">&#xA0;<span class=\"\">03</span>: <span class=\"k\">cimport</span> <span class=\"nn\">scipy.special.cython_special</span> <span class=\"k\">as</span> <span class=\"nn\">cs</span></pre>\n",
              "<pre class=\"cython line score-0\">&#xA0;<span class=\"\">04</span>: </pre>\n",
              "<pre class=\"cython line score-0\" onclick=\"(function(s){s.display=s.display==='block'?'none':'block'})(this.nextElementSibling.style)\">+<span class=\"\">05</span>: <span class=\"k\">cdef</span> <span class=\"kt\">double</span> <span class=\"nf\">_phi</span><span class=\"p\">(</span><span class=\"n\">double</span> <span class=\"n\">z</span><span class=\"p\">)</span> <span class=\"k\">nogil</span><span class=\"p\">:</span></pre>\n",
              "<pre class='cython code score-0 '>static double __pyx_f_46_cython_magic_11051ca64cb7b4ee9ce3a85b816503c2__phi(double __pyx_v_z) {\n",
              "  double __pyx_v_inv_sqrt_2pi;\n",
              "  double __pyx_r;\n",
              "/* … */\n",
              "  /* function exit code */\n",
              "  __pyx_L0:;\n",
              "  return __pyx_r;\n",
              "}\n",
              "</pre><pre class=\"cython line score-0\" onclick=\"(function(s){s.display=s.display==='block'?'none':'block'})(this.nextElementSibling.style)\">+<span class=\"\">06</span>:   <span class=\"k\">cdef</span> <span class=\"kt\">double</span> <span class=\"nf\">inv_sqrt_2pi</span> <span class=\"o\">=</span> <span class=\"mf\">0.3989422804014327</span></pre>\n",
              "<pre class='cython code score-0 '>  __pyx_v_inv_sqrt_2pi = 0.3989422804014327;\n",
              "</pre><pre class=\"cython line score-0\" onclick=\"(function(s){s.display=s.display==='block'?'none':'block'})(this.nextElementSibling.style)\">+<span class=\"\">07</span>:   <span class=\"k\">return</span> <span class=\"n\">inv_sqrt_2pi</span> <span class=\"o\">*</span> <span class=\"n\">math</span><span class=\"o\">.</span><span class=\"n\">exp</span><span class=\"p\">(</span><span class=\"o\">-</span><span class=\"mf\">0.5</span> <span class=\"o\">*</span> <span class=\"n\">z</span> <span class=\"o\">*</span> <span class=\"n\">z</span><span class=\"p\">)</span></pre>\n",
              "<pre class='cython code score-0 '>  __pyx_r = (__pyx_v_inv_sqrt_2pi * exp(((-0.5 * __pyx_v_z) * __pyx_v_z)));\n",
              "  goto __pyx_L0;\n",
              "</pre><pre class=\"cython line score-0\">&#xA0;<span class=\"\">08</span>: </pre>\n",
              "<pre class=\"cython line score-0\" onclick=\"(function(s){s.display=s.display==='block'?'none':'block'})(this.nextElementSibling.style)\">+<span class=\"\">09</span>: <span class=\"k\">cdef</span> <span class=\"kt\">double</span> <span class=\"nf\">_Phi</span><span class=\"p\">(</span><span class=\"n\">double</span> <span class=\"n\">z</span><span class=\"p\">)</span> <span class=\"k\">nogil</span><span class=\"p\">:</span></pre>\n",
              "<pre class='cython code score-0 '>static double __pyx_f_46_cython_magic_11051ca64cb7b4ee9ce3a85b816503c2__Phi(double __pyx_v_z) {\n",
              "  double __pyx_r;\n",
              "/* … */\n",
              "  /* function exit code */\n",
              "  __pyx_L0:;\n",
              "  return __pyx_r;\n",
              "}\n",
              "</pre><pre class=\"cython line score-0\" onclick=\"(function(s){s.display=s.display==='block'?'none':'block'})(this.nextElementSibling.style)\">+<span class=\"\">10</span>:   <span class=\"k\">return</span> <span class=\"n\">cs</span><span class=\"o\">.</span><span class=\"n\">ndtr</span><span class=\"p\">(</span><span class=\"n\">z</span><span class=\"p\">)</span></pre>\n",
              "<pre class='cython code score-0 '>  __pyx_r = __pyx_fuse_1__pyx_f_5scipy_7special_14cython_special_ndtr(__pyx_v_z, 0);\n",
              "  goto __pyx_L0;\n",
              "</pre><pre class=\"cython line score-0\">&#xA0;<span class=\"\">11</span>: </pre>\n",
              "<pre class=\"cython line score-0\" onclick=\"(function(s){s.display=s.display==='block'?'none':'block'})(this.nextElementSibling.style)\">+<span class=\"\">12</span>: <span class=\"k\">cdef</span> <span class=\"kt\">double</span> <span class=\"nf\">inner</span><span class=\"p\">(</span><span class=\"n\">double</span> <span class=\"n\">s</span><span class=\"p\">,</span> <span class=\"n\">double</span> <span class=\"n\">z</span><span class=\"p\">,</span> <span class=\"n\">double</span> <span class=\"n\">q</span><span class=\"p\">,</span> <span class=\"n\">double</span> <span class=\"n\">k</span><span class=\"p\">,</span> <span class=\"n\">double</span> <span class=\"n\">nu</span><span class=\"p\">)</span> <span class=\"k\">nogil</span><span class=\"p\">:</span></pre>\n",
              "<pre class='cython code score-0 '>static double __pyx_f_46_cython_magic_11051ca64cb7b4ee9ce3a85b816503c2_inner(double __pyx_v_s, double __pyx_v_z, double __pyx_v_q, double __pyx_v_k, CYTHON_UNUSED double __pyx_v_nu) {\n",
              "  double __pyx_r;\n",
              "/* … */\n",
              "  /* function exit code */\n",
              "  __pyx_L0:;\n",
              "  return __pyx_r;\n",
              "}\n",
              "</pre><pre class=\"cython line score-0\" onclick=\"(function(s){s.display=s.display==='block'?'none':'block'})(this.nextElementSibling.style)\">+<span class=\"\">13</span>:   <span class=\"k\">return</span> <span class=\"n\">_phi</span><span class=\"p\">(</span><span class=\"n\">z</span><span class=\"p\">)</span><span class=\"o\">*</span><span class=\"p\">(</span><span class=\"n\">_Phi</span><span class=\"p\">(</span><span class=\"n\">z</span><span class=\"o\">+</span><span class=\"n\">q</span><span class=\"o\">*</span><span class=\"n\">s</span><span class=\"p\">)</span><span class=\"o\">-</span><span class=\"n\">_Phi</span><span class=\"p\">(</span><span class=\"n\">z</span><span class=\"p\">))</span><span class=\"o\">**</span><span class=\"p\">(</span><span class=\"n\">k</span><span class=\"o\">-</span><span class=\"mf\">1</span><span class=\"p\">)</span></pre>\n",
              "<pre class='cython code score-0 '>  __pyx_r = (__pyx_f_46_cython_magic_11051ca64cb7b4ee9ce3a85b816503c2__phi(__pyx_v_z) * pow((__pyx_f_46_cython_magic_11051ca64cb7b4ee9ce3a85b816503c2__Phi((__pyx_v_z + (__pyx_v_q * __pyx_v_s))) - __pyx_f_46_cython_magic_11051ca64cb7b4ee9ce3a85b816503c2__Phi(__pyx_v_z)), (__pyx_v_k - 1.0)));\n",
              "  goto __pyx_L0;\n",
              "</pre><pre class=\"cython line score-0\">&#xA0;<span class=\"\">14</span>: </pre>\n",
              "<pre class=\"cython line score-0\" onclick=\"(function(s){s.display=s.display==='block'?'none':'block'})(this.nextElementSibling.style)\">+<span class=\"\">15</span>: <span class=\"k\">cdef</span> <span class=\"kt\">double</span> <span class=\"nf\">outer</span><span class=\"p\">(</span><span class=\"n\">double</span> <span class=\"n\">s</span><span class=\"p\">,</span> <span class=\"n\">double</span> <span class=\"n\">z</span><span class=\"p\">,</span> <span class=\"n\">double</span> <span class=\"n\">q</span><span class=\"p\">,</span> <span class=\"n\">double</span> <span class=\"n\">k</span><span class=\"p\">,</span> <span class=\"n\">double</span> <span class=\"n\">nu</span><span class=\"p\">)</span> <span class=\"k\">nogil</span><span class=\"p\">:</span></pre>\n",
              "<pre class='cython code score-0 '>static double __pyx_f_46_cython_magic_11051ca64cb7b4ee9ce3a85b816503c2_outer(double __pyx_v_s, double __pyx_v_z, double __pyx_v_q, double __pyx_v_k, double __pyx_v_nu) {\n",
              "  double __pyx_v_inner_int;\n",
              "  double __pyx_r;\n",
              "/* … */\n",
              "  /* function exit code */\n",
              "  __pyx_L0:;\n",
              "  return __pyx_r;\n",
              "}\n",
              "</pre><pre class=\"cython line score-0\" onclick=\"(function(s){s.display=s.display==='block'?'none':'block'})(this.nextElementSibling.style)\">+<span class=\"\">16</span>:   <span class=\"n\">inner_int</span> <span class=\"o\">=</span> <span class=\"n\">inner</span><span class=\"p\">(</span><span class=\"n\">s</span><span class=\"p\">,</span> <span class=\"n\">z</span><span class=\"p\">,</span> <span class=\"n\">q</span><span class=\"p\">,</span> <span class=\"n\">k</span><span class=\"p\">,</span> <span class=\"n\">nu</span><span class=\"p\">)</span></pre>\n",
              "<pre class='cython code score-0 '>  __pyx_v_inner_int = __pyx_f_46_cython_magic_11051ca64cb7b4ee9ce3a85b816503c2_inner(__pyx_v_s, __pyx_v_z, __pyx_v_q, __pyx_v_k, __pyx_v_nu);\n",
              "</pre><pre class=\"cython line score-0\" onclick=\"(function(s){s.display=s.display==='block'?'none':'block'})(this.nextElementSibling.style)\">+<span class=\"\">17</span>:   <span class=\"k\">return</span> <span class=\"n\">s</span><span class=\"o\">**</span><span class=\"p\">(</span><span class=\"n\">nu</span> <span class=\"o\">-</span> <span class=\"mf\">1</span><span class=\"p\">)</span><span class=\"o\">*</span><span class=\"n\">_phi</span><span class=\"p\">((</span><span class=\"n\">nu</span> <span class=\"o\">**</span> <span class=\"o\">.</span><span class=\"mf\">5</span><span class=\"p\">)</span><span class=\"o\">*</span><span class=\"n\">s</span><span class=\"p\">)</span><span class=\"o\">*</span><span class=\"n\">inner_int</span></pre>\n",
              "<pre class='cython code score-0 '>  __pyx_r = ((pow(__pyx_v_s, (__pyx_v_nu - 1.0)) * __pyx_f_46_cython_magic_11051ca64cb7b4ee9ce3a85b816503c2__phi((pow(__pyx_v_nu, .5) * __pyx_v_s))) * __pyx_v_inner_int);\n",
              "  goto __pyx_L0;\n",
              "</pre><pre class=\"cython line score-0\">&#xA0;<span class=\"\">18</span>: </pre>\n",
              "<pre class=\"cython line score-0\" onclick=\"(function(s){s.display=s.display==='block'?'none':'block'})(this.nextElementSibling.style)\">+<span class=\"\">19</span>: <span class=\"k\">cdef</span> <span class=\"kt\">double</span> <span class=\"nf\">constants</span><span class=\"p\">(</span><span class=\"n\">double</span> <span class=\"n\">s</span><span class=\"p\">,</span> <span class=\"n\">double</span> <span class=\"n\">z</span><span class=\"p\">,</span> <span class=\"n\">double</span> <span class=\"n\">q</span><span class=\"p\">,</span> <span class=\"n\">double</span> <span class=\"n\">k</span><span class=\"p\">,</span> <span class=\"n\">double</span> <span class=\"n\">nu</span><span class=\"p\">)</span> <span class=\"k\">nogil</span><span class=\"p\">:</span></pre>\n",
              "<pre class='cython code score-0 '>static double __pyx_f_46_cython_magic_11051ca64cb7b4ee9ce3a85b816503c2_constants(CYTHON_UNUSED double __pyx_v_s, CYTHON_UNUSED double __pyx_v_z, CYTHON_UNUSED double __pyx_v_q, double __pyx_v_k, double __pyx_v_nu) {\n",
              "  double __pyx_v_num;\n",
              "  double __pyx_v_denom;\n",
              "  double __pyx_r;\n",
              "/* … */\n",
              "  /* function exit code */\n",
              "  __pyx_L0:;\n",
              "  return __pyx_r;\n",
              "}\n",
              "</pre><pre class=\"cython line score-0\" onclick=\"(function(s){s.display=s.display==='block'?'none':'block'})(this.nextElementSibling.style)\">+<span class=\"\">20</span>:   <span class=\"n\">num</span> <span class=\"o\">=</span> <span class=\"p\">((</span><span class=\"mf\">2</span> <span class=\"o\">*</span> <span class=\"n\">math</span><span class=\"o\">.</span><span class=\"n\">M_PI</span><span class=\"p\">)</span><span class=\"o\">**.</span><span class=\"mf\">5</span><span class=\"p\">)</span><span class=\"o\">*</span> <span class=\"n\">k</span> <span class=\"o\">*</span><span class=\"n\">nu</span><span class=\"o\">**</span><span class=\"p\">(</span><span class=\"n\">nu</span><span class=\"o\">/</span><span class=\"mf\">2</span><span class=\"p\">)</span></pre>\n",
              "<pre class='cython code score-0 '>  __pyx_v_num = ((pow((2.0 * M_PI), .5) * __pyx_v_k) * pow(__pyx_v_nu, (__pyx_v_nu / 2.0)));\n",
              "</pre><pre class=\"cython line score-0\" onclick=\"(function(s){s.display=s.display==='block'?'none':'block'})(this.nextElementSibling.style)\">+<span class=\"\">21</span>:   <span class=\"n\">denom</span> <span class=\"o\">=</span> <span class=\"p\">(</span><span class=\"n\">math</span><span class=\"o\">.</span><span class=\"n\">tgamma</span><span class=\"p\">(</span><span class=\"n\">nu</span> <span class=\"o\">/</span> <span class=\"mf\">2</span><span class=\"p\">)</span> <span class=\"o\">*</span> <span class=\"mf\">2</span><span class=\"o\">**</span><span class=\"p\">(</span><span class=\"n\">nu</span> <span class=\"o\">/</span> <span class=\"mf\">2</span> <span class=\"o\">-</span> <span class=\"mf\">1</span><span class=\"p\">))</span></pre>\n",
              "<pre class='cython code score-0 '>  __pyx_v_denom = (tgamma((__pyx_v_nu / 2.0)) * pow(2.0, ((__pyx_v_nu / 2.0) - 1.0)));\n",
              "</pre><pre class=\"cython line score-0\" onclick=\"(function(s){s.display=s.display==='block'?'none':'block'})(this.nextElementSibling.style)\">+<span class=\"\">22</span>:   <span class=\"k\">return</span>  <span class=\"n\">num</span> <span class=\"o\">*</span> <span class=\"p\">(</span><span class=\"n\">denom</span> <span class=\"o\">**</span> <span class=\"o\">-</span><span class=\"mf\">1</span><span class=\"p\">)</span></pre>\n",
              "<pre class='cython code score-0 '>  __pyx_r = (__pyx_v_num * pow(__pyx_v_denom, -1.0));\n",
              "  goto __pyx_L0;\n",
              "</pre><pre class=\"cython line score-0\">&#xA0;<span class=\"\">23</span>: </pre>\n",
              "<pre class=\"cython line score-101\" onclick=\"(function(s){s.display=s.display==='block'?'none':'block'})(this.nextElementSibling.style)\">+<span class=\"\">24</span>: <span class=\"k\">cpdef</span> <span class=\"kt\">double</span> <span class=\"nf\">integrand_cython</span><span class=\"p\">(</span><span class=\"n\">double</span> <span class=\"n\">s</span><span class=\"p\">,</span> <span class=\"n\">double</span> <span class=\"n\">z</span><span class=\"p\">,</span> <span class=\"n\">double</span> <span class=\"n\">q</span><span class=\"p\">,</span> <span class=\"n\">double</span> <span class=\"n\">k</span><span class=\"p\">,</span> <span class=\"n\">double</span> <span class=\"n\">nu</span><span class=\"p\">):</span></pre>\n",
              "<pre class='cython code score-101 '>static PyObject *__pyx_pw_46_cython_magic_11051ca64cb7b4ee9ce3a85b816503c2_1integrand_cython(PyObject *__pyx_self, PyObject *__pyx_args, PyObject *__pyx_kwds); /*proto*/\n",
              "static double __pyx_f_46_cython_magic_11051ca64cb7b4ee9ce3a85b816503c2_integrand_cython(double __pyx_v_s, double __pyx_v_z, double __pyx_v_q, double __pyx_v_k, double __pyx_v_nu, CYTHON_UNUSED int __pyx_skip_dispatch) {\n",
              "  double __pyx_r;\n",
              "  <span class='refnanny'>__Pyx_RefNannyDeclarations</span>\n",
              "  <span class='refnanny'>__Pyx_RefNannySetupContext</span>(\"integrand_cython\", 0);\n",
              "/* … */\n",
              "  /* function exit code */\n",
              "  __pyx_L0:;\n",
              "  <span class='refnanny'>__Pyx_RefNannyFinishContext</span>();\n",
              "  return __pyx_r;\n",
              "}\n",
              "\n",
              "/* Python wrapper */\n",
              "static PyObject *__pyx_pw_46_cython_magic_11051ca64cb7b4ee9ce3a85b816503c2_1integrand_cython(PyObject *__pyx_self, PyObject *__pyx_args, PyObject *__pyx_kwds); /*proto*/\n",
              "static PyObject *__pyx_pw_46_cython_magic_11051ca64cb7b4ee9ce3a85b816503c2_1integrand_cython(PyObject *__pyx_self, PyObject *__pyx_args, PyObject *__pyx_kwds) {\n",
              "  double __pyx_v_s;\n",
              "  double __pyx_v_z;\n",
              "  double __pyx_v_q;\n",
              "  double __pyx_v_k;\n",
              "  double __pyx_v_nu;\n",
              "  PyObject *__pyx_r = 0;\n",
              "  <span class='refnanny'>__Pyx_RefNannyDeclarations</span>\n",
              "  <span class='refnanny'>__Pyx_RefNannySetupContext</span>(\"integrand_cython (wrapper)\", 0);\n",
              "  {\n",
              "    static PyObject **__pyx_pyargnames[] = {&amp;__pyx_n_s_s,&amp;__pyx_n_s_z,&amp;__pyx_n_s_q,&amp;__pyx_n_s_k,&amp;__pyx_n_s_nu,0};\n",
              "    PyObject* values[5] = {0,0,0,0,0};\n",
              "    if (unlikely(__pyx_kwds)) {\n",
              "      Py_ssize_t kw_args;\n",
              "      const Py_ssize_t pos_args = <span class='py_macro_api'>PyTuple_GET_SIZE</span>(__pyx_args);\n",
              "      switch (pos_args) {\n",
              "        case  5: values[4] = <span class='py_macro_api'>PyTuple_GET_ITEM</span>(__pyx_args, 4);\n",
              "        CYTHON_FALLTHROUGH;\n",
              "        case  4: values[3] = <span class='py_macro_api'>PyTuple_GET_ITEM</span>(__pyx_args, 3);\n",
              "        CYTHON_FALLTHROUGH;\n",
              "        case  3: values[2] = <span class='py_macro_api'>PyTuple_GET_ITEM</span>(__pyx_args, 2);\n",
              "        CYTHON_FALLTHROUGH;\n",
              "        case  2: values[1] = <span class='py_macro_api'>PyTuple_GET_ITEM</span>(__pyx_args, 1);\n",
              "        CYTHON_FALLTHROUGH;\n",
              "        case  1: values[0] = <span class='py_macro_api'>PyTuple_GET_ITEM</span>(__pyx_args, 0);\n",
              "        CYTHON_FALLTHROUGH;\n",
              "        case  0: break;\n",
              "        default: goto __pyx_L5_argtuple_error;\n",
              "      }\n",
              "      kw_args = <span class='py_c_api'>PyDict_Size</span>(__pyx_kwds);\n",
              "      switch (pos_args) {\n",
              "        case  0:\n",
              "        if (likely((values[0] = <span class='pyx_c_api'>__Pyx_PyDict_GetItemStr</span>(__pyx_kwds, __pyx_n_s_s)) != 0)) kw_args--;\n",
              "        else goto __pyx_L5_argtuple_error;\n",
              "        CYTHON_FALLTHROUGH;\n",
              "        case  1:\n",
              "        if (likely((values[1] = <span class='pyx_c_api'>__Pyx_PyDict_GetItemStr</span>(__pyx_kwds, __pyx_n_s_z)) != 0)) kw_args--;\n",
              "        else {\n",
              "          <span class='pyx_c_api'>__Pyx_RaiseArgtupleInvalid</span>(\"integrand_cython\", 1, 5, 5, 1); <span class='error_goto'>__PYX_ERR(0, 24, __pyx_L3_error)</span>\n",
              "        }\n",
              "        CYTHON_FALLTHROUGH;\n",
              "        case  2:\n",
              "        if (likely((values[2] = <span class='pyx_c_api'>__Pyx_PyDict_GetItemStr</span>(__pyx_kwds, __pyx_n_s_q)) != 0)) kw_args--;\n",
              "        else {\n",
              "          <span class='pyx_c_api'>__Pyx_RaiseArgtupleInvalid</span>(\"integrand_cython\", 1, 5, 5, 2); <span class='error_goto'>__PYX_ERR(0, 24, __pyx_L3_error)</span>\n",
              "        }\n",
              "        CYTHON_FALLTHROUGH;\n",
              "        case  3:\n",
              "        if (likely((values[3] = <span class='pyx_c_api'>__Pyx_PyDict_GetItemStr</span>(__pyx_kwds, __pyx_n_s_k)) != 0)) kw_args--;\n",
              "        else {\n",
              "          <span class='pyx_c_api'>__Pyx_RaiseArgtupleInvalid</span>(\"integrand_cython\", 1, 5, 5, 3); <span class='error_goto'>__PYX_ERR(0, 24, __pyx_L3_error)</span>\n",
              "        }\n",
              "        CYTHON_FALLTHROUGH;\n",
              "        case  4:\n",
              "        if (likely((values[4] = <span class='pyx_c_api'>__Pyx_PyDict_GetItemStr</span>(__pyx_kwds, __pyx_n_s_nu)) != 0)) kw_args--;\n",
              "        else {\n",
              "          <span class='pyx_c_api'>__Pyx_RaiseArgtupleInvalid</span>(\"integrand_cython\", 1, 5, 5, 4); <span class='error_goto'>__PYX_ERR(0, 24, __pyx_L3_error)</span>\n",
              "        }\n",
              "      }\n",
              "      if (unlikely(kw_args &gt; 0)) {\n",
              "        if (unlikely(<span class='pyx_c_api'>__Pyx_ParseOptionalKeywords</span>(__pyx_kwds, __pyx_pyargnames, 0, values, pos_args, \"integrand_cython\") &lt; 0)) <span class='error_goto'>__PYX_ERR(0, 24, __pyx_L3_error)</span>\n",
              "      }\n",
              "    } else if (<span class='py_macro_api'>PyTuple_GET_SIZE</span>(__pyx_args) != 5) {\n",
              "      goto __pyx_L5_argtuple_error;\n",
              "    } else {\n",
              "      values[0] = <span class='py_macro_api'>PyTuple_GET_ITEM</span>(__pyx_args, 0);\n",
              "      values[1] = <span class='py_macro_api'>PyTuple_GET_ITEM</span>(__pyx_args, 1);\n",
              "      values[2] = <span class='py_macro_api'>PyTuple_GET_ITEM</span>(__pyx_args, 2);\n",
              "      values[3] = <span class='py_macro_api'>PyTuple_GET_ITEM</span>(__pyx_args, 3);\n",
              "      values[4] = <span class='py_macro_api'>PyTuple_GET_ITEM</span>(__pyx_args, 4);\n",
              "    }\n",
              "    __pyx_v_s = __pyx_<span class='py_c_api'>PyFloat_AsDouble</span>(values[0]); if (unlikely((__pyx_v_s == (double)-1) &amp;&amp; <span class='py_c_api'>PyErr_Occurred</span>())) <span class='error_goto'>__PYX_ERR(0, 24, __pyx_L3_error)</span>\n",
              "    __pyx_v_z = __pyx_<span class='py_c_api'>PyFloat_AsDouble</span>(values[1]); if (unlikely((__pyx_v_z == (double)-1) &amp;&amp; <span class='py_c_api'>PyErr_Occurred</span>())) <span class='error_goto'>__PYX_ERR(0, 24, __pyx_L3_error)</span>\n",
              "    __pyx_v_q = __pyx_<span class='py_c_api'>PyFloat_AsDouble</span>(values[2]); if (unlikely((__pyx_v_q == (double)-1) &amp;&amp; <span class='py_c_api'>PyErr_Occurred</span>())) <span class='error_goto'>__PYX_ERR(0, 24, __pyx_L3_error)</span>\n",
              "    __pyx_v_k = __pyx_<span class='py_c_api'>PyFloat_AsDouble</span>(values[3]); if (unlikely((__pyx_v_k == (double)-1) &amp;&amp; <span class='py_c_api'>PyErr_Occurred</span>())) <span class='error_goto'>__PYX_ERR(0, 24, __pyx_L3_error)</span>\n",
              "    __pyx_v_nu = __pyx_<span class='py_c_api'>PyFloat_AsDouble</span>(values[4]); if (unlikely((__pyx_v_nu == (double)-1) &amp;&amp; <span class='py_c_api'>PyErr_Occurred</span>())) <span class='error_goto'>__PYX_ERR(0, 24, __pyx_L3_error)</span>\n",
              "  }\n",
              "  goto __pyx_L4_argument_unpacking_done;\n",
              "  __pyx_L5_argtuple_error:;\n",
              "  <span class='pyx_c_api'>__Pyx_RaiseArgtupleInvalid</span>(\"integrand_cython\", 1, 5, 5, <span class='py_macro_api'>PyTuple_GET_SIZE</span>(__pyx_args)); <span class='error_goto'>__PYX_ERR(0, 24, __pyx_L3_error)</span>\n",
              "  __pyx_L3_error:;\n",
              "  <span class='pyx_c_api'>__Pyx_AddTraceback</span>(\"_cython_magic_11051ca64cb7b4ee9ce3a85b816503c2.integrand_cython\", __pyx_clineno, __pyx_lineno, __pyx_filename);\n",
              "  <span class='refnanny'>__Pyx_RefNannyFinishContext</span>();\n",
              "  return NULL;\n",
              "  __pyx_L4_argument_unpacking_done:;\n",
              "  __pyx_r = __pyx_pf_46_cython_magic_11051ca64cb7b4ee9ce3a85b816503c2_integrand_cython(__pyx_self, __pyx_v_s, __pyx_v_z, __pyx_v_q, __pyx_v_k, __pyx_v_nu);\n",
              "  int __pyx_lineno = 0;\n",
              "  const char *__pyx_filename = NULL;\n",
              "  int __pyx_clineno = 0;\n",
              "\n",
              "  /* function exit code */\n",
              "  <span class='refnanny'>__Pyx_RefNannyFinishContext</span>();\n",
              "  return __pyx_r;\n",
              "}\n",
              "\n",
              "static PyObject *__pyx_pf_46_cython_magic_11051ca64cb7b4ee9ce3a85b816503c2_integrand_cython(CYTHON_UNUSED PyObject *__pyx_self, double __pyx_v_s, double __pyx_v_z, double __pyx_v_q, double __pyx_v_k, double __pyx_v_nu) {\n",
              "  PyObject *__pyx_r = NULL;\n",
              "  <span class='refnanny'>__Pyx_RefNannyDeclarations</span>\n",
              "  <span class='refnanny'>__Pyx_RefNannySetupContext</span>(\"integrand_cython\", 0);\n",
              "  <span class='pyx_macro_api'>__Pyx_XDECREF</span>(__pyx_r);\n",
              "  __pyx_t_1 = <span class='py_c_api'>PyFloat_FromDouble</span>(__pyx_f_46_cython_magic_11051ca64cb7b4ee9ce3a85b816503c2_integrand_cython(__pyx_v_s, __pyx_v_z, __pyx_v_q, __pyx_v_k, __pyx_v_nu, 0));<span class='error_goto'> if (unlikely(!__pyx_t_1)) __PYX_ERR(0, 24, __pyx_L1_error)</span>\n",
              "  <span class='refnanny'>__Pyx_GOTREF</span>(__pyx_t_1);\n",
              "  __pyx_r = __pyx_t_1;\n",
              "  __pyx_t_1 = 0;\n",
              "  goto __pyx_L0;\n",
              "\n",
              "  /* function exit code */\n",
              "  __pyx_L1_error:;\n",
              "  <span class='pyx_macro_api'>__Pyx_XDECREF</span>(__pyx_t_1);\n",
              "  <span class='pyx_c_api'>__Pyx_AddTraceback</span>(\"_cython_magic_11051ca64cb7b4ee9ce3a85b816503c2.integrand_cython\", __pyx_clineno, __pyx_lineno, __pyx_filename);\n",
              "  __pyx_r = NULL;\n",
              "  __pyx_L0:;\n",
              "  <span class='refnanny'>__Pyx_XGIVEREF</span>(__pyx_r);\n",
              "  <span class='refnanny'>__Pyx_RefNannyFinishContext</span>();\n",
              "  return __pyx_r;\n",
              "}\n",
              "</pre><pre class=\"cython line score-0\" onclick=\"(function(s){s.display=s.display==='block'?'none':'block'})(this.nextElementSibling.style)\">+<span class=\"\">25</span>:   <span class=\"k\">return</span> <span class=\"n\">constants</span><span class=\"p\">(</span><span class=\"n\">s</span><span class=\"p\">,</span> <span class=\"n\">z</span><span class=\"p\">,</span> <span class=\"n\">q</span><span class=\"p\">,</span> <span class=\"n\">k</span><span class=\"p\">,</span> <span class=\"n\">nu</span><span class=\"p\">)</span> <span class=\"o\">*</span> <span class=\"n\">outer</span><span class=\"p\">(</span><span class=\"n\">s</span><span class=\"p\">,</span> <span class=\"n\">z</span><span class=\"p\">,</span> <span class=\"n\">q</span><span class=\"p\">,</span> <span class=\"n\">k</span><span class=\"p\">,</span> <span class=\"n\">nu</span><span class=\"p\">)</span></pre>\n",
              "<pre class='cython code score-0 '>  __pyx_r = (__pyx_f_46_cython_magic_11051ca64cb7b4ee9ce3a85b816503c2_constants(__pyx_v_s, __pyx_v_z, __pyx_v_q, __pyx_v_k, __pyx_v_nu) * __pyx_f_46_cython_magic_11051ca64cb7b4ee9ce3a85b816503c2_outer(__pyx_v_s, __pyx_v_z, __pyx_v_q, __pyx_v_k, __pyx_v_nu));\n",
              "  goto __pyx_L0;\n",
              "</pre></div></body></html>"
            ],
            "text/plain": [
              "<IPython.core.display.HTML object>"
            ]
          },
          "execution_count": 19,
          "metadata": {
            "tags": []
          },
          "output_type": "execute_result"
        }
      ],
      "source": [
        "%%cython -a\n",
        "\n",
        "cimport libc.math as math\n",
        "cimport scipy.special.cython_special as cs\n",
        "\n",
        "cdef double _phi(double z) nogil:\n",
        "  cdef double inv_sqrt_2pi = 0.3989422804014327\n",
        "  return inv_sqrt_2pi * math.exp(-0.5 * z * z)\n",
        "\n",
        "cdef double _Phi(double z) nogil:\n",
        "  return cs.ndtr(z)\n",
        "\n",
        "cdef double inner(double s, double z, double q, double k, double nu) nogil:\n",
        "  return _phi(z)*(_Phi(z+q*s)-_Phi(z))**(k-1)\n",
        "\n",
        "cdef double outer(double s, double z, double q, double k, double nu) nogil:\n",
        "  inner_int = inner(s, z, q, k, nu)\n",
        "  return s**(nu - 1)*_phi((nu ** .5)*s)*inner_int\n",
        "\n",
        "cdef double constants(double s, double z, double q, double k, double nu) nogil:\n",
        "  num = ((2 * math.M_PI)**.5)* k *nu**(nu/2)\n",
        "  denom = (math.tgamma(nu / 2) * 2**(nu / 2 - 1))\n",
        "  return  num * (denom ** -1)\n",
        "\n",
        "cpdef double integrand_cython(double s, double z, double q, double k, double nu):\n",
        "  return constants(s, z, q, k, nu) * outer(s, z, q, k, nu)"
      ]
    },
    {
      "cell_type": "markdown",
      "metadata": {
        "id": "Aots9WeHUAGA"
      },
      "source": [
        "Almost all Python interaction has been eliminated, so the evaluation time of the resulting integrand function is ~1/10 that of the previous Cython version and ~1/20 that of pure Python evaluation."
      ]
    },
    {
      "cell_type": "code",
      "execution_count": 20,
      "metadata": {
        "colab": {
          "base_uri": "https://localhost:8080/"
        },
        "id": "pMZDCgjoUTlX",
        "outputId": "12267ae4-aae1-4be7-e4be-5b7c281f2bbc"
      },
      "outputs": [
        {
          "name": "stdout",
          "output_type": "stream",
          "text": [
            "The slowest run took 30.97 times longer than the fastest. This could mean that an intermediate result is being cached.\n",
            "1000000 loops, best of 5: 684 ns per loop\n"
          ]
        }
      ],
      "source": [
        "%timeit integrand_cython(s, z, *qkv)"
      ]
    },
    {
      "cell_type": "markdown",
      "metadata": {
        "id": "OzDRFUvxF25y"
      },
      "source": [
        "### Integration with Optimized Integrand"
      ]
    },
    {
      "cell_type": "markdown",
      "metadata": {
        "id": "wA5BD6N1OcES"
      },
      "source": [
        "Integrating using the optimized Cython integrand is nearly three order of magnitude faster than the original Python implementation."
      ]
    },
    {
      "cell_type": "code",
      "execution_count": 21,
      "metadata": {
        "colab": {
          "base_uri": "https://localhost:8080/"
        },
        "id": "gbqwqXlaINTX",
        "outputId": "b0a396f2-915a-4391-a395-85ef3b4408c7"
      },
      "outputs": [
        {
          "data": {
            "text/plain": [
              "0.9498176382421548"
            ]
          },
          "execution_count": 21,
          "metadata": {
            "tags": []
          },
          "output_type": "execute_result"
        }
      ],
      "source": [
        "def cdf_cython(q, k, nu):    \n",
        "    return dblquad(integrand_cython, -np.inf, np.inf, 0, np.inf, args=(q, k, nu))[0]\n",
        "cdf_cython(*qkv)"
      ]
    },
    {
      "cell_type": "code",
      "execution_count": 22,
      "metadata": {
        "colab": {
          "base_uri": "https://localhost:8080/"
        },
        "id": "BJ2TqRkucsF_",
        "outputId": "68a0601f-a31c-4785-cf42-7706185cb378"
      },
      "outputs": [
        {
          "name": "stdout",
          "output_type": "stream",
          "text": [
            "4.987225324127516e-07\n",
            "4.987225324127516e-07\n",
            "4.987225324127516e-07\n"
          ]
        }
      ],
      "source": [
        "s, z = 1.4, 2.5\n",
        "print(integrand_python(s, z, *qkv))\n",
        "print(integrand_cythonized_python(s, z, *qkv))\n",
        "print(integrand_cython(s, z, *qkv))"
      ]
    },
    {
      "cell_type": "code",
      "execution_count": 23,
      "metadata": {
        "colab": {
          "base_uri": "https://localhost:8080/"
        },
        "id": "zRYPudcwlpIr",
        "outputId": "a900044e-0eb9-4b7d-8d6c-66555dac7162"
      },
      "outputs": [
        {
          "data": {
            "text/plain": [
              "0.9498176382421548"
            ]
          },
          "execution_count": 23,
          "metadata": {
            "tags": []
          },
          "output_type": "execute_result"
        }
      ],
      "source": [
        "cdf_dblquad(*qkv)"
      ]
    },
    {
      "cell_type": "code",
      "execution_count": 24,
      "metadata": {
        "colab": {
          "base_uri": "https://localhost:8080/"
        },
        "id": "eiravdxclYGD",
        "outputId": "9fca23d6-e933-4204-86c3-4e7b391b1ed7"
      },
      "outputs": [
        {
          "name": "stdout",
          "output_type": "stream",
          "text": [
            "10 loops, best of 5: 19.6 ms per loop\n"
          ]
        }
      ],
      "source": [
        "time_cython = %timeit -o cdf_cython(*qkv)"
      ]
    },
    {
      "cell_type": "markdown",
      "metadata": {
        "id": "hpXKEnvNGAEE"
      },
      "source": [
        "### Utilize SciPy's LowLevelCallable as the Integrand\n",
        "\n",
        "\n",
        "There is one remaining Python interaction that slows down integration: because `cdf_integrand_cython_optimized` is declared using `cpdef` and therefore has a Python interface, we know that `dblquad` is using the Python interface to call the function. It would be faster if the compiled code underlying `dblquad` could interact with the compiled version of the integrand directly. That is precisely what SciPy's [`LowLevelCallable`](https://docs.scipy.org/doc/scipy/reference/generated/scipy.LowLevelCallable.html) feature allows us to do.\n",
        "\n",
        "\n",
        "*Note: There are multiple possible implementations of a `LowLevelCallable`; the following is one that works in Jupyter Notebooks. Jupyter Notebook's `%%cython` magic command doesn't provide an interface for using `.pxd` files in compliation, so we must write it to the directory ourselves. The following two cells are not part of SciPy's implementation of the studentized range distribution, but allow us to demonstrate the idea on Google Colab and in Jupyter Notebooks.*\n"
      ]
    },
    {
      "cell_type": "code",
      "execution_count": 25,
      "metadata": {
        "id": "0SqEcDGUP-ru"
      },
      "outputs": [],
      "source": [
        "# disregard this cell, it is only used to set up the LowLevelCallable.\n",
        "%%cython -n tempName\n",
        "cpdef fun():\n",
        "  return None"
      ]
    },
    {
      "cell_type": "code",
      "execution_count": 26,
      "metadata": {
        "id": "4JvkmJX4GA29"
      },
      "outputs": [],
      "source": [
        "# disregard this cell, it is only used to set up the LowLevelCallable.\n",
        "import tempName\n",
        "import os\n",
        "path = tempName.__file__\n",
        "path_split = os.path.split(path)[0]\n",
        "path_pxd = os.path.join(path_split, \"studentized_range.pxd\")\n",
        "\n",
        "with open(path_pxd , \"w+\") as f:\n",
        "  f.write(\"cdef double genstudentized_range_cdf(int, double*, void*) nogil\")"
      ]
    },
    {
      "cell_type": "markdown",
      "metadata": {
        "id": "eGBIozzYRPT3"
      },
      "source": [
        "Once past that, we compile:"
      ]
    },
    {
      "cell_type": "code",
      "execution_count": 27,
      "metadata": {
        "id": "SFnj05pUk_pQ"
      },
      "outputs": [],
      "source": [
        "%%cython -f -n studentized_range\n",
        "cimport libc.math as math\n",
        "cimport scipy.special.cython_special as cs\n",
        "\n",
        "# ~~~~~~~~~~~~~~~~~~~~~~~~~~~~~~~~~~~~~~~~~~~~~~~~~~~~~~~~~~~~~~~~~~~~~~~~~~~~~~\n",
        "# The following code mirrors the above Cython cell. The new method is at the\n",
        "# bottom of this cell.\n",
        "\n",
        "cpdef double studentized_range_cdf_const(double k, double nu):\n",
        "  \"\"\"Evaluates constant terms in the cdf integrand\"\"\"\n",
        "  return (2 * math.pi) ** .5 * k * nu ** (nu/2) / (math.tgamma(nu / 2) * 2 ** (nu / 2 - 1)) #(k * (nu ** (nu/2))) / (math.tgamma(nu / 2) * (2 ** ((nu / 2) - 1)))\n",
        "\n",
        "cdef double _phi(double z) nogil:\n",
        "  \"\"\"evaluates the normal PDF. Used in `studentized range`\"\"\"\n",
        "  cdef double inv_sqrt_2pi = 0.3989422804014327\n",
        "  return inv_sqrt_2pi * math.exp(-0.5 * z * z)\n",
        "\n",
        "cdef double _Phi(double z) nogil:\n",
        "  \"\"\"evaluates the normal CDF. Used in `studentized range`\"\"\"\n",
        "  return cs.ndtr(z)\n",
        "\n",
        "cdef double inner(double s, double z, double q, double k, double nu) nogil:\n",
        "  return _phi(z) * (_Phi(z + q * s) - _Phi(z)) ** (k-1)\n",
        "\n",
        "cdef double outer(double s, double z, double q, double k, double nu) nogil:\n",
        "  inner_int = inner(s, z, q, k, nu)\n",
        "  return s ** (nu - 1) * _phi((nu ** .5) * s) * inner_int\n",
        "# ~~~~~~~~~~~~~~~~~~~~~~~~~~~~~~~~~~~~~~~~~~~~~~~~~~~~~~~~~~~~~~~~~~~~~~~~~~~~~~\n",
        "\n",
        "# This is new code that is formatted to work with `scipy.integrate.nquad`\n",
        "cdef double genstudentized_range_cdf(int n, double * x, void * user_data) nogil:\n",
        "    q = (<double *> user_data)[0]\n",
        "    k = (<double *> user_data)[1]\n",
        "    nu = (<double *> user_data)[2]\n",
        "    cdf_const = (<double *> user_data)[3]\n",
        "    z = x[0]\n",
        "    s = x[1]\n",
        "    return outer(s, z, q, k, nu) * cdf_const\n"
      ]
    },
    {
      "cell_type": "code",
      "execution_count": 28,
      "metadata": {
        "id": "6QgFJeDdK8_p"
      },
      "outputs": [],
      "source": [
        "import studentized_range\n",
        "import ctypes\n",
        "from scipy._lib._ccallback import LowLevelCallable\n",
        "import numpy as np\n",
        "from scipy.integrate import nquad\n",
        "\n",
        "def cdf_llc(q, k, v):\n",
        "  constant = studentized_range.studentized_range_cdf_const(k, v)\n",
        "  usr_data = np.array([q, k, v, constant], float).ctypes.data_as(ctypes.c_void_p)\n",
        "  studentized_range_cdf_lowlevelcallable = LowLevelCallable.from_cython(studentized_range, \"genstudentized_range_cdf\", usr_data)\n",
        "  ranges = [(-np.inf, np.inf), (0, np.inf)]\n",
        "  return nquad(studentized_range_cdf_lowlevelcallable, ranges=ranges)[0]"
      ]
    },
    {
      "cell_type": "markdown",
      "metadata": {
        "id": "yxfOIY3NEfHb"
      },
      "source": [
        "We could use this `LowLevelCallable` in `dblquad`, but since `dblquad` is implemented using SciPy's n-integral quadrature function `nquad`, we'll call `nquad` directly."
      ]
    },
    {
      "cell_type": "code",
      "execution_count": 29,
      "metadata": {
        "colab": {
          "base_uri": "https://localhost:8080/"
        },
        "id": "5BufI0PNiKpk",
        "outputId": "70da4df1-8166-4639-e574-dfde7484137a"
      },
      "outputs": [
        {
          "data": {
            "text/plain": [
              "0.9498176382396497"
            ]
          },
          "execution_count": 29,
          "metadata": {
            "tags": []
          },
          "output_type": "execute_result"
        }
      ],
      "source": [
        "cdf_llc(*qkv)"
      ]
    },
    {
      "cell_type": "code",
      "execution_count": 30,
      "metadata": {
        "colab": {
          "base_uri": "https://localhost:8080/"
        },
        "id": "_n7GvpJjGPk3",
        "outputId": "1b6b3629-5ffd-4d18-bcde-78d6cd55c6c7"
      },
      "outputs": [
        {
          "name": "stdout",
          "output_type": "stream",
          "text": [
            "100 loops, best of 5: 9.37 ms per loop\n"
          ]
        }
      ],
      "source": [
        "time_llc = %timeit -o cdf_llc(*qkv)"
      ]
    },
    {
      "cell_type": "markdown",
      "metadata": {
        "id": "Pm60HqN7Tm-T"
      },
      "source": [
        "## Other Improvements\n"
      ]
    },
    {
      "cell_type": "markdown",
      "metadata": {
        "id": "L7zs2vHqT-RQ"
      },
      "source": [
        "### Logarithmization"
      ]
    },
    {
      "cell_type": "markdown",
      "metadata": {
        "id": "Wtb8-sRkae6t"
      },
      "source": [
        "The implementations above are reliable for moderate values of the arguments, but for extreme values, some terms of the integrand overflow or underflow before the calculation can be completed. The constant terms from (2)\n",
        "\n",
        "$$\n",
        "\\frac{\\nu^{\\nu/2}}{\\,\\Gamma(\\nu/2)\\,2^{(\\nu/2-1)}\\,},\n",
        "$$\n",
        "\n",
        "for example, can overflow when the number of degrees of freedom $\\nu$ is large.\n",
        "\n"
      ]
    },
    {
      "cell_type": "code",
      "execution_count": 31,
      "metadata": {
        "colab": {
          "base_uri": "https://localhost:8080/"
        },
        "id": "U_X3LZ5eZ7kw",
        "outputId": "4c1317e6-2f50-4ea6-8416-a64d5cdca4bd"
      },
      "outputs": [
        {
          "name": "stdout",
          "output_type": "stream",
          "text": [
            "OverflowError: (34, 'Numerical result out of range')\n"
          ]
        }
      ],
      "source": [
        "nu = 400\n",
        "try:  # catch the exception as to not interrupt cell execution\n",
        "  nu**(nu/2)\n",
        "except OverflowError as e:\n",
        "  print(f\"OverflowError: {e}\")"
      ]
    },
    {
      "cell_type": "markdown",
      "metadata": {
        "id": "syT-nqjJbLa4"
      },
      "source": [
        "We circumvent this issue using the identity\n",
        "$$\n",
        "ab = \\exp{(\\log{(a)} + \\log{(b)})}.\n",
        "$$\n",
        "That is, instead of calculating each term before taking the product (or quotient), we can:\n",
        "\n",
        "1.   calculate the $\\log$ of each term, which does not overflow or underflow,\n",
        "2.   sum (or subtract) the $\\log$s, and\n",
        "3.   exponentiate the result.\n",
        "\n",
        "For the expression above:\n",
        "$$\n",
        "\\log \\left( \\nu ^ {\\nu/2} \\right) = \\frac{\\nu}{2} \\log(\\nu),\n",
        "$$\n",
        "$$\n",
        "\\log \\left( 2^{\\nu/2 - 1} \\right) = \\left( \\frac{\\nu}{2} - 1\\right) \\log(2),\n",
        "$$\n",
        "and the $\\log$ of the gamma function is implemented as `scipy.special.loggamma`. In code,"
      ]
    },
    {
      "cell_type": "code",
      "execution_count": 32,
      "metadata": {
        "id": "eAA7JfkFaS2w"
      },
      "outputs": [],
      "source": [
        "from scipy.special import loggamma\n",
        "log1 = nu/2 * np.log(nu)\n",
        "log2 = loggamma(nu/2)\n",
        "log3 = (nu/2 - 1)*np.log(2)"
      ]
    },
    {
      "cell_type": "markdown",
      "metadata": {
        "id": "Xz8cft0vefgk"
      },
      "source": [
        "From these, we can calculate the desired result without experiencing any overflows."
      ]
    },
    {
      "cell_type": "code",
      "execution_count": 33,
      "metadata": {
        "colab": {
          "base_uri": "https://localhost:8080/"
        },
        "id": "UCKW4V-Leyjl",
        "outputId": "9d8f4543-314b-460d-8a12-996bd59e7dd8"
      },
      "outputs": [
        {
          "data": {
            "text/plain": [
              "8.150241623167703e+87"
            ]
          },
          "execution_count": 33,
          "metadata": {
            "tags": []
          },
          "output_type": "execute_result"
        }
      ],
      "source": [
        "np.exp(log1 - (log2 + log3))"
      ]
    },
    {
      "cell_type": "markdown",
      "metadata": {
        "id": "2XK7zRGHgi92"
      },
      "source": [
        "Although this excerpt from the integrand may still overflow at larger values of $\\nu$, this technique tends to be very effective when applied to more of the integrand, including the terms that tend to be very small (e.g. $\\phi(z)$). The code below re-implements the studentized range `LowLevelCallable` using this technique."
      ]
    },
    {
      "cell_type": "code",
      "execution_count": 34,
      "metadata": {
        "id": "AEE52tjC0tZz"
      },
      "outputs": [],
      "source": [
        "# disregard this cell, it is only used to set up the LowLevelCallable.\n",
        "import tempName\n",
        "import os\n",
        "path = tempName.__file__\n",
        "path_split = os.path.split(path)[0]\n",
        "path_pxd = os.path.join(path_split, \"studentized_range_log.pxd\")\n",
        "\n",
        "with open(path_pxd , \"w+\") as f:\n",
        "  f.write(\"cdef double _studentized_range_cdf(int, double*, void*) nogil\")"
      ]
    },
    {
      "cell_type": "code",
      "execution_count": 35,
      "metadata": {
        "id": "OS9XY4PuzolW"
      },
      "outputs": [],
      "source": [
        "%%cython -n studentized_range_log\n",
        "cimport libc.math as math\n",
        "cimport scipy.special.cython_special as cs\n",
        "\n",
        "# ~~~~~~~~~~~~~~~~~~~~~~~~~~~~~~~~~~~~~~~~~~~~~~~~~~~~~~~~~~~~~~~~~~~~~~~~~~~~~~\n",
        "# The following code mirrors the above cell. The new method is at the\n",
        "# bottom of this cell.\n",
        "cpdef double studentized_range_cdf_logconst(double k, double df):\n",
        "  \"\"\"Evaluates log of constant terms in the cdf integrand\"\"\"\n",
        "  cdef double log_2 = 0.6931471805599453\n",
        "  return (math.log(k) + (df / 2) * math.log(df)\n",
        "          - (math.lgamma(df / 2) + (df / 2 - 1) * log_2))\n",
        "  \n",
        "cdef double phi(double z) nogil:\n",
        "  \"\"\"evaluates the normal PDF. Used in `studentized range`\"\"\"\n",
        "  cdef double inv_sqrt_2pi = 0.3989422804014327\n",
        "  return inv_sqrt_2pi * math.exp(-0.5 * z * z)\n",
        "\n",
        "cdef double Phi(double z) nogil:\n",
        "  \"\"\"evaluates the normal CDF. Used in `studentized range`\"\"\"\n",
        "  return cs.ndtr(z)\n",
        "# ~~~~~~~~~~~~~~~~~~~~~~~~~~~~~~~~~~~~~~~~~~~~~~~~~~~~~~~~~~~~~~~~~~~~~~~~~~~~~~\n",
        "\n",
        "# New code    \n",
        "cdef double _logphi(double z) nogil:\n",
        "  \"\"\"evaluates the log of the normal PDF. Used in `studentized_range`\"\"\"\n",
        "  cdef double log_inv_sqrt_2pi = -0.9189385332046727\n",
        "  return log_inv_sqrt_2pi - 0.5 * z * z\n",
        "\n",
        "cdef double _studentized_range_cdf(int n, double[2] integration_var,\n",
        "                                  void *user_data) nogil:\n",
        "  q = (<double *> user_data)[0]\n",
        "  k = (<double *> user_data)[1]\n",
        "  df = (<double *> user_data)[2]\n",
        "  log_cdf_const = (<double *> user_data)[3]\n",
        "\n",
        "  s = integration_var[1]\n",
        "  z = integration_var[0]\n",
        "\n",
        "  # suitable terms are evaluated within logarithms to avoid under/overflows\n",
        "  log_terms = (log_cdf_const\n",
        "                + (df - 1) * math.log(s)\n",
        "                - (df * s * s / 2)\n",
        "                + _logphi(z))\n",
        "  # multiply remaining term outside of log because it can be 0\n",
        "  return math.exp(log_terms) * math.pow(Phi(z + q * s) - Phi(z), k - 1)"
      ]
    },
    {
      "cell_type": "code",
      "execution_count": 36,
      "metadata": {
        "id": "C58aOzat094X"
      },
      "outputs": [],
      "source": [
        "import studentized_range_log\n",
        "import ctypes\n",
        "from scipy._lib._ccallback import LowLevelCallable\n",
        "import numpy as np\n",
        "from scipy.integrate import nquad\n",
        "\n",
        "def cdf_llc_log(q, k, v):\n",
        "  log_const = studentized_range_log.studentized_range_cdf_logconst(k, v)\n",
        "  usr_data = np.array([q, k, v, log_const], float).ctypes.data_as(ctypes.c_void_p)\n",
        "  studentized_range_cdf_lowlevelcallable = LowLevelCallable.from_cython(studentized_range_log, \"_studentized_range_cdf\", usr_data)\n",
        "  ranges = [(-np.inf, np.inf), (0, np.inf)]\n",
        "  return nquad(studentized_range_cdf_lowlevelcallable, ranges=ranges)[0]"
      ]
    },
    {
      "cell_type": "markdown",
      "metadata": {
        "id": "FOzr_jje6Lq2"
      },
      "source": [
        "### Example Benefit\n",
        "The logarithmized version is able to compute values at extreme values when the non-logarithmized version is not. "
      ]
    },
    {
      "cell_type": "code",
      "execution_count": 37,
      "metadata": {
        "colab": {
          "base_uri": "https://localhost:8080/"
        },
        "id": "lkc4CWjr6-AL",
        "outputId": "95858659-2d5f-4e0b-c5c0-5bde2c17f779"
      },
      "outputs": [
        {
          "name": "stderr",
          "output_type": "stream",
          "text": [
            "/usr/local/lib/python3.7/dist-packages/scipy/integrate/quadpack.py:880: IntegrationWarning: The occurrence of roundoff error is detected, which prevents \n",
            "  the requested tolerance from being achieved.  The error may be \n",
            "  underestimated.\n",
            "  **opt)\n",
            "/usr/local/lib/python3.7/dist-packages/scipy/integrate/quadpack.py:880: IntegrationWarning: The maximum number of subdivisions (50) has been achieved.\n",
            "  If increasing the limit yields no improvement it is advised to analyze \n",
            "  the integrand in order to determine the difficulties.  If the position of a \n",
            "  local difficulty can be determined (singularity, discontinuity) one will \n",
            "  probably gain from splitting up the interval and calling the integrator \n",
            "  on the subranges.  Perhaps a special-purpose integrator should be used.\n",
            "  **opt)\n"
          ]
        },
        {
          "data": {
            "text/plain": [
              "nan"
            ]
          },
          "execution_count": 37,
          "metadata": {
            "tags": []
          },
          "output_type": "execute_result"
        }
      ],
      "source": [
        "qkv = 3.77, 3, 181\n",
        "cdf_llc(*qkv)  # we expect this to return NaN"
      ]
    },
    {
      "cell_type": "code",
      "execution_count": 38,
      "metadata": {
        "colab": {
          "base_uri": "https://localhost:8080/"
        },
        "id": "qIQVGLZX7XZ2",
        "outputId": "fa6819cf-92ac-4d60-879e-00983c8e0837"
      },
      "outputs": [
        {
          "data": {
            "text/plain": [
              "0.9773080104791363"
            ]
          },
          "execution_count": 38,
          "metadata": {
            "tags": []
          },
          "output_type": "execute_result"
        }
      ],
      "source": [
        "cdf_llc_log(*qkv)  # this should return a real value"
      ]
    },
    {
      "cell_type": "code",
      "execution_count": 39,
      "metadata": {
        "colab": {
          "base_uri": "https://localhost:8080/"
        },
        "id": "-d7XUMd0Hs3e",
        "outputId": "97146bd6-af63-4ab4-a10b-5702f46d9530"
      },
      "outputs": [
        {
          "name": "stdout",
          "output_type": "stream",
          "text": [
            "100 loops, best of 5: 9.14 ms per loop\n"
          ]
        }
      ],
      "source": [
        "%timeit cdf_llc_log(*qkv)"
      ]
    },
    {
      "cell_type": "markdown",
      "metadata": {
        "id": "51ziy1owT-_k"
      },
      "source": [
        "### ufunc\n",
        "Statistical functions in SciPy are vectorized; that is, they accept NumPy arrays as inputs and perform the calculations element-wise. We endow our function with this capability by making it a NumPy universal function (\"ufunc\"). `np.frompyfunc` makes this very simple:"
      ]
    },
    {
      "cell_type": "code",
      "execution_count": 40,
      "metadata": {
        "id": "msrmELUzBHk7"
      },
      "outputs": [],
      "source": [
        "cdf_scipy = np.frompyfunc(cdf_llc_log, nin=3, nout=1)"
      ]
    },
    {
      "cell_type": "markdown",
      "metadata": {
        "id": "oJe7auwZpTIL"
      },
      "source": [
        "This has little impact on the function for scalar inputs."
      ]
    },
    {
      "cell_type": "code",
      "execution_count": 41,
      "metadata": {
        "colab": {
          "base_uri": "https://localhost:8080/"
        },
        "id": "xPvTUkWPpSVc",
        "outputId": "1287c453-e387-404c-ea14-d63d26fa732e"
      },
      "outputs": [
        {
          "data": {
            "text/plain": [
              "0.9498176382396516"
            ]
          },
          "execution_count": 41,
          "metadata": {
            "tags": []
          },
          "output_type": "execute_result"
        }
      ],
      "source": [
        "qkv = 3.77, 3, 12\n",
        "cdf_scipy(*qkv)"
      ]
    },
    {
      "cell_type": "markdown",
      "metadata": {
        "id": "ejMmBbaGDdfe"
      },
      "source": [
        "But now the function supports array inputs, broadcasting arrays of different shapes according the usual conventions."
      ]
    },
    {
      "cell_type": "code",
      "execution_count": 42,
      "metadata": {
        "colab": {
          "base_uri": "https://localhost:8080/"
        },
        "id": "5a4MtzqqDgzc",
        "outputId": "442aefab-84a4-483e-ba26-3ca98fac00c7"
      },
      "outputs": [
        {
          "data": {
            "text/plain": [
              "array([[0.76079184, 0.92401548, 0.97942993],\n",
              "       [0.54806443, 0.83128595, 0.94981764],\n",
              "       [0.38911585, 0.73969832, 0.91615474]])"
            ]
          },
          "execution_count": 42,
          "metadata": {
            "tags": []
          },
          "output_type": "execute_result"
        }
      ],
      "source": [
        "q = np.asarray([1.77, 2.77, 3.77])\n",
        "k = np.asarray([2, 3, 4])\n",
        "v = np.asarray([10, 11, 12])\n",
        "cdf_scipy(q, k[..., None], v).astype(np.float64)"
      ]
    },
    {
      "cell_type": "markdown",
      "metadata": {
        "id": "hqsZRAcW3YLY"
      },
      "source": [
        "In addition to being more reliable and providing additional input options, this implementation maintains the speed of the non-logarithmized version."
      ]
    },
    {
      "cell_type": "code",
      "execution_count": 43,
      "metadata": {
        "colab": {
          "base_uri": "https://localhost:8080/"
        },
        "id": "qNG-cIfY3I7l",
        "outputId": "29b418f3-fd62-459b-cddc-ebfc75270949"
      },
      "outputs": [
        {
          "name": "stdout",
          "output_type": "stream",
          "text": [
            "100 loops, best of 5: 5.65 ms per loop\n"
          ]
        }
      ],
      "source": [
        "time_scipy = %timeit -o cdf_scipy(*qkv) # 5.48 ms"
      ]
    },
    {
      "cell_type": "markdown",
      "metadata": {
        "id": "XgXR6Vp_pP7o"
      },
      "source": [
        "The implementation developed for SciPy is very similar, so we refer to this as the \"SciPy implementation\" below."
      ]
    },
    {
      "cell_type": "markdown",
      "metadata": {
        "id": "RKc-AVAnOkO4"
      },
      "source": [
        "## Quantifying Speed Improvements"
      ]
    },
    {
      "cell_type": "markdown",
      "metadata": {
        "id": "ajL6AWtFOvzM"
      },
      "source": [
        "The graph below represents typical execution time of each of the versions of the studentized range CDF code above: \n",
        "- \"Python\" - a very direct implementation\n",
        "- \"Optimized Python\" - Python with faster `phi` and `Phi`\n",
        "- \"Unoptimized Cython\" - directly cythonized Python\n",
        "- \"Cython\" - integration with optimized integrand\n",
        "- \"LLC\" - implementation with improved LowLevelCallable with precomputed constants \n",
        "- \"SciPy\" - LLC implementation with logarithmization and ufunc abilities \n"
      ]
    },
    {
      "cell_type": "code",
      "execution_count": 44,
      "metadata": {
        "id": "l0pOUIBE4-9x"
      },
      "outputs": [],
      "source": [
        "%%capture\n",
        "!apt install texlive-fonts-recommended texlive-fonts-extra cm-super dvipng"
      ]
    },
    {
      "cell_type": "code",
      "execution_count": 45,
      "metadata": {
        "colab": {
          "base_uri": "https://localhost:8080/",
          "height": 428
        },
        "id": "zgQxj2Tv5c03",
        "outputId": "601b4fdc-6fe5-4c44-adc2-454dbd758b26"
      },
      "outputs": [
        {
          "data": {
            "image/png": "[encoded data removed]",
            "text/plain": [
              "<Figure size 864x432 with 1 Axes>"
            ]
          },
          "metadata": {
            "needs_background": "light",
            "tags": []
          },
          "output_type": "display_data"
        }
      ],
      "source": [
        "import matplotlib\n",
        "import matplotlib.pyplot as plt\n",
        "import numpy as np\n",
        "\n",
        "%matplotlib inline\n",
        "plt.rc('text', usetex=True)\n",
        "plt.rc('font', family='serif')\n",
        "matplotlib.rcParams['figure.figsize'] = [12, 6]\n",
        "matplotlib.rcParams.update({'font.size': 16})\n",
        "\n",
        "fig, ax = plt.subplots()\n",
        "inputs = [time_quad,\n",
        "          time_dblquad,\n",
        "          time_pure_cython,\n",
        "          time_cython,\n",
        "          time_llc,\n",
        "          time_scipy]\n",
        "index = np.arange(len(inputs))\n",
        "times = [input.best for input in inputs]\n",
        "t = ax.bar(index, times)\n",
        "ax.set_yscale('log')\n",
        "ax.set_ylabel(\"Time (seconds)\")\n",
        "ax.set_xlabel(\"Computation Method\")\n",
        "\n",
        "ax.set_title(\"CDF Computation Time By Method\")\n",
        "ax.set_xticks(index)\n",
        "labels = (\"Python\", \"Optimized\\nPython\", \"Unoptimized\\nCython\", \"Cython\", \"LLC\", \"SciPy\" )\n",
        "ax.set_xticklabels(labels)\n",
        "\n",
        "# put label on top of each bar\n",
        "for index, data in enumerate(times):\n",
        "  plt.text(x = index,\n",
        "           y = data ,\n",
        "           s=f\"{data:.4f}s\",\n",
        "           ha='center',\n",
        "           va='bottom')\n",
        "plt.setp(ax.get_xticklabels(), fontsize=14)\n",
        "plt.ylim(np.min(times)**1.1,10**1.4)\n",
        "\n",
        "plt.show()"
      ]
    },
    {
      "cell_type": "markdown",
      "metadata": {
        "id": "a9LMh9RGIHjB"
      },
      "source": [
        "## Establishing Accuracy\n",
        "\n",
        "In this section, we benchmark the accuracy of the SciPy implementation against other open source implementations."
      ]
    },
    {
      "cell_type": "markdown",
      "metadata": {
        "id": "9icFMyhItPsc"
      },
      "source": [
        "### Determining Ground Truth\n",
        "\n",
        "Tables of the studentized range distribution give only a few significant figures of the CDF for a handful of values of the arguments, so these references are insufficient for addressing the SciPy implementation's accuracy. Other Python implementations, such as those in the `statsmodels` [3] and `pinguin` [4] packages, interpolate between tabulated values, so these suffer from the same limitations as the original tables. One of the most widely used implementations, R's `ptukey` and `qtukey` functions [5], only guarantees that \"`qtukey` will be accurate to the 4th decimal place\". We seek a more precise implementation to serve as \"ground truth\".\n",
        "\n",
        "For this, we turn to [`mpmath`](https://mpmath.org/), a Python library for floating point arithmetic with arbitrary precision (at a cost of increased execution time). We begin with a straightforward implementation of the distribution CDF in `mpmath`. Note that this `cdf_mp` function also accepts arguments `method`, the quadrature rule used (tanh-sinh or Gauss-Legendre), and `dps`, the desired number of digits of precision."
      ]
    },
    {
      "cell_type": "code",
      "execution_count": 46,
      "metadata": {
        "id": "KMqZoML_L9Sm"
      },
      "outputs": [],
      "source": [
        "from mpmath import gamma, pi, erf, exp, sqrt, quad, inf, mpf\n",
        "from mpmath import npdf as phi\n",
        "from mpmath import ncdf as Phi\n",
        "from mpmath import mp\n",
        "\n",
        "def cdf_mp(q, k, nu, method, dps):\n",
        "  mp.dps = dps\n",
        "  q, k, nu = mpf(q), mpf(k), mpf(nu)\n",
        "\n",
        "  def inner(s, z):\n",
        "    return phi(z)*(Phi(z+q*s)-Phi(z))**(k-1)\n",
        "\n",
        "  def outer(s, z):\n",
        "    return s**(nu-1)*phi(sqrt(nu)*s)*inner(s, z)\n",
        "\n",
        "  def whole(s, z):\n",
        "    return sqrt(2*pi)*k*nu**(nu/2) / (gamma(nu/2)*2**(nu/2-1))*outer(s, z)\n",
        "    \n",
        "  res = quad(whole, [0, inf], [-inf, inf], error=False,\n",
        "             method=method, maxdegree=10)\n",
        "  return res"
      ]
    },
    {
      "cell_type": "markdown",
      "metadata": {
        "id": "AC7QPtyOw84W"
      },
      "source": [
        "To establish the accuracy of this approach, we first checked that the results of this implementation match all available digits of tabulated values. Crucially, we also observe that:\n",
        "\n",
        "*   the two integration methods (tanh-sinh and Gauss-Legendre quadrature) agree in nearly all of the requested digits of precision and\n",
        "*   the calculation converges as the the number of digits of precision is increased.\n",
        "\n",
        "To see this, we label as \"ground truth\" the average of the results of the Gauss-Legendre and tanh-sinh methods with `dps=25`."
      ]
    },
    {
      "cell_type": "code",
      "execution_count": 47,
      "metadata": {
        "id": "sUP11-wGNzLP"
      },
      "outputs": [],
      "source": [
        "def cdf_mp_gl(q, k, nu, dps):\n",
        "  return cdf_mp(q, k, nu, method='gauss-legendre', dps=dps)\n",
        "\n",
        "def cdf_mp_ts(q, k, nu, dps):\n",
        "  return cdf_mp(q, k, nu, method='tanh-sinh', dps=dps)\n",
        "  \n",
        "def cdf_ground_truth(q, k, nu):\n",
        "  return (cdf_mp_ts(q, k, nu, dps=25) + cdf_mp_gl(q, k, nu, dps=25))/2"
      ]
    },
    {
      "cell_type": "markdown",
      "metadata": {
        "id": "4fXbmL7XPQea"
      },
      "source": [
        "\n",
        "Then we check that the difference between the estimates and this ground truth decreases as the number of digits of precision increases."
      ]
    },
    {
      "cell_type": "code",
      "execution_count": 48,
      "metadata": {
        "colab": {
          "base_uri": "https://localhost:8080/"
        },
        "id": "6lYZWMDMQlzp",
        "outputId": "d8f92a34-e931-4caa-81ac-a35e51f36ff1"
      },
      "outputs": [
        {
          "name": "stdout",
          "output_type": "stream",
          "text": [
            "Cloning into 'srdcolab'...\n",
            "remote: Enumerating objects: 33, done.\u001b[K\n",
            "remote: Counting objects: 100% (33/33), done.\u001b[K\n",
            "remote: Compressing objects: 100% (27/27), done.\u001b[K\n",
            "remote: Total 33 (delta 14), reused 19 (delta 6), pack-reused 0\u001b[K\n",
            "Unpacking objects: 100% (33/33), done.\n"
          ]
        }
      ],
      "source": [
        "# calculate estimates using both integration methods and several values of `dps`\n",
        "# Note: this takes several minutes to execute, the results have been pre-computed\n",
        "dps_range = range(6, 26, 1)\n",
        "\n",
        "q, k, v = 4.577, 10, 10  # arbitrary, but results are typical\n",
        "\n",
        "\"\"\"\n",
        "# calculate the \"ground truth\"\n",
        "ground_truth = cdf_ground_truth(q, k, v)\n",
        "\n",
        "cdf_ts = []\n",
        "cdf_gl = [] \n",
        "for dps in dps_range:\n",
        "  cdf_ts.append(cdf_mp_ts(q, k, v, dps=dps))\n",
        "  cdf_gl.append(cdf_mp_gl(q, k, v, dps=dps))\n",
        "\"\"\"\n",
        "\n",
        "!git clone https://github.com/swallan/srdcolab.git\n",
        "mp.dps = 25\n",
        "with open('srdcolab/cdf_gl_dps.npy', 'rb') as f:\n",
        "    cdf_gl = np.load(f, allow_pickle=True)\n",
        "with open('srdcolab/cdf_ts_dps.npy', 'rb') as f:\n",
        "    cdf_ts = np.load(f, allow_pickle=True)\n",
        "ground_truth = (cdf_gl[-1] + cdf_ts[-1])/2"
      ]
    },
    {
      "cell_type": "code",
      "execution_count": 49,
      "metadata": {
        "colab": {
          "base_uri": "https://localhost:8080/",
          "height": 434
        },
        "id": "XMq57iUhHfmB",
        "outputId": "ce860308-b6c9-416c-fbc3-07b119232b8e"
      },
      "outputs": [
        {
          "data": {
            "text/plain": [
              "Text(0.5, 0, 'Digits of Precision')"
            ]
          },
          "execution_count": 49,
          "metadata": {
            "tags": []
          },
          "output_type": "execute_result"
        },
        {
          "data": {
            "image/png": "[encoded data removed]",
            "text/plain": [
              "<Figure size 576x432 with 1 Axes>"
            ]
          },
          "metadata": {
            "needs_background": "light",
            "tags": []
          },
          "output_type": "display_data"
        }
      ],
      "source": [
        "import numpy as np\n",
        "import matplotlib\n",
        "import matplotlib.pyplot as plt\n",
        "\n",
        "# styling setup\n",
        "plt.rc('font', family='serif')\n",
        "matplotlib.rcParams['figure.figsize'] = [8, 6]\n",
        "matplotlib.rcParams.update({'font.size': 16})\n",
        "fig, ax = plt.subplots()\n",
        "\n",
        "# prepare the data\n",
        "# we are looking for convergence: the difference between subsequent estimates\n",
        "# and our \"ground truth\" should decrease as the number of digits of precision\n",
        "# increases\n",
        "x = np.asarray(list(dps_range))[:-1]\n",
        "cdf_ts = np.asarray(cdf_ts)\n",
        "cdf_gl = np.asarray(cdf_gl)\n",
        "y1 = np.abs(cdf_ts[:-1] - ground_truth)/np.abs(ground_truth)\n",
        "y2 = np.abs(cdf_gl[:-1] - ground_truth)/np.abs(ground_truth)\n",
        "\n",
        "# plot the results\n",
        "ax.semilogy(x, y1, x, y2)\n",
        "ax.legend((\"tanh-sinh quadrature\", \"Gauss-Legendre quadrature\"))\n",
        "ax.set_title(f\"Convergence of mpmath studentized range CDF\")\n",
        "ax.set_ylabel(\"Relative Error\")\n",
        "ax.set_xlabel(\"Digits of Precision\")"
      ]
    },
    {
      "cell_type": "markdown",
      "metadata": {
        "id": "xG8gV56MQnZx"
      },
      "source": [
        "NumPy floating point values (`dtype=np.float64`) can only resolve relative differences on the order of $1 \\times 10^{-16}$, yet we observe that our `mpmath` implementation converges to far better precision. This suggests that `cdf_ground_truth` is suitable for use as a reference implementation."
      ]
    },
    {
      "cell_type": "markdown",
      "metadata": {
        "id": "_teRnqZ0RyqN"
      },
      "source": [
        "### Experimental Setup\n",
        "\n",
        "The population of parameter values (i.e., the distribution of $q, k, $ and $\\nu$) under investigation was designed to be representative of common use cases.\n",
        " 1. $k$ was sampled uniformly in the range 2, the minimum value supported by the distribution, through 120, the largest finite value provided by most available reference tables.\n",
        " 2. $\\nu$ was sampled uniformly in the range 1 through 100, with bounds chosen for the highest and lowest finite values provided by reference tables.\n",
        " 3.  Using inverse transform sampling, $q$ was sampled from the studentized range distribution defined by the given $k$ and $\\nu$ . That is, for each $k$ and $\\nu$, a $p$ value was sampled uniformly in the range 0 through 1, and we use the value of $q$ that satisfies $p = F(q; k, \\nu)$.\n",
        "\n",
        "At each of 1000 points randomly selected from this population, we evaluated the studentized range distribution CDF using each implementation (SciPy, `statsmodels`, R's `ptukey`, and `mpmath`).\n",
        "\n",
        "We use the `mpmath` implementation at 18 digits of precision as the reference value, which we denote $F_{MP}$. Note that as a result of the agreement between the tanh-sinh and Gauss-Legendre methods of integration, we compare against the gauss-legendre method only in the name of speed. Similarly, we denote the SciPy, StatsModels, and R implementations as $F_{SP}$, $F_{SM}$, and $F_{R}$, respectively."
      ]
    },
    {
      "cell_type": "markdown",
      "metadata": {
        "id": "L0IN075DTcZ2"
      },
      "source": [
        "To load the pre-computed data,"
      ]
    },
    {
      "cell_type": "code",
      "execution_count": 50,
      "metadata": {
        "id": "4x1Nl2WXMILg"
      },
      "outputs": [],
      "source": [
        "cdf_mp = np.load('srdcolab/cdf_gl.npy')\n",
        "cdf_sm = np.load('srdcolab/cdf_sm.npy')\n",
        "cdf_sp = np.load('srdcolab/cdf_scipy.npy')\n",
        "cdf_r = np.load('srdcolab/cdf_r.npy')"
      ]
    },
    {
      "cell_type": "markdown",
      "metadata": {
        "id": "22xNuHO2TlaM"
      },
      "source": [
        "The relative errors for SciPy, StatsModels, and R are then calculated relative to the reference value from `mpmath`:\n",
        "\n",
        "$$\n",
        "e_{SP} =  \\frac{\\left| F_{SP}(q; k, v) - F_{MP}(q; k, v) \\right|}{\\left| F_{MP}(q; k, v) \\right|} \\\\\n",
        "e_{SM} =  \\frac{\\left| F_{SM}(q; k, v) - F_{MP}(q; k, v) \\right|}{\\left| F_{MP}(q; k, v) \\right|} \\\\\n",
        "e_{R} =  \\frac{\\left| F_{R}(q; k, v) - F_{MP}(q; k, v) \\right|}{\\left| F_{MP}(q; k, v) \\right|} \\\\\n",
        "$$\n",
        "\n",
        "  \n"
      ]
    },
    {
      "cell_type": "code",
      "execution_count": 51,
      "metadata": {
        "id": "wlEdsbqeQKh3"
      },
      "outputs": [],
      "source": [
        "e_sp = np.abs(cdf_sp - cdf_mp)/np.abs(cdf_mp)\n",
        "e_sm = np.abs(cdf_sm - cdf_mp)/np.abs(cdf_mp)\n",
        "e_r = np.abs(cdf_r - cdf_mp)/np.abs(cdf_mp)"
      ]
    },
    {
      "cell_type": "markdown",
      "metadata": {
        "id": "ouuSzkbeX35l"
      },
      "source": [
        "### Results"
      ]
    },
    {
      "cell_type": "markdown",
      "metadata": {
        "id": "jfTImDuhPRHe"
      },
      "source": [
        "A simple way to visualize the error of each implementation is a box and whisker plot. An advantage of this visualization is that is shows not only a point estimate of the \"average\" error (in this case, the median), but also represents the spread of the error: the box represents data between the first and third quartile, with a line indicating the median. Whiskers indicate the 5th and 95th percentile data, and outliers beyond these limits are represented as circles."
      ]
    },
    {
      "cell_type": "code",
      "execution_count": 52,
      "metadata": {
        "colab": {
          "base_uri": "https://localhost:8080/",
          "height": 378
        },
        "id": "jrJjXWlLFDFY",
        "outputId": "75800bc8-3907-4efb-80b3-fb243e197794"
      },
      "outputs": [
        {
          "data": {
            "image/png": "[encoded data removed]",
            "text/plain": [
              "<Figure size 576x432 with 1 Axes>"
            ]
          },
          "metadata": {
            "needs_background": "light",
            "tags": []
          },
          "output_type": "display_data"
        }
      ],
      "source": [
        "fig, ax = plt.subplots()\n",
        "ax.boxplot(np.array([e_sp, e_sm, e_r[~np.isnan(e_r)]], dtype='object'),\n",
        "           whis=(5, 95), labels=(\"SciPy\", \"statsmodels\", \"R\"))\n",
        "ax.set_ylabel(\"Relative Error\")\n",
        "ax.set_yscale('log')"
      ]
    },
    {
      "cell_type": "markdown",
      "metadata": {
        "id": "HyriME2NJKvm"
      },
      "source": [
        "Here, we see that even the greatest observed error of the SciPy implementation is less than the lowest error of the statsmodels implementation and lower than the first quartile error of the R implementation.\n",
        "\n",
        "For most users, this is likely to be satisfactory evidence of the accuracy and reliability of the SciPy implementation. Nonetheless, we take this opportunity to share two other new features of SciPy that might be used for analysis of the results."
      ]
    },
    {
      "cell_type": "markdown",
      "metadata": {
        "id": "WHu6ducRPh3S"
      },
      "source": [
        "#### (Bootstrapped) Confidence Intervals of the Geometric Mean Error\n",
        "\n",
        "Suppose we are interested in the true value of some statistic, such as an \"average\" error, for each implementation. We show here how the new `scipy.stats.bootstrap` can be used to estimate a 95% confidence interval for this statistic.\n",
        "\n",
        "Since the data are spread over several orders of magnitude, a reasonable measure of central tendency is the geometric mean. We compute confidence intervals for the geometric mean below, but note that the code can easily be adapted to compute confidence intervals for some other statistic."
      ]
    },
    {
      "cell_type": "code",
      "execution_count": 53,
      "metadata": {
        "colab": {
          "base_uri": "https://localhost:8080/"
        },
        "id": "2VAp87WUU5sa",
        "outputId": "feafbb3d-a284-415f-bf67-c91dd2f5f3c9"
      },
      "outputs": [
        {
          "name": "stdout",
          "output_type": "stream",
          "text": [
            "\n",
            "                Geometric Mean of Error\n",
            "          95.0% Bootstrap Confidence Interval\n",
            "\n",
            "implementation |  lower ci  |  upper ci  | sample gmean\n",
            "-------------------------------------------------------\n",
            "SciPy          | 6.476e-15  | 7.833e-15  |  7.109e-15\n",
            "-------------------------------------------------------\n",
            "StatsModels    | 5.092e-03  | 7.830e-03  |  6.328e-03\n",
            "-------------------------------------------------------\n",
            "R              | 1.281e-08  | 2.046e-08  |  1.629e-08\n",
            "\n"
          ]
        }
      ],
      "source": [
        "import scipy.stats as stats\n",
        "from scipy.stats.mstats import gmean\n",
        "\n",
        "def statistic(data, *args, **kwds):\n",
        "  # For some arguments, the error between the SciPy implementation and the \n",
        "  # ground truth is numerically zero. This would make the geometric mean zero,\n",
        "  # regardless of other values. To get a conservative (high) estimate of the\n",
        "  # geometric mean (if the error between SciPy's implementation and ground\n",
        "  # truth could be resolved), we set zero values to the minimum value that can\n",
        "  # be resolved.\n",
        "  data = data.copy()\n",
        "  data[data == 0] = np.finfo(float).eps\n",
        "  return gmean(data, *args, **kwds)\n",
        "\n",
        "rng = np.random.default_rng(95132214857698234)  # arbitary seed\n",
        "confidence = .95\n",
        "\n",
        "# SciPy Implementation CI\n",
        "res_cython = stats.bootstrap((e_sp,), statistic, confidence_level=confidence, \n",
        "                             random_state=rng)\n",
        "ci_cython = res_cython.confidence_interval\n",
        "\n",
        "# statsmodels Implementation CI\n",
        "res_sm = stats.bootstrap((e_sm,),statistic, confidence_level=confidence, \n",
        "                         random_state=rng)\n",
        "ci_sm = res_sm.confidence_interval        \n",
        "\n",
        "# R implementation CI\n",
        "# the R implementation does not support parameters where $\\nu = 1$. For the sake\n",
        "# of quantitative comparison, these results have been filtered out.\n",
        "r_errors_no_nans = e_r[~np.isnan(e_r)]  \n",
        "res_r = stats.bootstrap((r_errors_no_nans,), statistic, \n",
        "                        confidence_level=confidence, random_state=rng)\n",
        "ci_r = res_r.confidence_interval \n",
        "\n",
        "# Display the results\n",
        "tbl = (\n",
        "f\"\"\"\n",
        "                Geometric Mean of Error\n",
        "          {confidence*100}% Bootstrap Confidence Interval\n",
        "\n",
        "implementation |  lower ci  |  upper ci  | sample gmean\n",
        "-------------------------------------------------------\n",
        "SciPy          | {ci_cython.low:.3e}  | {ci_cython.high:.3e}  |  {statistic(e_sp):.3e}\n",
        "-------------------------------------------------------\n",
        "StatsModels    | {ci_sm.low:.3e}  | {ci_sm.high:.3e}  |  {statistic(e_sm):.3e}\n",
        "-------------------------------------------------------\n",
        "R              | {ci_r.low:.3e}  | {ci_r.high:.3e}  |  {statistic(r_errors_no_nans):.3e}\n",
        "\"\"\"\n",
        ")\n",
        "print(tbl)"
      ]
    },
    {
      "cell_type": "markdown",
      "metadata": {
        "id": "uEe5x0APWUn9"
      },
      "source": [
        "In repeated computational experiments, approximately 95% of confidence intervals computed in this way would contain the true value of the geometric mean of the error."
      ]
    },
    {
      "cell_type": "markdown",
      "metadata": {
        "id": "aQAl8FonVXKk"
      },
      "source": [
        "#### Binomial Test of Accuracy\n"
      ]
    },
    {
      "cell_type": "markdown",
      "metadata": {
        "id": "joOm7jW4guLu"
      },
      "source": [
        "Suppose we wish to assess whether an implementation is \"sufficiently accurate\" for a \"large percentage\" of possible inputs. For example, with confidence 95%, is the relative error of the SciPy implementation better than $1\\times 10^{-12}$ for at least 99% of possible inputs? To answer this question, we can use the binomial test. The null hypothesis is that the true percentage of the population for which the implementation is \"accurate\" is 99%; the alternative is that the true percentage of the population for which the implementation is \"accurate\" is _greater_ than 99%."
      ]
    },
    {
      "cell_type": "code",
      "execution_count": 54,
      "metadata": {
        "colab": {
          "base_uri": "https://localhost:8080/"
        },
        "id": "47qmHJmlWg6V",
        "outputId": "81a4e528-b29b-4e12-cc76-8732d635ffcd"
      },
      "outputs": [
        {
          "name": "stdout",
          "output_type": "stream",
          "text": [
            "pvalue = 0.010073\n"
          ]
        }
      ],
      "source": [
        "from scipy.stats import binomtest\n",
        "m = np.count_nonzero(e_sp < 1e-12)\n",
        "n = len(e_sp)\n",
        "res = binomtest(m, n, p=.99, alternative=\"greater\")\n",
        "print(f\"pvalue = {res.pvalue:f}\")"
      ]
    },
    {
      "cell_type": "markdown",
      "metadata": {
        "id": "QK7G46TNXYtS"
      },
      "source": [
        "The p-value, $0.010073$, is less than our desired significance level $0.05$, so the null hypothesis is rejected in favor of the alternative.\n",
        "\n",
        "The new `scipy.stats.binomtest` (which replaced `scipy.stats.binom_test` in SciPy 1.7.0) also provides a confidence interval for the proportion."
      ]
    },
    {
      "cell_type": "code",
      "execution_count": 55,
      "metadata": {
        "colab": {
          "base_uri": "https://localhost:8080/"
        },
        "id": "gxzIJyu0X-7w",
        "outputId": "58dc8d71-07f0-4c16-9644-5fe1dc521836"
      },
      "outputs": [
        {
          "data": {
            "text/plain": [
              "ConfidenceInterval(low=0.992264755281518, high=1.0)"
            ]
          },
          "execution_count": 55,
          "metadata": {
            "tags": []
          },
          "output_type": "execute_result"
        }
      ],
      "source": [
        "res.proportion_ci(confidence_level=.95)"
      ]
    },
    {
      "cell_type": "markdown",
      "metadata": {
        "id": "xxeSXFW4YWwE"
      },
      "source": [
        "If we were to repeat this experiment, the reported confidence interval would contain the true value of the proportion (the percentage of the population for which the implementation is \"sufficiently accurate\") 95% of the time."
      ]
    },
    {
      "cell_type": "markdown",
      "metadata": {
        "id": "hHEe6EZQ5xWr"
      },
      "source": [
        "## Conclusion\n",
        "\n",
        "The [PR](https://github.com/scipy/scipy/pull/13732) for the addition of this distribution was successfully merged into the main branch of SciPy on May 26, 2021. The distribution's PDF and moments were implemented using similar techniques to those demonstrated here for the CDF. Other functions of the distribution are given by generic implementations of the `scipy.stats.rv_continuous` class that rely on the PDF and CDF; e.g., the percentage point function (PPF) numerically inverts the CDF. For example,"
      ]
    },
    {
      "cell_type": "code",
      "execution_count": 56,
      "metadata": {
        "colab": {
          "base_uri": "https://localhost:8080/"
        },
        "id": "KfrRBgklBLV7",
        "outputId": "6269da1d-275b-4692-f760-fc826684ec17"
      },
      "outputs": [
        {
          "name": "stdout",
          "output_type": "stream",
          "text": [
            "0.9500000000000001\n"
          ]
        }
      ],
      "source": [
        "from scipy.stats import studentized_range\n",
        "p = 0.95\n",
        "q = studentized_range.ppf(p, 3, 12)\n",
        "cdf = studentized_range.cdf(q, 3, 12)\n",
        "print(cdf)"
      ]
    },
    {
      "cell_type": "markdown",
      "metadata": {
        "id": "-jGODwY2Qebo"
      },
      "source": [
        "Tukey's Honestly Significant Difference test, which uses the studentized range's critical values, is currently under review in [gh-13002](https://github.com/scipy/scipy/pull/13002). "
      ]
    },
    {
      "cell_type": "markdown",
      "metadata": {
        "id": "UX-XeM8wwIc7"
      },
      "source": [
        "## References\n",
        "\n",
        "[1] R. E. Lund and J. R. Lund, “Algorithm AS 190: Probabilities and Upper Quantiles for the Studentized Range,” Applied Statistics, vol. 32, no. 2, p. 204, 1983.\n",
        "\n",
        "[2] H. L. Harter, “Use of Tables of Percentage Points of Range and Studentized Range,” Technometrics, vol. 3, no. 3, pp. 407–411, 1961.\n",
        "\n",
        "[3]  J. Perktold et al. (2021). StatsModels: statistical modeling and econometrics in Python. [Online] Available: https://github.com/statsmodels/statsmodels, Accessed on Jul 13, 2021.\n",
        "\n",
        "[4] Vallat, R. (2018). Pingouin: statistics in Python. Journal of Open Source Software, 3(31), 1026, https://doi.org/10.21105/joss.01026\n",
        "\n",
        "[5] Tukey: The Studentized Range Distribution. [Online] Available: https://www.rdocumentation.org/packages/stats/versions/3.6.2/topics/Tukey, Accessed on Jul 13, 2021."
      ]
    }
  ],
  "metadata": {
    "colab": {
      "collapsed_sections": [],
      "name": "SciPy 2021: An Accurate Implementation of the Studentized Range Distribution for Python",
      "provenance": [],
      "toc_visible": true
    },
    "kernelspec": {
      "display_name": "Python 3",
      "name": "python3"
    },
    "language_info": {
      "name": "python"
    }
  },
  "nbformat": 4,
  "nbformat_minor": 0
}